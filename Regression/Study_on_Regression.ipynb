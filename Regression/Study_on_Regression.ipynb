{
 "cells": [
  {
   "cell_type": "markdown",
   "id": "01fea0a4",
   "metadata": {},
   "source": [
    " <h1><b>Study on Regression</b></h1>"
   ]
  },
  {
   "cell_type": "markdown",
   "id": "999bad01",
   "metadata": {},
   "source": [
    "</h6>By Navneeth Krishnan \n",
    "           </h6>"
   ]
  },
  {
   "cell_type": "markdown",
   "id": "aa0f9e07",
   "metadata": {},
   "source": [
    "https://github.com/navneeth-k/Machine_Learning"
   ]
  },
  {
   "cell_type": "code",
   "execution_count": 1,
   "id": "8ad66595",
   "metadata": {},
   "outputs": [],
   "source": [
    "#Importing all the required modules \n",
    "import pandas as pd\n",
    "import numpy as np\n",
    "import seaborn as sns\n",
    "import matplotlib.pyplot as plt\n",
    "%matplotlib inline     \n",
    "sns.set(color_codes=True)"
   ]
  },
  {
   "cell_type": "markdown",
   "id": "d18b1243",
   "metadata": {},
   "source": [
    "<h2>Reading the Data and performing Exploratory Data Analysis</h2>"
   ]
  },
  {
   "cell_type": "markdown",
   "id": "41986bff",
   "metadata": {},
   "source": [
    "<h3><b>Reading and Understanding the Data</b></h3>"
   ]
  },
  {
   "cell_type": "code",
   "execution_count": 3,
   "id": "744ca5cd",
   "metadata": {
    "scrolled": true
   },
   "outputs": [
    {
     "name": "stdout",
     "output_type": "stream",
     "text": [
      "      Cost Weight  Weight1 Length   Height   Width\n",
      "0    242.0   23.2     25.4     30  11.5200    4.02\n",
      "1    290.0     24     26.3   31.2  12.4800  4.3056\n",
      "2    340.0   23.9     26.5   31.1  12.3778  4.6961\n",
      "3    363.0   26.3     29.0   33.5  12.7300  4.4555\n",
      "4    430.0   26.5     29.0     34  12.4440   5.134\n",
      "..     ...    ...      ...    ...      ...     ...\n",
      "154   12.2   11.5     12.2   13.4   2.0904  1.3936\n",
      "155   13.4   11.7     12.4   13.5   2.4300   1.269\n",
      "156   12.2   12.1     13.0   13.8   2.2770  1.2558\n",
      "157   19.7   13.2     14.3   15.2   2.8728  2.0672\n",
      "158   19.9   13.8     15.0   16.2   2.9322  1.8792\n",
      "\n",
      "[159 rows x 6 columns]\n"
     ]
    }
   ],
   "source": [
    "#Loading the Dataset into Jupyter\n",
    "df = pd.read_csv('Data_Regression.csv',sep=',')\n",
    "print(df)"
   ]
  },
  {
   "cell_type": "code",
   "execution_count": 6,
   "id": "b6a25288",
   "metadata": {},
   "outputs": [
    {
     "data": {
      "text/html": [
       "<div>\n",
       "<style scoped>\n",
       "    .dataframe tbody tr th:only-of-type {\n",
       "        vertical-align: middle;\n",
       "    }\n",
       "\n",
       "    .dataframe tbody tr th {\n",
       "        vertical-align: top;\n",
       "    }\n",
       "\n",
       "    .dataframe thead th {\n",
       "        text-align: right;\n",
       "    }\n",
       "</style>\n",
       "<table border=\"1\" class=\"dataframe\">\n",
       "  <thead>\n",
       "    <tr style=\"text-align: right;\">\n",
       "      <th></th>\n",
       "      <th>Cost</th>\n",
       "      <th>Weight</th>\n",
       "      <th>Weight1</th>\n",
       "      <th>Length</th>\n",
       "      <th>Height</th>\n",
       "      <th>Width</th>\n",
       "    </tr>\n",
       "  </thead>\n",
       "  <tbody>\n",
       "    <tr>\n",
       "      <th>0</th>\n",
       "      <td>242.0</td>\n",
       "      <td>23.2</td>\n",
       "      <td>25.4</td>\n",
       "      <td>30</td>\n",
       "      <td>11.5200</td>\n",
       "      <td>4.02</td>\n",
       "    </tr>\n",
       "    <tr>\n",
       "      <th>1</th>\n",
       "      <td>290.0</td>\n",
       "      <td>24</td>\n",
       "      <td>26.3</td>\n",
       "      <td>31.2</td>\n",
       "      <td>12.4800</td>\n",
       "      <td>4.3056</td>\n",
       "    </tr>\n",
       "    <tr>\n",
       "      <th>2</th>\n",
       "      <td>340.0</td>\n",
       "      <td>23.9</td>\n",
       "      <td>26.5</td>\n",
       "      <td>31.1</td>\n",
       "      <td>12.3778</td>\n",
       "      <td>4.6961</td>\n",
       "    </tr>\n",
       "    <tr>\n",
       "      <th>3</th>\n",
       "      <td>363.0</td>\n",
       "      <td>26.3</td>\n",
       "      <td>29.0</td>\n",
       "      <td>33.5</td>\n",
       "      <td>12.7300</td>\n",
       "      <td>4.4555</td>\n",
       "    </tr>\n",
       "    <tr>\n",
       "      <th>4</th>\n",
       "      <td>430.0</td>\n",
       "      <td>26.5</td>\n",
       "      <td>29.0</td>\n",
       "      <td>34</td>\n",
       "      <td>12.4440</td>\n",
       "      <td>5.134</td>\n",
       "    </tr>\n",
       "  </tbody>\n",
       "</table>\n",
       "</div>"
      ],
      "text/plain": [
       "    Cost Weight  Weight1 Length   Height   Width\n",
       "0  242.0   23.2     25.4     30  11.5200    4.02\n",
       "1  290.0     24     26.3   31.2  12.4800  4.3056\n",
       "2  340.0   23.9     26.5   31.1  12.3778  4.6961\n",
       "3  363.0   26.3     29.0   33.5  12.7300  4.4555\n",
       "4  430.0   26.5     29.0     34  12.4440   5.134"
      ]
     },
     "execution_count": 6,
     "metadata": {},
     "output_type": "execute_result"
    }
   ],
   "source": [
    "#Examining the first 5 rows \n",
    "df.head()"
   ]
  },
  {
   "cell_type": "code",
   "execution_count": 7,
   "id": "0f41d6f4",
   "metadata": {},
   "outputs": [
    {
     "data": {
      "text/html": [
       "<div>\n",
       "<style scoped>\n",
       "    .dataframe tbody tr th:only-of-type {\n",
       "        vertical-align: middle;\n",
       "    }\n",
       "\n",
       "    .dataframe tbody tr th {\n",
       "        vertical-align: top;\n",
       "    }\n",
       "\n",
       "    .dataframe thead th {\n",
       "        text-align: right;\n",
       "    }\n",
       "</style>\n",
       "<table border=\"1\" class=\"dataframe\">\n",
       "  <thead>\n",
       "    <tr style=\"text-align: right;\">\n",
       "      <th></th>\n",
       "      <th>Cost</th>\n",
       "      <th>Weight</th>\n",
       "      <th>Weight1</th>\n",
       "      <th>Length</th>\n",
       "      <th>Height</th>\n",
       "      <th>Width</th>\n",
       "    </tr>\n",
       "  </thead>\n",
       "  <tbody>\n",
       "    <tr>\n",
       "      <th>154</th>\n",
       "      <td>12.2</td>\n",
       "      <td>11.5</td>\n",
       "      <td>12.2</td>\n",
       "      <td>13.4</td>\n",
       "      <td>2.0904</td>\n",
       "      <td>1.3936</td>\n",
       "    </tr>\n",
       "    <tr>\n",
       "      <th>155</th>\n",
       "      <td>13.4</td>\n",
       "      <td>11.7</td>\n",
       "      <td>12.4</td>\n",
       "      <td>13.5</td>\n",
       "      <td>2.4300</td>\n",
       "      <td>1.269</td>\n",
       "    </tr>\n",
       "    <tr>\n",
       "      <th>156</th>\n",
       "      <td>12.2</td>\n",
       "      <td>12.1</td>\n",
       "      <td>13.0</td>\n",
       "      <td>13.8</td>\n",
       "      <td>2.2770</td>\n",
       "      <td>1.2558</td>\n",
       "    </tr>\n",
       "    <tr>\n",
       "      <th>157</th>\n",
       "      <td>19.7</td>\n",
       "      <td>13.2</td>\n",
       "      <td>14.3</td>\n",
       "      <td>15.2</td>\n",
       "      <td>2.8728</td>\n",
       "      <td>2.0672</td>\n",
       "    </tr>\n",
       "    <tr>\n",
       "      <th>158</th>\n",
       "      <td>19.9</td>\n",
       "      <td>13.8</td>\n",
       "      <td>15.0</td>\n",
       "      <td>16.2</td>\n",
       "      <td>2.9322</td>\n",
       "      <td>1.8792</td>\n",
       "    </tr>\n",
       "  </tbody>\n",
       "</table>\n",
       "</div>"
      ],
      "text/plain": [
       "     Cost Weight  Weight1 Length  Height   Width\n",
       "154  12.2   11.5     12.2   13.4  2.0904  1.3936\n",
       "155  13.4   11.7     12.4   13.5  2.4300   1.269\n",
       "156  12.2   12.1     13.0   13.8  2.2770  1.2558\n",
       "157  19.7   13.2     14.3   15.2  2.8728  2.0672\n",
       "158  19.9   13.8     15.0   16.2  2.9322  1.8792"
      ]
     },
     "execution_count": 7,
     "metadata": {},
     "output_type": "execute_result"
    }
   ],
   "source": [
    "#Examining the last 5 rows \n",
    "df.tail()"
   ]
  },
  {
   "cell_type": "code",
   "execution_count": 8,
   "id": "107f4f97",
   "metadata": {},
   "outputs": [
    {
     "data": {
      "text/plain": [
       "(159, 6)"
      ]
     },
     "execution_count": 8,
     "metadata": {},
     "output_type": "execute_result"
    }
   ],
   "source": [
    "#Examing the no. of rows and columns\n",
    "df.shape"
   ]
  },
  {
   "cell_type": "code",
   "execution_count": 9,
   "id": "1f3cee66",
   "metadata": {},
   "outputs": [
    {
     "name": "stdout",
     "output_type": "stream",
     "text": [
      "<class 'pandas.core.frame.DataFrame'>\n",
      "RangeIndex: 159 entries, 0 to 158\n",
      "Data columns (total 6 columns):\n",
      " #   Column   Non-Null Count  Dtype  \n",
      "---  ------   --------------  -----  \n",
      " 0   Cost     159 non-null    float64\n",
      " 1   Weight   159 non-null    object \n",
      " 2   Weight1  159 non-null    float64\n",
      " 3   Length   159 non-null    object \n",
      " 4   Height   158 non-null    float64\n",
      " 5   Width    158 non-null    object \n",
      "dtypes: float64(3), object(3)\n",
      "memory usage: 7.6+ KB\n"
     ]
    }
   ],
   "source": [
    "#Checking the Data Types and No: of Rows\n",
    "df.info()"
   ]
  },
  {
   "cell_type": "code",
   "execution_count": 10,
   "id": "799348f4",
   "metadata": {},
   "outputs": [],
   "source": [
    "#Re-Ordering the Columns\n",
    "df = df[[\"Weight\",\"Weight1\",\"Length\",\"Height\",\"Width\",\"Cost\"]]"
   ]
  },
  {
   "cell_type": "code",
   "execution_count": 11,
   "id": "412e9ec1",
   "metadata": {},
   "outputs": [
    {
     "name": "stdout",
     "output_type": "stream",
     "text": [
      "<class 'pandas.core.frame.DataFrame'>\n",
      "RangeIndex: 159 entries, 0 to 158\n",
      "Data columns (total 6 columns):\n",
      " #   Column   Non-Null Count  Dtype  \n",
      "---  ------   --------------  -----  \n",
      " 0   Weight   159 non-null    object \n",
      " 1   Weight1  159 non-null    float64\n",
      " 2   Length   159 non-null    object \n",
      " 3   Height   158 non-null    float64\n",
      " 4   Width    158 non-null    object \n",
      " 5   Cost     159 non-null    float64\n",
      "dtypes: float64(3), object(3)\n",
      "memory usage: 7.6+ KB\n"
     ]
    }
   ],
   "source": [
    "#Confirming that the Columns are re-arranged\n",
    "df.info()"
   ]
  },
  {
   "cell_type": "code",
   "execution_count": 12,
   "id": "3e41b98e",
   "metadata": {},
   "outputs": [],
   "source": [
    "#Replace the Strings as NaN \n",
    "df['Weight'] = pd.to_numeric(df['Weight'],errors='coerce')\n",
    "df['Length'] = pd.to_numeric(df['Length'],errors='coerce')\n",
    "df['Width'] = pd.to_numeric(df['Width'],errors='coerce')"
   ]
  },
  {
   "cell_type": "code",
   "execution_count": 13,
   "id": "f395d3ea",
   "metadata": {},
   "outputs": [
    {
     "name": "stdout",
     "output_type": "stream",
     "text": [
      "Weight     2\n",
      "Weight1    0\n",
      "Length     1\n",
      "Height     1\n",
      "Width      2\n",
      "Cost       0\n",
      "dtype: int64\n"
     ]
    }
   ],
   "source": [
    "#Checking for the NULLs in the dataset after performing to_numeric\n",
    "print(df.isnull().sum())"
   ]
  },
  {
   "cell_type": "code",
   "execution_count": 14,
   "id": "9856ca84",
   "metadata": {},
   "outputs": [
    {
     "name": "stdout",
     "output_type": "stream",
     "text": [
      "<class 'pandas.core.frame.DataFrame'>\n",
      "RangeIndex: 159 entries, 0 to 158\n",
      "Data columns (total 6 columns):\n",
      " #   Column   Non-Null Count  Dtype  \n",
      "---  ------   --------------  -----  \n",
      " 0   Weight   157 non-null    float64\n",
      " 1   Weight1  159 non-null    float64\n",
      " 2   Length   158 non-null    float64\n",
      " 3   Height   158 non-null    float64\n",
      " 4   Width    157 non-null    float64\n",
      " 5   Cost     159 non-null    float64\n",
      "dtypes: float64(6)\n",
      "memory usage: 7.6 KB\n",
      "None\n"
     ]
    }
   ],
   "source": [
    "#Checking the Info to confirm that the datatype is consistent \n",
    "print(df.info())"
   ]
  },
  {
   "cell_type": "markdown",
   "id": "87c27175",
   "metadata": {},
   "source": [
    "<h3><b>Co-relating the data</b></h3>"
   ]
  },
  {
   "cell_type": "code",
   "execution_count": 15,
   "id": "bdbd59d3",
   "metadata": {},
   "outputs": [
    {
     "data": {
      "text/html": [
       "<div>\n",
       "<style scoped>\n",
       "    .dataframe tbody tr th:only-of-type {\n",
       "        vertical-align: middle;\n",
       "    }\n",
       "\n",
       "    .dataframe tbody tr th {\n",
       "        vertical-align: top;\n",
       "    }\n",
       "\n",
       "    .dataframe thead th {\n",
       "        text-align: right;\n",
       "    }\n",
       "</style>\n",
       "<table border=\"1\" class=\"dataframe\">\n",
       "  <thead>\n",
       "    <tr style=\"text-align: right;\">\n",
       "      <th></th>\n",
       "      <th>Weight</th>\n",
       "      <th>Weight1</th>\n",
       "      <th>Length</th>\n",
       "      <th>Height</th>\n",
       "      <th>Width</th>\n",
       "      <th>Cost</th>\n",
       "    </tr>\n",
       "  </thead>\n",
       "  <tbody>\n",
       "    <tr>\n",
       "      <th>Weight</th>\n",
       "      <td>1.000000</td>\n",
       "      <td>0.999523</td>\n",
       "      <td>0.992159</td>\n",
       "      <td>0.627608</td>\n",
       "      <td>0.238791</td>\n",
       "      <td>0.915702</td>\n",
       "    </tr>\n",
       "    <tr>\n",
       "      <th>Weight1</th>\n",
       "      <td>0.999523</td>\n",
       "      <td>1.000000</td>\n",
       "      <td>0.994102</td>\n",
       "      <td>0.641689</td>\n",
       "      <td>0.236496</td>\n",
       "      <td>0.918618</td>\n",
       "    </tr>\n",
       "    <tr>\n",
       "      <th>Length</th>\n",
       "      <td>0.992159</td>\n",
       "      <td>0.994102</td>\n",
       "      <td>1.000000</td>\n",
       "      <td>0.703750</td>\n",
       "      <td>0.226611</td>\n",
       "      <td>0.923123</td>\n",
       "    </tr>\n",
       "    <tr>\n",
       "      <th>Height</th>\n",
       "      <td>0.627608</td>\n",
       "      <td>0.641689</td>\n",
       "      <td>0.703750</td>\n",
       "      <td>1.000000</td>\n",
       "      <td>0.012421</td>\n",
       "      <td>0.724575</td>\n",
       "    </tr>\n",
       "    <tr>\n",
       "      <th>Width</th>\n",
       "      <td>0.238791</td>\n",
       "      <td>0.236496</td>\n",
       "      <td>0.226611</td>\n",
       "      <td>0.012421</td>\n",
       "      <td>1.000000</td>\n",
       "      <td>0.268487</td>\n",
       "    </tr>\n",
       "    <tr>\n",
       "      <th>Cost</th>\n",
       "      <td>0.915702</td>\n",
       "      <td>0.918618</td>\n",
       "      <td>0.923123</td>\n",
       "      <td>0.724575</td>\n",
       "      <td>0.268487</td>\n",
       "      <td>1.000000</td>\n",
       "    </tr>\n",
       "  </tbody>\n",
       "</table>\n",
       "</div>"
      ],
      "text/plain": [
       "           Weight   Weight1    Length    Height     Width      Cost\n",
       "Weight   1.000000  0.999523  0.992159  0.627608  0.238791  0.915702\n",
       "Weight1  0.999523  1.000000  0.994102  0.641689  0.236496  0.918618\n",
       "Length   0.992159  0.994102  1.000000  0.703750  0.226611  0.923123\n",
       "Height   0.627608  0.641689  0.703750  1.000000  0.012421  0.724575\n",
       "Width    0.238791  0.236496  0.226611  0.012421  1.000000  0.268487\n",
       "Cost     0.915702  0.918618  0.923123  0.724575  0.268487  1.000000"
      ]
     },
     "execution_count": 15,
     "metadata": {},
     "output_type": "execute_result"
    },
    {
     "data": {
      "image/png": "[encoded data removed]",
      "text/plain": [
       "<Figure size 864x432 with 2 Axes>"
      ]
     },
     "metadata": {},
     "output_type": "display_data"
    }
   ],
   "source": [
    "#Heatmap, describing various inter-dependancies between the Features \n",
    "#Also, performing a Correlation between the Features\n",
    "plt.figure(figsize=(12,6))\n",
    "c= df.corr()\n",
    "sns.heatmap(c,cmap='RdYlBu_r',annot=True)\n",
    "c"
   ]
  },
  {
   "cell_type": "markdown",
   "id": "a8bac613",
   "metadata": {},
   "source": [
    "<blockquote>From the Heatmap and the Correlation, we can conclude that 'Weight' and 'Weight1' are very similar and hence we can drop 'Weight1' from the Dataset, in the similar manner we can also drop Length, as Length and Weight are very similar\n",
    "</blockquote>"
   ]
  },
  {
   "cell_type": "code",
   "execution_count": 16,
   "id": "ba7b6fe1",
   "metadata": {},
   "outputs": [],
   "source": [
    "#Dropping this columns as NOT using it\n",
    "df = df.drop(['Weight1','Length'],axis=1)"
   ]
  },
  {
   "cell_type": "code",
   "execution_count": 17,
   "id": "c8a66cbf",
   "metadata": {},
   "outputs": [
    {
     "data": {
      "text/html": [
       "<div>\n",
       "<style scoped>\n",
       "    .dataframe tbody tr th:only-of-type {\n",
       "        vertical-align: middle;\n",
       "    }\n",
       "\n",
       "    .dataframe tbody tr th {\n",
       "        vertical-align: top;\n",
       "    }\n",
       "\n",
       "    .dataframe thead th {\n",
       "        text-align: right;\n",
       "    }\n",
       "</style>\n",
       "<table border=\"1\" class=\"dataframe\">\n",
       "  <thead>\n",
       "    <tr style=\"text-align: right;\">\n",
       "      <th></th>\n",
       "      <th>Weight</th>\n",
       "      <th>Height</th>\n",
       "      <th>Width</th>\n",
       "      <th>Cost</th>\n",
       "    </tr>\n",
       "  </thead>\n",
       "  <tbody>\n",
       "    <tr>\n",
       "      <th>0</th>\n",
       "      <td>23.2</td>\n",
       "      <td>11.5200</td>\n",
       "      <td>4.0200</td>\n",
       "      <td>242.0</td>\n",
       "    </tr>\n",
       "    <tr>\n",
       "      <th>1</th>\n",
       "      <td>24.0</td>\n",
       "      <td>12.4800</td>\n",
       "      <td>4.3056</td>\n",
       "      <td>290.0</td>\n",
       "    </tr>\n",
       "    <tr>\n",
       "      <th>2</th>\n",
       "      <td>23.9</td>\n",
       "      <td>12.3778</td>\n",
       "      <td>4.6961</td>\n",
       "      <td>340.0</td>\n",
       "    </tr>\n",
       "    <tr>\n",
       "      <th>3</th>\n",
       "      <td>26.3</td>\n",
       "      <td>12.7300</td>\n",
       "      <td>4.4555</td>\n",
       "      <td>363.0</td>\n",
       "    </tr>\n",
       "    <tr>\n",
       "      <th>4</th>\n",
       "      <td>26.5</td>\n",
       "      <td>12.4440</td>\n",
       "      <td>5.1340</td>\n",
       "      <td>430.0</td>\n",
       "    </tr>\n",
       "  </tbody>\n",
       "</table>\n",
       "</div>"
      ],
      "text/plain": [
       "   Weight   Height   Width   Cost\n",
       "0    23.2  11.5200  4.0200  242.0\n",
       "1    24.0  12.4800  4.3056  290.0\n",
       "2    23.9  12.3778  4.6961  340.0\n",
       "3    26.3  12.7300  4.4555  363.0\n",
       "4    26.5  12.4440  5.1340  430.0"
      ]
     },
     "execution_count": 17,
     "metadata": {},
     "output_type": "execute_result"
    }
   ],
   "source": [
    "#Checking if the above step is effective \n",
    "df.head()"
   ]
  },
  {
   "cell_type": "code",
   "execution_count": 18,
   "id": "3060adb1",
   "metadata": {},
   "outputs": [
    {
     "data": {
      "text/plain": [
       "(159, 4)"
      ]
     },
     "execution_count": 18,
     "metadata": {},
     "output_type": "execute_result"
    }
   ],
   "source": [
    "#Checcking the Shape after drop\n",
    "df.shape"
   ]
  },
  {
   "cell_type": "markdown",
   "id": "a8bc185f",
   "metadata": {},
   "source": [
    "<h3><b>Check for Duplicates and Nulls</b></h3>"
   ]
  },
  {
   "cell_type": "code",
   "execution_count": 19,
   "id": "f148f8f7",
   "metadata": {},
   "outputs": [
    {
     "name": "stdout",
     "output_type": "stream",
     "text": [
      "no: of duplicates:  (0, 4)\n"
     ]
    }
   ],
   "source": [
    "#Checking for Duplicate rows\n",
    "duplicate_rows_df = df[df.duplicated()]\n",
    "print(\"no: of duplicates: \",duplicate_rows_df.shape)\n",
    "#Since there are no duplicates we need not remove any of the rows"
   ]
  },
  {
   "cell_type": "code",
   "execution_count": 20,
   "id": "0047a846",
   "metadata": {},
   "outputs": [
    {
     "name": "stdout",
     "output_type": "stream",
     "text": [
      "Weight    2\n",
      "Height    1\n",
      "Width     2\n",
      "Cost      0\n",
      "dtype: int64\n"
     ]
    }
   ],
   "source": [
    "#Checking for Nulls\n",
    "print(df.isnull().sum())"
   ]
  },
  {
   "cell_type": "code",
   "execution_count": 21,
   "id": "8dbeaeb6",
   "metadata": {},
   "outputs": [
    {
     "data": {
      "text/plain": [
       "Weight    float64\n",
       "Height    float64\n",
       "Width     float64\n",
       "Cost      float64\n",
       "dtype: object"
      ]
     },
     "execution_count": 21,
     "metadata": {},
     "output_type": "execute_result"
    }
   ],
   "source": [
    "#Checking the data types of the Columns  \n",
    "df.dtypes"
   ]
  },
  {
   "cell_type": "code",
   "execution_count": 22,
   "id": "742cac84",
   "metadata": {},
   "outputs": [
    {
     "name": "stdout",
     "output_type": "stream",
     "text": [
      "25.2 7.733 4.2485 273.0\n"
     ]
    }
   ],
   "source": [
    "#Calculating the Median for all the columns\n",
    "med_Wgt = df['Weight'].median()\n",
    "med_Hgt = df['Height'].median()\n",
    "med_Wdt = df['Width'].median()\n",
    "med_Cst = df['Cost'].median()\n",
    "print(med_Wgt,med_Hgt,med_Wdt,med_Cst)"
   ]
  },
  {
   "cell_type": "code",
   "execution_count": 23,
   "id": "62935d92",
   "metadata": {},
   "outputs": [],
   "source": [
    "#Replace the NULLs with the Median value for each of the Features\n",
    "df['Weight'] = df['Weight'].fillna(med_Wgt)\n",
    "df['Height'] = df['Height'].fillna(med_Hgt)\n",
    "df['Width'] = df['Width'].fillna(med_Wdt)"
   ]
  },
  {
   "cell_type": "code",
   "execution_count": 24,
   "id": "343f0ab5",
   "metadata": {},
   "outputs": [
    {
     "data": {
      "text/plain": [
       "Weight    0\n",
       "Height    0\n",
       "Width     0\n",
       "Cost      0\n",
       "dtype: int64"
      ]
     },
     "execution_count": 24,
     "metadata": {},
     "output_type": "execute_result"
    }
   ],
   "source": [
    "#Checking if the NULLs are replaced by the median correctly \n",
    "df.isnull().sum()"
   ]
  },
  {
   "cell_type": "code",
   "execution_count": 25,
   "id": "8f8e5f2c",
   "metadata": {},
   "outputs": [
    {
     "data": {
      "text/plain": [
       "Weight    float64\n",
       "Height    float64\n",
       "Width     float64\n",
       "Cost      float64\n",
       "dtype: object"
      ]
     },
     "execution_count": 25,
     "metadata": {},
     "output_type": "execute_result"
    }
   ],
   "source": [
    "#Checking the Datatypes again after all the Transformations\n",
    "df.dtypes"
   ]
  },
  {
   "cell_type": "code",
   "execution_count": 26,
   "id": "133001ab",
   "metadata": {},
   "outputs": [
    {
     "name": "stdout",
     "output_type": "stream",
     "text": [
      "<class 'pandas.core.frame.DataFrame'>\n",
      "RangeIndex: 159 entries, 0 to 158\n",
      "Data columns (total 4 columns):\n",
      " #   Column  Non-Null Count  Dtype  \n",
      "---  ------  --------------  -----  \n",
      " 0   Weight  159 non-null    float64\n",
      " 1   Height  159 non-null    float64\n",
      " 2   Width   159 non-null    float64\n",
      " 3   Cost    159 non-null    float64\n",
      "dtypes: float64(4)\n",
      "memory usage: 5.1 KB\n"
     ]
    }
   ],
   "source": [
    "df.info()"
   ]
  },
  {
   "cell_type": "code",
   "execution_count": 27,
   "id": "e6dea1a4",
   "metadata": {},
   "outputs": [
    {
     "data": {
      "text/html": [
       "<div>\n",
       "<style scoped>\n",
       "    .dataframe tbody tr th:only-of-type {\n",
       "        vertical-align: middle;\n",
       "    }\n",
       "\n",
       "    .dataframe tbody tr th {\n",
       "        vertical-align: top;\n",
       "    }\n",
       "\n",
       "    .dataframe thead th {\n",
       "        text-align: right;\n",
       "    }\n",
       "</style>\n",
       "<table border=\"1\" class=\"dataframe\">\n",
       "  <thead>\n",
       "    <tr style=\"text-align: right;\">\n",
       "      <th></th>\n",
       "      <th>Weight</th>\n",
       "      <th>Height</th>\n",
       "      <th>Width</th>\n",
       "      <th>Cost</th>\n",
       "    </tr>\n",
       "  </thead>\n",
       "  <tbody>\n",
       "    <tr>\n",
       "      <th>count</th>\n",
       "      <td>159.000000</td>\n",
       "      <td>159.000000</td>\n",
       "      <td>159.000000</td>\n",
       "      <td>159.000000</td>\n",
       "    </tr>\n",
       "    <tr>\n",
       "      <th>mean</th>\n",
       "      <td>26.246541</td>\n",
       "      <td>8.925576</td>\n",
       "      <td>3777.977521</td>\n",
       "      <td>398.326415</td>\n",
       "    </tr>\n",
       "    <tr>\n",
       "      <th>std</th>\n",
       "      <td>9.989816</td>\n",
       "      <td>4.260588</td>\n",
       "      <td>47582.744610</td>\n",
       "      <td>357.978317</td>\n",
       "    </tr>\n",
       "    <tr>\n",
       "      <th>min</th>\n",
       "      <td>7.500000</td>\n",
       "      <td>1.728400</td>\n",
       "      <td>1.047600</td>\n",
       "      <td>0.000000</td>\n",
       "    </tr>\n",
       "    <tr>\n",
       "      <th>25%</th>\n",
       "      <td>19.050000</td>\n",
       "      <td>5.944800</td>\n",
       "      <td>3.401600</td>\n",
       "      <td>120.000000</td>\n",
       "    </tr>\n",
       "    <tr>\n",
       "      <th>50%</th>\n",
       "      <td>25.200000</td>\n",
       "      <td>7.733000</td>\n",
       "      <td>4.248500</td>\n",
       "      <td>273.000000</td>\n",
       "    </tr>\n",
       "    <tr>\n",
       "      <th>75%</th>\n",
       "      <td>32.700000</td>\n",
       "      <td>12.143400</td>\n",
       "      <td>5.584500</td>\n",
       "      <td>650.000000</td>\n",
       "    </tr>\n",
       "    <tr>\n",
       "      <th>max</th>\n",
       "      <td>59.000000</td>\n",
       "      <td>18.957000</td>\n",
       "      <td>600000.000000</td>\n",
       "      <td>1650.000000</td>\n",
       "    </tr>\n",
       "  </tbody>\n",
       "</table>\n",
       "</div>"
      ],
      "text/plain": [
       "           Weight      Height          Width         Cost\n",
       "count  159.000000  159.000000     159.000000   159.000000\n",
       "mean    26.246541    8.925576    3777.977521   398.326415\n",
       "std      9.989816    4.260588   47582.744610   357.978317\n",
       "min      7.500000    1.728400       1.047600     0.000000\n",
       "25%     19.050000    5.944800       3.401600   120.000000\n",
       "50%     25.200000    7.733000       4.248500   273.000000\n",
       "75%     32.700000   12.143400       5.584500   650.000000\n",
       "max     59.000000   18.957000  600000.000000  1650.000000"
      ]
     },
     "execution_count": 27,
     "metadata": {},
     "output_type": "execute_result"
    }
   ],
   "source": [
    "df.describe()"
   ]
  },
  {
   "cell_type": "markdown",
   "id": "1404e2f1",
   "metadata": {},
   "source": [
    "<h3><b>Outliers Detection and Treatment</b></h3>"
   ]
  },
  {
   "cell_type": "code",
   "execution_count": 28,
   "id": "4f1a32e5",
   "metadata": {},
   "outputs": [
    {
     "data": {
      "text/plain": [
       "<AxesSubplot:xlabel='Weight'>"
      ]
     },
     "execution_count": 28,
     "metadata": {},
     "output_type": "execute_result"
    },
    {
     "data": {
      "image/png": "[encoded data removed]",
      "text/plain": [
       "<Figure size 432x288 with 1 Axes>"
      ]
     },
     "metadata": {},
     "output_type": "display_data"
    }
   ],
   "source": [
    "#Detecting Ouliers with Box Plot\n",
    "sns.boxplot(x=df['Weight'])"
   ]
  },
  {
   "cell_type": "code",
   "execution_count": 29,
   "id": "706b353b",
   "metadata": {},
   "outputs": [
    {
     "data": {
      "text/plain": [
       "(array([ 3., 11.,  7.,  8., 20., 16., 19., 10., 12., 15., 10., 12.,  7.,\n",
       "         3.,  1.,  1.,  0.,  1.,  2.,  1.]),\n",
       " array([ 7.5  , 10.075, 12.65 , 15.225, 17.8  , 20.375, 22.95 , 25.525,\n",
       "        28.1  , 30.675, 33.25 , 35.825, 38.4  , 40.975, 43.55 , 46.125,\n",
       "        48.7  , 51.275, 53.85 , 56.425, 59.   ]),\n",
       " <BarContainer object of 20 artists>)"
      ]
     },
     "execution_count": 29,
     "metadata": {},
     "output_type": "execute_result"
    },
    {
     "data": {
      "image/png": "[encoded data removed]",
      "text/plain": [
       "<Figure size 432x288 with 1 Axes>"
      ]
     },
     "metadata": {},
     "output_type": "display_data"
    }
   ],
   "source": [
    "#We can also see from the Histogram that the outliers are after 50 which cause a disruption to form a Bell Curve\n",
    "plt.hist(df['Weight'],bins=20)"
   ]
  },
  {
   "cell_type": "code",
   "execution_count": 30,
   "id": "b5e235b7",
   "metadata": {},
   "outputs": [
    {
     "name": "stdout",
     "output_type": "stream",
     "text": [
      "0.5902494787420377\n"
     ]
    },
    {
     "data": {
      "text/plain": [
       "count    159.000000\n",
       "mean      26.246541\n",
       "std        9.989816\n",
       "min        7.500000\n",
       "25%       19.050000\n",
       "50%       25.200000\n",
       "75%       32.700000\n",
       "max       59.000000\n",
       "Name: Weight, dtype: float64"
      ]
     },
     "execution_count": 30,
     "metadata": {},
     "output_type": "execute_result"
    }
   ],
   "source": [
    "#We can calculate the Skewness\n",
    "\n",
    "print(df['Weight'].skew())\n",
    "df['Weight'].describe()\n",
    "\n",
    "#If the skewness is between -0.5 and 0.5, the data are fairly symmetrical\n",
    "#If the skewness is between -1 and – 0.5 or between 0.5 and 1, the data are moderately skewed\n",
    "#If the skewness is less than -1 or greater than 1, the data are highly skewed\n",
    "#Here skewness is Low, hence suggesting less ouliers"
   ]
  },
  {
   "cell_type": "code",
   "execution_count": 31,
   "id": "2df4ba33",
   "metadata": {},
   "outputs": [],
   "source": [
    "#Defining the IQR Function for Outlier Detection\n",
    "def removeOutlier(col):\n",
    "    sorted(col)\n",
    "    q1,q2=col.quantile([0.25,0.75])\n",
    "    IQR=q2-q1\n",
    "    lr=q1-(1.5*IQR)\n",
    "    ur=q2+(1.5*IQR)\n",
    "    return lr,ur"
   ]
  },
  {
   "cell_type": "code",
   "execution_count": 32,
   "id": "5cef0385",
   "metadata": {},
   "outputs": [],
   "source": [
    "#Performing the Outliers Treatment through IQR method\n",
    "ls,hs=removeOutlier(df['Weight'])\n",
    "df['Weight']=np.where(df['Weight']>hs,hs,df['Weight'])\n",
    "df['Weight']=np.where(df['Weight']<ls,ls,df['Weight'])"
   ]
  },
  {
   "cell_type": "code",
   "execution_count": 33,
   "id": "37ce9e7d",
   "metadata": {},
   "outputs": [
    {
     "data": {
      "text/plain": [
       "<AxesSubplot:xlabel='Weight'>"
      ]
     },
     "execution_count": 33,
     "metadata": {},
     "output_type": "execute_result"
    },
    {
     "data": {
      "image/png": "[encoded data removed]",
      "text/plain": [
       "<Figure size 432x288 with 1 Axes>"
      ]
     },
     "metadata": {},
     "output_type": "display_data"
    }
   ],
   "source": [
    "#Re-Checking with Box plot  to confirm elemination of Outliers\n",
    "sns.boxplot(x=df['Weight'])"
   ]
  },
  {
   "cell_type": "code",
   "execution_count": 34,
   "id": "e1f66836",
   "metadata": {},
   "outputs": [
    {
     "data": {
      "text/plain": [
       "(array([ 2., 10.,  8.,  5.,  9., 25.,  9., 17.,  9.,  9., 15., 10., 12.,\n",
       "         4.,  7.,  2.,  1.,  1.,  0.,  4.]),\n",
       " array([ 7.5    ,  9.78375, 12.0675 , 14.35125, 16.635  , 18.91875,\n",
       "        21.2025 , 23.48625, 25.77   , 28.05375, 30.3375 , 32.62125,\n",
       "        34.905  , 37.18875, 39.4725 , 41.75625, 44.04   , 46.32375,\n",
       "        48.6075 , 50.89125, 53.175  ]),\n",
       " <BarContainer object of 20 artists>)"
      ]
     },
     "execution_count": 34,
     "metadata": {},
     "output_type": "execute_result"
    },
    {
     "data": {
      "image/png": "[encoded data removed]",
      "text/plain": [
       "<Figure size 432x288 with 1 Axes>"
      ]
     },
     "metadata": {},
     "output_type": "display_data"
    }
   ],
   "source": [
    "plt.hist(df['Weight'],bins=20)"
   ]
  },
  {
   "cell_type": "markdown",
   "id": "4c5778ef",
   "metadata": {},
   "source": [
    "<blockquote>Here, in the above histogram, we can see the difference after the Outlier Treatment</blockquote>"
   ]
  },
  {
   "cell_type": "code",
   "execution_count": 35,
   "id": "612ec57e",
   "metadata": {},
   "outputs": [
    {
     "name": "stdout",
     "output_type": "stream",
     "text": [
      "0.4517278461587331\n"
     ]
    },
    {
     "data": {
      "text/plain": [
       "count    159.000000\n",
       "mean      26.174371\n",
       "std        9.775683\n",
       "min        7.500000\n",
       "25%       19.050000\n",
       "50%       25.200000\n",
       "75%       32.700000\n",
       "max       53.175000\n",
       "Name: Weight, dtype: float64"
      ]
     },
     "execution_count": 35,
     "metadata": {},
     "output_type": "execute_result"
    }
   ],
   "source": [
    "print(df['Weight'].skew())\n",
    "df['Weight'].describe()\n",
    "#The Skew value now suggests that the data is now fairly symmetrical and hence we can conclude the detection."
   ]
  },
  {
   "cell_type": "code",
   "execution_count": 36,
   "id": "17159c6d",
   "metadata": {},
   "outputs": [
    {
     "name": "stdout",
     "output_type": "stream",
     "text": [
      "0.4188725260362618\n"
     ]
    },
    {
     "data": {
      "text/plain": [
       "count    159.000000\n",
       "mean       8.925576\n",
       "std        4.260588\n",
       "min        1.728400\n",
       "25%        5.944800\n",
       "50%        7.733000\n",
       "75%       12.143400\n",
       "max       18.957000\n",
       "Name: Height, dtype: float64"
      ]
     },
     "execution_count": 36,
     "metadata": {},
     "output_type": "execute_result"
    }
   ],
   "source": [
    "#Calculate Skewness for Height\n",
    "print(df['Height'].skew())\n",
    "df['Height'].describe()"
   ]
  },
  {
   "cell_type": "code",
   "execution_count": 37,
   "id": "104a5304",
   "metadata": {},
   "outputs": [
    {
     "data": {
      "text/plain": [
       "<AxesSubplot:xlabel='Height'>"
      ]
     },
     "execution_count": 37,
     "metadata": {},
     "output_type": "execute_result"
    },
    {
     "data": {
      "image/png": "[encoded data removed]",
      "text/plain": [
       "<Figure size 432x288 with 1 Axes>"
      ]
     },
     "metadata": {},
     "output_type": "display_data"
    }
   ],
   "source": [
    "#Detecting Ouliers with Box Plot\n",
    "sns.boxplot(x=df['Height'])"
   ]
  },
  {
   "cell_type": "code",
   "execution_count": 38,
   "id": "37ca20be",
   "metadata": {},
   "outputs": [
    {
     "data": {
      "text/plain": [
       "(array([13.,  2.,  3.,  4., 19., 21., 18.,  9.,  5.,  6., 12.,  7., 12.,\n",
       "         2.,  7.,  5.,  6.,  2.,  3.,  3.]),\n",
       " array([ 1.7284 ,  2.58983,  3.45126,  4.31269,  5.17412,  6.03555,\n",
       "         6.89698,  7.75841,  8.61984,  9.48127, 10.3427 , 11.20413,\n",
       "        12.06556, 12.92699, 13.78842, 14.64985, 15.51128, 16.37271,\n",
       "        17.23414, 18.09557, 18.957  ]),\n",
       " <BarContainer object of 20 artists>)"
      ]
     },
     "execution_count": 38,
     "metadata": {},
     "output_type": "execute_result"
    },
    {
     "data": {
      "image/png": "[encoded data removed]",
      "text/plain": [
       "<Figure size 432x288 with 1 Axes>"
      ]
     },
     "metadata": {},
     "output_type": "display_data"
    }
   ],
   "source": [
    "plt.hist(df['Height'],bins=20)"
   ]
  },
  {
   "cell_type": "code",
   "execution_count": 39,
   "id": "30edf8a6",
   "metadata": {},
   "outputs": [],
   "source": [
    "#Performing the Outliers Treatment through IQR method\n",
    "ls,hs=removeOutlier(df['Height'])\n",
    "df['Height']=np.where(df['Height']>hs,hs,df['Height'])\n",
    "df['Height']=np.where(df['Height']<ls,ls,df['Height'])"
   ]
  },
  {
   "cell_type": "code",
   "execution_count": 40,
   "id": "4789faa6",
   "metadata": {},
   "outputs": [
    {
     "name": "stdout",
     "output_type": "stream",
     "text": [
      "0.4188725260362618\n"
     ]
    },
    {
     "data": {
      "text/plain": [
       "count    159.000000\n",
       "mean       8.925576\n",
       "std        4.260588\n",
       "min        1.728400\n",
       "25%        5.944800\n",
       "50%        7.733000\n",
       "75%       12.143400\n",
       "max       18.957000\n",
       "Name: Height, dtype: float64"
      ]
     },
     "execution_count": 40,
     "metadata": {},
     "output_type": "execute_result"
    }
   ],
   "source": [
    "#Calculate Skewness for Height\n",
    "print(df['Height'].skew())\n",
    "df['Height'].describe()"
   ]
  },
  {
   "cell_type": "code",
   "execution_count": 41,
   "id": "d1fd593d",
   "metadata": {},
   "outputs": [
    {
     "data": {
      "text/plain": [
       "<AxesSubplot:xlabel='Height'>"
      ]
     },
     "execution_count": 41,
     "metadata": {},
     "output_type": "execute_result"
    },
    {
     "data": {
      "image/png": "[encoded data removed]",
      "text/plain": [
       "<Figure size 432x288 with 1 Axes>"
      ]
     },
     "metadata": {},
     "output_type": "display_data"
    }
   ],
   "source": [
    "#Re-Checking with Box plot  to confirm elemination of Outliers\n",
    "sns.boxplot(x=df['Height'])"
   ]
  },
  {
   "cell_type": "code",
   "execution_count": 42,
   "id": "568a2de5",
   "metadata": {},
   "outputs": [
    {
     "data": {
      "text/plain": [
       "(array([13.,  2.,  3.,  4., 19., 21., 18.,  9.,  5.,  6., 12.,  7., 12.,\n",
       "         2.,  7.,  5.,  6.,  2.,  3.,  3.]),\n",
       " array([ 1.7284 ,  2.58983,  3.45126,  4.31269,  5.17412,  6.03555,\n",
       "         6.89698,  7.75841,  8.61984,  9.48127, 10.3427 , 11.20413,\n",
       "        12.06556, 12.92699, 13.78842, 14.64985, 15.51128, 16.37271,\n",
       "        17.23414, 18.09557, 18.957  ]),\n",
       " <BarContainer object of 20 artists>)"
      ]
     },
     "execution_count": 42,
     "metadata": {},
     "output_type": "execute_result"
    },
    {
     "data": {
      "image/png": "[encoded data removed]",
      "text/plain": [
       "<Figure size 432x288 with 1 Axes>"
      ]
     },
     "metadata": {},
     "output_type": "display_data"
    }
   ],
   "source": [
    "plt.hist(df['Height'],bins=20)"
   ]
  },
  {
   "cell_type": "markdown",
   "id": "319ddef4",
   "metadata": {},
   "source": [
    "<blockquote>Here, we can conclude that the data is fairly clean</blockquote>"
   ]
  },
  {
   "cell_type": "code",
   "execution_count": 43,
   "id": "ff39c5ea",
   "metadata": {},
   "outputs": [
    {
     "name": "stdout",
     "output_type": "stream",
     "text": [
      "12.609520189539325\n"
     ]
    },
    {
     "data": {
      "text/plain": [
       "count       159.000000\n",
       "mean       3777.977521\n",
       "std       47582.744610\n",
       "min           1.047600\n",
       "25%           3.401600\n",
       "50%           4.248500\n",
       "75%           5.584500\n",
       "max      600000.000000\n",
       "Name: Width, dtype: float64"
      ]
     },
     "execution_count": 43,
     "metadata": {},
     "output_type": "execute_result"
    }
   ],
   "source": [
    "#Calculate Skewness for Width\n",
    "print(df['Width'].skew())\n",
    "df['Width'].describe()\n",
    "#Here from the Skewness range we can see that Data may have many outliers, we can detect with Box Plot"
   ]
  },
  {
   "cell_type": "code",
   "execution_count": 44,
   "id": "ab2d431a",
   "metadata": {},
   "outputs": [
    {
     "data": {
      "text/plain": [
       "<AxesSubplot:xlabel='Width'>"
      ]
     },
     "execution_count": 44,
     "metadata": {},
     "output_type": "execute_result"
    },
    {
     "data": {
      "image/png": "[encoded data removed]",
      "text/plain": [
       "<Figure size 432x288 with 1 Axes>"
      ]
     },
     "metadata": {},
     "output_type": "display_data"
    }
   ],
   "source": [
    "#Detecting Ouliers with Box Plot\n",
    "sns.boxplot(x=df['Width'])"
   ]
  },
  {
   "cell_type": "code",
   "execution_count": 45,
   "id": "f5918b90",
   "metadata": {},
   "outputs": [
    {
     "data": {
      "text/plain": [
       "(array([158.,   0.,   0.,   0.,   0.,   0.,   0.,   0.,   0.,   0.,   0.,\n",
       "          0.,   0.,   0.,   0.,   0.,   0.,   0.,   0.,   1.]),\n",
       " array([1.04760000e+00, 3.00009952e+04, 6.00009428e+04, 9.00008905e+04,\n",
       "        1.20000838e+05, 1.50000786e+05, 1.80000733e+05, 2.10000681e+05,\n",
       "        2.40000629e+05, 2.70000576e+05, 3.00000524e+05, 3.30000471e+05,\n",
       "        3.60000419e+05, 3.90000367e+05, 4.20000314e+05, 4.50000262e+05,\n",
       "        4.80000210e+05, 5.10000157e+05, 5.40000105e+05, 5.70000052e+05,\n",
       "        6.00000000e+05]),\n",
       " <BarContainer object of 20 artists>)"
      ]
     },
     "execution_count": 45,
     "metadata": {},
     "output_type": "execute_result"
    },
    {
     "data": {
      "image/png": "[encoded data removed]",
      "text/plain": [
       "<Figure size 432x288 with 1 Axes>"
      ]
     },
     "metadata": {},
     "output_type": "display_data"
    }
   ],
   "source": [
    "plt.hist(df['Width'],bins=20)"
   ]
  },
  {
   "cell_type": "code",
   "execution_count": 46,
   "id": "463b45a8",
   "metadata": {},
   "outputs": [],
   "source": [
    "#Performing the Outliers Treatment through IQR method\n",
    "ls,hs=removeOutlier(df['Width'])\n",
    "df['Width']=np.where(df['Width']>hs,hs,df['Width'])\n",
    "df['Width']=np.where(df['Width']<ls,ls,df['Width'])"
   ]
  },
  {
   "cell_type": "code",
   "execution_count": 47,
   "id": "6d919a64",
   "metadata": {},
   "outputs": [
    {
     "data": {
      "text/plain": [
       "<AxesSubplot:xlabel='Width'>"
      ]
     },
     "execution_count": 47,
     "metadata": {},
     "output_type": "execute_result"
    },
    {
     "data": {
      "image/png": "[encoded data removed]",
      "text/plain": [
       "<Figure size 432x288 with 1 Axes>"
      ]
     },
     "metadata": {},
     "output_type": "display_data"
    }
   ],
   "source": [
    "#Again, Detecting Ouliers with Box Plot\n",
    "sns.boxplot(x=df['Width'])"
   ]
  },
  {
   "cell_type": "code",
   "execution_count": 48,
   "id": "51f762a0",
   "metadata": {},
   "outputs": [
    {
     "name": "stdout",
     "output_type": "stream",
     "text": [
      "0.09386197533592153\n"
     ]
    },
    {
     "data": {
      "text/plain": [
       "count    159.000000\n",
       "mean       4.448331\n",
       "std        1.699199\n",
       "min        1.047600\n",
       "25%        3.401600\n",
       "50%        4.248500\n",
       "75%        5.584500\n",
       "max        8.858850\n",
       "Name: Width, dtype: float64"
      ]
     },
     "execution_count": 48,
     "metadata": {},
     "output_type": "execute_result"
    }
   ],
   "source": [
    "#Calculate Skewness for Width\n",
    "print(df['Width'].skew())\n",
    "df['Width'].describe()\n",
    "#Now, we can see that we have the skewness within range through Outlier Treatment"
   ]
  },
  {
   "cell_type": "code",
   "execution_count": 49,
   "id": "7d158730",
   "metadata": {},
   "outputs": [
    {
     "data": {
      "text/plain": [
       "(array([12.,  0.,  3.,  4.,  7., 13., 21., 14., 16., 12., 12.,  7.,  5.,\n",
       "        10., 10.,  4.,  6.,  1.,  1.,  1.]),\n",
       " array([1.0476   , 1.4381625, 1.828725 , 2.2192875, 2.60985  , 3.0004125,\n",
       "        3.390975 , 3.7815375, 4.1721   , 4.5626625, 4.953225 , 5.3437875,\n",
       "        5.73435  , 6.1249125, 6.515475 , 6.9060375, 7.2966   , 7.6871625,\n",
       "        8.077725 , 8.4682875, 8.85885  ]),\n",
       " <BarContainer object of 20 artists>)"
      ]
     },
     "execution_count": 49,
     "metadata": {},
     "output_type": "execute_result"
    },
    {
     "data": {
      "image/png": "[encoded data removed]",
      "text/plain": [
       "<Figure size 432x288 with 1 Axes>"
      ]
     },
     "metadata": {},
     "output_type": "display_data"
    }
   ],
   "source": [
    "plt.hist(df['Width'],bins=20)"
   ]
  },
  {
   "cell_type": "code",
   "execution_count": 50,
   "id": "82a2ff7d",
   "metadata": {},
   "outputs": [
    {
     "name": "stdout",
     "output_type": "stream",
     "text": [
      "1.1044503929261893\n"
     ]
    },
    {
     "data": {
      "text/plain": [
       "count     159.000000\n",
       "mean      398.326415\n",
       "std       357.978317\n",
       "min         0.000000\n",
       "25%       120.000000\n",
       "50%       273.000000\n",
       "75%       650.000000\n",
       "max      1650.000000\n",
       "Name: Cost, dtype: float64"
      ]
     },
     "execution_count": 50,
     "metadata": {},
     "output_type": "execute_result"
    }
   ],
   "source": [
    "#Calculate Skewness for Cost\n",
    "print(df['Cost'].skew())\n",
    "df['Cost'].describe()\n",
    "#Here from the Skewness range we can see that Data may have many outliers, we can detect with Box Plot"
   ]
  },
  {
   "cell_type": "code",
   "execution_count": 51,
   "id": "35241013",
   "metadata": {},
   "outputs": [
    {
     "data": {
      "text/plain": [
       "<AxesSubplot:xlabel='Cost'>"
      ]
     },
     "execution_count": 51,
     "metadata": {},
     "output_type": "execute_result"
    },
    {
     "data": {
      "image/png": "[encoded data removed]",
      "text/plain": [
       "<Figure size 432x288 with 1 Axes>"
      ]
     },
     "metadata": {},
     "output_type": "display_data"
    }
   ],
   "source": [
    "#Detecting Ouliers with Box Plot\n",
    "sns.boxplot(x=df['Cost'])"
   ]
  },
  {
   "cell_type": "code",
   "execution_count": 52,
   "id": "b026492e",
   "metadata": {},
   "outputs": [
    {
     "data": {
      "text/plain": [
       "(array([27., 32., 13., 18.,  6.,  6., 12.,  6., 12.,  4.,  5.,  6.,  6.,\n",
       "         2.,  0.,  1.,  0.,  0.,  1.,  2.]),\n",
       " array([   0. ,   82.5,  165. ,  247.5,  330. ,  412.5,  495. ,  577.5,\n",
       "         660. ,  742.5,  825. ,  907.5,  990. , 1072.5, 1155. , 1237.5,\n",
       "        1320. , 1402.5, 1485. , 1567.5, 1650. ]),\n",
       " <BarContainer object of 20 artists>)"
      ]
     },
     "execution_count": 52,
     "metadata": {},
     "output_type": "execute_result"
    },
    {
     "data": {
      "image/png": "[encoded data removed]",
      "text/plain": [
       "<Figure size 432x288 with 1 Axes>"
      ]
     },
     "metadata": {},
     "output_type": "display_data"
    }
   ],
   "source": [
    "plt.hist(df['Cost'],bins=20)"
   ]
  },
  {
   "cell_type": "code",
   "execution_count": 53,
   "id": "d1357400",
   "metadata": {},
   "outputs": [],
   "source": [
    "#Performing the Outliers Treatment through IQR method\n",
    "ls,hs=removeOutlier(df['Cost'])\n",
    "df['Cost']=np.where(df['Cost']>hs,hs,df['Cost'])\n",
    "df['Cost']=np.where(df['Cost']<ls,ls,df['Cost'])"
   ]
  },
  {
   "cell_type": "code",
   "execution_count": 54,
   "id": "71fb9914",
   "metadata": {},
   "outputs": [
    {
     "data": {
      "text/plain": [
       "<AxesSubplot:xlabel='Cost'>"
      ]
     },
     "execution_count": 54,
     "metadata": {},
     "output_type": "execute_result"
    },
    {
     "data": {
      "image/png": "[encoded data removed]",
      "text/plain": [
       "<Figure size 432x288 with 1 Axes>"
      ]
     },
     "metadata": {},
     "output_type": "display_data"
    }
   ],
   "source": [
    "#Again, Detecting Ouliers with Box Plot\n",
    "sns.boxplot(x=df['Cost'])"
   ]
  },
  {
   "cell_type": "code",
   "execution_count": 55,
   "id": "a968c5bd",
   "metadata": {},
   "outputs": [
    {
     "name": "stdout",
     "output_type": "stream",
     "text": [
      "0.9519553539523697\n"
     ]
    },
    {
     "data": {
      "text/plain": [
       "count     159.000000\n",
       "mean      395.401887\n",
       "std       348.555952\n",
       "min         0.000000\n",
       "25%       120.000000\n",
       "50%       273.000000\n",
       "75%       650.000000\n",
       "max      1445.000000\n",
       "Name: Cost, dtype: float64"
      ]
     },
     "execution_count": 55,
     "metadata": {},
     "output_type": "execute_result"
    }
   ],
   "source": [
    "#Calculate Skewness for Cost\n",
    "print(df['Cost'].skew())\n",
    "df['Cost'].describe()\n",
    "#Skewness has dropped to Moderate"
   ]
  },
  {
   "cell_type": "code",
   "execution_count": 56,
   "id": "f4cf321a",
   "metadata": {},
   "outputs": [
    {
     "data": {
      "text/plain": [
       "(array([24., 24., 21., 11., 13.,  5.,  9.,  7.,  6., 11.,  2.,  6.,  4.,\n",
       "         9.,  1.,  2.,  0.,  1.,  0.,  3.]),\n",
       " array([   0.  ,   72.25,  144.5 ,  216.75,  289.  ,  361.25,  433.5 ,\n",
       "         505.75,  578.  ,  650.25,  722.5 ,  794.75,  867.  ,  939.25,\n",
       "        1011.5 , 1083.75, 1156.  , 1228.25, 1300.5 , 1372.75, 1445.  ]),\n",
       " <BarContainer object of 20 artists>)"
      ]
     },
     "execution_count": 56,
     "metadata": {},
     "output_type": "execute_result"
    },
    {
     "data": {
      "image/png": "[encoded data removed]",
      "text/plain": [
       "<Figure size 432x288 with 1 Axes>"
      ]
     },
     "metadata": {},
     "output_type": "display_data"
    }
   ],
   "source": [
    "plt.hist(df['Cost'],bins=20)"
   ]
  },
  {
   "cell_type": "code",
   "execution_count": 57,
   "id": "fc668fdd",
   "metadata": {},
   "outputs": [],
   "source": [
    "#Exporting the data for Backup \n",
    "#df.to_csv(r'EDA_AfterCleaningOutliers_Final.csv',index=False)"
   ]
  },
  {
   "cell_type": "markdown",
   "id": "def89d1d",
   "metadata": {},
   "source": [
    " <h3><b>Representation of the data in various plots, graphs, Correlations</b></h3>"
   ]
  },
  {
   "cell_type": "code",
   "execution_count": 58,
   "id": "91479e62",
   "metadata": {},
   "outputs": [
    {
     "data": {
      "image/png": "[encoded data removed]",
      "text/plain": [
       "<Figure size 864x432 with 1 Axes>"
      ]
     },
     "metadata": {},
     "output_type": "display_data"
    }
   ],
   "source": [
    "#Scatter Plot between Length and Cost after Outlier Detection and Treatment\n",
    "fig, ax = plt.subplots(figsize=(12,6))\n",
    "ax.scatter(df['Weight'], df['Cost'])\n",
    "ax.set_xlabel('Weight of Bag')\n",
    "ax.set_ylabel('Cost of Bag')\n",
    "plt.show()"
   ]
  },
  {
   "cell_type": "code",
   "execution_count": 59,
   "id": "7c97786a",
   "metadata": {},
   "outputs": [
    {
     "data": {
      "text/plain": [
       "<AxesSubplot:>"
      ]
     },
     "execution_count": 59,
     "metadata": {},
     "output_type": "execute_result"
    },
    {
     "data": {
      "image/png": "[encoded data removed]",
      "text/plain": [
       "<Figure size 432x288 with 1 Axes>"
      ]
     },
     "metadata": {},
     "output_type": "display_data"
    }
   ],
   "source": [
    "df.Cost.hist()"
   ]
  },
  {
   "cell_type": "code",
   "execution_count": 60,
   "id": "7115ab90",
   "metadata": {},
   "outputs": [
    {
     "data": {
      "text/html": [
       "<div>\n",
       "<style scoped>\n",
       "    .dataframe tbody tr th:only-of-type {\n",
       "        vertical-align: middle;\n",
       "    }\n",
       "\n",
       "    .dataframe tbody tr th {\n",
       "        vertical-align: top;\n",
       "    }\n",
       "\n",
       "    .dataframe thead th {\n",
       "        text-align: right;\n",
       "    }\n",
       "</style>\n",
       "<table border=\"1\" class=\"dataframe\">\n",
       "  <thead>\n",
       "    <tr style=\"text-align: right;\">\n",
       "      <th></th>\n",
       "      <th>Weight</th>\n",
       "      <th>Height</th>\n",
       "      <th>Width</th>\n",
       "      <th>Cost</th>\n",
       "    </tr>\n",
       "  </thead>\n",
       "  <tbody>\n",
       "    <tr>\n",
       "      <th>Weight</th>\n",
       "      <td>1.000000</td>\n",
       "      <td>0.634001</td>\n",
       "      <td>0.878013</td>\n",
       "      <td>0.910457</td>\n",
       "    </tr>\n",
       "    <tr>\n",
       "      <th>Height</th>\n",
       "      <td>0.634001</td>\n",
       "      <td>1.000000</td>\n",
       "      <td>0.768553</td>\n",
       "      <td>0.739797</td>\n",
       "    </tr>\n",
       "    <tr>\n",
       "      <th>Width</th>\n",
       "      <td>0.878013</td>\n",
       "      <td>0.768553</td>\n",
       "      <td>1.000000</td>\n",
       "      <td>0.910019</td>\n",
       "    </tr>\n",
       "    <tr>\n",
       "      <th>Cost</th>\n",
       "      <td>0.910457</td>\n",
       "      <td>0.739797</td>\n",
       "      <td>0.910019</td>\n",
       "      <td>1.000000</td>\n",
       "    </tr>\n",
       "  </tbody>\n",
       "</table>\n",
       "</div>"
      ],
      "text/plain": [
       "          Weight    Height     Width      Cost\n",
       "Weight  1.000000  0.634001  0.878013  0.910457\n",
       "Height  0.634001  1.000000  0.768553  0.739797\n",
       "Width   0.878013  0.768553  1.000000  0.910019\n",
       "Cost    0.910457  0.739797  0.910019  1.000000"
      ]
     },
     "execution_count": 60,
     "metadata": {},
     "output_type": "execute_result"
    },
    {
     "data": {
      "image/png": "[encoded data removed]",
      "text/plain": [
       "<Figure size 1440x720 with 2 Axes>"
      ]
     },
     "metadata": {},
     "output_type": "display_data"
    }
   ],
   "source": [
    "#Heatmap, describing various inter-dependancies between the variables \n",
    "plt.figure(figsize=(20,10))\n",
    "c= df.corr()\n",
    "sns.heatmap(c,cmap='YlGnBu',annot=True)\n",
    "c"
   ]
  },
  {
   "cell_type": "code",
   "execution_count": 61,
   "id": "c49a1a52",
   "metadata": {},
   "outputs": [
    {
     "data": {
      "image/png": "[encoded data removed]",
      "text/plain": [
       "<Figure size 864x432 with 1 Axes>"
      ]
     },
     "metadata": {},
     "output_type": "display_data"
    }
   ],
   "source": [
    "#From the Heatmap we can see that Length and Width are most influential on the target 'price'\n",
    "#Scatter plot to understand relation of Width and Cost \n",
    "fig, ax = plt.subplots(figsize=(12,6))\n",
    "ax.scatter(df['Width'], df['Cost'])\n",
    "ax.set_xlabel('Width of Bag')\n",
    "ax.set_ylabel('Cost of Bag')\n",
    "plt.show()"
   ]
  },
  {
   "cell_type": "code",
   "execution_count": 62,
   "id": "75f9dca1",
   "metadata": {},
   "outputs": [
    {
     "data": {
      "image/png": "[encoded data removed]",
      "text/plain": [
       "<Figure size 720x720 with 20 Axes>"
      ]
     },
     "metadata": {},
     "output_type": "display_data"
    }
   ],
   "source": [
    "#Below Graph represents all the correlations between all the variables used in the model\n",
    "sns.pairplot(df)\n",
    "plt.show()"
   ]
  },
  {
   "cell_type": "markdown",
   "id": "de9cda1f",
   "metadata": {},
   "source": [
    "<blockquote>Here, we end our Exploratory Data Analysis and also representation of the data in form of various Graphs</blockquote>"
   ]
  },
  {
   "cell_type": "markdown",
   "id": "fad7ab16",
   "metadata": {},
   "source": [
    "# Data Split and Scaling Operations"
   ]
  },
  {
   "cell_type": "code",
   "execution_count": 63,
   "id": "d0064db4",
   "metadata": {},
   "outputs": [],
   "source": [
    "import sklearn\n",
    "from sklearn.model_selection import train_test_split\n",
    "from sklearn import linear_model\n",
    "from sklearn.metrics import mean_squared_error\n",
    "import math\n",
    "import statsmodels.api as sm"
   ]
  },
  {
   "cell_type": "code",
   "execution_count": 64,
   "id": "d6aab177",
   "metadata": {},
   "outputs": [
    {
     "name": "stdout",
     "output_type": "stream",
     "text": [
      "     Weight   Height   Width   Cost\n",
      "0      23.2  11.5200  4.0200  242.0\n",
      "1      24.0  12.4800  4.3056  290.0\n",
      "2      23.9  12.3778  4.6961  340.0\n",
      "3      26.3  12.7300  4.4555  363.0\n",
      "4      26.5  12.4440  5.1340  430.0\n",
      "..      ...      ...     ...    ...\n",
      "154    11.5   2.0904  1.3936   12.2\n",
      "155    11.7   2.4300  1.2690   13.4\n",
      "156    12.1   2.2770  1.2558   12.2\n",
      "157    13.2   2.8728  2.0672   19.7\n",
      "158    13.8   2.9322  1.8792   19.9\n",
      "\n",
      "[159 rows x 4 columns]\n"
     ]
    }
   ],
   "source": [
    "print(df)"
   ]
  },
  {
   "cell_type": "code",
   "execution_count": 65,
   "id": "f559f12e",
   "metadata": {},
   "outputs": [],
   "source": [
    "#Storing the Cost data in a separate df\n",
    "df_cost = df['Cost']"
   ]
  },
  {
   "cell_type": "code",
   "execution_count": 66,
   "id": "34256724",
   "metadata": {},
   "outputs": [],
   "source": [
    "#Storing all the other Features in a separate variable\n",
    "df_group = df  "
   ]
  },
  {
   "cell_type": "code",
   "execution_count": 67,
   "id": "49f49fad",
   "metadata": {},
   "outputs": [],
   "source": [
    "#Droping the target from the df of the Features\n",
    "df_group = df_group.drop(['Cost'],axis=1)"
   ]
  },
  {
   "cell_type": "code",
   "execution_count": 68,
   "id": "7ec4ca5e",
   "metadata": {},
   "outputs": [
    {
     "data": {
      "text/plain": [
       "0    242.0\n",
       "1    290.0\n",
       "2    340.0\n",
       "3    363.0\n",
       "4    430.0\n",
       "Name: Cost, dtype: float64"
      ]
     },
     "execution_count": 68,
     "metadata": {},
     "output_type": "execute_result"
    }
   ],
   "source": [
    "df_cost.head()"
   ]
  },
  {
   "cell_type": "code",
   "execution_count": 69,
   "id": "a12806d3",
   "metadata": {},
   "outputs": [
    {
     "data": {
      "text/html": [
       "<div>\n",
       "<style scoped>\n",
       "    .dataframe tbody tr th:only-of-type {\n",
       "        vertical-align: middle;\n",
       "    }\n",
       "\n",
       "    .dataframe tbody tr th {\n",
       "        vertical-align: top;\n",
       "    }\n",
       "\n",
       "    .dataframe thead th {\n",
       "        text-align: right;\n",
       "    }\n",
       "</style>\n",
       "<table border=\"1\" class=\"dataframe\">\n",
       "  <thead>\n",
       "    <tr style=\"text-align: right;\">\n",
       "      <th></th>\n",
       "      <th>Weight</th>\n",
       "      <th>Height</th>\n",
       "      <th>Width</th>\n",
       "    </tr>\n",
       "  </thead>\n",
       "  <tbody>\n",
       "    <tr>\n",
       "      <th>0</th>\n",
       "      <td>23.2</td>\n",
       "      <td>11.5200</td>\n",
       "      <td>4.0200</td>\n",
       "    </tr>\n",
       "    <tr>\n",
       "      <th>1</th>\n",
       "      <td>24.0</td>\n",
       "      <td>12.4800</td>\n",
       "      <td>4.3056</td>\n",
       "    </tr>\n",
       "    <tr>\n",
       "      <th>2</th>\n",
       "      <td>23.9</td>\n",
       "      <td>12.3778</td>\n",
       "      <td>4.6961</td>\n",
       "    </tr>\n",
       "    <tr>\n",
       "      <th>3</th>\n",
       "      <td>26.3</td>\n",
       "      <td>12.7300</td>\n",
       "      <td>4.4555</td>\n",
       "    </tr>\n",
       "    <tr>\n",
       "      <th>4</th>\n",
       "      <td>26.5</td>\n",
       "      <td>12.4440</td>\n",
       "      <td>5.1340</td>\n",
       "    </tr>\n",
       "  </tbody>\n",
       "</table>\n",
       "</div>"
      ],
      "text/plain": [
       "   Weight   Height   Width\n",
       "0    23.2  11.5200  4.0200\n",
       "1    24.0  12.4800  4.3056\n",
       "2    23.9  12.3778  4.6961\n",
       "3    26.3  12.7300  4.4555\n",
       "4    26.5  12.4440  5.1340"
      ]
     },
     "execution_count": 69,
     "metadata": {},
     "output_type": "execute_result"
    }
   ],
   "source": [
    "df_group.head()"
   ]
  },
  {
   "cell_type": "code",
   "execution_count": 70,
   "id": "d502ad3f",
   "metadata": {},
   "outputs": [],
   "source": [
    "#Splitting the data into Train and Test data \n",
    "x_train, x_test, y_train, y_test = train_test_split(df_group, df_cost, test_size=0.2, random_state=42) "
   ]
  },
  {
   "cell_type": "code",
   "execution_count": 71,
   "id": "1c30a301",
   "metadata": {},
   "outputs": [],
   "source": [
    "from sklearn.preprocessing import StandardScaler\n",
    "# define standard scaler\n",
    "scaler = StandardScaler()"
   ]
  },
  {
   "cell_type": "code",
   "execution_count": 72,
   "id": "e081826d",
   "metadata": {},
   "outputs": [],
   "source": [
    "#Performing Scaling Operations in order to get better results\n",
    "scale = scaler.fit_transform(df.values)\n",
    "df_scaled1 = pd.DataFrame(scale, index=df.index, columns=df.columns)\n",
    "    \n",
    "df_scaled_cost = df_scaled1['Cost'] \n",
    "df_scaled = df_scaled1.drop(['Cost'],axis=1)"
   ]
  },
  {
   "cell_type": "code",
   "execution_count": 73,
   "id": "26d19a06",
   "metadata": {},
   "outputs": [
    {
     "data": {
      "text/plain": [
       "0     -0.441497\n",
       "1     -0.303351\n",
       "2     -0.159449\n",
       "3     -0.093254\n",
       "4      0.099575\n",
       "         ...   \n",
       "154   -1.102872\n",
       "155   -1.099418\n",
       "156   -1.102872\n",
       "157   -1.081287\n",
       "158   -1.080711\n",
       "Name: Cost, Length: 159, dtype: float64"
      ]
     },
     "execution_count": 73,
     "metadata": {},
     "output_type": "execute_result"
    }
   ],
   "source": [
    "df_scaled_cost"
   ]
  },
  {
   "cell_type": "code",
   "execution_count": 74,
   "id": "82ae2157",
   "metadata": {},
   "outputs": [
    {
     "data": {
      "text/html": [
       "<div>\n",
       "<style scoped>\n",
       "    .dataframe tbody tr th:only-of-type {\n",
       "        vertical-align: middle;\n",
       "    }\n",
       "\n",
       "    .dataframe tbody tr th {\n",
       "        vertical-align: top;\n",
       "    }\n",
       "\n",
       "    .dataframe thead th {\n",
       "        text-align: right;\n",
       "    }\n",
       "</style>\n",
       "<table border=\"1\" class=\"dataframe\">\n",
       "  <thead>\n",
       "    <tr style=\"text-align: right;\">\n",
       "      <th></th>\n",
       "      <th>Weight</th>\n",
       "      <th>Height</th>\n",
       "      <th>Width</th>\n",
       "    </tr>\n",
       "  </thead>\n",
       "  <tbody>\n",
       "    <tr>\n",
       "      <th>0</th>\n",
       "      <td>-0.305224</td>\n",
       "      <td>0.610860</td>\n",
       "      <td>-0.252875</td>\n",
       "    </tr>\n",
       "    <tr>\n",
       "      <th>1</th>\n",
       "      <td>-0.223129</td>\n",
       "      <td>0.836893</td>\n",
       "      <td>-0.084264</td>\n",
       "    </tr>\n",
       "    <tr>\n",
       "      <th>2</th>\n",
       "      <td>-0.233391</td>\n",
       "      <td>0.812829</td>\n",
       "      <td>0.146276</td>\n",
       "    </tr>\n",
       "    <tr>\n",
       "      <th>3</th>\n",
       "      <td>0.012892</td>\n",
       "      <td>0.895755</td>\n",
       "      <td>0.004232</td>\n",
       "    </tr>\n",
       "    <tr>\n",
       "      <th>4</th>\n",
       "      <td>0.033415</td>\n",
       "      <td>0.828416</td>\n",
       "      <td>0.404800</td>\n",
       "    </tr>\n",
       "    <tr>\n",
       "      <th>...</th>\n",
       "      <td>...</td>\n",
       "      <td>...</td>\n",
       "      <td>...</td>\n",
       "    </tr>\n",
       "    <tr>\n",
       "      <th>154</th>\n",
       "      <td>-1.505852</td>\n",
       "      <td>-1.609349</td>\n",
       "      <td>-1.803427</td>\n",
       "    </tr>\n",
       "    <tr>\n",
       "      <th>155</th>\n",
       "      <td>-1.485329</td>\n",
       "      <td>-1.529390</td>\n",
       "      <td>-1.876988</td>\n",
       "    </tr>\n",
       "    <tr>\n",
       "      <th>156</th>\n",
       "      <td>-1.444282</td>\n",
       "      <td>-1.565414</td>\n",
       "      <td>-1.884781</td>\n",
       "    </tr>\n",
       "    <tr>\n",
       "      <th>157</th>\n",
       "      <td>-1.331402</td>\n",
       "      <td>-1.425132</td>\n",
       "      <td>-1.405753</td>\n",
       "    </tr>\n",
       "    <tr>\n",
       "      <th>158</th>\n",
       "      <td>-1.269831</td>\n",
       "      <td>-1.411146</td>\n",
       "      <td>-1.516743</td>\n",
       "    </tr>\n",
       "  </tbody>\n",
       "</table>\n",
       "<p>159 rows × 3 columns</p>\n",
       "</div>"
      ],
      "text/plain": [
       "       Weight    Height     Width\n",
       "0   -0.305224  0.610860 -0.252875\n",
       "1   -0.223129  0.836893 -0.084264\n",
       "2   -0.233391  0.812829  0.146276\n",
       "3    0.012892  0.895755  0.004232\n",
       "4    0.033415  0.828416  0.404800\n",
       "..        ...       ...       ...\n",
       "154 -1.505852 -1.609349 -1.803427\n",
       "155 -1.485329 -1.529390 -1.876988\n",
       "156 -1.444282 -1.565414 -1.884781\n",
       "157 -1.331402 -1.425132 -1.405753\n",
       "158 -1.269831 -1.411146 -1.516743\n",
       "\n",
       "[159 rows x 3 columns]"
      ]
     },
     "execution_count": 74,
     "metadata": {},
     "output_type": "execute_result"
    }
   ],
   "source": [
    "df_scaled"
   ]
  },
  {
   "cell_type": "code",
   "execution_count": 75,
   "id": "a0d0c5be",
   "metadata": {},
   "outputs": [],
   "source": [
    "#Splitting into Training and Test data post-scaling operations\n",
    "x_trainS, x_testS, y_trainS, y_testS = train_test_split(df_scaled, df_scaled_cost, test_size=0.2, random_state=42) "
   ]
  },
  {
   "cell_type": "code",
   "execution_count": 76,
   "id": "a8cd3fa3",
   "metadata": {},
   "outputs": [
    {
     "data": {
      "text/plain": [
       "Weight    32\n",
       "Height    32\n",
       "Width     32\n",
       "dtype: int64"
      ]
     },
     "execution_count": 76,
     "metadata": {},
     "output_type": "execute_result"
    }
   ],
   "source": [
    "x_testS.count()"
   ]
  },
  {
   "cell_type": "markdown",
   "id": "fb750647",
   "metadata": {},
   "source": [
    "# Ordinary Least Squares - OLS"
   ]
  },
  {
   "cell_type": "code",
   "execution_count": 77,
   "id": "19ed1e49",
   "metadata": {},
   "outputs": [],
   "source": [
    "#Fitting into the OLS Model\n",
    "reg = linear_model.LinearRegression()\n",
    "reg.fit(x_train,y_train)\n",
    "y_pred = reg.predict(x_test)"
   ]
  },
  {
   "cell_type": "code",
   "execution_count": 78,
   "id": "8a2e1849",
   "metadata": {},
   "outputs": [
    {
     "name": "stdout",
     "output_type": "stream",
     "text": [
      "Co-efficient obtained is:  [18.1451222   9.24076791 78.00687999]\n",
      "Intercept obtained is:  -521.1901121906578\n"
     ]
    }
   ],
   "source": [
    "print('Co-efficient obtained is: ',reg.coef_)\n",
    "print('Intercept obtained is: ',reg.intercept_)"
   ]
  },
  {
   "cell_type": "code",
   "execution_count": 79,
   "id": "1c77bac3",
   "metadata": {},
   "outputs": [
    {
     "data": {
      "text/plain": [
       "array([  75.33923018, -187.44638577,  337.93617351,  315.81812648,\n",
       "        190.93334811,  776.92814723, -232.36953377,  277.21527075,\n",
       "        276.07249675, 1065.97611617,  621.8499083 ,  778.77828442,\n",
       "        590.21384572,  151.71749152,  643.69442938,  772.49875867,\n",
       "        959.84645571,  321.93627777,  235.8151107 ,  580.04067352,\n",
       "       -195.54686277,  584.4268089 ,  474.71256934,  454.39899653,\n",
       "        771.81850046,  900.59242179,  217.49146162,  322.78931331,\n",
       "       -254.65262105, -204.74387392,  615.51569452,   35.54218695])"
      ]
     },
     "execution_count": 79,
     "metadata": {},
     "output_type": "execute_result"
    }
   ],
   "source": [
    "#Predicted Vaalues of Cost\n",
    "y_pred"
   ]
  },
  {
   "cell_type": "code",
   "execution_count": 80,
   "id": "39f53858",
   "metadata": {},
   "outputs": [
    {
     "data": {
      "text/plain": [
       "78       78.0\n",
       "155      13.4\n",
       "128     200.0\n",
       "55      270.0\n",
       "94      150.0\n",
       "29     1000.0\n",
       "147       7.0\n",
       "51      180.0\n",
       "98      188.0\n",
       "141    1250.0\n",
       "19      650.0\n",
       "60     1000.0\n",
       "15      600.0\n",
       "65      150.0\n",
       "24      700.0\n",
       "30      920.0\n",
       "126    1000.0\n",
       "101     218.0\n",
       "96      225.0\n",
       "16      700.0\n",
       "151      10.0\n",
       "18      610.0\n",
       "12      500.0\n",
       "9       500.0\n",
       "31      955.0\n",
       "125    1100.0\n",
       "95      170.0\n",
       "56      270.0\n",
       "145       6.7\n",
       "152       9.9\n",
       "135     510.0\n",
       "76       70.0\n",
       "Name: Cost, dtype: float64"
      ]
     },
     "execution_count": 80,
     "metadata": {},
     "output_type": "execute_result"
    }
   ],
   "source": [
    "#Actual Values of Cost\n",
    "y_test"
   ]
  },
  {
   "cell_type": "code",
   "execution_count": 81,
   "id": "df3a18d5",
   "metadata": {},
   "outputs": [
    {
     "name": "stdout",
     "output_type": "stream",
     "text": [
      "127\n"
     ]
    }
   ],
   "source": [
    "num_data = x_train.shape[0]\n",
    "print(num_data)"
   ]
  },
  {
   "cell_type": "code",
   "execution_count": 82,
   "id": "eec34a14",
   "metadata": {},
   "outputs": [],
   "source": [
    "#Calculating the RSE, MSE, R2\n",
    "mse_ols = mean_squared_error(y_test,y_pred)\n",
    "rmse_ols = math.sqrt(mse_ols)\n",
    "rse_ols = mse_ols*num_data\n",
    "rse_ols /= num_data-2\n",
    "rse_ols = math.sqrt(rse_ols)\n"
   ]
  },
  {
   "cell_type": "code",
   "execution_count": 83,
   "id": "b8b54b47",
   "metadata": {},
   "outputs": [
    {
     "data": {
      "text/plain": [
       "0.8739712540387259"
      ]
     },
     "execution_count": 83,
     "metadata": {},
     "output_type": "execute_result"
    }
   ],
   "source": [
    "#R2 Score \n",
    "from sklearn.metrics import r2_score\n",
    "r2_OLS = r2_score(y_test,y_pred)\n",
    "r2_OLS"
   ]
  },
  {
   "cell_type": "code",
   "execution_count": 84,
   "id": "9404a10d",
   "metadata": {},
   "outputs": [
    {
     "name": "stdout",
     "output_type": "stream",
     "text": [
      "RMSE= 133.8889052399756\n",
      "RSE= 134.95576597352525\n"
     ]
    }
   ],
   "source": [
    "print('RMSE=',rmse_ols)\n",
    "print('RSE=',rse_ols)"
   ]
  },
  {
   "cell_type": "code",
   "execution_count": 85,
   "id": "248d6092",
   "metadata": {},
   "outputs": [
    {
     "data": {
      "text/html": [
       "<table class=\"simpletable\">\n",
       "<caption>OLS Regression Results</caption>\n",
       "<tr>\n",
       "  <th>Dep. Variable:</th>          <td>Cost</td>       <th>  R-squared (uncentered):</th>      <td>   0.885</td>\n",
       "</tr>\n",
       "<tr>\n",
       "  <th>Model:</th>                   <td>OLS</td>       <th>  Adj. R-squared (uncentered):</th> <td>   0.873</td>\n",
       "</tr>\n",
       "<tr>\n",
       "  <th>Method:</th>             <td>Least Squares</td>  <th>  F-statistic:       </th>          <td>   74.31</td>\n",
       "</tr>\n",
       "<tr>\n",
       "  <th>Date:</th>             <td>Tue, 01 Jun 2021</td> <th>  Prob (F-statistic):</th>          <td>1.01e-13</td>\n",
       "</tr>\n",
       "<tr>\n",
       "  <th>Time:</th>                 <td>08:48:25</td>     <th>  Log-Likelihood:    </th>          <td> -214.58</td>\n",
       "</tr>\n",
       "<tr>\n",
       "  <th>No. Observations:</th>      <td>    32</td>      <th>  AIC:               </th>          <td>   435.2</td>\n",
       "</tr>\n",
       "<tr>\n",
       "  <th>Df Residuals:</th>          <td>    29</td>      <th>  BIC:               </th>          <td>   439.6</td>\n",
       "</tr>\n",
       "<tr>\n",
       "  <th>Df Model:</th>              <td>     3</td>      <th>                     </th>              <td> </td>   \n",
       "</tr>\n",
       "<tr>\n",
       "  <th>Covariance Type:</th>      <td>nonrobust</td>    <th>                     </th>              <td> </td>   \n",
       "</tr>\n",
       "</table>\n",
       "<table class=\"simpletable\">\n",
       "<tr>\n",
       "     <td></td>       <th>coef</th>     <th>std err</th>      <th>t</th>      <th>P>|t|</th>  <th>[0.025</th>    <th>0.975]</th>  \n",
       "</tr>\n",
       "<tr>\n",
       "  <th>Weight</th> <td>    1.3051</td> <td>    8.439</td> <td>    0.155</td> <td> 0.878</td> <td>  -15.956</td> <td>   18.566</td>\n",
       "</tr>\n",
       "<tr>\n",
       "  <th>Height</th> <td>   16.0233</td> <td>   13.400</td> <td>    1.196</td> <td> 0.241</td> <td>  -11.382</td> <td>   43.429</td>\n",
       "</tr>\n",
       "<tr>\n",
       "  <th>Width</th>  <td>   71.8870</td> <td>   64.470</td> <td>    1.115</td> <td> 0.274</td> <td>  -59.970</td> <td>  203.744</td>\n",
       "</tr>\n",
       "</table>\n",
       "<table class=\"simpletable\">\n",
       "<tr>\n",
       "  <th>Omnibus:</th>       <td> 9.444</td> <th>  Durbin-Watson:     </th> <td>   1.790</td>\n",
       "</tr>\n",
       "<tr>\n",
       "  <th>Prob(Omnibus):</th> <td> 0.009</td> <th>  Jarque-Bera (JB):  </th> <td>   8.220</td>\n",
       "</tr>\n",
       "<tr>\n",
       "  <th>Skew:</th>          <td> 1.180</td> <th>  Prob(JB):          </th> <td>  0.0164</td>\n",
       "</tr>\n",
       "<tr>\n",
       "  <th>Kurtosis:</th>      <td> 3.773</td> <th>  Cond. No.          </th> <td>    54.1</td>\n",
       "</tr>\n",
       "</table><br/><br/>Notes:<br/>[1] R² is computed without centering (uncentered) since the model does not contain a constant.<br/>[2] Standard Errors assume that the covariance matrix of the errors is correctly specified."
      ],
      "text/plain": [
       "<class 'statsmodels.iolib.summary.Summary'>\n",
       "\"\"\"\n",
       "                                 OLS Regression Results                                \n",
       "=======================================================================================\n",
       "Dep. Variable:                   Cost   R-squared (uncentered):                   0.885\n",
       "Model:                            OLS   Adj. R-squared (uncentered):              0.873\n",
       "Method:                 Least Squares   F-statistic:                              74.31\n",
       "Date:                Tue, 01 Jun 2021   Prob (F-statistic):                    1.01e-13\n",
       "Time:                        08:48:25   Log-Likelihood:                         -214.58\n",
       "No. Observations:                  32   AIC:                                      435.2\n",
       "Df Residuals:                      29   BIC:                                      439.6\n",
       "Df Model:                           3                                                  \n",
       "Covariance Type:            nonrobust                                                  \n",
       "==============================================================================\n",
       "                 coef    std err          t      P>|t|      [0.025      0.975]\n",
       "------------------------------------------------------------------------------\n",
       "Weight         1.3051      8.439      0.155      0.878     -15.956      18.566\n",
       "Height        16.0233     13.400      1.196      0.241     -11.382      43.429\n",
       "Width         71.8870     64.470      1.115      0.274     -59.970     203.744\n",
       "==============================================================================\n",
       "Omnibus:                        9.444   Durbin-Watson:                   1.790\n",
       "Prob(Omnibus):                  0.009   Jarque-Bera (JB):                8.220\n",
       "Skew:                           1.180   Prob(JB):                       0.0164\n",
       "Kurtosis:                       3.773   Cond. No.                         54.1\n",
       "==============================================================================\n",
       "\n",
       "Notes:\n",
       "[1] R² is computed without centering (uncentered) since the model does not contain a constant.\n",
       "[2] Standard Errors assume that the covariance matrix of the errors is correctly specified.\n",
       "\"\"\""
      ]
     },
     "execution_count": 85,
     "metadata": {},
     "output_type": "execute_result"
    }
   ],
   "source": [
    "#Printing the summary of the OLS\n",
    "regressor_OLS = sm.OLS(endog = y_test, exog = x_test).fit()\n",
    "regressor_OLS.summary()"
   ]
  },
  {
   "cell_type": "code",
   "execution_count": 86,
   "id": "8acdbb76",
   "metadata": {},
   "outputs": [
    {
     "data": {
      "image/png": "[encoded data removed]",
      "text/plain": [
       "<Figure size 1008x576 with 1 Axes>"
      ]
     },
     "metadata": {},
     "output_type": "display_data"
    }
   ],
   "source": [
    "#Scatter Plot describing the Relation of Features and Cost with the Predicted Cost\n",
    "plt.figure(figsize=(14, 8))\n",
    "plt_wgt = plt.scatter(x_test['Weight'], y_test)\n",
    "plt_wgt = plt.plot([min(x_test['Weight']),max(x_test['Weight'])],[min(y_pred),max(y_pred)],color = 'blue')\n",
    "plt_hgt = plt.scatter(x_test['Height'], y_test)\n",
    "plt_hgt = plt.plot([min(x_test['Height']),max(x_test['Height'])],[min(y_pred),max(y_pred)],color = 'yellow')\n",
    "plt_wdt = plt.scatter(x_test['Width'], y_test)\n",
    "plt_wdt = plt.plot([min(x_test['Width']),max(x_test['Width'])],[min(y_pred),max(y_pred)],color = 'green')\n",
    "plt.show(plt_wgt)\n",
    "plt.show(plt_hgt)\n",
    "plt.show(plt_wdt)"
   ]
  },
  {
   "cell_type": "markdown",
   "id": "eba1fdc0",
   "metadata": {},
   "source": [
    "<blockquote>From the above graph we can see the Actual vs Predicted Cost for the Bags through OLS</blockquote>"
   ]
  },
  {
   "cell_type": "markdown",
   "id": "5ebd845a",
   "metadata": {},
   "source": [
    "# Stochastic Gradient Descent"
   ]
  },
  {
   "cell_type": "code",
   "execution_count": 87,
   "id": "4134731d",
   "metadata": {},
   "outputs": [
    {
     "name": "stdout",
     "output_type": "stream",
     "text": [
      "Intercept: [-0.02969131]\n",
      "Coefficients: [0.45188458 0.1777638  0.37715404]\n",
      "[-0.91537113 -1.68067213 -0.23167718 -0.21658175 -0.60789386  1.20963139\n",
      " -1.81108457 -0.34679435 -0.35010148  1.80636971  0.71114246  1.09210892\n",
      "  0.64443966 -0.64886368  0.79596053  1.1746145   1.59709278 -0.22547404\n",
      " -0.45309682  0.60103986 -1.70497011  0.62280706  0.29039733  0.26079344\n",
      "  1.1734018   1.42708528 -0.51844525 -0.20303149 -1.87019067 -1.73122186\n",
      "  0.52587945 -1.03246333]\n"
     ]
    }
   ],
   "source": [
    "#Stochastic Gradient Descent with SGDRegressor\n",
    "sgd_reg = linear_model.SGDRegressor(max_iter=100000, tol=0.001)\n",
    "sgd_reg.fit(x_trainS,y_trainS)\n",
    "y_pred_sgd = sgd_reg.predict(x_testS)\n",
    "print(\"Intercept:\",sgd_reg.intercept_)\n",
    "print(\"Coefficients:\",sgd_reg.coef_)\n",
    "print(y_pred_sgd)"
   ]
  },
  {
   "cell_type": "code",
   "execution_count": 88,
   "id": "d207a49d",
   "metadata": {},
   "outputs": [],
   "source": [
    "#Calculating the RSE, MSE, R2\n",
    "num_data = x_train.shape[0]\n",
    "mse_sgd = mean_squared_error(y_testS,y_pred_sgd)\n",
    "rmse_sgd = math.sqrt(mse_sgd)\n",
    "rse_sgd = mse_sgd*num_data\n",
    "rse_sgd /= num_data-2\n",
    "rse_sgd = math.sqrt(rse_sgd)"
   ]
  },
  {
   "cell_type": "code",
   "execution_count": 89,
   "id": "7e53b22d",
   "metadata": {},
   "outputs": [
    {
     "name": "stdout",
     "output_type": "stream",
     "text": [
      "-1.3813819607385218\n"
     ]
    }
   ],
   "source": [
    "#Calculating the R2 score\n",
    "r2_sgd = r2_score(y_test,y_pred_sgd)\n",
    "print(r2_sgd)"
   ]
  },
  {
   "cell_type": "code",
   "execution_count": 90,
   "id": "217c03b7",
   "metadata": {},
   "outputs": [
    {
     "name": "stdout",
     "output_type": "stream",
     "text": [
      "RMSE= 0.3740014369197617\n",
      "RSE= 0.3769815751666588\n"
     ]
    }
   ],
   "source": [
    "print('RMSE=',rmse_sgd)\n",
    "print('RSE=',rse_sgd)"
   ]
  },
  {
   "cell_type": "code",
   "execution_count": 91,
   "id": "d51b3aad",
   "metadata": {},
   "outputs": [
    {
     "data": {
      "image/png": "[encoded data removed]",
      "text/plain": [
       "<Figure size 1008x576 with 1 Axes>"
      ]
     },
     "metadata": {},
     "output_type": "display_data"
    }
   ],
   "source": [
    "#Scatter Plot describing the Relation of Features and Cost with the Predicted Cost\n",
    "plt.figure(figsize=(14, 8))\n",
    "plt_wgt = plt.scatter(x_testS['Weight'], y_testS)\n",
    "plt_wgt = plt.plot([min(x_testS['Weight']),max(x_testS['Weight'])],[min(y_pred_sgd),max(y_pred_sgd)],color = 'red')\n",
    "plt_hgt = plt.scatter(x_testS['Height'], y_testS)\n",
    "plt_hgt = plt.plot([min(x_testS['Height']),max(x_testS['Height'])],[min(y_pred_sgd),max(y_pred_sgd)],color = 'blue')\n",
    "plt_wdt = plt.scatter(x_testS['Width'], y_testS)\n",
    "plt_wdt = plt.plot([min(x_testS['Width']),max(x_testS['Width'])],[min(y_pred_sgd),max(y_pred_sgd)],color = 'green')\n",
    "plt.show(plt_wgt)\n",
    "plt.show(plt_hgt)\n",
    "plt.show(plt_wdt)"
   ]
  },
  {
   "cell_type": "code",
   "execution_count": 92,
   "id": "d520f27a",
   "metadata": {},
   "outputs": [
    {
     "name": "stdout",
     "output_type": "stream",
     "text": [
      "R2 Score of OLS : 0.8739712540387259\n",
      "R2 Score of SGD : -1.3813819607385218\n"
     ]
    }
   ],
   "source": [
    "print('R2 Score of OLS :',r2_OLS)\n",
    "print('R2 Score of SGD :',r2_sgd)"
   ]
  },
  {
   "cell_type": "markdown",
   "id": "b4d632d0",
   "metadata": {},
   "source": [
    "# Gradient Descent"
   ]
  },
  {
   "cell_type": "code",
   "execution_count": 93,
   "id": "bd7d8215",
   "metadata": {},
   "outputs": [],
   "source": [
    "#Defining the Gradient Descent function based on the formed Equation\n",
    "def gradient_descent(x1,x2,x3,y):\n",
    "    w0 = 0\n",
    "    w1 = 0\n",
    "    w2 = 0\n",
    "    w3 = 0\n",
    " \n",
    "    iterations = 1000 # epochs\n",
    "    n = len(x1)\n",
    "    eta = 0.001\n",
    "    for i in range(iterations):\n",
    "        y_pred = w0 + w1*x1 + w2*x2 + w3*x3\n",
    "        cost = (1/n)*sum(val**2 for val in (y-y_pred))\n",
    "        w0_D = -(2/n)*sum((y-y_pred))\n",
    "        w1_D = -(2/n)*sum(x1*(y-y_pred))\n",
    "        w2_D = -(2/n)*sum(x2*(y-y_pred))\n",
    "        w3_D = -(2/n)*sum(x3*(y-y_pred))\n",
    "        \n",
    "        w0 = w0 - eta * w0_D\n",
    "        w1 = w1 - eta * w1_D\n",
    "        w2 = w2 - eta * w2_D\n",
    "        w3 = w3 - eta * w3_D\n",
    "        print(\"w0{},w1{},w2{},w3{},iteration{},cost{}\".format(w0,w1,w2,w3,i,cost)) \n"
   ]
  },
  {
   "cell_type": "code",
   "execution_count": 94,
   "id": "a283ec56",
   "metadata": {},
   "outputs": [
    {
     "data": {
      "text/plain": [
       "(75    -1.146690\n",
       " 138    1.747133\n",
       " 2     -0.233391\n",
       " 86    -0.633601\n",
       " 45    -0.582292\n",
       "          ...   \n",
       " 71    -0.223129\n",
       " 106   -0.028155\n",
       " 14     0.331007\n",
       " 92    -0.582292\n",
       " 102   -0.099988\n",
       " Name: Weight, Length: 127, dtype: float64,\n",
       " 75    -1.020250\n",
       " 138   -0.266902\n",
       " 2      0.812829\n",
       " 86    -0.662930\n",
       " 45    -0.445515\n",
       "          ...   \n",
       " 71     0.575071\n",
       " 106   -0.260215\n",
       " 14    -0.280793\n",
       " 92    -0.502353\n",
       " 102   -0.141877\n",
       " Name: Height, Length: 127, dtype: float64,\n",
       " 75    -1.072547\n",
       " 138    0.248941\n",
       " 2      0.146276\n",
       " 86    -0.614477\n",
       " 45    -0.370772\n",
       "          ...   \n",
       " 71    -0.126535\n",
       " 106   -0.144128\n",
       " 14     0.426525\n",
       " 92    -0.486662\n",
       " 102    0.406748\n",
       " Name: Width, Length: 127, dtype: float64)"
      ]
     },
     "execution_count": 94,
     "metadata": {},
     "output_type": "execute_result"
    }
   ],
   "source": [
    "#Parametrizing the features from the data into variables for Gradient Descent Function\n",
    "x1_wgt = x_trainS['Weight']\n",
    "x2_hgt = x_trainS['Height']\n",
    "x3_wdt = x_trainS['Width']\n",
    "x1_wgt, x2_hgt,  x3_wdt"
   ]
  },
  {
   "cell_type": "code",
   "execution_count": 95,
   "id": "09c78608",
   "metadata": {},
   "outputs": [
    {
     "name": "stdout",
     "output_type": "stream",
     "text": [
      "w0-7.06203982167886e-05,w10.0017621941024569807,w20.0012872981617030443,w30.001719789249881149,iteration0,cost0.9501539564837224\n",
      "w0-0.00014104093106534417,w10.00351659956853564,w20.0025680478161192576,w30.0034316507283932074,iteration1,cost0.9424467311577295\n",
      "w0-0.00021126231319221287,w10.005263252339415226,w20.0038422798252226082,w30.005135621254550068,iteration2,cost0.9348107797102166\n",
      "w0-0.0002812852563194294,w10.007002188189300918,w20.005110024907156173,w30.006831737476142486,iteration3,cost0.9272454410335619\n",
      "w0-0.00035111046925734177,w10.008733442726200349,w20.0063713136369013285,w30.00852003587053449,iteration4,cost0.9197500601552849\n",
      "w0-0.0004207386579173785,w10.010457051392696511,w20.007626176446943827,w30.01020055274545608,iteration5,cost0.9123239881811062\n",
      "w0-0.0004901705253247573,w10.012173049466717066,w20.008874643627936775,w30.01187332423979224,iteration6,cost0.9049665822385354\n",
      "w0-0.0005594067716311365,w10.013881472062300084,w20.010116745329360534,w30.013538386324368285,iteration7,cost0.8976772054209837\n",
      "w0-0.0006284480941272096,w10.015582354130356212,w20.011352511560179534,w30.015195774802731555,iteration8,cost0.8904552267323983\n",
      "w0-0.0006972951872552416,w10.0172757304594273,w20.01258197218949606,w30.01684552531192947,iteration9,cost0.8833000210324041\n",
      "w0-0.0007659487426215501,w10.018961635676441508,w20.013805156947200968,w30.018487673323283958,iteration10,cost0.8762109689819615\n",
      "w0-0.0008344094490089283,w10.020640104247464874,w20.015022095424621396,w30.02012225414316231,iteration11,cost0.8691874569895196\n",
      "w0-0.0009026779923890128,w10.022311170478449428,w20.016232817075165447,w30.021749302913744408,iteration12,cost0.8622288771576823\n",
      "w0-0.0009707550559345954,w10.023974868515977785,w20.017437351214963884,w30.02336885461378641,iteration13,cost0.8553346272303536\n",
      "w0-0.0010386413200318783,w10.025631232348004303,w20.018635727023508835,w30.024980944059380884,iteration14,cost0.8485041105403891\n",
      "w0-0.0011063374622926746,w10.027280295804592777,w20.01982797354428953,w30.026585605904713407,iteration15,cost0.8417367359577206\n",
      "w0-0.0011738441575665534,w10.028922092558650712,w20.021014119685425076,w30.02818287464281562,iteration16,cost0.8350319178379689\n",
      "w0-0.0012411620779529293,w10.030556656126660177,w20.0221941942202943,w30.02977278460631481,iteration17,cost0.8283890759715334\n",
      "w0-0.0013082918928130982,w10.03218401986940526,w20.02336822578816264,w30.03135536996818,iteration18,cost0.8218076355331514\n",
      "w0-0.0013752342687822184,w10.03380421699269613,w20.024536242894806146,w30.03293066474246455,iteration19,cost0.8152870270319266\n",
      "w0-0.0014419898697812358,w10.03541728054808976,w20.02569827391313256,w30.03449870278504531,iteration20,cost0.8088266862618231\n",
      "w0-0.0015085593570287581,w10.03702324343360726,w20.026854347083799517,w30.03605951779435838,iteration21,cost0.8024260542526165\n",
      "w0-0.0015749433890528727,w10.03862213839444789,w20.028004490515829865,w30.03761314331213135,iteration22,cost0.7960845772213014\n",
      "w0-0.0016411426217029124,w10.04021399802369977,w20.029148732187224132,w30.03915961272411225,iteration23,cost0.7898017065239504\n",
      "w0-0.0017071577081611672,w10.04179885476304726,w20.030287099945570124,w30.04069895926079503,iteration24,cost0.7835768986080176\n",
      "w0-0.001772989298954544,w10.043376740903475056,w20.03141962150864971,w30.04223121599814167,iteration25,cost0.7774096149650893\n",
      "w0-0.0018386380419661724,w10.044947688585969,w20.03254632446504277,w30.04375641585830097,iteration26,cost0.7712993220840666\n",
      "w0-0.001904104582446959,w10.04651172980221368,w20.03366723627472835,w30.04527459161032399,iteration27,cost0.7652454914047895\n",
      "w0-0.0019693895630270887,w10.0480688963952867,w20.03478238426968299,w30.04678577587087611,iteration28,cost0.7592475992720855\n",
      "w0-0.0020344936237274742,w10.04961922006034981,w20.03589179565447631,w30.04829000110494584,iteration29,cost0.753305126890249\n",
      "w0-0.002099417401971155,w10.051162732345336755,w20.03699549750686378,w30.049787299626550326,iteration30,cost0.7474175602779413\n",
      "w0-0.002164161532594641,w10.052699464651637974,w20.03809351677837679,w30.05127770359943751,iteration31,cost0.741584390223509\n",
      "w0-0.0022287266478592106,w10.054229448234782054,w20.039185880294909894,w30.052761245037785114,iteration32,cost0.7358051122407177\n",
      "w0-0.002293113377462152,w10.055752714205114094,w20.04027261475730542,w30.05423795580689632,iteration33,cost0.7300792265248943\n",
      "w0-0.002357322348547958,w10.057269293528470835,w20.04135374674193528,w30.0557078676238922,iteration34,cost0.7244062379094832\n",
      "w0-0.002421354185719467,w10.05877921702685271,w20.042429302701280126,w30.057171012058401006,iteration35,cost0.7187856558229949\n",
      "w0-0.0024852095110489553,w10.06028251537909273,w20.04349930896450577,w30.05862742053324413,iteration36,cost0.7132169942463652\n",
      "w0-0.0025488889440891806,w10.061779219121522275,w20.04456379173803694,w30.06007712432511899,iteration37,cost0.7076997716707\n",
      "w0-0.0026123931018843713,w10.06326935864863378,w20.04562277710612842,w30.06152015456527867,iteration38,cost0.7022335110554229\n",
      "w0-0.002675722598981171,w10.06475296421374038,w20.04667629103143341,w30.06295654224020843,iteration39,cost0.6968177397868006\n",
      "w0-0.0027388780474395294,w10.06623006592963239,w20.04772435935556938,w30.06438631819229904,iteration40,cost0.6914519896368624\n",
      "w0-0.0028018600568435483,w10.06770069376923084,w20.04876700779968119,w30.06580951312051701,iteration41,cost0.686135796722693\n",
      "w0-0.002864669234312274,w10.0691648775662379,w20.04980426196500165,w30.06722615758107173,iteration42,cost0.6808687014661083\n",
      "w0-0.002927306184510443,w10.07062264701578434,w20.05083614733340944,w30.0686362819880794,iteration43,cost0.6756502485537077\n",
      "w0-0.002989771509659182,w10.07207403167507388,w20.051862689267984444,w30.07003991661422401,iteration44,cost0.6704799868972882\n",
      "w0-0.0030520658095466533,w10.07351906096402465,w20.05288391301356052,w30.07143709159141512,iteration45,cost0.6653574695946327\n",
      "w0-0.0031141896815386583,w10.07495776416590762,w20.05389984369727567,w30.07282783691144266,iteration46,cost0.6602822538906632\n",
      "w0-0.0031761437205891883,w10.07639017042798202,w20.05491050632911966,w30.0742121824266287,iteration47,cost0.6552539011389497\n",
      "w0-0.0032379285192509315,w10.0778163087621279,w20.0559159258024791,w30.07559015785047611,iteration48,cost0.6502719767635785\n",
      "w0-0.00329954466768573,w10.07923620804547568,w20.056916126894679994,w30.07696179275831423,iteration49,cost0.6453360502213764\n",
      "w0-0.0033609927536749898,w10.08064989702103274,w20.05791113426752773,w30.0783271165879416,iteration50,cost0.6404456949644827\n",
      "w0-0.0034222733626300453,w10.08205740429830721,w20.05890097246784461,w30.07968615864026558,iteration51,cost0.6356004884032697\n",
      "w0-0.003483387077602476,w10.08345875835392874,w20.05988566592800486,w30.08103894807993917,iteration52,cost0.6308000118696069\n",
      "w0-0.003544334479294376,w10.08485398753226643,w20.06086523896646711,w30.08238551393599464,iteration53,cost0.6260438505804666\n",
      "w0-0.0036051161460685776,w10.08624312004604394,w20.06183971578830447,w30.08372588510247443,iteration54,cost0.6213315936018694\n",
      "w0-0.0036657326539588303,w10.08762618397695164,w20.06280912048573208,w30.085060090339059,iteration55,cost0.6166628338131559\n",
      "w0-0.0037261845766799312,w10.08900320727625596,w20.06377347703863223,w30.08638815827169175,iteration56,cost0.6120371678716037\n",
      "w0-0.003786472485637811,w10.09037421776540594,w20.06473280931507708,w30.08771011739320109,iteration57,cost0.6074541961773607\n",
      "w0-0.0038465969499395752,w10.09173924313663688,w20.06568714107184884,w30.08902599606391959,iteration58,cost0.6029135228387091\n",
      "w0-0.003906558536403499,w10.09309831095357128,w20.06663649595495762,w30.09033582251230024,iteration59,cost0.5984147556376518\n",
      "w0-0.0039663578095689754,w10.09445144865181689,w20.06758089750015688,w30.09163962483552988,iteration60,cost0.5939575059958172\n",
      "w0-0.004025995331706424,w10.095798683539562,w20.0685203691334564,w30.09293743100013974,iteration61,cost0.58954138894068\n",
      "w0-0.004085471662827148,w10.09714004279816807,w20.06945493417163295,w30.09422926884261311,iteration62,cost0.5851660230720975\n",
      "w0-0.004144787360693152,w10.09847555348275942,w20.07038461582273853,w30.0955151660699903,iteration63,cost0.5808310305291545\n",
      "w0-0.004203942980826913,w10.09980524252281034,w20.07130943718660625,w30.09679515026047066,iteration64,cost0.5765360369573166\n",
      "w0-0.0042629390765211075,w10.10112913672272933,w20.07222942125535392,w30.09806924886401185,iteration65,cost0.572280671475888\n",
      "w0-0.004321776198848296,w10.10244726276244077,w20.0731445909138852,w30.09933748920292634,iteration66,cost0.5680645666457714\n",
      "w0-0.004380454896670561,w10.10375964719796378,w20.07405496894038847,w30.10059989847247516,iteration67,cost0.5638873584375306\n"
     ]
    },
    {
     "name": "stdout",
     "output_type": "stream",
     "text": [
      "w0-0.0044389757166491085,w10.10506631646198837,w20.07496057800683341,w30.10185650374145874,iteration68,cost0.5597486861997398\n",
      "w0-0.004497339203253814,w10.10636729686444903,w20.07586144067946521,w30.10310733195280522,iteration69,cost0.5556481926276414\n",
      "w0-0.004555545898772739,w10.10766261459309553,w20.0767575794192965,w30.10435240992415584,iteration70,cost0.5515855237320786\n",
      "w0-0.004613596343321594,w10.10895229571406115,w20.07764901658259706,w30.10559176434844772,iteration71,cost0.5475603288087303\n",
      "w0-0.004671491074853165,w10.11023636617242817,w20.07853577442138109,w30.10682542179449388,iteration72,cost0.5435722604076213\n",
      "w0-0.004729230629166698,w10.11151485179279086,w20.07941787508389239,w30.10805340870756054,iteration73,cost0.5396209743029206\n",
      "w0-0.004786815539917231,w10.11278777827981575,w20.08029534061508722,w30.10927575140994182,iteration74,cost0.535706129463021\n",
      "w0-0.0048442463386249015,w10.1140551712187993,w20.08116819295711485,w30.11049247610153166,iteration75,cost0.5318273880208922\n",
      "w0-0.004901523554684195,w10.11531705607622306,w20.08203645394979592,w30.1117036088603932,iteration76,cost0.5279844152447117\n",
      "w0-0.004958647715373162,w10.11657345820030614,w20.08290014533109866,w30.11290917564332535,iteration77,cost0.5241768795087678\n",
      "w0-0.005015619345862589,w10.11782440282155518,w20.08375928873761274,w30.1141092022864269,iteration78,cost0.5204044522646329\n",
      "w0-0.005072438969225134,w10.11906991505331173,w20.08461390570502102,w30.1153037145056579,iteration79,cost0.5166668080126041\n",
      "w0-0.005129107106444409,w10.12031001989229713,w20.08546401766856909,w30.11649273789739845,iteration80,cost0.5129636242734102\n",
      "w0-0.005185624276424036,w10.12154474221915477,w20.0863096459635326,w30.11767629793900486,iteration81,cost0.509294581560175\n",
      "w0-0.005241990995996653,w10.12277410679898995,w20.08715081182568245,w30.11885441998936333,iteration82,cost0.5056593633506518\n",
      "w0-0.005298207779932881,w10.12399813828190706,w20.08798753639174774,w30.12002712928944094,iteration83,cost0.5020576560597063\n",
      "w0-0.005354275140950252,w10.12521686120354447,w20.08881984069987668,w30.12119445096283411,iteration84,cost0.4984891490120589\n",
      "w0-0.005410193589722095,w10.1264302999856067,w20.08964774569009532,w30.12235641001631455,iteration85,cost0.4949535344152784\n",
      "w0-0.005465963634886384,w10.12763847893639438,w20.09047127220476402,w30.1235130313403726,iteration86,cost0.4914505073330284\n",
      "w0-0.005521585783054546,w10.1288414222513315,w20.09129044098903202,w30.12466433970975813,iteration87,cost0.48797976565856005\n",
      "w0-0.00557706053882023,w10.13003915401349028,w20.09210527269128972,w30.12581035978401883,iteration88,cost0.4845410100884509\n",
      "w0-0.0056323884047680284,w10.1312316981941138,w20.09291578786361891,w30.12695111610803606,iteration89,cost0.4811339440965893\n",
      "w0-0.005687569881482175,w10.1324190786531358,w20.09372200696224094,w30.12808663311255822,iteration90,cost0.4777582739083985\n",
      "w0-0.005742605467555189,w10.13360131913969847,w20.09452395034796272,w30.12921693511473153,iteration91,cost0.4744137084752993\n",
      "w0-0.005797495659596484,w10.13477844329266755,w20.09532163828662077,w30.13034204631862853,iteration92,cost0.47109995944941396\n",
      "w0-0.005852240952240947,w10.1359504746411452,w20.09611509094952309,w30.1314619908157739,iteration93,cost0.4678167411584979\n",
      "w0-0.005906841838157467,w10.13711743660498038,w20.09690432841388902,w30.132576792585668,iteration94,cost0.4645637705811119\n",
      "w0-0.00596129880805743,w10.13827935249527687,w20.09768937066328708,w30.13368647549630802,iteration95,cost0.4613407673220177\n",
      "w0-0.006015612350703178,w10.13943624551489903,w20.09847023758807072,w30.13479106330470636,iteration96,cost0.4581474535878059\n",
      "w0-0.006069782952916426,w10.14058813875897505,w20.09924694898581209,w30.13589057965740706,iteration97,cost0.45498355416275094\n",
      "w0-0.006123811099586641,w10.14173505521539806,w20.10001952456173374,w30.1369850480909995,iteration98,cost0.4518487963848862\n",
      "w0-0.006177697273679392,w10.1428770177653246,w20.1007879839291384,w30.13807449203262998,iteration99,cost0.44874291012230494\n",
      "w0-0.0062314419562446485,w10.14401404918367117,w20.10155234660983666,w30.13915893480051053,iteration100,cost0.4456656277496784\n",
      "w0-0.006285045626425053,w10.14514617213960812,w20.10231263203457268,w30.14023839960442577,iteration101,cost0.4426166841249945\n",
      "w0-0.006338508761464149,w10.14627340919705142,w20.10306885954344804,w30.14131290954623715,iteration102,cost0.4395958165665093\n",
      "w0-0.006391831836714579,w10.14739578281515212,w20.10382104838634343,w30.14238248762038494,iteration103,cost0.4366027648299154\n",
      "w0-0.0064450153256462375,w10.1485133153487835,w20.10456921772333852,w30.1434471567143879,iteration104,cost0.4336372710857212\n",
      "w0-0.0064980596998543945,w10.14962602904902605,w20.1053133866251298,w30.14450693960934058,iteration105,cost0.43069907989683814\n",
      "w0-0.0065509654290677784,w10.15073394606365,w20.10605357407344657,w30.14556185898040824,iteration106,cost0.4277879381963795\n",
      "w0-0.006603732981156624,w10.1518370884375958,w20.10678979896146482,w30.1466119373973197,iteration107,cost0.42490359526566185\n",
      "w0-0.006656362822140684,w10.15293547811345223,w20.10752208009421939,w30.14765719732485766,iteration108,cost0.4220458027124136\n",
      "w0-0.006708855416197206,w10.1540291369319325,w20.10825043618901409,w30.14869766112334679,iteration109,cost0.41921431444918344\n",
      "w0-0.006761211225668867,w10.15511808663234772,w20.10897488587582993,w30.14973335104913968,iteration110,cost0.4164088866719497\n",
      "w0-0.006813430711071684,w10.1562023488530787,w20.10969544769773149,w30.15076428925510038,iteration111,cost0.41362927783893083\n",
      "w0-0.006865514331102879,w10.15728194513204513,w20.1104121401112713,w30.15179049779108575,iteration112,cost0.41087524864958785\n",
      "w0-0.0069174625426487125,w10.15835689690717275,w20.11112498148689252,w30.1528119986044246,iteration113,cost0.4081465620238252\n",
      "w0-0.006969275800792281,w10.15942722551685834,w20.11183399010932954,w30.15382881354039452,iteration114,cost0.4054429830813837\n",
      "w0-0.007020954558821281,w10.16049295220043258,w20.11253918417800685,w30.1548409643426966,iteration115,cost0.40276427912142587\n",
      "w0-0.007072499268235737,w10.16155409809862065,w20.11324058180743604,w30.15584847265392784,iteration116,cost0.40011021960230675\n",
      "w0-0.007123910378755693,w10.16261068425400077,w20.1139382010276109,w30.15685136001605143,iteration117,cost0.39748057612153764\n",
      "w0-0.0071751883383288735,w10.16366273161146064,w20.11463205978440073,w30.1578496478708648,iteration118,cost0.394875122395932\n",
      "w0-0.007226333593138306,w10.16471026101865163,w20.1153221759399418,w30.15884335756046553,iteration119,cost0.3922936342419389\n",
      "w0-0.0072773465876099135,w10.165753293226441,w20.11600856727302698,w30.15983251032771506,iteration120,cost0.38973588955615446\n",
      "w0-0.007328227764420068,w10.16679184888936188,w20.11669125147949361,w30.16081712731670028,iteration121,cost0.38720166829601926\n",
      "w0-0.007378977564503113,w10.16782594856606128,w20.11737024617260947,w30.16179722957319292,iteration122,cost0.38469075246069007\n",
      "w0-0.007429596427058854,w10.16885561271974597,w20.11804556888345706,w30.16277283804510687,iteration123,cost0.3822029260720942\n",
      "w0-0.00748008478956001,w10.16988086171862626,w20.11871723706131604,w30.16374397358295328,iteration124,cost0.3797379751561552\n",
      "w0-0.0075304430877596385,w10.1709017158363577,w20.11938526807404384,w30.16471065694029371,iteration125,cost0.37729568772419453\n",
      "w0-0.007580671755698521,w10.1719181952524808,w20.12004967920845465,w30.16567290877419094,iteration126,cost0.3748758537545067\n",
      "w0-0.007630771225712516,w10.17293032005285872,w20.12071048767069646,w30.16663074964565786,iteration127,cost0.3724782651741042\n",
      "w0-0.007680741928439886,w10.17393811023011274,w20.12136771058662649,w30.1675842000201042,iteration128,cost0.37010271584063253\n",
      "w0-0.007730584292828582,w10.17494158568405596,w20.1220213650021848,w30.16853328026778128,iteration129,cost0.36774900152445233\n",
      "w0-0.007780298746143502,w10.1759407662221248,w20.1226714678837662,w30.16947801066422447,iteration130,cost0.36541691989088754\n",
      "w0-0.007829885713973713,w10.1769356715598085,w20.12331803611859041,w30.17041841139069386,iteration131,cost0.3631062704826425\n",
      "w0-0.007879345620239644,w10.17792632132107677,w20.12396108651507046,w30.17135450253461268,iteration132,cost0.36081685470237385\n",
      "w0-0.007928678887200244,w10.17891273503880534,w20.1246006358031795,w30.17228630409000376,iteration133,cost0.35854847579543236\n",
      "w0-0.00797788593546011,w10.17989493215519947,w20.12523670063481573,w30.173213835957924,iteration134,cost0.35630093883276126\n",
      "w0-0.008026967183976578,w10.18087293202221563,w20.12586929758416585,w30.17413711794689676,iteration135,cost0.3540740506939534\n",
      "w0-0.008075923050066795,w10.18184675390198113,w20.12649844314806652,w30.17505616977334218,iteration136,cost0.3518676200504651\n",
      "w0-0.00812475394941474,w10.18281641696721182,w20.12712415374636446,w30.17597101106200566,iteration137,cost0.34968145734898826\n",
      "w0-0.00817346029607823,w10.18378194030162787,w20.12774644572227467,w30.17688166134638422,iteration138,cost0.3475153747949743\n",
      "w0-0.008222042502495891,w10.1847433429003676,w20.12836533534273706,w30.17778814006915095,iteration139,cost0.3453691863363117\n",
      "w0-0.008270500979494085,w10.1857006436703993,w20.12898083879877134,w30.17869046658257734,iteration140,cost0.3432427076471553\n",
      "w0-0.008318836136293828,w10.1866538614309313,w20.1295929722058304,w30.17958866014895386,iteration141,cost0.34113575611190666\n",
      "w0-0.00836704838051766,w10.18760301491382006,w20.13020175160415196,w30.1804827399410085,iteration142,cost0.33904815080934053\n",
      "w0-0.008415138118196486,w10.18854812276397628,w20.1308071929591085,w30.18137272504232324,iteration143,cost0.33697971249688186\n",
      "w0-0.0084631057537764,w10.18948920353976922,w20.1314093121615558,w30.18225863444774879,iteration144,cost0.3349302635950246\n",
      "w0-0.008510951690125456,w10.1904262757134291,w20.13200812502817957,w30.18314048706381716,iteration145,cost0.33289962817190033\n",
      "w0-0.00855867632854043,w10.19135935767144768,w20.13260364730184074,w30.18401830170915265,iteration146,cost0.3308876319279853\n",
      "w0-0.008606280068753538,w10.1922884677149769,w20.1331958946519189,w30.1848920971148805,iteration147,cost0.3288941021809519\n",
      "w0-0.008653763308939133,w10.19321362406022569,w20.1337848826746543,w30.18576189192503403,iteration148,cost0.326918867850661\n",
      "w0-0.00870112644572036,w10.194134844838855,w20.13437062689348828,w30.18662770469695963,iteration149,cost0.32496175944429245\n",
      "w0-0.008748369874175797,w10.19505214809837082,w20.13495314275940196,w30.18748955390172004,iteration150,cost0.3230226090416132\n",
      "w0-0.008795493987846053,w10.19596555180251565,w20.13553244565125347,w30.18834745792449556,iteration151,cost0.32110125028038344\n",
      "w0-0.008842499178740344,w10.19687507383165787,w20.13610855087611362,w30.1892014350649836,iteration152,cost0.3191975183418979\n",
      "w0-0.008889385837343037,w10.19778073198317947,w20.13668147366959998,w30.19005150353779626,iteration153,cost0.3173112499366616\n",
      "w0-0.008936154352620159,w10.1986825439718619,w20.13725122919620933,w30.19089768147285605,iteration154,cost0.31544228329019586\n",
      "w0-0.008982805112025892,w10.19958052743027022,w20.13781783254964872,w30.19173998691578978,iteration155,cost0.3135904581289809\n",
      "w0-0.009029338501509025,w10.20047469990913522,w20.13838129875316485,w30.19257843782832068,iteration156,cost0.31175561566652354\n",
      "w0-0.00907575490551938,w10.20136507887773414,w20.138941642759872,w30.19341305208865864,iteration157,cost0.30993759858956027\n",
      "w0-0.009122054707014212,w10.20225168172426933,w20.13949887945307843,w30.19424384749188864,iteration158,cost0.3081362510443816\n",
      "w0-0.00916823828746458,w10.2031345257562452,w20.1400530236466112,w30.19507084175035738,iteration159,cost0.30635141862328796\n",
      "w0-0.009214306026861692,w10.20401362820084346,w20.14060409008513955,w30.19589405249405809,iteration160,cost0.30458294835117067\n",
      "w0-0.009260258303723212,w10.20488900620529665,w20.14115209344449672,w30.1967134972710136,iteration161,cost0.30283068867221674\n",
      "w0-0.009306095495099549,w10.20576067683725993,w20.1416970483320003,w30.19752919354765755,iteration162,cost0.3010944894367366\n",
      "w0-0.009351817976580112,w10.20662865708518094,w20.14223896928677113,w30.19834115870921398,iteration163,cost0.299374201888114\n",
      "w0-0.009397426122299542,w10.20749296385866822,w20.14277787078005058,w30.19914941006007494,iteration164,cost0.2976696786498793\n",
      "w0-0.009442920304943914,w10.2083536139888578,w20.14331376721551659,w30.19995396482417652,iteration165,cost0.2959807737128998\n",
      "w0-0.009488300895756904,w10.20921062422877804,w20.14384667292959796,w30.20075484014537304,iteration166,cost0.29430734242269097\n",
      "w0-0.009533568264545943,w10.2100640112537128,w20.1443766021917874,w30.2015520530878095,iteration167,cost0.2926492414668446\n",
      "w0-0.009578722779688329,w10.21091379166156296,w20.14490356920495306,w30.20234562063629233,iteration168,cost0.2910063288625733\n",
      "w0-0.009623764808137321,w10.21175998197320622,w20.1454275881056485,w30.2031355596966585,iteration169,cost0.28937846394437144\n",
      "w0-0.009668694715428205,w10.2126025986328553,w20.14594867296442132,w30.20392188709614267,iteration170,cost0.2877655073517903\n"
     ]
    },
    {
     "name": "stdout",
     "output_type": "stream",
     "text": [
      "w0-0.009713512865684325,w10.2134416580084143,w20.1464668377861205,w30.20470461958374292,iteration171,cost0.286167321017326\n",
      "w0-0.009758219621623099,w10.21427717639183363,w20.14698209651020194,w30.20548377383058453,iteration172,cost0.2845837681544212\n",
      "w0-0.009802815344561998,w10.21510916999946308,w20.14749446301103294,w30.20625936643028223,iteration173,cost0.28301471324557714\n",
      "w0-0.009847300394424503,w10.21593765497240341,w20.14800395109819506,w30.20703141389930071,iteration174,cost0.2814600220305756\n",
      "w0-0.009891675129746038,w10.2167626473768562,w20.14851057451678562,w30.20779993267731353,iteration175,cost0.2799195614948123\n",
      "w0-0.009935939907679865,w10.21758416320447208,w20.14901434694771784,w30.20856493912756013,iteration176,cost0.2783931998577352\n",
      "w0-0.009980095084002969,w10.21840221837269747,w20.1495152820080195,w30.20932644953720145,iteration177,cost0.27688080656139397\n",
      "w0-0.010024141013121907,w10.21921682872511952,w20.15001339325113033,w30.21008448011767378,iteration178,cost0.2753822522590918\n",
      "w0-0.010068078048078627,w10.2200280100318096,w20.1505086941671979,w30.21083904700504094,iteration179,cost0.27389740880414654\n",
      "w0-0.010111906540556275,w10.22083577798966506,w20.15100119818337218,w30.21159016626034485,iteration180,cost0.27242614923875214\n",
      "w0-0.01015562684088496,w10.22164014822274947,w20.15149091866409875,w30.21233785386995446,iteration181,cost0.2709683477829473\n",
      "w0-0.010199239298047502,w10.22244113628263135,w20.1519778689114106,w30.2130821257459131,iteration182,cost0.26952387982368287\n",
      "w0-0.010242744259685159,w10.22323875764872114,w20.15246206216521863,w30.21382299772628416,iteration183,cost0.26809262190399374\n",
      "w0-0.010286142072103313,w10.22403302772860684,w20.1529435116036007,w30.21456048557549517,iteration184,cost0.26667445171227\n",
      "w0-0.01032943308027715,w10.22482396185838782,w20.15342223034308955,w30.2152946049846803,iteration185,cost0.2652692480716258\n",
      "w0-0.0103726176278573,w10.2256115753030073,w20.1538982314389591,w30.2160253715720213,iteration186,cost0.2638768909293716\n",
      "w0-0.010415696057175454,w10.2263958832565832,w20.1543715278855095,w30.21675280088308674,iteration187,cost0.2624972613465789\n",
      "w0-0.010458668709249963,w10.2271769008427374,w20.15484213261635116,w30.21747690839116976,iteration188,cost0.2611302414877455\n",
      "w0-0.010501535923791407,w10.2279546431149236,w20.15531005850468693,w30.21819770949762432,iteration189,cost0.25977571461055426\n",
      "w0-0.010544298039208137,w10.22872912505675355,w20.15577531836359337,w30.2189152195321997,iteration190,cost0.25843356505572884\n",
      "w0-0.0105869553926118,w10.22950036158232173,w20.1562379249463006,w30.21962945375337356,iteration191,cost0.2571036782369827\n",
      "w0-0.010629508319822827,w10.2302683675365286,w20.15669789094647077,w30.22034042734868348,iteration192,cost0.25578594063106086\n",
      "w0-0.010671957155375915,w10.2310331576954024,w20.15715522899847534,w30.22104815543505688,iteration193,cost0.25448023976787465\n",
      "w0-0.010714302232525461,w10.23179474676641926,w20.157609951677671,w30.22175265305913944,iteration194,cost0.25318646422072905\n",
      "w0-0.010756543883250995,w10.23255314938882207,w20.1580620715006744,w30.222453935197622,iteration195,cost0.25190450359663835\n",
      "w0-0.01079868243826257,w10.23330838013393762,w20.1585116009256354,w30.2231520167575659,iteration196,cost0.25063424852673366\n",
      "w0-0.010840718227006144,w10.23406045350549243,w20.15895855235250933,w30.22384691257672693,iteration197,cost0.24937559065675882\n",
      "w0-0.01088265157766892,w10.23480938393992706,w20.15940293812332776,w30.2245386374238775,iteration198,cost0.2481284226376544\n",
      "w0-0.010924482817184682,w10.235555185806709,w20.15984477052246807,w30.2252272059991277,iteration199,cost0.24689263811622936\n",
      "w0-0.010966212271239093,w10.23629787340864397,w20.16028406177692187,w30.22591263293424454,iteration200,cost0.24566813172591856\n",
      "w0-0.011007840264274973,w10.23703746098218595,w20.160720824056562,w30.2265949327929698,iteration201,cost0.24445479907762743\n",
      "w0-0.011049367119497557,w10.23777396269774564,w20.1611550694744084,w30.22727412007133652,iteration202,cost0.2432525367506601\n",
      "w0-0.011090793158879727,w10.23850739265999757,w20.1615868100868928,w30.2279502091979838,iteration203,cost0.2420612422837328\n",
      "w0-0.011132118703167219,w10.23923776490818568,w20.1620160578941219,w30.22862321453447046,iteration204,cost0.2408808141660702\n",
      "w0-0.011173344071883808,w10.23996509341642766,w20.16244282484013978,w30.22929315037558676,iteration205,cost0.239711151828584\n",
      "w0-0.011214469583336472,w10.24068939209401757,w20.16286712281318855,w30.2299600309496652,iteration206,cost0.23855215563513502\n",
      "w0-0.011255495554620533,w10.2414106747857274,w20.16328896364596832,w30.23062387041888946,iteration207,cost0.23740372687387346\n",
      "w0-0.011296422301624769,w10.24212895527210698,w20.16370835911589554,w30.23128468287960216,iteration208,cost0.2362657677486631\n",
      "w0-0.011337250139036512,w10.24284424726978265,w20.1641253209453604,w30.23194248236261109,iteration209,cost0.23513818137058223\n",
      "w0-0.011377979380346718,w10.24355656443175439,w20.1645398608019829,w30.23259728283349393,iteration210,cost0.23402087174950426\n",
      "w0-0.011418610337855014,w10.24426592034769168,w20.16495199029886778,w30.23324909819290177,iteration211,cost0.23291374378575774\n",
      "w0-0.011459143322674727,w10.24497232854422799,w20.16536172099485827,w30.23389794227686098,iteration212,cost0.231816703261862\n",
      "w0-0.011499578644737884,w10.2456758024852538,w20.16576906439478856,w30.23454382885707384,iteration213,cost0.23072965683434019\n",
      "w0-0.011539916612800198,w10.2463763555722084,w20.1661740319497353,w30.23518677164121776,iteration214,cost0.2296525120256086\n",
      "w0-0.011580157534446023,w10.24707400114437017,w20.16657663505726772,w30.235826784273243,iteration215,cost0.22858517721594132\n",
      "w0-0.011620301716093292,w10.2477687524791456,w20.16697688506169675,w30.23646388033366908,iteration216,cost0.22752756163550852\n",
      "w0-0.011660349462998437,w10.24846062279235703,w20.16737479325432283,w30.23709807333987987,iteration217,cost0.22647957535648994\n",
      "w0-0.011700301079261276,w10.24914962523852896,w20.16777037087368266,w30.23772937674641714,iteration218,cost0.22544112928526\n",
      "w0-0.01174015686782989,w10.24983577291117295,w20.16816362910579483,w30.23835780394527292,iteration219,cost0.2244121351546472\n",
      "w0-0.011779917130505468,w10.25051907884307145,w20.1685545790844042,w30.2389833682661804,iteration220,cost0.22339250551626452\n",
      "w0-0.011819582167947143,w10.25119955600656,w20.16894323189122526,w30.23960608297690353,iteration221,cost0.22238215373290976\n",
      "w0-0.011859152279676786,w10.2518772173138084,w20.1693295985561843,w30.24022596128352516,iteration222,cost0.22138099397103916\n",
      "w0-0.01189862776408381,w10.25255207561710036,w20.1697136900576604,w30.24084301633073407,iteration223,cost0.22038894119330862\n",
      "w0-0.011938008918429917,w10.25322414370911195,w20.17009551732272543,w30.2414572612021104,iteration224,cost0.2194059111511848\n",
      "w0-0.01197729603885385,w10.2538934343231888,w20.17047509122738283,w30.24206870892040988,iteration225,cost0.21843182037762496\n",
      "w0-0.01201648942037612,w10.2545599601336218,w20.1708524225968053,w30.24267737244784685,iteration226,cost0.21746658617982478\n",
      "w0-0.012055589356903689,w10.2552237337559219,w20.1712275222055714,w30.24328326468637568,iteration227,cost0.21651012663203306\n",
      "w0-0.012094596141234674,w10.2558847677470931,w20.17160040077790098,w30.24388639847797117,iteration228,cost0.21556236056843384\n",
      "w0-0.012133510065062988,w10.2565430746059048,w20.17197106898788977,w30.24448678660490744,iteration229,cost0.21462320757609327\n",
      "w0-0.012172331418982989,w10.2571986667731622,w20.17233953745974248,w30.24508444179003566,iteration230,cost0.21369258798797397\n",
      "w0-0.012211060492494093,w10.2578515566319762,w20.17270581676800512,w30.24567937669706041,iteration231,cost0.21277042287601228\n",
      "w0-0.012249697574005377,w10.2585017565080311,w20.1730699174377961,w30.2462716039308148,iteration232,cost0.21185663404426042\n",
      "w0-0.012288242950840148,w10.25914927866985216,w20.17343184994503635,w30.2468611360375342,iteration233,cost0.21095114402209308\n",
      "w0-0.012326696909240509,w10.259794135329071,w20.17379162471667828,w30.24744798550512892,iteration234,cost0.2100538760574755\n",
      "w0-0.01236505973437189,w10.26043633864069016,w20.17414925213093368,w30.24803216476345538,iteration235,cost0.2091647541102962\n",
      "w0-0.012403331710327571,w10.2610759007033466,w20.1745047425175007,w30.24861368618458618,iteration236,cost0.2082837028457585\n",
      "w0-0.012441513120133167,w10.26171283355957337,w20.17485810615778954,w30.24919256208307883,iteration237,cost0.2074106476278368\n",
      "w0-0.012479604245751117,w10.26234714919606084,w20.17520935328514728,w30.24976880471624324,iteration238,cost0.2065455145127912\n",
      "w0-0.012517605368085136,w10.2629788595439161,w20.17555849408508162,w30.25034242628440806,iteration239,cost0.2056882302427431\n",
      "w0-0.01255551676698465,w10.26360797647892137,w20.17590553869548348,w30.25091343893118556,iteration240,cost0.20483872223931063\n",
      "w0-0.012593338721249217,w10.2642345118217914,w20.17625049720684868,w30.25148185474373563,iteration241,cost0.20399691859730262\n",
      "w0-0.012631071508632921,w10.2648584773384293,w20.17659337966249863,w30.2520476857530282,iteration242,cost0.20316274807847176\n",
      "w0-0.012668715405848754,w10.2654798847401815,w20.17693419605879981,w30.2526109439341046,iteration243,cost0.20233614010532505\n",
      "w0-0.012706270688572973,w10.2660987456840913,w20.1772729563453824,w30.25317164120633767,iteration244,cost0.20151702475499178\n",
      "w0-0.012743737631449441,w10.2667150717731514,w20.17760967042535775,w30.2537297894336908,iteration245,cost0.20070533275314953\n",
      "w0-0.012781116508093944,w10.26732887455655513,w20.17794434815553498,w30.25428540042497544,iteration246,cost0.19990099546800483\n",
      "w0-0.012818407591098497,w10.26794016552994665,w20.17827699934663652,w30.25483848593410785,iteration247,cost0.19910394490433092\n",
      "w0-0.012855611152035621,w10.26854895613566987,w20.1786076337635126,w30.2553890576603643,iteration248,cost0.19831411369756002\n",
      "w0-0.012892727461462613,w10.26915525776301624,w20.17893626112535477,w30.2559371272486351,iteration249,cost0.19753143510793153\n",
      "w0-0.012929756788925781,w10.2697590817484714,w20.17926289110590848,w30.2564827062896778,iteration250,cost0.19675584301469318\n",
      "w0-0.012966699402964679,w10.27036043937596077,w20.1795875333336846,w30.2570258063203687,iteration251,cost0.1959872719103572\n",
      "w0-0.013003555571116309,w10.2709593418770937,w20.17991019739216996,w30.25756643882395375,iteration252,cost0.1952256568950087\n",
      "w0-0.013040325559919307,w10.2715558004314069,w20.18023089282003693,w30.25810461523029765,iteration253,cost0.19447093367066837\n",
      "w0-0.013077009634918119,w10.27214982616660655,w20.1805496291113521,w30.25864034691613247,iteration254,cost0.19372303853570516\n",
      "w0-0.013113608060667144,w10.27274143015880903,w20.18086641571578388,w30.2591736452053045,iteration255,cost0.1929819083793038\n",
      "w0-0.013150121100734876,w10.2733306234327809,w20.18118126203880908,w30.25970452136902034,iteration256,cost0.19224748067598096\n",
      "w0-0.013186549017708011,w10.2739174169621778,w20.18149417744191876,w30.26023298662609173,iteration257,cost0.19151969348015396\n",
      "w0-0.013222892073195545,w10.27450182166978176,w20.1818051712428229,w30.2607590521431793,iteration258,cost0.19079848542075925\n",
      "w0-0.013259150527832856,w10.2750838484277379,w20.18211425271565423,w30.261282729035035,iteration259,cost0.19008379569592093\n",
      "w0-0.013295324641285761,w10.2756635080577899,w20.18242143109117107,w30.26180402836474365,iteration260,cost0.18937556406766856\n",
      "w0-0.013331414672254557,w10.276240811331514,w20.18272671555695924,w30.2623229611439631,iteration261,cost0.18867373085670472\n",
      "w0-0.013367420878478049,w10.27681576897055277,w20.18303011525763305,w30.2628395383331636,iteration262,cost0.18797823693722024\n",
      "w0-0.01340334351673755,w10.27738839164684664,w20.18333163929503526,w30.2633537708418658,iteration263,cost0.1872890237317576\n",
      "w0-0.01343918284286088,w10.2779586899828655,w20.1836312967284363,w30.26386566952887763,iteration264,cost0.1866060332061237\n",
      "w0-0.013474939111726326,w10.27852667455183827,w20.1839290965747324,w30.2643752452025303,iteration265,cost0.18592920786434655\n"
     ]
    },
    {
     "name": "stdout",
     "output_type": "stream",
     "text": [
      "w0-0.013510612577266606,w10.27909235587798215,w20.18422504780864274,w30.26488250862091306,iteration266,cost0.18525849074368178\n",
      "w0-0.013546203492472795,w10.27965574443673025,w20.184519159362906,w30.2653874704921067,iteration267,cost0.18459382540966474\n",
      "w0-0.013581712109398252,w10.2802168506549585,w20.1848114401284756,w30.2658901414744164,iteration268,cost0.18393515595120724\n",
      "w0-0.013617138679162515,w10.2807756849112113,w20.1851018989547143,w30.26639053217660313,iteration269,cost0.1832824269757412\n",
      "w0-0.013652483451955194,w10.2813322575359264,w20.18539054464958776,w30.26688865315811394,iteration270,cost0.18263558360440726\n",
      "w0-0.013687746677039824,w10.2818865788116583,w20.18567738597985736,w30.26738451492931153,iteration271,cost0.18199457146728656\n",
      "w0-0.01372292860275773,w10.28243865897330106,w20.18596243167127188,w30.2678781279517025,iteration272,cost0.18135933669867957\n",
      "w0-0.01375802947653185,w10.2829885082083097,w20.18624569040875852,w30.2683695026381645,iteration273,cost0.18072982593242548\n",
      "w0-0.013793049544870555,w10.28353613665692085,w20.18652717083661285,w30.2688586493531725,iteration274,cost0.18010598629726773\n",
      "w0-0.013827989053371447,w10.2840815544123723,w20.18680688155868802,w30.26934557841302376,iteration275,cost0.1794877654122605\n",
      "w0-0.01386284824672514,w10.28462477152112137,w20.18708483113858304,w30.26983030008606207,iteration276,cost0.17887511138221962\n",
      "w0-0.013897627368719032,w10.28516579798306246,w20.18736102809983013,w30.2703128245929008,iteration277,cost0.17826797279321446\n",
      "w0-0.013932326662241043,w10.28570464375174354,w20.18763548092608126,w30.27079316210664467,iteration278,cost0.17766629870810208\n",
      "w0-0.013966946369283358,w10.28624131873458153,w20.1879081980612938,w30.271271322753111,iteration279,cost0.17707003866210266\n",
      "w0-0.014001486730946137,w10.28677583279307683,w20.18817918790991534,w30.27174731661104945,iteration280,cost0.17647914265841635\n",
      "w0-0.014035947987441217,w10.28730819574302674,w20.18844845883706757,w30.27222115371236094,iteration281,cost0.17589356116388052\n",
      "w0-0.014070330378095797,w10.2878384173547379,w20.18871601916872938,w30.27269284404231575,iteration282,cost0.1753132451046673\n",
      "w0-0.014104634141356097,w10.28836650735323793,w20.1889818771919191,w30.2731623975397701,iteration283,cost0.1747381458620209\n",
      "w0-0.01413885951479102,w10.2888924754184857,w20.18924604115487592,w30.27362982409738223,iteration284,cost0.1741682152680358\n",
      "w0-0.014173006735095783,w10.2894163311855809,w20.18950851926724024,w30.27409513356182724,iteration285,cost0.17360340560147103\n",
      "w0-0.014207076038095528,w10.2899380842449728,w20.18976931970023359,w30.27455833573401084,iteration286,cost0.17304366958360726\n",
      "w0-0.014241067658748935,w10.2904577441426675,w20.19002845058683734,w30.2750194403692824,iteration287,cost0.17248896037413944\n",
      "w0-0.014274981831151806,w10.2909753203804348,w20.19028592002197078,w30.27547845717764674,iteration288,cost0.17193923156710827\n",
      "w0-0.014308818788540633,w10.29149082241601354,w20.19054173606266833,w30.27593539582397497,iteration289,cost0.17139443718687092\n",
      "w0-0.014342578763296155,w10.2920042596633167,w20.19079590672825586,w30.27639026592821453,iteration290,cost0.1708545316841058\n",
      "w0-0.014376261986946902,w10.2925156414926348,w20.1910484400005263,w30.2768430770655981,iteration291,cost0.17031946993185856\n",
      "w0-0.014409868690172712,w10.29302497723083887,w20.19129934382391428,w30.27729383876685143,iteration292,cost0.16978920722162155\n",
      "w0-0.014443399102808244,w10.2935322761615822,w20.19154862610567022,w30.27774256051840057,iteration293,cost0.16926369925945092\n",
      "w0-0.01447685345384647,w10.2940375475255012,w20.19179629471603327,w30.2781892517625778,iteration294,cost0.16874290216212048\n",
      "w0-0.014510231971442154,w10.29454080052041565,w20.19204235748840373,w30.2786339218978266,iteration295,cost0.1682267724533089\n",
      "w0-0.014543534882915312,w10.2950420443015273,w20.19228682221951449,w30.2790765802789059,iteration296,cost0.16771526705982545\n",
      "w0-0.014576762414754663,w10.2955412879816185,w20.1925296966696018,w30.27951723621709335,iteration297,cost0.1672083433078685\n",
      "w0-0.014609914792621054,w10.29603854063124885,w20.19277098856257507,w30.2799558989803873,iteration298,cost0.16670595891931866\n",
      "w0-0.014642992241350886,w10.296533811278952,w20.19301070558618622,w30.28039257779370835,iteration299,cost0.16620807200806872\n",
      "w0-0.014675994984959511,w10.29702710891143064,w20.19324885539219772,w30.28082728183909955,iteration300,cost0.16571464107638417\n",
      "w0-0.014708923246644617,w10.2975184424737511,w20.1934854455965504,w30.28126002025592584,iteration301,cost0.1652256250113008\n",
      "w0-0.014741777248789605,w10.29800782086953687,w20.19372048377953008,w30.2816908021410725,iteration302,cost0.16474098308105337\n",
      "w0-0.01477455721296694,w10.29849525296116136,w20.19395397748593363,w30.28211963654914296,iteration303,cost0.16426067493153867\n",
      "w0-0.014807263359941501,w10.29898074756993953,w20.19418593422523414,w30.28254653249265516,iteration304,cost0.16378466058281074\n",
      "w0-0.014839895909673904,w10.2994643134763188,w20.19441636147174546,w30.2829714989422374,iteration305,cost0.16331290042560953\n",
      "w0-0.014872455081323815,w10.29994595942006896,w20.19464526666478585,w30.2833945448268232,iteration306,cost0.1628453552179202\n",
      "w0-0.014904941093253249,w10.30042569410047143,w20.19487265720884087,w30.2838156790338453,iteration307,cost0.16238198608156645\n",
      "w0-0.014937354163029853,w10.30090352617650723,w20.19509854047372563,w30.28423491040942844,iteration308,cost0.16192275449883317\n",
      "w0-0.01496969450743018,w10.3013794642670446,w20.19532292379474617,w30.2846522477585817,iteration309,cost0.1614676223091229\n",
      "w0-0.01500196234244294,w10.3018535169510252,w20.19554581447286012,w30.28506769984538965,iteration310,cost0.16101655170564086\n",
      "w0-0.015034157883272241,w10.3023256927676499,w20.1957672197748367,w30.28548127539320267,iteration311,cost0.1605695052321122\n",
      "w0-0.015066281344340819,w10.3027960002165635,w20.1959871469334157,w30.2858929830848264,iteration312,cost0.16012644577952972\n",
      "w0-0.015098332939293246,w10.30326444775803846,w20.19620560314746618,w30.28630283156271047,iteration313,cost0.1596873365829318\n",
      "w0-0.015130312880999133,w10.303731043813158,w20.19642259558214398,w30.2867108294291359,iteration314,cost0.15925214121820844\n",
      "w0-0.01516222138155631,w10.30419579676399844,w20.1966381313690487,w30.2871169852464021,iteration315,cost0.15882082359894023\n",
      "w0-0.015194058652293998,w10.3046587149538102,w20.19685221760638008,w30.287521307537013,iteration316,cost0.1583933479732636\n",
      "w0-0.01522582490377597,w10.30511980668719857,w20.19706486135909335,w30.2879238047838617,iteration317,cost0.15796967892076716\n",
      "w0-0.015257520345803683,w10.30557908023030317,w20.19727606965905406,w30.2883244854304151,iteration318,cost0.1575497813494151\n",
      "w0-0.015289145187419417,w10.30603654381097684,w20.19748584950519218,w30.2887233578808971,iteration319,cost0.15713362049250132\n",
      "w0-0.015320699636909388,w10.3064922056189636,w20.19769420786365546,w30.2891204305004711,iteration320,cost0.15672116190562976\n",
      "w0-0.015352183901806843,w10.3069460738060758,w20.197901151667962,w30.28951571161542167,iteration321,cost0.15631237146372368\n",
      "w0-0.015383598188895157,w10.30739815648637037,w20.1981066878191522,w30.2899092095133355,iteration322,cost0.15590721535806362\n",
      "w0-0.015414942704210899,w10.30784846173632446,w20.19831082318594,w30.2903009324432812,iteration323,cost0.1555056600933502\n",
      "w0-0.015446217653046898,w10.30829699759501,w20.19851356460486344,w30.29069088861598863,iteration324,cost0.15510767248479762\n",
      "w0-0.015477423239955289,w10.3087437720642676,w20.19871491888043433,w30.29107908620402706,iteration325,cost0.15471321965525062\n",
      "w0-0.015508559668750548,w10.30918879310887976,w20.19891489278528748,w30.2914655333419827,iteration326,cost0.15432226903233195\n",
      "w0-0.015539627142512509,w10.3096320686567428,w20.19911349306032916,w30.2918502381266354,iteration327,cost0.15393478834561208\n",
      "w0-0.015570625863589375,w10.31007360659903876,w20.1993107264148847,w30.2922332086171344,iteration328,cost0.15355074562380921\n",
      "w0-0.015601556033600712,w10.3105134147904056,w20.19950659952684568,w30.2926144528351735,iteration329,cost0.15317010919201254\n",
      "w0-0.015632417853440425,w10.3109515010491075,w20.19970111904281618,w30.2929939787651651,iteration330,cost0.1527928476689324\n",
      "w0-0.01566321152327974,w10.3113878731572036,w20.1998942915782585,w30.29337179435441363,iteration331,cost0.1524189299641758\n",
      "w0-0.015693937242570136,w10.3118225388607164,w20.20008612371763823,w30.2937479075132882,iteration332,cost0.15204832527554746\n",
      "w0-0.01572459521004631,w10.31225550586979944,w20.20027662201456845,w30.2941223261153944,iteration333,cost0.1516810030863749\n",
      "w0-0.015755185623729098,w10.3126867818589037,w20.2004657929919535,w30.29449505799774517,iteration334,cost0.15131693316285957\n",
      "w0-0.015785708680928382,w10.31311637446694385,w20.20065364314213194,w30.29486611096093107,iteration335,cost0.15095608555145193\n",
      "w0-0.01581616457824601,w10.31354429129746325,w20.20084017892701883,w30.2952354927692897,iteration336,cost0.1505984305762517\n",
      "w0-0.015846553511578675,w10.3139705399187985,w20.20102540677824743,w30.2956032111510742,iteration337,cost0.15024393883643006\n",
      "w0-0.015876875676120797,w10.3143951278642429,w20.20120933309731023,w30.2959692737986212,iteration338,cost0.14989258120367882\n",
      "w0-0.015907131266367388,w10.31481806263220957,w20.20139196425569925,w30.2963336883685178,iteration339,cost0.149544328819681\n",
      "w0-0.015937320476116908,w10.31523935168639344,w20.20157330659504571,w30.29669646248176795,iteration340,cost0.14919915309360526\n",
      "w0-0.0159674434984741,w10.31565900245593265,w20.2017533664272592,w30.2970576037239577,iteration341,cost0.14885702569962492\n",
      "w0-0.015997500525852828,w10.3160770223355691,w20.2019321500346659,w30.29741711964542006,iteration342,cost0.1485179185744581\n",
      "w0-0.01602749174997888,w10.31649341868580855,w20.20210966367014654,w30.29777501776139914,iteration343,cost0.1481818039149319\n",
      "w0-0.01605741736189278,w10.31690819883307947,w20.20228591355727332,w30.29813130555221307,iteration344,cost0.1478486541755693\n",
      "w0-0.01608727755195258,w10.31732137006989164,w20.20246090589044646,w30.2984859904634165,iteration345,cost0.1475184420661973\n",
      "w0-0.01611707250983664,w10.3177329396549937,w20.2026346468350301,w30.2988390799059625,iteration346,cost0.14719114054957902\n"
     ]
    },
    {
     "name": "stdout",
     "output_type": "stream",
     "text": [
      "w0-0.016146802424546382,w10.31814291481353024,w20.20280714252748747,w30.2991905812563631,iteration347,cost0.14686672283906516\n",
      "w0-0.01617646748440906,w10.31855130273719773,w20.20297839907551538,w30.2995405018568499,iteration348,cost0.14654516239627066\n",
      "w0-0.016206067877080496,w10.3189581105844002,w20.2031484225581783,w30.2998888490155331,iteration349,cost0.1462264329287698\n",
      "w0-0.016235603789547814,w10.31936334548040396,w20.20331721902604163,w30.30023563000656056,iteration350,cost0.14591050838781489\n",
      "w0-0.016265075408132153,w10.31976701451749145,w20.20348479450130447,w30.3005808520702755,iteration351,cost0.14559736296607437\n",
      "w0-0.016294482918491383,w10.32016912475511483,w20.20365115497793157,w30.3009245224133738,iteration352,cost0.1452869710953938\n",
      "w0-0.01632382650562279,w10.32056968322004836,w20.20381630642178497,w30.3012666482090605,iteration353,cost0.1449793074445755\n",
      "w0-0.01635310635386577,w10.32096869690654034,w20.2039802547707548,w30.3016072365972057,iteration354,cost0.1446743469171809\n",
      "w0-0.016382322646904493,w10.3213661727764644,w20.2041430059348895,w30.3019462946844992,iteration355,cost0.14437206464935168\n",
      "w0-0.01641147556777056,w10.3217621177594697,w20.20430456579652553,w30.30228382954460525,iteration356,cost0.14407243600765196\n",
      "w0-0.01644056529884567,w10.32215653875313116,w20.20446494021041642,w30.302619848218316,iteration357,cost0.1437754365869304\n",
      "w0-0.01646959202186423,w10.32254944262309804,w20.20462413500386115,w30.3029543577137042,iteration358,cost0.14348104220820163\n",
      "w0-0.016498555917916,w10.32294083620324265,w20.20478215597683208,w30.30328736500627573,iteration359,cost0.14318922891654826\n",
      "w0-0.016527457167448707,w10.32333072629580795,w20.20493900890210218,w30.3036188770391207,iteration360,cost0.14289997297904122\n",
      "w0-0.016556295950270628,w10.32371911967155453,w20.20509469952537165,w30.3039489007230645,iteration361,cost0.14261325088268112\n",
      "w0-0.016585072445553208,w10.3241060230699071,w20.20524923356539407,w30.30427744293681774,iteration362,cost0.14232903933235652\n",
      "w0-0.01661378683183362,w10.3244914431990999,w20.20540261671410182,w30.3046045105271255,iteration363,cost0.14204731524882222\n",
      "w0-0.016642439287017342,w10.32487538673632177,w20.20555485463673107,w30.30493011030891615,iteration364,cost0.1417680557666977\n",
      "w0-0.01667102998838071,w10.3252578603278605,w20.20570595297194597,w30.30525424906544935,iteration365,cost0.14149123823248125\n",
      "w0-0.016699559112573474,w10.32563887058924645,w20.20585591733196254,w30.3055769335484632,iteration366,cost0.1412168402025849\n",
      "w0-0.016728026835621322,w10.32601842410539533,w20.20600475330267176,w30.305898170478321,iteration367,cost0.14094483944138653\n",
      "w0-0.016756433332928405,w10.32639652743075076,w20.20615246644376217,w30.306217966544157,iteration368,cost0.14067521391930013\n",
      "w0-0.01678477877927986,w10.3267731870894257,w20.2062990622888419,w30.3065363284040218,iteration369,cost0.1404079418108644\n",
      "w0-0.016813063348844304,w10.3271484095753435,w20.20644454634556014,w30.3068532626850267,iteration370,cost0.14014300149284886\n",
      "w0-0.016841287215176328,w10.3275222013523782,w20.20658892409572804,w30.30716877598348796,iteration371,cost0.1398803715423768\n",
      "w0-0.016869450551218974,w10.32789456885449414,w20.20673220099543904,w30.3074828748650696,iteration372,cost0.1396200307350675\n",
      "w0-0.01689755352930621,w10.32826551848588503,w20.2068743824751886,w30.30779556586492623,iteration373,cost0.1393619580431931\n",
      "w0-0.016925596321165384,w10.3286350566211124,w20.20701547393999348,w30.30810685548784494,iteration374,cost0.1391061326338553\n",
      "w0-0.016953579097919676,w10.32900318960524316,w20.20715548076951032,w30.3084167502083864,iteration375,cost0.1388525338671769\n",
      "w0-0.016981502030090537,w10.32936992375398677,w20.20729440831815385,w30.30872525647102544,iteration376,cost0.13860114129451112\n",
      "w0-0.01700936528760011,w10.32973526535383163,w20.20743226191521436,w30.3090323806902912,iteration377,cost0.13835193465666745\n",
      "w0-0.017037169039773647,w10.33009922066218095,w20.2075690468649747,w30.3093381292509062,iteration378,cost0.13810489388215347\n",
      "w0-0.017064913455341925,w10.33046179590748787,w20.2077047684468269,w30.3096425085079249,iteration379,cost0.13785999908543364\n",
      "w0-0.017092598702443628,w10.33082299728939013,w20.20783943191538784,w30.3099455247868719,iteration380,cost0.1376172305652044\n",
      "w0-0.017120224948627742,w10.3311828309788438,w20.2079730425006149,w30.3102471843838791,iteration381,cost0.13737656880268365\n",
      "w0-0.01714779236085592,w10.33154130311825686,w20.20810560540792064,w30.31054749356582256,iteration382,cost0.13713799445991817\n",
      "w0-0.01717530110550486,w10.3318984198216215,w20.20823712581828716,w30.3108464585704584,iteration383,cost0.1369014883781061\n",
      "w0-0.01720275134836864,w10.33225418717464644,w20.20836760888837988,w30.3111440856065583,iteration384,cost0.13666703157593385\n",
      "w0-0.01723014325466109,w10.33260861123488844,w20.20849705975066082,w30.31144038085404446,iteration385,cost0.13643460524793022\n",
      "w0-0.017257476989018094,w10.3329616980318829,w20.20862548351350133,w30.3117353504641234,iteration386,cost0.13620419076283424\n",
      "w0-0.017284752715499934,w10.3333134535672744,w20.20875288526129418,w30.31202900055941984,iteration387,cost0.13597576966197936\n",
      "w0-0.017311970597593596,w10.3336638838149459,w20.2088792700545654,w30.3123213372341096,iteration388,cost0.13574932365769188\n",
      "w0-0.017339130798215075,w10.33401299472114815,w20.20900464293008542,w30.31261236655405167,iteration389,cost0.13552483463170462\n",
      "w0-0.01736623347971167,w10.334360792204628,w20.20912900890097952,w30.3129020945569202,iteration390,cost0.13530228463358493\n",
      "w0-0.01739327880386427,w10.33470728215675605,w20.2092523729568382,w30.31319052725233537,iteration391,cost0.13508165587917773\n",
      "w0-0.01742026693188961,w10.33505247044165415,w20.2093747400638267,w30.313477670621994,iteration392,cost0.13486293074906278\n",
      "w0-0.017447198024442563,w10.33539636289632185,w20.20949611516479405,w30.31376353061979934,iteration393,cost0.1346460917870263\n",
      "w0-0.017474072241618375,w10.33573896533076253,w20.20961650317938177,w30.3140481131719904,iteration394,cost0.13443112169854673\n",
      "w0-0.017500889742954908,w10.33608028352810876,w20.20973590900413192,w30.31433142417727045,iteration395,cost0.1342180033492945\n",
      "w0-0.017527650687434882,w10.33642032324474735,w20.20985433751259464,w30.3146134695069353,iteration396,cost0.13400671976364598\n",
      "w0-0.0175543552334881,w10.33675909021044353,w20.20997179355543535,w30.3148942550050007,iteration397,cost0.13379725412321086\n",
      "w0-0.01758100353899366,w10.33709659012846466,w20.21008828196054125,w30.315173786488329,iteration398,cost0.1335895897653735\n",
      "w0-0.01760759576128216,w10.3374328286757034,w20.21020380753312742,w30.31545206974675577,iteration399,cost0.13338371018184772\n",
      "w0-0.01763413205713789,w10.3377678115028004,w20.2103183750558425,w30.31572911054321534,iteration400,cost0.13317959901724472\n",
      "w0-0.017660612582801025,w10.338101544234266,w20.21043198928887372,w30.3160049146138658,iteration401,cost0.13297724006765493\n",
      "w0-0.017687037493969805,w10.3384340324686021,w20.21054465497005156,w30.3162794876682138,iteration402,cost0.13277661727924236\n",
      "w0-0.017713406945802694,w10.3387652817784225,w20.2106563768149539,w30.3165528353892382,iteration403,cost0.13257771474685237\n",
      "w0-0.01773972109292054,w10.3390952977105738,w20.2107671595170096,w30.3168249634335136,iteration404,cost0.13238051671263223\n",
      "w0-0.01776598008940872,w10.33942408578625455,w20.2108770077476018,w30.3170958774313332,iteration405,cost0.1321850075646645\n",
      "w0-0.017792184088819298,w10.33975165150113495,w20.21098592615617043,w30.317365582986831,iteration406,cost0.13199117183561318\n",
      "w0-0.01781833324417313,w10.3400780003254752,w20.2110939193703146,w30.3176340856781032,iteration407,cost0.13179899420138244\n",
      "w0-0.017844427707961998,w10.3404031377042436,w20.21120099199589423,w30.31790139105732973,iteration408,cost0.1316084594797873\n",
      "w0-0.017870467632150725,w10.34072706905723416,w20.21130714861713132,w30.31816750465089444,iteration409,cost0.1314195526292376\n",
      "w0-0.017896453168179272,w10.34104979977918365,w20.21141239379671076,w30.31843243195950527,iteration410,cost0.13123225874743313\n",
      "w0-0.01792238446696483,w10.34137133523988794,w20.2115167320758807,w30.31869617845831355,iteration411,cost0.13104656307007187\n",
      "w0-0.01794826167890391,w10.34169168078431783,w20.2116201679745523,w30.31895874959703285,iteration412,cost0.1308624509695692\n",
      "w0-0.017974084953874408,w10.3420108417327346,w20.2117227059913992,w30.31922015080005745,iteration413,cost0.13067990795379011\n",
      "w0-0.017999854441237684,w10.3423288233808048,w20.21182435060395644,w30.3194803874665798,iteration414,cost0.13049891966479202\n",
      "w0-0.018025570289840618,w10.3426456309997143,w20.2119251062687189,w30.31973946497070804,iteration415,cost0.13031947187758022\n",
      "w0-0.018051232648017654,w10.34296126983628245,w20.21202497742123935,w30.31999738866158245,iteration416,cost0.13014155049887433\n",
      "w0-0.018076841663592833,w10.343275745113075,w20.21212396847622597,w30.3202541638634917,iteration417,cost0.1299651415658863\n",
      "w0-0.018102397483881844,w10.343589062028517,w20.21222208382763944,w30.3205097958759883,iteration418,cost0.1297902312451099\n",
      "w0-0.018127900255694024,w10.3439012257570049,w20.21231932784878962,w30.32076428997400375,iteration419,cost0.1296168058311214\n",
      "w0-0.018153350125334387,w10.344212241449018,w20.21241570489243178,w30.32101765140796296,iteration420,cost0.1294448517453911\n",
      "w0-0.018178747238605623,w10.3445221142312301,w20.21251121929086225,w30.32126988540389834,iteration421,cost0.1292743555351065\n",
      "w0-0.018204091740810092,w10.3448308492066196,w20.21260587535601386,w30.32152099716356314,iteration422,cost0.12910530387200536\n",
      "w0-0.01822938377675182,w10.34513845145458,w20.21269967737955067,w30.32177099186454433,iteration423,cost0.12893768355122096\n",
      "w0-0.01825462349073847,w10.3454449260310292,w20.21279262963296247,w30.3220198746603751,iteration424,cost0.12877148149013712\n",
      "w0-0.01827981102658331,w10.3457502779685188,w20.21288473636765878,w30.32226765068064683,iteration425,cost0.1286066847272535\n",
      "w0-0.018304946527607183,w10.3460545122763426,w20.21297600181506232,w30.32251432503112004,iteration426,cost0.12844328042106312\n",
      "w0-0.01833003013664046,w10.3463576339406446,w20.21306643018670215,w30.3227599027938356,iteration427,cost0.12828125584893826\n",
      "w0-0.01835506199602498,w10.3466596479245268,w20.21315602567430642,w30.3230043890272249,iteration428,cost0.12812059840602766\n"
     ]
    },
    {
     "name": "stdout",
     "output_type": "stream",
     "text": [
      "w0-0.01838004224761599,w10.346960559168156,w20.21324479244989447,w30.3232477887662197,iteration429,cost0.12796129560416486\n",
      "w0-0.018404971032784066,w10.34726037258887055,w20.21333273466586883,w30.3234901070223613,iteration430,cost0.12780333507078429\n",
      "w0-0.018429848492417047,w10.34755909308128635,w20.21341985645510642,w30.3237313487839095,iteration431,cost0.12764670454785018\n",
      "w0-0.018454674766921936,w10.34785672551740254,w20.21350616193104963,w30.3239715190159508,iteration432,cost0.12749139189079356\n",
      "w0-0.018479449996226808,w10.34815327474670643,w20.21359165518779683,w30.324210622660506,iteration433,cost0.12733738506745915\n",
      "w0-0.0185041743197827,w10.34844874559627825,w20.21367634030019253,w30.3244486646366378,iteration434,cost0.12718467215706344\n",
      "w0-0.018528847876565502,w10.34874314287089525,w20.213760221323917,w30.32468564984055726,iteration435,cost0.1270332413491609\n",
      "w0-0.01855347080507784,w10.3490364713531352,w20.2138433022955756,w30.3249215831457303,iteration436,cost0.1268830809426207\n",
      "w0-0.018578043243350943,w10.34932873580347973,w20.21392558723278768,w30.3251564694029833,iteration437,cost0.12673417934461256\n",
      "w0-0.0186025653289465,w10.3496199409604169,w20.21400708013427497,w30.32539031344060865,iteration438,cost0.12658652506960177\n",
      "w0-0.018627037198958526,w10.34991009154054337,w20.21408778497994965,w30.3256231200644692,iteration439,cost0.1264401067383546\n",
      "w0-0.0186514589900152,w10.35019919223866625,w20.214167705731002,w30.32585489405810286,iteration440,cost0.12629491307695143\n",
      "w0-0.01867583083828071,w10.35048724772790424,w20.2142468463299876,w30.3260856401828263,iteration441,cost0.1261509329158103\n",
      "w0-0.018700152879457078,w10.3507742626597884,w20.21432521070091418,w30.32631536317783827,iteration442,cost0.12600815518871852\n",
      "w0-0.01872442524878599,w10.3510602416643625,w20.21440280274932796,w30.3265440677603225,iteration443,cost0.12586656893187462\n",
      "w0-0.01874864808105061,w10.35134518935028286,w20.21447962636239978,w30.3267717586255502,iteration444,cost0.1257261632829373\n",
      "w0-0.018772821510577378,w10.3516291103049177,w20.21455568540901063,w30.32699844044698173,iteration445,cost0.12558692748008496\n",
      "w0-0.01879694567123782,w10.3519120090944462,w20.21463098373983688,w30.32722411787636824,iteration446,cost0.1254488508610832\n",
      "w0-0.018821020696450343,w10.35219389026395664,w20.21470552518743513,w30.3274487955438525,iteration447,cost0.1253119228623604\n",
      "w0-0.018845046719182003,w10.35247475833754466,w20.2147793135663266,w30.3276724780580694,iteration448,cost0.1251761330180936\n",
      "w0-0.0188690238719503,w10.3527546178184108,w20.21485235267308114,w30.32789517000624624,iteration449,cost0.1250414709593006\n",
      "w0-0.018892952286824936,w10.35303347318895745,w20.21492464628640096,w30.32811687595430183,iteration450,cost0.12490792641294236\n",
      "w0-0.018916832095429586,w10.35331132891088557,w20.21499619816720378,w30.32833760044694593,iteration451,cost0.12477548920103268\n",
      "w0-0.018940663428943634,w10.35358818942529086,w20.21506701205870576,w30.3285573480077778,iteration452,cost0.12464414923975689\n",
      "w0-0.01896444641810394,w10.35386405915275954,w20.21513709168650394,w30.3287761231393843,iteration453,cost0.12451389653859789\n",
      "w0-0.01898818119320656,w10.35413894249346356,w20.21520644075865838,w30.3289939303234377,iteration454,cost0.12438472119947074\n",
      "w0-0.019011867884108503,w10.3544128438272555,w20.2152750629657738,w30.32921077402079296,iteration455,cost0.12425661341586547\n",
      "w0-0.019035506620229424,w10.354685767513763,w20.21534296198108102,w30.3294266586715845,iteration456,cost0.12412956347199755\n",
      "w0-0.01905909753055336,w10.3549577178924827,w20.2154101414605178,w30.32964158869532245,iteration457,cost0.12400356174196632\n",
      "w0-0.019082640743630433,w10.35522869928287376,w20.21547660504280947,w30.32985556849098885,iteration458,cost0.12387859868892116\n",
      "w0-0.019106136387578562,w10.355498715984451,w20.21554235634954916,w30.3300686024371328,iteration459,cost0.1237546648642357\n",
      "w0-0.01912958459008514,w10.35576777227687756,w20.2156073989852776,w30.3302806948919657,iteration460,cost0.12363175090668913\n",
      "w0-0.01915298547840873,w10.35603587242005713,w20.21567173653756253,w30.3304918501934558,iteration461,cost0.12350984754165578\n",
      "w0-0.019176339179380757,w10.35630302065422575,w20.2157353725770779,w30.3307020726594222,iteration462,cost0.1233889455803015\n",
      "w0-0.019199645819407158,w10.3565692212000432,w20.21579831065768248,w30.3309113665876288,iteration463,cost0.12326903591878843\n",
      "w0-0.019222905524470063,w10.35683447825868386,w20.21586055431649834,w30.3311197362558774,iteration464,cost0.12315010953748604\n",
      "w0-0.01924611842012945,w10.35709879601192746,w20.21592210707398868,w30.3313271859221004,iteration465,cost0.12303215750019038\n",
      "w0-0.0192692846315248,w10.3573621786222489,w20.21598297243403555,w30.3315337198244537,iteration466,cost0.12291517095335022\n",
      "w0-0.019292404283376727,w10.35762463023290825,w20.21604315388401715,w30.331739342181408,iteration467,cost0.12279914112530028\n",
      "w0-0.01931547749998864,w10.35788615496803977,w20.21610265489488467,w30.33194405719184095,iteration468,cost0.12268405932550179\n",
      "w0-0.019338504405248345,w10.3581467569327409,w20.21616147892123885,w30.33214786903512783,iteration469,cost0.12256991694378998\n",
      "w0-0.019361485122629696,w10.3584064402131607,w20.21621962940140618,w30.33235078187123257,iteration470,cost0.12245670544962858\n",
      "w0-0.019384419775194194,w10.3586652088765878,w20.21627710975751477,w30.33255279984079783,iteration471,cost0.12234441639137131\n",
      "w0-0.0194073084855926,w10.3589230669715382,w20.21633392339556978,w30.3327539270652348,iteration472,cost0.12223304139552993\n",
      "w0-0.01943015137606654,w10.3591800185278422,w20.21639007370552862,w30.33295416764681296,iteration473,cost0.12212257216604941\n",
      "w0-0.019452948568450094,w10.3594360675567316,w20.21644556406137563,w30.33315352566874873,iteration474,cost0.1220130004835901\n",
      "w0-0.019475700184171402,w10.35969121805092563,w20.21650039782119662,w30.3333520051952943,iteration475,cost0.12190431820481541\n",
      "w0-0.019498406344254225,w10.3599454739847175,w20.21655457832725292,w30.33354961027182567,iteration476,cost0.12179651726168753\n",
      "w0-0.019521067169319534,w10.3601988393140595,w20.2166081089060551,w30.3337463449249306,iteration477,cost0.12168958966076869\n",
      "w0-0.019543682779587075,w10.36045131797664853,w20.21666099286843649,w30.3339422131624959,iteration478,cost0.12158352748252949\n",
      "w0-0.01956625329487693,w10.36070291389201087,w20.216713233509626,w30.33413721897379434,iteration479,cost0.12147832288066303\n",
      "w0-0.019588778834611076,w10.3609536309615864,w20.21676483410932113,w30.33433136632957133,iteration480,cost0.12137396808140612\n",
      "w0-0.01961125951781493,w10.3612034730688129,w20.2168157979317601,w30.33452465918213103,iteration481,cost0.12127045538286621\n",
      "w0-0.019633695463118887,w10.3614524440792095,w20.21686612822579407,w30.33471710146542216,iteration482,cost0.121167777154355\n",
      "w0-0.01965608678875987,w10.36170054784045996,w20.2169158282249588,w30.3349086970951232,iteration483,cost0.12106592583572785\n",
      "w0-0.019678433612582844,w10.36194778818249557,w20.216964901147546,w30.33509944996872765,iteration484,cost0.12096489393672968\n",
      "w0-0.019700736052042346,w10.3621941689175776,w20.21701335019667434,w30.3352893639656282,iteration485,cost0.12086467403634653\n",
      "w0-0.019722994224204,w10.3624396938403794,w20.2170611785603603,w30.3354784429472013,iteration486,cost0.12076525878216346\n",
      "w0-0.019745208245746028,w10.362684366728068,w20.21710838941158844,w30.3356666907568907,iteration487,cost0.12066664088972877\n",
      "w0-0.019767378232960747,w10.3629281913403856,w20.21715498590838145,w30.3358541112202909,iteration488,cost0.12056881314192265\n",
      "w0-0.019789504301756067,w10.3631711714197306,w20.21720097119386997,w30.3360407081452303,iteration489,cost0.12047176838833358\n",
      "w0-0.019811586567656993,w10.3634133106912378,w20.21724634839636192,w30.3362264853218535,iteration490,cost0.12037549954463961\n",
      "w0-0.019833625145807096,w10.36365461286285883,w20.21729112062941164,w30.33641144652270394,iteration491,cost0.12027999959199487\n",
      "w0-0.01985562015096999,w10.3638950816254421,w20.21733529099188856,w30.33659559550280543,iteration492,cost0.12018526157642258\n",
      "w0-0.019877571697530814,w10.36413472065281205,w20.21737886256804578,w30.3367789359997438,iteration493,cost0.12009127860821385\n",
      "w0-0.01989947989949769,w10.3643735336018484,w20.2174218384275881,w30.3369614717337479,iteration494,cost0.11999804386133088\n",
      "w0-0.01992134487050318,w10.36461152411256453,w20.21746422162573986,w30.3371432064077704,iteration495,cost0.11990555057281706\n",
      "w0-0.01994316672380575,w10.36484869580818635,w20.2175060152033124,w30.3373241437075681,iteration496,cost0.11981379204221167\n",
      "w0-0.019964945572291195,w10.36508505229522986,w20.21754722218677125,w30.3375042873017818,iteration497,cost0.1197227616309703\n",
      "w0-0.019986681528474104,w10.36532059716357895,w20.21758784558830305,w30.337683640842016,iteration498,cost0.11963245276189073\n",
      "w0-0.020008374704499274,w10.3655553339865626,w20.21762788840588204,w30.3378622079629183,iteration499,cost0.11954285891854395\n",
      "w0-0.020030025212143154,w10.36578926632103187,w20.21766735362333633,w30.3380399922822579,iteration500,cost0.11945397364471057\n",
      "w0-0.020051633162815257,w10.3660223977074364,w20.21770624421041382,w30.33821699740100425,iteration501,cost0.11936579054382265\n",
      "w0-0.020073198667559577,w10.3662547316699005,w20.21774456312284785,w30.3383932269034053,iteration502,cost0.11927830327840995\n",
      "w0-0.020094721837056007,w10.36648627171629927,w20.21778231330242254,w30.33856868435706505,iteration503,cost0.11919150556955233\n",
      "w0-0.02011620278162173,w10.36671702133833367,w20.21781949767703776,w30.3387433733130211,iteration504,cost0.11910539119633684\n",
      "w0-0.020137641611212623,w10.366946984011606,w20.2178561191607739,w30.3389172973058217,iteration505,cost0.11901995399531941\n",
      "w0-0.02015903843542466,w10.36717616319569457,w20.21789218065395627,w30.33909045985360226,iteration506,cost0.11893518785999212\n",
      "w0-0.020180393363495273,w10.36740456233422797,w20.21792768504321916,w30.33926286445816184,iteration507,cost0.1188510867402552\n",
      "w0-0.020201706504304764,w10.36763218485495947,w20.21796263520156978,w30.33943451460503915,iteration508,cost0.11876764464189389\n",
      "w0-0.02022297796637765,w10.3678590341698405,w20.21799703398845166,w30.33960541376358805,iteration509,cost0.11868485562606008\n",
      "w0-0.020244207857884052,w10.3680851136750942,w20.21803088424980796,w30.3397755653870528,iteration510,cost0.11860271380875906\n",
      "w0-0.020265396286641046,w10.3683104267512885,w20.21806418881814435,w30.3399449729126431,iteration511,cost0.11852121336034085\n",
      "w0-0.020286543360114026,w10.3685349767634086,w20.21809695051259168,w30.3401136397616085,iteration512,cost0.11844034850499599\n",
      "w0-0.020307649185418053,w10.3687587670609296,w20.21812917213896832,w30.3402815693393129,iteration513,cost0.11836011352025633\n",
      "w0-0.020328713869319205,w10.36898180097788846,w20.2181608564898422,w30.34044876503530813,iteration514,cost0.1182805027365009\n",
      "w0-0.02034973751823591,w10.36920408183295583,w20.21819200634459265,w30.3406152302234075,iteration515,cost0.11820151053646495\n",
      "w0-0.020370720238240277,w10.36942561292950715,w20.2182226244694718,w30.3407809682617592,iteration516,cost0.11812313135475526\n",
      "w0-0.020391662135059444,w10.36964639755569395,w20.21825271361766577,w30.34094598249291896,iteration517,cost0.11804535967736857\n",
      "w0-0.02041256331407688,w10.3698664389845144,w20.21828227652935564,w30.3411102762439227,iteration518,cost0.1179681900412154\n",
      "w0-0.02043342388033371,w10.3700857404738838,w20.21831131593177808,w30.34127385282635864,iteration519,cost0.11789161703364777\n",
      "w0-0.020454243938530032,w10.37030430526670466,w20.21833983453928563,w30.341436715536439,iteration520,cost0.11781563529199142\n",
      "w0-0.020475023593026206,w10.3705221365909363,w20.21836783505340684,w30.3415988676550718,iteration521,cost0.1177402395030826\n",
      "w0-0.02049576294784418,w10.3707392376596643,w20.218395320162906,w30.34176031244793176,iteration522,cost0.1176654244028089\n",
      "w0-0.020516462106668763,w10.3709556116711698,w20.21842229254384263,w30.3419210531655313,iteration523,cost0.11759118477565414\n",
      "w0-0.02053712117284893,w10.37117126180899784,w20.21844875485963083,w30.3420810930432909,iteration524,cost0.11751751545424821\n",
      "w0-0.020557740249399097,w10.3713861912420262,w20.2184747097610981,w30.34224043530160947,iteration525,cost0.11744441131892024\n",
      "w0-0.020578319439000396,w10.37160040312453335,w20.21850015988654403,w30.34239908314593415,iteration526,cost0.1173718672972567\n",
      "w0-0.020598858844001967,w10.37181390059626623,w20.21852510786179885,w30.34255703976682966,iteration527,cost0.11729987836366261\n",
      "w0-0.020619358566422205,w10.3720266867825079,w20.21854955630028142,w30.3427143083400478,iteration528,cost0.11722843953892842\n",
      "w0-0.020639818707950036,w10.37223876479414447,w20.2185735078030571,w30.34287089202659604,iteration529,cost0.11715754588979858\n",
      "w0-0.020660239369946164,w10.37245013772773217,w20.21859696495889544,w30.3430267939728064,iteration530,cost0.11708719252854669\n",
      "w0-0.020680620653444337,w10.3726608086655639,w20.21861993034432745,w30.3431820173104034,iteration531,cost0.11701737461255267\n",
      "w0-0.020700962659152583,w10.37287078067573537,w20.21864240652370262,w30.3433365651565721,iteration532,cost0.11694808734388443\n",
      "w0-0.02072126548745445,w10.37308005681221107,w20.2186643960492458,w30.34349044061402595,iteration533,cost0.11687932596888417\n",
      "w0-0.02074152923841025,w10.37328864011489,w20.21868590146111372,w30.3436436467710736,iteration534,cost0.11681108577775721\n",
      "w0-0.020761754011758286,w10.3734965336096708,w20.21870692528745117,w30.3437961867016863,iteration535,cost0.11674336210416565\n",
      "w0-0.020781939906916076,w10.373703740308517,w20.2187274700444471,w30.3439480634655644,iteration536,cost0.1166761503248253\n",
      "w0-0.020802087022981582,w10.37391026320952164,w20.21874753823639034,w30.3440992801082037,iteration537,cost0.11660944585910656\n",
      "w0-0.020822195458734413,w10.3741161052969716,w20.21876713235572506,w30.3442498396609615,iteration538,cost0.1165432441686389\n",
      "w0-0.020842265312637043,w10.3743212695414118,w20.21878625488310605,w30.3443997451411226,iteration539,cost0.11647754075691928\n",
      "w0-0.02086229668283602,w10.3745257588997092,w20.21880490828745364,w30.3445489995519644,iteration540,cost0.11641233116892354\n",
      "w0-0.020882289667163153,w10.3747295763151159,w20.2188230950260084,w30.3446976058828221,iteration541,cost0.11634761099072216\n",
      "w0-0.020902244363136722,w10.3749327247173328,w20.21884081754438575,w30.3448455671091538,iteration542,cost0.11628337584909924\n",
      "w0-0.02092216086796266,w10.3751352070225723,w20.21885807827662995,w30.3449928861926047,iteration543,cost0.11621962141117469\n",
      "w0-0.02094203927853574,w10.37533702613362097,w20.2188748796452682,w30.3451395660810715,iteration544,cost0.11615634338403089\n",
      "w0-0.02096187969144075,w10.37553818493990193,w20.21889122406136427,w30.34528560970876626,iteration545,cost0.11609353751434162\n",
      "w0-0.020981682202953687,w10.375738686317537,w20.21890711392457207,w30.34543101999628023,iteration546,cost0.11603119958800516\n",
      "w0-0.021001446909042897,w10.3759385331294082,w20.21892255162318872,w30.3455757998506469,iteration547,cost0.11596932542978097\n",
      "w0-0.021021173905370262,w10.37613772822521974,w20.21893753953420755,w30.3457199521654053,iteration548,cost0.11590791090292887\n",
      "w0-0.02104086328729236,w10.37633627444155854,w20.21895208002337088,w30.34586347982066257,iteration549,cost0.1158469519088525\n",
      "w0-0.021060515149861615,w10.3765341746019557,w20.21896617544522237,w30.3460063856831565,iteration550,cost0.11578644438674557\n",
      "w0-0.02108012958782744,w10.37673143151694694,w20.2189798281431594,w30.3461486726063177,iteration551,cost0.11572638431324143\n",
      "w0-0.021099706695637398,w10.3769280479841329,w20.2189930404494848,w30.34629034343033155,iteration552,cost0.11566676770206623\n",
      "w0-0.021119246567438337,w10.3771240267882392,w20.21900581468545893,w30.34643140098219966,iteration553,cost0.11560759060369473\n",
      "w0-0.02113874929707752,w10.37731937070117644,w20.21901815316135087,w30.3465718480758012,iteration554,cost0.11554884910500994\n",
      "w0-0.021158214978103766,w10.37751408248209944,w20.21903005817648982,w30.3467116875119541,iteration555,cost0.11549053932896544\n",
      "w0-0.02117764370376857,w10.3777081648774666,w20.21904153201931612,w30.34685092207847545,iteration556,cost0.11543265743425081\n",
      "w0-0.021197035567027234,w10.37790162062109894,w20.21905257696743197,w30.3469895545502423,iteration557,cost0.11537519961496082\n",
      "w0-0.021216390660539968,w10.3780944524342386,w20.21906319528765206,w30.34712758768925156,iteration558,cost0.11531816210026671\n",
      "w0-0.02123570907667302,w10.37828666302560743,w20.2190733892360538,w30.3472650242446802,iteration559,cost0.11526154115409142\n",
      "w0-0.02125499090749977,w10.378478255091465,w20.21908316105802741,w30.34740186695294456,iteration560,cost0.11520533307478717\n",
      "w0-0.02127423624480185,w10.37866923131566654,w20.21909251298832585,w30.34753811853775984,iteration561,cost0.11514953419481645\n",
      "w0-0.02129344518007022,w10.37885959436972055,w20.21910144725111433,w30.3476737817101992,iteration562,cost0.11509414088043592\n",
      "w0-0.021312617804506283,w10.37904934691284603,w20.21910996606001967,w30.3478088591687523,iteration563,cost0.11503914953138279\n",
      "w0-0.02133175420902296,w10.3792384915920297,w20.2191180716181796,w30.3479433535993843,iteration564,cost0.11498455658056504\n",
      "w0-0.02135085448424579,w10.3794270310420828,w20.2191257661182915,w30.34807726767559344,iteration565,cost0.11493035849375313\n",
      "w0-0.021369918720513987,w10.3796149678856974,w20.2191330517426612,w30.3482106040584697,iteration566,cost0.11487655176927626\n",
      "w0-0.021388947007881545,w10.37980230473350285,w20.2191399306632515,w30.34834336539675204,iteration567,cost0.11482313293771997\n",
      "w0-0.02140793943611828,w10.3799890441841219,w20.21914640504173022,w30.3484755543268859,iteration568,cost0.11477009856162741\n",
      "w0-0.021426896094710927,w10.3801751888242262,w20.2191524770295184,w30.3486071734730805,iteration569,cost0.11471744523520305\n",
      "w0-0.021445817072864175,w10.3803607412285919,w20.21915814876783804,w30.34873822544736577,iteration570,cost0.1146651695840191\n",
      "w0-0.021464702459501737,w10.38054570396015514,w20.21916342238775965,w30.3488687128496487,iteration571,cost0.11461326826472505\n",
      "w0-0.02148355234326741,w10.3807300795700665,w20.21916830001024962,w30.34899863826777006,iteration572,cost0.11456173796475923\n",
      "w0-0.021502366812526114,w10.3809138705977462,w20.21917278374621732,w30.34912800427756024,iteration573,cost0.11451057540206389\n",
      "w0-0.02152114595536494,w10.38109707957093825,w20.21917687569656202,w30.34925681344289533,iteration574,cost0.114459777324802\n",
      "w0-0.021539889859594184,w10.3812797090057649,w20.21918057795221965,w30.3493850683157525,iteration575,cost0.11440934051107744\n",
      "w0-0.0215585986127484,w10.38146176140678056,w20.2191838925942092,w30.3495127714362654,iteration576,cost0.11435926176865747\n",
      "w0-0.021577272302087416,w10.38164323926702526,w20.21918682169367895,w30.3496399253327794,iteration577,cost0.11430953793469756\n",
      "w0-0.021595911014597367,w10.38182414506807844,w20.21918936731195263,w30.34976653252190604,iteration578,cost0.11426016587546937\n",
      "w0-0.02161451483699172,w10.382004481280112,w20.21919153150057513,w30.349892595508578,iteration579,cost0.11421114248609085\n",
      "w0-0.021633083855712287,w10.3821842503619433,w20.21919331630135822,w30.3500181167861031,iteration580,cost0.11416246469025816\n",
      "w0-0.021651618156930244,w10.38236345476108785,w20.21919472374642585,w30.3501430988362186,iteration581,cost0.11411412943998225\n",
      "w0-0.021670117826547142,w10.38254209691381186,w20.21919575585825943,w30.35026754412914474,iteration582,cost0.11406613371532487\n",
      "w0-0.021688582950195913,w10.38272017924518437,w20.21919641464974277,w30.35039145512363856,iteration583,cost0.11401847452413955\n",
      "w0-0.021707013613241864,w10.38289770416912927,w20.21919670212420683,w30.35051483426704705,iteration584,cost0.11397114890181387\n",
      "w0-0.021725409900783692,w10.3830746740884772,w20.21919662027547437,w30.35063768399536016,iteration585,cost0.11392415391101421\n",
      "w0-0.021743771897654456,w10.3832510913950167,w20.2191961710879042,w30.35076000673326374,iteration586,cost0.11387748664143292\n",
      "w0-0.021762099688422586,w10.38342695846954583,w20.21919535653643543,w30.3508818048941921,iteration587,cost0.11383114420953773\n",
      "w0-0.021780393357392857,w10.3836022776819231,w20.21919417858663132,w30.3510030808803801,iteration588,cost0.11378512375832393\n",
      "w0-0.02179865298860737,w10.3837770513911182,w20.2191926391947231,w30.3511238370829157,iteration589,cost0.11373942245706838\n",
      "w0-0.02181687866584654,w10.3839512819452624,w20.21919074030765348,w30.35124407588179135,iteration590,cost0.11369403750108587\n",
      "w0-0.02183507047263005,w10.3841249716816993,w20.21918848386311995,w30.35136379964595565,iteration591,cost0.11364896611148781\n",
      "w0-0.02185322849221785,w10.38429812292703447,w20.219185871789618,w30.3514830107333649,iteration592,cost0.11360420553494334\n",
      "w0-0.021871352807611082,w10.3844707379971856,w20.2191829060064839,w30.3516017114910341,iteration593,cost0.11355975304344264\n",
      "w0-0.02188944350155308,w10.384642819197432,w20.21917958842393767,w30.3517199042550877,iteration594,cost0.1135156059340616\n",
      "w0-0.021907500656530295,w10.3848143688224639,w20.21917592094312535,w30.3518375913508106,iteration595,cost0.11347176152873019\n",
      "w0-0.02192552435477328,w10.3849853891564319,w20.21917190545616153,w30.3519547750926981,iteration596,cost0.1134282171740016\n",
      "w0-0.021943514678257604,w10.3851558824729955,w20.21916754384617135,w30.35207145778450655,iteration597,cost0.11338497024082426\n",
      "w0-0.021961471708704827,w10.38532585103537215,w20.2191628379873326,w30.3521876417193027,iteration598,cost0.11334201812431581\n",
      "w0-0.021979395527583427,w10.3854952970963856,w20.21915778974491731,w30.35230332917951407,iteration599,cost0.11329935824353916\n",
      "w0-0.02199728621610974,w10.38566422289851404,w20.21915240097533342,w30.35241852243697785,iteration600,cost0.11325698804128047\n",
      "w0-0.022015143855248887,w10.38583263067393836,w20.21914667352616607,w30.3525332237529905,iteration601,cost0.11321490498382947\n"
     ]
    },
    {
     "name": "stdout",
     "output_type": "stream",
     "text": [
      "w0-0.022032968525715714,w10.3860005226445897,w20.21914060923621878,w30.35264743537835663,iteration602,cost0.11317310656076161\n",
      "w0-0.022050760307975717,w10.3861679010221973,w20.21913420993555444,w30.3527611595534378,iteration603,cost0.11313159028472221\n",
      "w0-0.022068519282245954,w10.3863347680083355,w20.2191274774455361,w30.352874398508201,iteration604,cost0.11309035369121312\n",
      "w0-0.022086245528495974,w10.3865011257944714,w20.21912041357886758,w30.35298715446226725,iteration605,cost0.11304939433838036\n",
      "w0-0.022103939126448723,w10.38666697656201116,w20.2191130201396338,w30.3530994296249593,iteration606,cost0.11300870980680472\n",
      "w0-0.02212160015558146,w10.3868323224823473,w20.2191052989233411,w30.35321122619535,iteration607,cost0.11296829769929366\n",
      "w0-0.022139228695126658,w10.3869971657169047,w20.2190972517169572,w30.3533225463623095,iteration608,cost0.11292815564067568\n",
      "w0-0.022156824824072916,w10.38716150841718716,w20.21908888029895107,w30.3534333923045529,iteration609,cost0.11288828127759602\n",
      "w0-0.02217438862116585,w10.38732535272482344,w20.2190801864393326,w30.35354376619068756,iteration610,cost0.11284867227831434\n",
      "w0-0.022191920164908993,w10.3874887007716129,w20.21907117189969208,w30.35365367017925997,iteration611,cost0.11280932633250525\n",
      "w0-0.02220941953356468,w10.38765155467957135,w20.21906183843323943,w30.35376310641880254,iteration612,cost0.11277024115105898\n",
      "w0-0.022226886805154944,w10.38781391656097636,w20.21905218778484337,w30.3538720770478802,iteration613,cost0.11273141446588544\n",
      "w0-0.022244322057462403,w10.3879757885184124,w20.21904222169107032,w30.3539805841951368,iteration614,cost0.11269284402971927\n",
      "w0-0.022261725368031126,w10.38813717264481606,w20.21903194188022324,w30.354088629979341,iteration615,cost0.11265452761592679\n",
      "w0-0.022279096814167523,w10.38829807102352054,w20.21902135007238,w30.3541962165094325,iteration616,cost0.11261646301831535\n",
      "w0-0.02229643647294122,w10.38845848572830044,w20.21901044797943192,w30.35430334588456763,iteration617,cost0.11257864805094318\n",
      "w0-0.022313744421185912,w10.388618418823416,w20.21899923730512197,w30.3544100201941648,iteration618,cost0.1125410805479326\n",
      "w0-0.022331020735500254,w10.3887778723636575,w20.21898771974508272,w30.3545162415179497,iteration619,cost0.1125037583632837\n",
      "w0-0.022348265492248703,w10.3889368483943888,w20.21897589698687422,w30.35462201192600057,iteration620,cost0.11246667937069015\n",
      "w0-0.022365478767562383,w10.3890953489515915,w20.21896377071002177,w30.3547273334787929,iteration621,cost0.11242984146335698\n",
      "w0-0.022382660637339947,w10.3892533760619082,w20.21895134258605328,w30.35483220822724415,iteration622,cost0.11239324255381987\n",
      "w0-0.022399811177248423,w10.3894109317426861,w20.21893861427853667,w30.3549366382127582,iteration623,cost0.1123568805737658\n",
      "w0-0.022416930462724066,w10.3895680180020199,w20.21892558744311702,w30.3550406254672696,iteration624,cost0.11232075347385594\n",
      "w0-0.0224340185689732,w10.38972463683879494,w20.21891226372755357,w30.3551441720132875,iteration625,cost0.11228485922354987\n",
      "w0-0.022451075570973054,w10.3898807902427298,w20.21889864477175644,w30.35524727986393956,iteration626,cost0.11224919581093112\n",
      "w0-0.02246810154347262,w10.390036480194419,w20.21888473220782337,w30.35534995102301553,iteration627,cost0.11221376124253504\n",
      "w0-0.02248509656099346,w10.3901917086653751,w20.21887052766007614,w30.3554521874850108,iteration628,cost0.11217855354317802\n",
      "w0-0.02250206069783056,w10.3903464776180712,w20.21885603274509685,w30.3555539912351693,iteration629,cost0.11214357075578746\n",
      "w0-0.02251899402805315,w10.39050078900598245,w20.21884124907176408,w30.35565536424952693,iteration630,cost0.11210881094123473\n",
      "w0-0.022535896625505522,w10.3906546447736284,w20.21882617824128886,w30.3557563084949541,iteration631,cost0.1120742721781686\n",
      "w0-0.022552768563807862,w10.3908080468566139,w20.2188108218472504,w30.3558568259291984,iteration632,cost0.11203995256285086\n",
      "w0-0.02256960991635706,w10.39096099718167104,w20.21879518147563173,w30.35595691850092703,iteration633,cost0.11200585020899281\n",
      "w0-0.02258642075632753,w10.39111349766669995,w20.21877925870485526,w30.3560565881497691,iteration634,cost0.111971963247594\n",
      "w0-0.022603201156672012,w10.39126555022081,w20.21876305510581795,w30.35615583680635743,iteration635,cost0.11193828982678206\n",
      "w0-0.022619951190122386,w10.39141715674436056,w20.21874657224192648,w30.3562546663923707,iteration636,cost0.11190482811165371\n",
      "w0-0.02263667092919048,w10.3915683191290015,w20.21872981166913225,w30.3563530788205748,iteration637,cost0.11187157628411813\n",
      "w0-0.02265336044616886,w10.3917190392577137,w20.21871277493596614,w30.3564510759948645,iteration638,cost0.11183853254274106\n",
      "w0-0.02267001981313164,w10.39186931900484934,w20.21869546358357317,w30.3565486598103044,iteration639,cost0.11180569510259025\n",
      "w0-0.02268664910193527,w10.39201916023617184,w20.218677879145747,w30.3566458321531704,iteration640,cost0.11177306219508305\n",
      "w0-0.022703248384219315,w10.3921685648088957,w20.21866002314896418,w30.3567425949009902,iteration641,cost0.11174063206783492\n",
      "w0-0.02271981773140727,w10.39231753457172636,w20.21864189711241847,w30.3568389499225841,iteration642,cost0.1117084029845091\n",
      "w0-0.022736357214707327,w10.39246607136489936,w20.2186235025480546,w30.3569348990781055,iteration643,cost0.11167637322466864\n",
      "w0-0.022752866905113155,w10.39261417702022,w20.21860484096060234,w30.3570304442190813,iteration644,cost0.11164454108362835\n",
      "w0-0.022769346873404685,w10.39276185336110225,w20.21858591384761009,w30.35712558718845183,iteration645,cost0.1116129048723097\n",
      "w0-0.02278579719014888,w10.3929091022026077,w20.21856672269947836,w30.35722032982061086,iteration646,cost0.11158146291709575\n",
      "w0-0.022802217925700512,w10.39305592535148454,w20.21854726899949323,w30.3573146739414453,iteration647,cost0.11155021355968833\n",
      "w0-0.02281860915020293,w10.39320232460620574,w20.21852755422385955,w30.3574086213683748,iteration648,cost0.11151915515696617\n",
      "w0-0.02283497093358882,w10.3933483017570078,w20.21850757984173397,w30.3575021739103912,iteration649,cost0.1114882860808441\n",
      "w0-0.022851303345580973,w10.3934938585859288,w20.21848734731525785,w30.35759533336809746,iteration650,cost0.11145760471813397\n",
      "w0-0.02286760645569304,w10.39363899686684645,w20.21846685809959004,w30.3576881015337469,iteration651,cost0.11142710947040692\n",
      "w0-0.022883880333230293,w10.3937837183655161,w20.2184461136429395,w30.35778048019128195,iteration652,cost0.11139679875385652\n",
      "w0-0.022900125047290373,w10.3939280248396083,w20.21842511538659773,w30.35787247111637277,iteration653,cost0.11136667099916342\n",
      "w0-0.022916340666764044,w10.3940719180387463,w20.21840386476497103,w30.35796407607645575,iteration654,cost0.11133672465136113\n",
      "w0-0.022932527260335938,w10.3942153997045434,w20.21838236320561275,w30.35805529683077175,iteration655,cost0.11130695816970324\n",
      "w0-0.022948684896485303,w10.3943584715706402,w20.21836061212925517,w30.3581461351304042,iteration656,cost0.11127737002753192\n",
      "w0-0.022964813643486733,w10.3945011353627415,w20.21833861294984147,w30.35823659271831715,iteration657,cost0.11124795871214727\n",
      "w0-0.02298091356941092,w10.3946433927986533,w20.21831636707455734,w30.35832667132939283,iteration658,cost0.11121872272467814\n",
      "w0-0.02299698474212538,w10.3947852455883191,w20.2182938759038626,w30.3584163726904694,iteration659,cost0.11118966057995414\n",
      "w0-0.023013027229295182,w10.3949266954338568,w20.21827114083152255,w30.35850569852037817,iteration660,cost0.11116077080637865\n",
      "w0-0.023029041098383687,w10.39506774402959466,w20.2182481632446393,w30.3585946505299811,iteration661,cost0.11113205194580367\n",
      "w0-0.023045026416653267,w10.39520839306210764,w20.21822494452368288,w30.3586832304222075,iteration662,cost0.1111035025534046\n",
      "w0-0.023060983251166026,w10.3953486442102534,w20.21820148604252212,w30.35877143989209126,iteration663,cost0.11107512119755744\n",
      "w0-0.02307691166878453,w10.3954884991452079,w20.2181777891684556,w30.3588592806268073,iteration664,cost0.11104690645971642\n",
      "w0-0.02309281173617251,w10.3956279595305013,w20.21815385526224224,w30.35894675430570816,iteration665,cost0.111018856934293\n",
      "w0-0.023108683519795583,w10.3957670270220532,w20.21812968567813196,w30.3590338626003606,iteration666,cost0.11099097122853589\n",
      "w0-0.02312452708592197,w10.3959057032682081,w20.21810528176389593,w30.35912060717458144,iteration667,cost0.11096324796241201\n",
      "w0-0.023140342500623193,w10.3960439899097706,w20.21808064486085693,w30.3592069896844739,iteration668,cost0.11093568576848929\n",
      "w0-0.023156129829774785,w10.39618188858004005,w20.21805577630391948,w30.35929301177846323,iteration669,cost0.1109082832918195\n",
      "w0-0.023171889139056996,w10.39631940090484585,w20.21803067742159973,w30.35937867509733257,iteration670,cost0.11088103918982317\n",
      "w0-0.023187620493955483,w10.3964565285025817,w20.21800534953605538,w30.3594639812742584,iteration671,cost0.11085395213217461\n",
      "w0-0.02320332395976202,w10.3965932729842403,w20.21797979396311534,w30.35954893193484594,iteration672,cost0.11082702080068892\n",
      "w0-0.023218999601575183,w10.39672963595344773,w20.21795401201230932,w30.35963352869716436,iteration673,cost0.11080024388920943\n",
      "w0-0.023234647484301034,w10.39686561900649747,w20.2179280049868972,w30.35971777317178183,iteration674,cost0.11077362010349678\n",
      "w0-0.023250267672653833,w10.39700122373238445,w20.2179017741838984,w30.35980166696180027,iteration675,cost0.11074714816111757\n",
      "w0-0.0232658602311567,w10.397136451712839,w20.2178753208941209,w30.3598852116628902,iteration676,cost0.11072082679133637\n",
      "w0-0.02328142522414231,w10.39727130452236054,w20.21784864640219045,w30.3599684088633253,iteration677,cost0.11069465473500667\n",
      "w0-0.02329696271575357,w10.39740578372825097,w20.21782175198657927,w30.36005126014401667,iteration678,cost0.11066863074446412\n",
      "w0-0.02331247276994429,w10.3975398908906483,w20.21779463891963485,w30.3601337670785472,iteration679,cost0.11064275358341977\n",
      "w0-0.02332795545047987,w10.3976736275625597,w20.2177673084676086,w30.3602159312332056,iteration680,cost0.11061702202685521\n",
      "w0-0.023343410820937965,w10.3978069952898946,w20.21773976189068434,w30.3602977541670202,iteration681,cost0.11059143486091808\n",
      "w0-0.023358838944709154,w10.39793999561149773,w20.21771200044300654,w30.3603792374317929,iteration682,cost0.11056599088281865\n",
      "w0-0.023374239884997604,w10.3980726300591818,w20.21768402537270864,w30.3604603825721326,iteration683,cost0.11054068890072817\n",
      "w0-0.02338961370482174,w10.3982049001577601,w20.21765583792194113,w30.36054119112548877,iteration684,cost0.1105155277336763\n",
      "w0-0.023404960467014894,w10.39833680742507904,w20.21762743932689937,w30.36062166462218465,iteration685,cost0.11049050621145146\n",
      "w0-0.02342028023422598,w10.3984683533720504,w20.21759883081785164,w30.3607018045854504,iteration686,cost0.1104656231745011\n",
      "w0-0.02343557306892014,w10.39859953950268356,w20.21757001361916659,w30.3607816125314562,iteration687,cost0.11044087747383327\n",
      "w0-0.023450839033379394,w10.3987303673141175,w20.21754098894934096,w30.36086108996934474,iteration688,cost0.11041626797091815\n",
      "w0-0.023466078189703296,w10.3988608382966526,w20.21751175802102699,w30.36094023840126427,iteration689,cost0.11039179353759236\n",
      "w0-0.02348129059980958,w10.3989909539337825,w20.2174823220410597,w30.3610190593224009,iteration690,cost0.11036745305596209\n"
     ]
    },
    {
     "name": "stdout",
     "output_type": "stream",
     "text": [
      "w0-0.023496476325434803,w10.3991207157022255,w20.21745268221048406,w30.36109755422101114,iteration691,cost0.1103432454183088\n",
      "w0-0.023511635428134996,w10.39925012507195623,w20.2174228397245821,w30.3611757245784539,iteration692,cost0.11031916952699468\n",
      "w0-0.023526767969286287,w10.39937918350623663,w20.21739279577289974,w30.36125357186922274,iteration693,cost0.1102952242943696\n",
      "w0-0.023541874010085555,w10.3995078924616473,w20.21736255153927372,w30.3613310975609776,iteration694,cost0.11027140864267843\n",
      "w0-0.023556953611551055,w10.39963625338811837,w20.2173321082018582,w30.3614083031145768,iteration695,cost0.11024772150396987\n",
      "w0-0.023572006834523054,w10.39976426772896045,w20.2173014669331513,w30.36148518998410845,iteration696,cost0.11022416182000565\n",
      "w0-0.023587033739664462,w10.3998919369208953,w20.21727062890002158,w30.36156175961692216,iteration697,cost0.11020072854217053\n",
      "w0-0.02360203438746145,w10.40001926239408636,w20.2172395952637343,w30.36163801345366015,iteration698,cost0.11017742063138346\n",
      "w0-0.02361700883822409,w10.4001462455721691,w20.21720836717997766,w30.3617139529282885,iteration699,cost0.11015423705800936\n",
      "w0-0.02363195715208696,w10.4002728878722815,w20.21717694579888883,w30.36178957946812823,iteration700,cost0.11013117680177181\n",
      "w0-0.02364687938900978,w10.40039919070509394,w20.21714533226507984,w30.3618648944938862,iteration701,cost0.11010823885166608\n",
      "w0-0.02366177560877801,w10.40052515547483947,w20.21711352771766354,w30.3619398994196858,iteration702,cost0.11008542220587424\n",
      "w0-0.023676645871003484,w10.40065078357934336,w20.21708153329027916,w30.36201459565309757,iteration703,cost0.1100627258716793\n",
      "w0-0.02369149023512501,w10.4007760764100531,w20.21704935011111795,w30.3620889845951697,iteration704,cost0.11004014886538162\n",
      "w0-0.023706308760408978,w10.40090103535206767,w20.21701697930294866,w30.3621630676404583,iteration705,cost0.11001769021221511\n",
      "w0-0.023721101505949978,w10.4010256617841674,w20.21698442198314286,w30.3622368461770577,iteration706,cost0.10999534894626517\n",
      "w0-0.023735868530671396,w10.4011499570788429,w20.21695167926370013,w30.3623103215866303,iteration707,cost0.10997312411038614\n",
      "w0-0.023750609893326016,w10.4012739226023243,w20.21691875225127322,w30.36238349524443664,iteration708,cost0.1099510147561208\n",
      "w0-0.023765325652496627,w10.40139755971461055,w20.21688564204719307,w30.36245636851936514,iteration709,cost0.10992901994361971\n",
      "w0-0.02378001586659661,w10.40152086976949797,w20.21685234974749362,w30.36252894277396164,iteration710,cost0.10990713874156188\n",
      "w0-0.02379468059387054,w10.4016438541146092,w20.21681887644293657,w30.36260121936445894,iteration711,cost0.10988537022707548\n",
      "w0-0.023809319892394785,w10.40176651409142167,w20.21678522321903607,w30.36267319964080613,iteration712,cost0.10986371348566008\n",
      "w0-0.023823933820078077,w10.4018888510352964,w20.2167513911560832,w30.3627448849466979,iteration713,cost0.10984216761110938\n",
      "w0-0.023838522434662113,w10.40201086627550614,w20.2167173813291704,w30.36281627661960336,iteration714,cost0.10982073170543392\n",
      "w0-0.023853085793722147,w10.4021325611352636,w20.21668319480821585,w30.36288737599079535,iteration715,cost0.1097994048787859\n",
      "w0-0.023867623954667554,w10.4022539369317495,w20.21664883265798754,w30.3629581843853789,iteration716,cost0.10977818624938324\n",
      "w0-0.023882136974742427,w10.4023749949761408,w20.21661429593812737,w30.36302870312232016,iteration717,cost0.10975707494343526\n",
      "w0-0.023896624911026152,w10.40249573657363835,w20.21657958570317518,w30.3630989335144748,iteration718,cost0.10973607009506907\n",
      "w0-0.02391108782043398,w10.40261616302349457,w20.21654470300259257,w30.3631688768686165,iteration719,cost0.10971517084625597\n",
      "w0-0.023925525759717597,w10.402736275619041,w20.21650964888078658,w30.363238534485465,iteration720,cost0.10969437634673913\n",
      "w0-0.02393993878546571,w10.4028560756477161,w20.2164744243771334,w30.36330790765971466,iteration721,cost0.10967368575396179\n",
      "w0-0.023954326954104606,w10.402975564391092,w20.2164390305260019,w30.36337699768006215,iteration722,cost0.10965309823299604\n",
      "w0-0.023968690321898717,w10.40309474312490223,w20.21640346835677696,w30.36344580582923436,iteration723,cost0.10963261295647209\n",
      "w0-0.023983028944951187,w10.40321361311906856,w20.2163677388938828,w30.36351433338401623,iteration724,cost0.10961222910450884\n",
      "w0-0.023997342879204443,w10.4033321756377279,w20.21633184315680623,w30.3635825816152784,iteration725,cost0.10959194586464445\n",
      "w0-0.02401163218044074,w10.40345043193925917,w20.2162957821601197,w30.3636505517880046,iteration726,cost0.10957176243176767\n",
      "w0-0.024025896904282733,w10.4035683832763101,w20.21625955691350424,w30.3637182451613191,iteration727,cost0.10955167800805009\n",
      "w0-0.024040137106194025,w10.40368603089582367,w20.2162231684217724,w30.363785662988514,iteration728,cost0.10953169180287853\n",
      "w0-0.024054352841479717,w10.4038033760390646,w20.21618661768489092,w30.36385280651707613,iteration729,cost0.10951180303278896\n",
      "w0-0.024068544165286972,w10.4039204199416457,w20.21614990569800352,w30.3639196769887143,iteration730,cost0.10949201092139989\n",
      "w0-0.02408271113260555,w10.40403716383355404,w20.21611303345145336,w30.36398627563938596,iteration731,cost0.10947231469934691\n",
      "w0-0.024096853798268366,w10.40415360893917707,w20.2160760019308055,w30.364052603699324,iteration732,cost0.10945271360421832\n",
      "w0-0.024110972216952024,w10.4042697564773285,w20.2160388121168693,w30.3641186623930635,iteration733,cost0.10943320688049049\n",
      "w0-0.02412506644317737,w10.40438560766127424,w20.2160014649857205,w30.36418445293946794,iteration734,cost0.10941379377946428\n",
      "w0-0.02413913653131003,w10.4045011636987581,w20.2159639615087236,w30.36424997655175584,iteration735,cost0.10939447355920214\n",
      "w0-0.024153182535560938,w10.4046164257920274,w20.2159263026525537,w30.36431523443752684,iteration736,cost0.1093752454844655\n",
      "w0-0.02416720450998689,w10.4047313951378583,w20.2158884893792185,w30.3643802277987878,iteration737,cost0.10935610882665296\n",
      "w0-0.02418120250849106,w10.40484607292758135,w20.21585052264608015,w30.364444957831979,iteration738,cost0.10933706286373884\n",
      "w0-0.024195176584823546,w10.4049604603471067,w20.2158124034058769,w30.36450942572799977,iteration739,cost0.10931810688021273\n",
      "w0-0.024209126792581886,w10.40507455857694913,w20.21577413260674486,w30.3645736326722344,iteration740,cost0.10929924016701882\n",
      "w0-0.0242230531852116,w10.4051883687922532,w20.21573571119223936,w30.3646375798445778,iteration741,cost0.1092804620214968\n",
      "w0-0.024236955816006708,w10.4053018921628179,w20.2156971401013565,w30.36470126841946077,iteration742,cost0.10926177174732239\n",
      "w0-0.02425083473811025,w10.40541512985312195,w20.2156584202685544,w30.36476469956587576,iteration743,cost0.10924316865444925\n",
      "w0-0.024264690004514814,w10.4055280830223477,w20.21561955262377452,w30.36482787444740195,iteration744,cost0.10922465205905041\n",
      "w0-0.02427852166806305,w10.40564075282440637,w20.2155805380924627,w30.36489079422223036,iteration745,cost0.10920622128346116\n",
      "w0-0.024292329781448196,w10.40575314040796207,w20.21554137759559017,w30.3649534600431891,iteration746,cost0.10918787565612233\n",
      "w0-0.024306114397214577,w10.4058652469164563,w20.2155020720496746,w30.3650158730577681,iteration747,cost0.10916961451152356\n",
      "w0-0.024319875567758137,w10.40597707348813217,w20.21546262236680078,w30.365078034408144,iteration748,cost0.10915143719014762\n",
      "w0-0.024333613345326934,w10.4060886212560583,w20.21542302945464153,w30.3651399452312049,iteration749,cost0.10913334303841496\n",
      "w0-0.02434732778202166,w10.40619989134815315,w20.21538329421647817,w30.3652016066585749,iteration750,cost0.10911533140862904\n",
      "w0-0.024361018929796148,w10.4063108848872085,w20.2153434175512212,w30.36526301981663845,iteration751,cost0.10909740165892175\n",
      "w0-0.024374686840457863,w10.40642160299091346,w20.21530340035343062,w30.365324185826565,iteration752,cost0.10907955315319995\n",
      "w0-0.024388331565668418,w10.4065320467718781,w20.21526324351333642,w30.365385105804333,iteration753,cost0.10906178526109173\n",
      "w0-0.024401953156944076,w10.4066422173376569,w20.21522294791685875,w30.365445780860754,iteration754,cost0.109044097357894\n",
      "w0-0.024415551665656243,w10.4067521157907722,w20.21518251444562808,w30.36550621210149703,iteration755,cost0.10902648882451987\n",
      "w0-0.024429127143031967,w10.40686174322873764,w20.21514194397700534,w30.36556640062711193,iteration756,cost0.10900895904744698\n",
      "w0-0.02444267964015443,w10.4069711007440812,w20.2151012373841018,w30.3656263475330537,iteration757,cost0.10899150741866588\n",
      "w0-0.02445620920796345,w10.40708018942436847,w20.21506039553579906,w30.36568605390970577,iteration758,cost0.10897413333562948\n",
      "w0-0.024469715897255963,w10.4071890103522255,w20.21501941929676877,w30.36574552084240386,iteration759,cost0.10895683620120226\n",
      "w0-0.02448319975868651,w10.40729756460536176,w20.2149783095274923,w30.36580474941145935,iteration760,cost0.1089396154236108\n",
      "w0-0.024496660842767738,w10.407405853256593,w20.21493706708428048,w30.3658637406921825,iteration761,cost0.10892247041639368\n",
      "w0-0.024510099199870874,w10.4075138773738638,w20.214895692819293,w30.36592249575490593,iteration762,cost0.10890540059835299\n",
      "w0-0.02452351488022621,w10.40762163802027024,w20.2148541875805578,w30.36598101566500757,iteration763,cost0.10888840539350549\n",
      "w0-0.02453690793392359,w10.40772913625408225,w20.21481255221199055,w30.36603930148293384,iteration764,cost0.1088714842310344\n",
      "w0-0.024550278410912882,w10.40783637312876614,w20.2147707875534138,w30.3660973542642224,iteration765,cost0.10885463654524209\n",
      "w0-0.02456362636100446,w10.4079433496930067,w20.21472889444057616,w30.36615517505952516,iteration766,cost0.10883786177550242\n",
      "w0-0.02457695183386968,w10.40805006699072954,w20.2146868737051713,w30.3662127649146309,iteration767,cost0.1088211593662141\n",
      "w0-0.024590254879041352,w10.40815652606112285,w20.21464472617485705,w30.36627012487048777,iteration768,cost0.1088045287667545\n",
      "w0-0.024603535545914216,w10.4082627279386597,w20.21460245267327419,w30.36632725596322596,iteration769,cost0.10878796943143333\n",
      "w0-0.024616793883745405,w10.4083686736531197,w20.2145600540200653,w30.3663841592241801,iteration770,cost0.10877148081944764\n",
      "w0-0.024630029941654922,w10.40847436422961064,w20.21451753103089347,w30.36644083567991137,iteration771,cost0.10875506239483632\n",
      "w0-0.024643243768626102,w10.40857980068859046,w20.21447488451746086,w30.36649728635222983,iteration772,cost0.10873871362643553\n",
      "w0-0.024656435413506074,w10.4086849840458885,w20.21443211528752737,w30.36655351225821653,iteration773,cost0.1087224339878344\n",
      "w0-0.024669604925006233,w10.40878991531272707,w20.21438922414492897,w30.3666095144102454,iteration774,cost0.10870622295733151\n",
      "w0-0.024682752351702687,w10.40889459549574275,w20.21434621188959613,w30.3666652938160052,iteration775,cost0.108690080017891\n",
      "w0-0.024695877742036732,w10.4089990255970077,w20.2143030793175721,w30.3667208514785212,iteration776,cost0.10867400465709988\n",
      "w0-0.024708981144315297,w10.4091032066140507,w20.21425982722103104,w30.3667761883961769,iteration777,cost0.10865799636712506\n",
      "w0-0.024722062606711406,w10.4092071395398784,w20.21421645638829628,w30.3668313055627358,iteration778,cost0.1086420546446715\n",
      "w0-0.024735122177264632,w10.40931082536299607,w20.2141729676038582,w30.36688620396736255,iteration779,cost0.10862617899093997\n",
      "w0-0.024748159903881545,w10.4094142650674285,w20.21412936164839222,w30.36694088459464447,iteration780,cost0.10861036891158599\n",
      "w0-0.024761175834336166,w10.40951745963274083,w20.21408563929877666,w30.36699534842461295,iteration781,cost0.10859462391667829\n",
      "w0-0.024774170016270417,w10.40962041003405913,w20.2140418013281106,w30.3670495964327644,iteration782,cost0.1085789435206586\n",
      "w0-0.024787142497194558,w10.4097231172420911,w20.21399784850573142,w30.3671036295900816,iteration783,cost0.1085633272423008\n",
      "w0-0.024800093324487644,w10.4098255822231463,w20.21395378159723252,w30.3671574488630543,iteration784,cost0.10854777460467169\n",
      "w0-0.024813022545397963,w10.4099278059391568,w20.21390960136448084,w30.3672110552137005,iteration785,cost0.1085322851350905\n",
      "w0-0.024825930207043476,w10.4100297893476972,w20.2138653085656343,w30.36726444959958704,iteration786,cost0.10851685836509062\n",
      "w0-0.02483881635641226,w10.410131533402005,w20.2138209039551591,w30.3673176329738502,iteration787,cost0.10850149383037996\n",
      "w0-0.024851681040362946,w10.41023303905100067,w20.21377638828384712,w30.3673706062852166,iteration788,cost0.10848619107080294\n",
      "w0-0.024864524305625153,w10.4103343072393076,w20.21373176229883306,w30.3674233704780233,iteration789,cost0.10847094963030234\n",
      "w0-0.02487734619879992,w10.4104353389072719,w20.2136870267436116,w30.3674759264922386,iteration790,cost0.10845576905688115\n",
      "w0-0.024890146766360147,w10.4105361349909825,w20.21364218235805435,w30.3675282752634819,iteration791,cost0.10844064890256573\n",
      "w0-0.024902926054651026,w10.41063669642229067,w20.21359722987842697,w30.36758041772304445,iteration792,cost0.10842558872336816\n",
      "w0-0.024915684109890462,w10.41073702412882956,w20.21355217003740595,w30.367632354797909,iteration793,cost0.10841058807924986\n",
      "w0-0.024928420978169503,w10.4108371190340339,w20.21350700356409544,w30.3676840874107701,iteration794,cost0.10839564653408504\n",
      "w0-0.024941136705452772,w10.4109369820571595,w20.213461731184044,w30.3677356164800538,iteration795,cost0.10838076365562484\n",
      "w0-0.024953831337578888,w10.4110366141133024,w20.2134163536192612,w30.36778694291993785,iteration796,cost0.10836593901546121\n",
      "w0-0.024966504920260892,w10.41113601611341827,w20.21337087158823428,w30.3678380676403711,iteration797,cost0.10835117218899216\n",
      "w0-0.024979157499086663,w10.4112351889643416,w20.21332528580594462,w30.3678889915470932,iteration798,cost0.10833646275538579\n",
      "w0-0.02499178911951934,w10.4113341335688047,w20.2132795969838841,w30.36793971554165444,iteration799,cost0.10832181029754658\n",
      "w0-0.025004399826897738,w10.41143285082545683,w20.21323380583007154,w30.36799024052143486,iteration800,cost0.10830721440208017\n",
      "w0-0.02501698966643677,w10.41153134162888294,w20.21318791304906884,w30.36804056737966395,iteration801,cost0.1082926746592596\n",
      "w0-0.02502955868322786,w10.41162960686962263,w20.21314191934199736,w30.36809069700543967,iteration802,cost0.1082781906629916\n",
      "w0-0.025042106922239352,w10.41172764743418877,w20.21309582540655383,w30.3681406302837478,iteration803,cost0.1082637620107829\n",
      "w0-0.025054634428316926,w10.4118254642050863,w20.21304963193702658,w30.36819036809548117,iteration804,cost0.10824938830370723\n",
      "w0-0.025067141246184,w10.41192305806083074,w20.21300333962431137,w30.3682399113174583,iteration805,cost0.10823506914637236\n",
      "w0-0.025079627420442153,w10.41202042987596654,w20.21295694915592733,w30.3682892608224428,iteration806,cost0.1082208041468878\n",
      "w0-0.025092092995571517,w10.41211758052108555,w20.21291046121603283,w30.36833841747916185,iteration807,cost0.10820659291683211\n",
      "w0-0.02510453801593119,w10.41221451086284544,w20.2128638764854411,w30.3683873821523252,iteration808,cost0.10819243507122137\n",
      "w0-0.025116962525759637,w10.4123112217639877,w20.21281719564163612,w30.36843615570264365,iteration809,cost0.1081783302284774\n",
      "w0-0.025129366569175093,w10.41240771408335597,w20.21277041935878793,w30.36848473898684786,iteration810,cost0.1081642780103963\n",
      "w0-0.025141750190175966,w10.412503988675914,w20.21272354830776843,w30.36853313285770667,iteration811,cost0.1081502780421176\n",
      "w0-0.02515411343264123,w10.41260004639276354,w20.21267658315616664,w30.36858133816404554,iteration812,cost0.10813632995209307\n",
      "w0-0.02516645634033083,w10.4126958880811625,w20.2126295245683042,w30.36862935575076494,iteration813,cost0.10812243337205678\n",
      "w0-0.025178778956886066,w10.41279151458454233,w20.21258237320525059,w30.3686771864588585,iteration814,cost0.10810858793699467\n",
      "w0-0.02519108132583,w10.4128869267425261,w20.21253512972483848,w30.3687248311254313,iteration815,cost0.10809479328511405\n",
      "w0-0.02520336349056784,w10.4129821253909459,w20.2124877947816788,w30.3687722905837179,iteration816,cost0.10808104905781532\n",
      "w0-0.025215625494387342,w10.41307711136186065,w20.21244036902717592,w30.3688195656631002,iteration817,cost0.10806735489966081\n",
      "w0-0.025227867380459183,w10.41317188548357325,w20.21239285310954256,w30.3688666571891254,iteration818,cost0.10805371045834734\n",
      "w0-0.025240089191837366,w10.4132664485806482,w20.2123452476738149,w30.3689135659835241,iteration819,cost0.10804011538467617\n",
      "w0-0.025252290971459593,w10.41336080147392884,w20.21229755336186737,w30.36896029286422755,iteration820,cost0.10802656933252519\n",
      "w0-0.025264472762147664,w10.4134549449805545,w20.21224977081242744,w30.3690068386453857,iteration821,cost0.10801307195882026\n",
      "w0-0.025276634606607847,w10.4135488799139779,w20.21220190066109046,w30.3690532041373846,iteration822,cost0.10799962292350704\n",
      "w0-0.02528877654743127,w10.41364260708398176,w20.21215394354033432,w30.369099390146864,iteration823,cost0.10798622188952385\n",
      "w0-0.025300898627094295,w10.4137361272966964,w20.212105900079534,w30.3691453974767345,iteration824,cost0.10797286852277317\n",
      "w0-0.025313000887958906,w10.4138294413546161,w20.2120577709049762,w30.3691912269261953,iteration825,cost0.10795956249209544\n",
      "w0-0.025325083372273075,w10.41392255005661616,w20.21200955663987375,w30.36923687929075105,iteration826,cost0.10794630346924104\n",
      "w0-0.02533714612217115,w10.41401545419796976,w20.21196125790438006,w30.3692823553622293,iteration827,cost0.10793309112884432\n",
      "w0-0.02534918917967422,w10.4141081545703645,w20.21191287531560346,w30.3693276559287974,iteration828,cost0.10791992514839664\n",
      "w0-0.0253612125866905,w10.4142006519619189,w20.21186440948762142,w30.3693727817749797,iteration829,cost0.10790680520822017\n",
      "w0-0.025373216385015687,w10.41429294715719917,w20.21181586103149486,w30.36941773368167424,iteration830,cost0.107893730991442\n",
      "w0-0.02538520061633335,w10.41438504093723544,w20.2117672305552822,w30.36946251242616984,iteration831,cost0.10788070218396831\n",
      "w0-0.02539716532221528,w10.41447693407953823,w20.21171851866405353,w30.36950711878216275,iteration832,cost0.10786771847445853\n",
      "w0-0.025409110544121878,w10.4145686273581148,w20.2116697259599045,w30.36955155351977326,iteration833,cost0.10785477955430062\n",
      "w0-0.0254210363234025,w10.41466012154348514,w20.21162085304197034,w30.3695958174055626,iteration834,cost0.10784188511758523\n",
      "w0-0.025432942701295834,w10.41475141740269844,w20.21157190050643981,w30.36963991120254913,iteration835,cost0.10782903486108156\n",
      "w0-0.025444829718930265,w10.4148425156993488,w20.21152286894656885,w30.36968383567022517,iteration836,cost0.10781622848421245\n",
      "w0-0.02545669741732423,w10.41493341719359156,w20.2114737589526945,w30.369727591564573,iteration837,cost0.10780346568902976\n",
      "w0-0.02546854583738659,w10.4150241226421589,w20.21142457111224844,w30.36977117963808154,iteration838,cost0.1077907461801909\n",
      "w0-0.02548037501991697,w10.41511463279837585,w20.21137530600977078,w30.36981460063976224,iteration839,cost0.10777806966493372\n",
      "w0-0.02549218500560614,w10.41520494841217614,w20.21132596422692346,w30.3698578553151656,iteration840,cost0.10776543585305426\n",
      "w0-0.025503975835036354,w10.41529507023011775,w20.21127654634250384,w30.36990094440639687,iteration841,cost0.10775284445688205\n",
      "w0-0.025515747548681716,w10.41538499899539855,w20.2112270529324581,w30.36994386865213247,iteration842,cost0.1077402951912575\n",
      "w0-0.025527500186908525,w10.4154747354478719,w20.21117748456989469,w30.36998662878763555,iteration843,cost0.10772778777350844\n",
      "w0-0.02553923378997564,w10.4155642803240621,w20.2111278418250975,w30.37002922554477213,iteration844,cost0.1077153219234277\n",
      "w0-0.02555094839803481,w10.41565363435717984,w20.2110781252655392,w30.37007165965202665,iteration845,cost0.10770289736324992\n",
      "w0-0.025562644051131053,w10.41574279827713745,w20.21102833545589447,w30.37011393183451796,iteration846,cost0.1076905138176298\n",
      "w0-0.02557432078920298,w10.4158317728105642,w20.21097847295805303,w30.37015604281401465,iteration847,cost0.10767817101361912\n",
      "w0-0.025585978652083147,w10.41592055868082156,w20.21092853833113273,w30.3701979933089509,iteration848,cost0.10766586868064561\n",
      "w0-0.025597617679498415,w10.41600915660801824,w20.2108785321314926,w30.37023978403444185,iteration849,cost0.1076536065504901\n",
      "w0-0.025609237911070278,w10.4160975673090252,w20.21082845491274574,w30.3702814157022989,iteration850,cost0.10764138435726578\n",
      "w0-0.025620839386315212,w10.41618579149749074,w20.21077830722577223,w30.3703228890210453,iteration851,cost0.10762920183739659\n",
      "w0-0.02563242214464502,w10.4162738298838554,w20.21072808961873196,w30.37036420469593134,iteration852,cost0.10761705872959565\n",
      "w0-0.02564398622536717,w10.41636168317536676,w20.21067780263707736,w30.3704053634289495,iteration853,cost0.10760495477484454\n"
     ]
    },
    {
     "name": "stdout",
     "output_type": "stream",
     "text": [
      "w0-0.02565553166768513,w10.4164493520760941,w20.2106274468235661,w30.37044636591884955,iteration854,cost0.10759288971637251\n",
      "w0-0.025667058510698715,w10.41653683728694346,w20.2105770227182738,w30.3704872128611538,iteration855,cost0.10758086329963575\n",
      "w0-0.025678566793404415,w10.4166241395056718,w20.21052653085860656,w30.37052790494817206,iteration856,cost0.10756887527229696\n",
      "w0-0.025690056554695737,w10.4167112594269019,w20.21047597177931351,w30.37056844286901636,iteration857,cost0.10755692538420535\n",
      "w0-0.025701527833363536,w10.41679819774213683,w20.21042534601249924,w30.37060882730961603,iteration858,cost0.10754501338737597\n",
      "w0-0.02571298066809635,w10.41688495513977425,w20.21037465408763625,w30.37064905895273237,iteration859,cost0.10753313903597043\n",
      "w0-0.025724415097480722,w10.41697153230512085,w20.21032389653157732,w30.3706891384779735,iteration860,cost0.10752130208627732\n",
      "w0-0.025735831160001547,w10.41705792992040663,w20.21027307386856772,w30.3707290665618089,iteration861,cost0.10750950229669173\n",
      "w0-0.02574722889404239,w10.4171441486647992,w20.21022218662025757,w30.37076884387758385,iteration862,cost0.1074977394276973\n",
      "w0-0.025758608337885812,w10.4172301892144179,w20.2101712353057139,w30.37080847109553444,iteration863,cost0.10748601324184592\n",
      "w0-0.025769969529713707,w10.41731605224234786,w20.2101202204414329,w30.3708479488828015,iteration864,cost0.10747432350373932\n",
      "w0-0.025781312507607616,w10.4174017384186541,w20.21006914254135178,w30.3708872779034451,iteration865,cost0.10746266998001038\n",
      "w0-0.025792637309549057,w10.4174872484103954,w20.2100180021168611,w30.3709264588184592,iteration866,cost0.1074510524393038\n",
      "w0-0.025803943973419848,w10.4175725828816384,w20.20996679967681645,w30.37096549228578546,iteration867,cost0.10743947065225871\n",
      "w0-0.025815232537002426,w10.41765774249347115,w20.2099155357275504,w30.3710043789603277,iteration868,cost0.10742792439148963\n",
      "w0-0.025826503037980172,w10.41774272790401723,w20.20986421077288445,w30.3710431194939658,iteration869,cost0.10741641343156853\n",
      "w0-0.025837755513937726,w10.4178275397684491,w20.20981282531414078,w30.37108171453557004,iteration870,cost0.1074049375490069\n",
      "w0-0.025848990002361304,w10.4179121787390021,w20.20976137985015392,w30.37112016473101483,iteration871,cost0.1073934965222382\n",
      "w0-0.02586020654063902,w10.4179966454649878,w20.2097098748772825,w30.37115847072319275,iteration872,cost0.1073820901315998\n",
      "w0-0.025871405166061196,w10.4180809405928076,w20.2096583108894208,w30.3711966331520284,iteration873,cost0.107370718159316\n",
      "w0-0.025882585915820683,w10.4181650647659661,w20.20960668837801044,w30.37123465265449207,iteration874,cost0.10735938038948062\n",
      "w0-0.025893748827013164,w10.4182490186250847,w20.20955500783205178,w30.37127252986461373,iteration875,cost0.10734807660803948\n",
      "w0-0.02590489393663748,w10.4183328028079147,w20.20950326973811542,w30.3713102654134964,iteration876,cost0.10733680660277425\n",
      "w0-0.025916021281595928,w10.4184164179493507,w20.20945147458035368,w30.3713478599293299,iteration877,cost0.1073255701632846\n",
      "w0-0.025927130898694577,w10.4184998646814439,w20.20939962284051183,w30.3713853140374044,iteration878,cost0.10731436708097263\n",
      "w0-0.025938222824643573,w10.418583143633415,w20.20934771499793953,w30.37142262836012385,iteration879,cost0.10730319714902543\n",
      "w0-0.02594929709605745,w10.41866625543166747,w20.20929575152960192,w30.3714598035170194,iteration880,cost0.10729206016239946\n",
      "w0-0.025960353749455437,w10.41874920069980054,w20.20924373291009102,w30.3714968401247628,iteration881,cost0.10728095591780366\n",
      "w0-0.02597139282126176,w10.41883198005862216,w20.20919165961163672,w30.37153373879717955,iteration882,cost0.10726988421368432\n",
      "w0-0.025982414347805946,w10.41891459412616194,w20.2091395321041179,w30.3715705001452622,iteration883,cost0.10725884485020837\n",
      "w0-0.025993418365323127,w10.4189970435176839,w20.20908735085507354,w30.37160712477718366,iteration884,cost0.10724783762924768\n",
      "w0-0.02600440490995434,w10.4190793288456994,w20.2090351163297137,w30.37164361329831,iteration885,cost0.10723686235436437\n",
      "w0-0.026015374017746826,w10.4191614507199796,w20.20898282899093032,w30.37167996631121386,iteration886,cost0.10722591883079403\n",
      "w0-0.02602632572465434,w10.41924340974756863,w20.20893048929930833,w30.371716184415687,iteration887,cost0.1072150068654312\n",
      "w0-0.02603726006653743,w10.4193252065327956,w20.20887809771313634,w30.37175226820875357,iteration888,cost0.10720412626681425\n",
      "w0-0.026048177079163754,w10.41940684167728753,w20.20882565468841746,w30.37178821828468284,iteration889,cost0.10719327684511017\n",
      "w0-0.026059076798208364,w10.4194883157799818,w20.20877316067888008,w30.371824035235002,iteration890,cost0.10718245841209946\n",
      "w0-0.026069959259254004,w10.41956962943713844,w20.2087206161359885,w30.37185971964850895,iteration891,cost0.10717167078116167\n",
      "w0-0.0260808244977914,w10.41965078324235267,w20.20866802150895358,w30.37189527211128487,iteration892,cost0.10716091376726077\n",
      "w0-0.026091672549219562,w10.41973177778656706,w20.20861537724474338,w30.3719306932067069,iteration893,cost0.1071501871869304\n",
      "w0-0.026102503448846064,w10.419812613658084,w20.20856268378809364,w30.3719659835154608,iteration894,cost0.1071394908582597\n",
      "w0-0.026113317231887343,w10.41989329144257764,w20.20850994158151834,w30.3720011436155533,iteration895,cost0.10712882460087955\n",
      "w0-0.02612411393346899,w10.4199738117231063,w20.20845715106532,w30.3720361740823247,iteration896,cost0.10711818823594746\n",
      "w0-0.026134893588626026,w10.42005417508012444,w20.20840431267760026,w30.372071075488461,iteration897,cost0.10710758158613443\n",
      "w0-0.0261456562323032,w10.42013438209149456,w20.2083514268542701,w30.3721058484040067,iteration898,cost0.1070970044756108\n",
      "w0-0.026156401899355274,w10.42021443333249947,w20.20829849402906017,w30.3721404933963764,iteration899,cost0.10708645673003282\n",
      "w0-0.026167130624547303,w10.4202943293758539,w20.20824551463353105,w30.37217501103036776,iteration900,cost0.10707593817652884\n",
      "w0-0.026177842442554927,w10.42037407079171674,w20.2081924890970834,w30.3722094018681731,iteration901,cost0.1070654486436858\n",
      "w0-0.02618853738796464,w10.4204536581477024,w20.2081394178469682,w30.3722436664693917,iteration902,cost0.107054987961536\n",
      "w0-0.02619921549527409,w10.42053309200889305,w20.20808630130829683,w30.37227780539104205,iteration903,cost0.10704455596154419\n",
      "w0-0.026209876798892345,w10.42061237293784987,w20.208033139904051,w30.3723118191875734,iteration904,cost0.10703415247659391\n",
      "w0-0.026220521333140182,w10.420691501494625,w20.207979934055093,w30.372345708410878,iteration905,cost0.10702377734097525\n",
      "w0-0.02623114913225036,w10.42077047823677305,w20.20792668418017543,w30.372379473610303,iteration906,cost0.10701343039037131\n",
      "w0-0.026241760230367898,w10.4208493037193627,w20.2078733906959513,w30.3724131153326621,iteration907,cost0.10700311146184585\n",
      "w0-0.026252354661550358,w10.420927978494988,w20.20782005401698378,w30.37244663412224743,iteration908,cost0.10699282039383086\n",
      "w0-0.02626293245976811,w10.42100650311377996,w20.2077666745557561,w30.3724800305208414,iteration909,cost0.1069825570261136\n",
      "w0-0.026273493658904624,w10.421084878123418,w20.2077132527226813,w30.37251330506772795,iteration910,cost0.10697232119982475\n",
      "w0-0.026284038292756714,w10.42116310406914104,w20.20765978892611195,w30.3725464582997046,iteration911,cost0.10696211275742562\n",
      "w0-0.026294566395034843,w10.42124118149375905,w20.20760628357234986,w30.37257949075109376,iteration912,cost0.10695193154269655\n",
      "w0-0.026305077999363376,w10.421319110937664,w20.20755273706565577,w30.37261240295375425,iteration913,cost0.10694177740072458\n",
      "w0-0.026315573139280853,w10.42139689293884125,w20.2074991498082589,w30.37264519543709285,iteration914,cost0.10693165017789162\n",
      "w0-0.02632605184824026,w10.4214745280328806,w20.20744552220036644,w30.37267786872807557,iteration915,cost0.10692154972186244\n",
      "w0-0.0263365141596093,w10.4215520167529873,w20.20739185464017318,w30.37271042335123905,iteration916,cost0.10691147588157326\n",
      "w0-0.026346960106670658,w10.4216293596299931,w20.20733814752387095,w30.37274285982870187,iteration917,cost0.10690142850722024\n",
      "w0-0.026357389722622263,w10.42170655719236727,w20.207284401245658,w30.3727751786801757,iteration918,cost0.1068914074502475\n",
      "w0-0.026367803040577564,w10.42178360996622744,w20.20723061619774838,w30.37280738042297656,iteration919,cost0.1068814125633363\n",
      "w0-0.026378200093565788,w10.42186051847535044,w20.2071767927703813,w30.37283946557203596,iteration920,cost0.10687144370039349\n",
      "w0-0.026388580914532198,w10.4219372832411833,w20.20712293135183046,w30.3728714346399119,iteration921,cost0.10686150071654023\n",
      "w0-0.026398945536338366,w10.4220139047828538,w20.2070690323284132,w30.3729032881367999,iteration922,cost0.10685158346810132\n",
      "w0-0.026409293991762433,w10.42209038361718115,w20.20701509608449975,w30.37293502657054406,iteration923,cost0.10684169181259404\n",
      "w0-0.026419626313499363,w10.42216672025868696,w20.20696112300252245,w30.37296665044664795,iteration924,cost0.10683182560871683\n",
      "w0-0.026429942534161206,w10.42224291521960555,w20.2069071134629848,w30.3729981602682854,iteration925,cost0.10682198471633954\n",
      "w0-0.02644024268627736,w10.42231896900989463,w20.20685306784447052,w30.3730295565363115,iteration926,cost0.10681216899649197\n",
      "w0-0.026450526802294823,w10.4223948821372458,w20.20679898652365267,w30.3730608397492731,iteration927,cost0.10680237831135339\n",
      "w0-0.026460794914578457,w10.422470655107095,w20.20674486987530258,w30.3730920104034199,iteration928,cost0.10679261252424245\n",
      "w0-0.026471047055411236,w10.422546288422633,w20.2066907182722988,w30.37312306899271475,iteration929,cost0.10678287149960648\n",
      "w0-0.026481283256994503,w10.4226217825848156,w20.206636532085636,w30.3731540160088445,iteration930,cost0.10677315510301154\n",
      "w0-0.02649150355144823,w10.42269713809237425,w20.20658231168443394,w30.3731848519412305,iteration931,cost0.10676346320113168\n",
      "w0-0.026501707970811268,w10.42277235544182595,w20.20652805743594616,w30.3732155772770392,iteration932,cost0.10675379566173974\n",
      "w0-0.02651189654704159,w10.4228474351274838,w20.2064737697055688,w30.3732461925011924,iteration933,cost0.10674415235369641\n",
      "w0-0.026522069312016554,w10.42292237764146695,w20.2064194488568494,w30.37327669809637803,iteration934,cost0.10673453314694097\n",
      "w0-0.02653222629753315,w10.42299718347371085,w20.20636509525149557,w30.37330709454306027,iteration935,cost0.10672493791248122\n",
      "w0-0.026542367535308246,w10.4230718531119773,w20.20631070924938363,w30.3733373823194899,iteration936,cost0.106715366522384\n",
      "w0-0.026552493056978838,w10.4231463870418646,w20.20625629120856728,w30.3733675619017146,iteration937,cost0.10670581884976546\n",
      "w0-0.026562602894102304,w10.42322078574681715,w20.20620184148528614,w30.3733976337635893,iteration938,cost0.10669629476878106\n",
      "w0-0.026572697078156633,w10.423295049708136,w20.2061473604339743,w30.3734275983767863,iteration939,cost0.10668679415461711\n",
      "w0-0.026582775640540696,w10.42336917940498814,w20.20609284840726882,w30.3734574562108052,iteration940,cost0.1066773168834805\n",
      "w0-0.026592838612574467,w10.42344317531441683,w20.20603830575601825,w30.37348720773298344,iteration941,cost0.10666786283258992\n",
      "w0-0.026602886025499282,w10.42351703791135115,w20.20598373282929094,w30.3735168534085059,iteration942,cost0.10665843188016651\n",
      "w0-0.02661291791047807,w10.42359076766861575,w20.20592912997438356,w30.3735463937004151,iteration943,cost0.10664902390542468\n",
      "w0-0.026622934298595614,w10.42366436505694066,w20.20587449753682932,w30.37357582906962117,iteration944,cost0.10663963878856342\n",
      "w0-0.02663293522085877,w10.42373783054497094,w20.20581983586040636,w30.3736051599749117,iteration945,cost0.10663027641075708\n",
      "w0-0.026642920708196717,w10.4238111645992763,w20.205765145287146,w30.3736343868729617,iteration946,cost0.10662093665414649\n",
      "w0-0.0266528907914612,w10.42388436768436066,w20.20571042615734092,w30.3736635102183431,iteration947,cost0.10661161940183038\n",
      "w0-0.02666284550142677,w10.42395744026267174,w20.2056556788095534,w30.373692530463535,iteration948,cost0.10660232453785665\n",
      "w0-0.026672784868791006,w10.4240303827946104,w20.2056009035806235,w30.373721448058933,iteration949,cost0.10659305194721361\n",
      "w0-0.02668270892417477,w10.4241031957385403,w20.2055461008056771,w30.373750263452859,iteration950,cost0.10658380151582159\n",
      "w0-0.026692617698122437,w10.4241758795507971,w20.20549127081813398,w30.373778977091571,iteration951,cost0.10657457313052462\n",
      "w0-0.026702511221102124,w10.424248434685698,w20.20543641394971596,w30.37380758941927233,iteration952,cost0.10656536667908162\n",
      "w0-0.02671238952350593,w10.424320861595551,w20.2053815305304548,w30.3738361008781216,iteration953,cost0.10655618205015877\n",
      "w0-0.026722252635650166,w10.42439316073066397,w20.20532662088870016,w30.37386451190824177,iteration954,cost0.10654701913332054\n",
      "w0-0.026732100587775597,w10.42446533253935426,w20.20527168535112764,w30.3738928229477301,iteration955,cost0.10653787781902217\n",
      "w0-0.02674193341004766,w10.42453737746795756,w20.20521672424274653,w30.373921034432667,iteration956,cost0.10652875799860125\n",
      "w0-0.026751751132556702,w10.42460929596083713,w20.20516173788690775,w30.3739491467971259,iteration957,cost0.1065196595642699\n",
      "w0-0.02676155378531821,w10.42468108846039304,w20.20510672660531165,w30.37397716047318225,iteration958,cost0.10651058240910682\n",
      "w0-0.026771341398273037,w10.4247527554070711,w20.20505169071801577,w30.37400507589092297,iteration959,cost0.10650152642704942\n",
      "w0-0.026781114001287635,w10.4248242972393718,w20.2049966305434426,w30.3740328934784556,iteration960,cost0.1064924915128859\n",
      "w0-0.026790871624154278,w10.42489571439385954,w20.20494154639838733,w30.37406061366191745,iteration961,cost0.10648347756224792\n",
      "w0-0.026800614296591294,w10.42496700730517123,w20.2048864385980254,w30.3740882368654849,iteration962,cost0.10647448447160254\n",
      "w0-0.026810342048243282,w10.42503817640602554,w20.2048313074559203,w30.3741157635113825,iteration963,cost0.10646551213824512\n",
      "w0-0.026820054908681345,w10.4251092221272314,w20.20477615328403098,w30.37414319401989177,iteration964,cost0.10645656046029141\n",
      "w0-0.02682975290740331,w10.4251801448976971,w20.20472097639271963,w30.3741705288093605,iteration965,cost0.10644762933667049\n",
      "w0-0.026839436073833954,w10.4252509451444389,w20.20466577709075903,w30.37419776829621176,iteration966,cost0.10643871866711686\n",
      "w0-0.026849104437325223,w10.42532162329258977,w20.20461055568534015,w30.3742249128949526,iteration967,cost0.10642982835216401\n",
      "w0-0.02685875802715646,w10.4253921797654081,w20.20455531248207956,w30.374251963018183,iteration968,cost0.10642095829313652\n",
      "w0-0.02686839687253462,w10.4254626149842864,w20.2045000477850269,w30.37427891907660493,iteration969,cost0.106412108392143\n",
      "w0-0.02687802100259449,w10.4255329293687598,w20.20444476189667218,w30.3743057814790311,iteration970,cost0.10640327855206938\n",
      "w0-0.02688763044639891,w10.42560312333651473,w20.20438945511795326,w30.3743325506323935,iteration971,cost0.10639446867657154\n",
      "w0-0.026897225232938995,w10.4256731973033973,w20.20433412774826307,w30.3743592269417524,iteration972,cost0.10638567867006844\n",
      "w0-0.026906805391134346,w10.42574315168342197,w20.20427878008545697,w30.37438581081030486,iteration973,cost0.10637690843773527\n",
      "w0-0.026916370949833273,w10.42581298688877983,w20.20422341242585995,w30.3744123026393936,iteration974,cost0.10636815788549661\n",
      "w0-0.026925921937813006,w10.4258827033298471,w20.2041680250642739,w30.37443870282851544,iteration975,cost0.10635942692001987\n",
      "w0-0.026935458383779916,w10.4259523014151935,w20.20411261829398472,w30.37446501177532987,iteration976,cost0.10635071544870796\n",
      "w0-0.026944980316369726,w10.4260217815515906,w20.2040571924067696,w30.37449122987566763,iteration977,cost0.10634202337969358\n",
      "w0-0.02695448776414772,w10.42609114414401994,w20.20400174769290394,w30.37451735752353926,iteration978,cost0.1063333506218319\n",
      "w0-0.026963980755608966,w10.42616038959568153,w20.20394628444116866,w30.37454339511114343,iteration979,cost0.10632469708469425\n",
      "w0-0.026973459319178526,w10.42622951830800193,w20.20389080293885714,w30.37456934302887546,iteration980,cost0.10631606267856179\n",
      "w0-0.026982923483211657,w10.42629853068064244,w20.2038353034717822,w30.3745952016653356,iteration981,cost0.1063074473144191\n",
      "w0-0.02699237327599404,w10.42636742711150727,w20.20377978632428315,w30.37462097140733747,iteration982,cost0.10629885090394775\n",
      "w0-0.027001808725741972,w10.4264362079967515,w20.20372425177923278,w30.3746466526399163,iteration983,cost0.10629027335951993\n",
      "w0-0.027011229860602583,w10.4265048737307895,w20.20366870011804422,w30.37467224574633723,iteration984,cost0.10628171459419267\n",
      "w0-0.02702063670865405,w10.42657342470630244,w20.20361313162067782,w30.3746977511081034,iteration985,cost0.10627317452170103\n",
      "w0-0.027030029297905794,w10.42664186131424675,w20.20355754656564806,w30.3747231691049642,iteration986,cost0.10626465305645254\n",
      "w0-0.027039407656298697,w10.4267101839438618,w20.20350194523003035,w30.37474850011492367,iteration987,cost0.10625615011352076\n",
      "w0-0.0270487718117053,w10.4267783929826779,w20.2034463278894678,w30.3747737445142481,iteration988,cost0.10624766560863974\n",
      "w0-0.027058121791930012,w10.42684648881652415,w20.20339069481817804,w30.37479890267747457,iteration989,cost0.1062391994581976\n",
      "w0-0.027067457624709315,w10.42691447182953635,w20.2033350462889599,w30.37482397497741865,iteration990,cost0.1062307515792309\n",
      "w0-0.027076779337711965,w10.42698234240416477,w20.20327938257320016,w30.3748489617851827,iteration991,cost0.10622232188941882\n",
      "w0-0.027086086958539205,w10.4270501009211818,w20.20322370394088018,w30.37487386347016344,iteration992,cost0.10621391030707722\n",
      "w0-0.027095380514724952,w10.42711774775968986,w20.20316801066058254,w30.3748986804000602,iteration993,cost0.10620551675115326\n",
      "w0-0.027104660033736017,w10.42718528329712907,w20.20311230299949765,w30.3749234129408827,iteration994,cost0.10619714114121939\n",
      "w0-0.027113925542972286,w10.42725270790928477,w20.20305658122343032,w30.3749480614569589,iteration995,cost0.10618878339746769\n",
      "w0-0.027123177069766934,w10.4273200219702953,w20.20300084559680634,w30.37497262631094275,iteration996,cost0.10618044344070478\n",
      "w0-0.027132414641386625,w10.4273872258526595,w20.20294509638267896,w30.37499710786382195,iteration997,cost0.10617212119234574\n"
     ]
    },
    {
     "name": "stdout",
     "output_type": "stream",
     "text": [
      "w0-0.027141638285031706,w10.42745431992724425,w20.20288933384273541,w30.3750215064749258,iteration998,cost0.10616381657440901\n",
      "w0-0.027150848027836405,w10.4275213045632921,w20.20283355823730329,w30.3750458225019329,iteration999,cost0.1061555295095109\n"
     ]
    }
   ],
   "source": [
    "#Passing the features to the Gradient Descent Function\n",
    "gradient_descent(x1_wgt,x2_hgt,x3_wdt,y_trainS)"
   ]
  },
  {
   "cell_type": "code",
   "execution_count": 96,
   "id": "db97c81f",
   "metadata": {},
   "outputs": [],
   "source": [
    "#From the values of the Co-efficeints and Intercept generated in the last iteration we can calculate predicted value\n",
    "y_pred_gd = -0.027150848027836405 + 0.4275213045632921*x1_wgt + 0.20283355823730329*x2_hgt + 0.3750458225019329*x3_wdt"
   ]
  },
  {
   "cell_type": "code",
   "execution_count": 97,
   "id": "ef66bec9",
   "metadata": {},
   "outputs": [
    {
     "data": {
      "text/plain": [
       "75    -0.989765\n",
       "138    0.493867\n",
       "2     -0.159449\n",
       "86    -0.792619\n",
       "45    -0.677497\n",
       "         ...   \n",
       "71    -0.274571\n",
       "106   -0.418473\n",
       "14     0.588842\n",
       "92    -0.706278\n",
       "102   -0.274571\n",
       "Name: Cost, Length: 127, dtype: float64"
      ]
     },
     "execution_count": 97,
     "metadata": {},
     "output_type": "execute_result"
    }
   ],
   "source": [
    "y_pred_gd\n",
    "y_trainS"
   ]
  },
  {
   "cell_type": "code",
   "execution_count": 98,
   "id": "093ece7a",
   "metadata": {},
   "outputs": [
    {
     "name": "stdout",
     "output_type": "stream",
     "text": [
      "0.8881373585052885\n"
     ]
    }
   ],
   "source": [
    "#Calculating R2 score for Gradient Descent\n",
    "r2_gd = r2_score(y_trainS,y_pred_gd)\n",
    "print(r2_gd)"
   ]
  },
  {
   "cell_type": "code",
   "execution_count": 99,
   "id": "f6861cae",
   "metadata": {},
   "outputs": [],
   "source": [
    "#Calculating RSE, MSE \n",
    "num_data = x_train.shape[0]\n",
    "mse_gd = mean_squared_error(y_test,y_pred_sgd)\n",
    "rmse_gd = math.sqrt(mse_gd)\n",
    "rse_gd = mse_gd*num_data\n",
    "rse_gd /= num_data-2\n",
    "rse_gd = math.sqrt(rse_gd)"
   ]
  },
  {
   "cell_type": "code",
   "execution_count": 100,
   "id": "03112e06",
   "metadata": {},
   "outputs": [
    {
     "name": "stdout",
     "output_type": "stream",
     "text": [
      "RMSE= 582.0017798764999\n",
      "RSE= 586.6393175775763\n"
     ]
    }
   ],
   "source": [
    "print('RMSE=',rmse_gd)\n",
    "print('RSE=',rse_gd)"
   ]
  },
  {
   "cell_type": "code",
   "execution_count": 101,
   "id": "8f1fc69c",
   "metadata": {},
   "outputs": [
    {
     "data": {
      "text/plain": [
       "(32,\n",
       " 78    -0.877379\n",
       " 155   -1.529390\n",
       " 128   -0.790545\n",
       " 55    -0.128362\n",
       " 94    -0.872835\n",
       " Name: Height, dtype: float64,\n",
       " 78    -0.782202\n",
       " 155   -1.876988\n",
       " 128   -0.633310\n",
       " 55    -0.118506\n",
       " 94    -0.485481\n",
       " Name: Width, dtype: float64)"
      ]
     },
     "execution_count": 101,
     "metadata": {},
     "output_type": "execute_result"
    }
   ],
   "source": [
    "#Performing Gradient Descent with Test Data\n",
    "x1_wgtT = x_testS['Weight']\n",
    "x2_hgtT = x_testS['Height']\n",
    "x3_wdtT = x_testS['Width']\n",
    "x1_wgtT.count(), x2_hgtT.head(),  x3_wdtT.head()"
   ]
  },
  {
   "cell_type": "code",
   "execution_count": 102,
   "id": "60b4c0fb",
   "metadata": {},
   "outputs": [
    {
     "name": "stdout",
     "output_type": "stream",
     "text": [
      "w00.0002802747054228793,w10.0020539583363977667,w20.0022427708855377966,w30.0022178980863796012,iteration0,cost1.1978264852052278\n",
      "w00.0005595197855296585,w10.00409479544953505,w20.004469800570836277,w30.004420991250265589,iteration1,cost1.1836277826498378\n",
      "w00.0008377406514631796,w10.006122599049233464,w20.006681195182953912,w30.006609378914684589,iteration2,cost1.169618559325835\n",
      "w00.0011149426809157095,w10.008137456256427228,w20.00887706013614708,w30.008783159834746255,iteration3,cost1.1557962801494273\n",
      "w00.001391131218347809,w10.01013945360711823,w20.011057500136656698,w30.010942432102129494,iteration4,cost1.1421584439688144\n",
      "w00.0016663115752057428,w10.012128677056304538,w20.013222619187462677,w30.01308729314953857,iteration5,cost1.128702583109968\n",
      "w00.0019404890301374428,w10.014105211981882523,w20.015372520593006481,w30.01521783975512928,iteration6,cost1.1154262629284912\n",
      "w00.0022136688292070305,w10.01606914318852277,w20.017507306963881947,w30.0173341680469054,iteration7,cost1.102327081367481\n",
      "w00.0024858561861079115,w10.01802055491151998,w20.019627080221494616,w30.019436373507085606,iteration8,cost1.089402668521305\n",
      "w00.002757056282374451,w10.01995953082061697,w20.02173194160268977,w30.021524550976441063,iteration9,cost1.0766506862052212\n",
      "w00.003027274267592239,w10.02188615402380305,w20.023821991664349396,w30.023598794658603886,iteration10,cost1.0640688275307564\n",
      "w00.0032965152596069543,w10.02380050707108685,w20.02589733028795825,w30.025659198124346663,iteration11,cost1.051654816486769\n",
      "w00.003564784344731838,w10.025702671958243804,w20.027958056684139317,w30.02770585431583323,iteration12,cost1.0394064075261227\n",
      "w00.003832086577953785,w10.0275927301305385,w20.030004269397158737,w30.029738855550840916,iteration13,cost1.0273213851578908\n",
      "w00.004098426983138064,w10.029470762486421997,w20.03203606630940055,w30.031758293526954404,iteration14,cost1.0153975635450179\n",
      "w00.0043638105532316715,w10.031336849381204346,w20.03405354464581133,w30.03376425932573145,iteration15,cost1.0036327861073715\n",
      "w00.004628242250465335,w10.03319107063070239,w20.036056800978315026,w30.035756843416840586,iteration16,cost0.9920249251301049\n",
      "w00.004891727006554171,w10.035033505514863124,w20.03804593123019809,w30.037736135662171114,iteration17,cost0.9805718813772624\n",
      "w00.005154269722896998,w10.0368642327813627,w20.04002103068046523,w30.039702225319915393,iteration18,cost0.969271583710558\n",
      "w00.005415875270774338,w10.03868333064918123,w20.041982193968165875,w30.04165520104862378,iteration19,cost0.9581219887132573\n",
      "w00.0056765484915450885,w10.040490876812153645,w20.04392951509669154,w30.04359515091123231,iteration20,cost0.947121080319093\n",
      "w00.005936294196841884,w10.04228694844249663,w20.04586308743804443,w30.04552216237906334,iteration21,cost0.9362668694461505\n",
      "w00.006195117168765165,w10.04407162219431193,w20.04778300373707731,w30.04743632233579931,iteration22,cost0.9255573936356513\n",
      "w00.00645302216007595,w10.04584497420706612,w20.0496893561157049,w30.04933771708142981,iteration23,cost0.9149907166955739\n",
      "w00.006710013894387323,w10.047607080109046955,w20.05158223607708703,w30.051226432336172176,iteration24,cost0.904564928349045\n",
      "w00.006966097066354648,w10.049358015020796585,w20.05346173450978366,w30.05310255324436569,iteration25,cost0.8942781438874375\n",
      "w00.007221276341864521,w10.051097853558521644,w20.05532794169188202,w30.054966164378339705,iteration26,cost0.8841285038281108\n",
      "w00.007475556358222455,w10.05282666983748048,w20.057180947295096055,w30.05681734974225572,iteration27,cost0.8741141735767353\n",
      "w00.007728941724339325,w10.05454453747534761,w20.05902084038883827,w30.058656192775923675,iteration28,cost0.8642333430941362\n",
      "w00.007981437020916568,w10.056251529595555606,w20.06084770944426432,w30.06048277635859265,iteration29,cost0.8544842265675957\n",
      "w00.008233046800630152,w10.05794771883061449,w20.06266164233829034,w30.062297182812716054,iteration30,cost0.8448650620865563\n",
      "w00.008483775588313314,w10.05963317732540889,w20.06446272635758343,w30.06409949390769154,iteration31,cost0.8353741113226669\n",
      "w00.008733627881138094,w10.06130797674047302,w20.06625104820252518,w30.06588979086357583,iteration32,cost0.8260096592141081\n",
      "w00.008982608148795649,w10.06297218825524369,w20.0680266939911487,w30.06766815435477454,iteration33,cost0.8167700136541485\n",
      "w00.009230720833675377,w10.06462588257129141,w20.06978974926304916,w30.06943466451370729,iteration34,cost0.807653505183864\n",
      "w00.00947797035104284,w10.06626912991552988,w20.07154029898326811,w30.07118940093444814,iteration35,cost0.7986584866889755\n",
      "w00.00972436108921651,w10.06790200004340385,w20.07327842754615163,w30.07293244267634161,iteration36,cost0.7897833331007443\n",
      "w00.009969897409743337,w10.06952456224205562,w20.07500421877918267,w30.07466386826759436,iteration37,cost0.7810264411008665\n",
      "w00.010214583647573145,w10.07113688533347025,w20.07671775594678759,w30.07638375570884284,iteration38,cost0.7723862288303244\n",
      "w00.010458424111231877,w10.07273903767759961,w20.07841912175411714,w30.07809218247669693,iteration39,cost0.7638611356021328\n",
      "w00.010701423082993676,w10.07433108717546555,w20.08010839835080209,w30.07978922552725971,iteration40,cost0.7554496216179278\n",
      "w00.010943584819051829,w10.07591310127224214,w20.08178566733468363,w30.08147496129962374,iteration41,cost0.7471501676883539\n",
      "w00.011184913549688572,w10.07748514696031723,w20.08345100975551865,w30.08314946571934373,iteration42,cost0.7389612749571914\n",
      "w00.011425413479443765,w10.07904729078233347,w20.08510450611866023,w30.08481281420188594,iteration43,cost0.7308814646291776\n",
      "w00.011665088787282446,w10.08059959883420885,w20.08674623638871334,w30.08646508165605443,iteration44,cost0.7229092777014708\n",
      "w00.01190394362676127,w10.08214213676813709,w20.08837627999316605,w30.08810634248739424,iteration45,cost0.7150432746987111\n",
      "w00.012141982126193837,w10.08367496979556766,w20.08999471582599633,w30.08973667060157177,iteration46,cost0.7072820354116246\n",
      "w00.01237920838881493,w10.085198162690166,w20.09160162225125461,w30.09135613940773242,iteration47,cost0.6996241586391299\n",
      "w00.01261562649294365,w10.08671177979075377,w20.09319707710662228,w30.09296482182183573,iteration48,cost0.6920682619338943\n",
      "w00.012851240492145475,w10.08821588500422928,w20.09478115770694637,w30.09456279026996804,iteration49,cost0.6846129813512976\n",
      "w00.013086054415393235,w10.08971054180846844,w20.09635394084775036,w30.096150116691633,iteration50,cost0.6772569712017563\n",
      "w00.01332007226722702,w10.09119581325520613,w20.09791550280872154,w30.09772687254301983,iteration51,cost0.6699989038063623\n",
      "w00.013553298027913026,w10.09267176197289832,w20.09946591935717487,w30.09929312880024985,iteration52,cost0.662837469255795\n",
      "w00.013785735653601338,w10.0941384501695648,w20.10100526575149364,w30.10084895596260099,iteration53,cost0.6557713751724565\n",
      "w00.014017389076482674,w10.095595939635613,w20.10253361674454693,w30.1023944240557108,iteration54,cost0.6487993464757956\n",
      "w00.01424826220494408,w10.09704429174664272,w20.10405104658708421,w30.1039296026347578,iteration55,cost0.6419201251507713\n",
      "w00.014478358923723587,w10.0984835674662321,w20.10555762903110713,w30.10545456078762164,iteration56,cost0.6351324700194141\n",
      "w00.014707683094063853,w10.09991382734870483,w20.10705343733321865,w30.10696936713802187,iteration57,cost0.6284351565154481\n",
      "w00.01493623855386477,w10.10133513154187877,w20.10853854425794963,w30.10847408984863574,iteration58,cost0.6218269764619282\n",
      "w00.015164029117835058,w10.10274753978979619,w20.1100130220810632,w30.10996879662419502,iteration59,cost0.6153067378518556\n",
      "w00.015391058577642868,w10.10415111143543554,w20.1114769425928368,w30.111453554714562,iteration60,cost0.6088732646317274\n",
      "w00.01561733070206536,w10.10554590542340515,w20.11293037710132232,w30.11292843091778489,iteration61,cost0.6025253964879866\n",
      "w00.015842849237137295,w10.10693198030261875,w20.1143733964355842,w30.1143934915831326,iteration62,cost0.5962619886363295\n",
      "w00.01606761790629866,w10.10830939422895298,w20.1158060709489159,w30.11584880261410926,iteration63,cost0.590081911613833\n",
      "w00.01629164041054128,w10.10967820496788724,w20.11722847052203475,w30.11729442947144843,iteration64,cost0.5839840510738651\n",
      "w00.01651492042855448,w10.11103846989712557,w20.11864066456625529,w30.11873043717608714,iteration65,cost0.57796730758374\n",
      "w00.01673746161686975,w10.1123902460092011,w20.12004272202664133,w30.12015689031212011,iteration66,cost0.5720305964250856\n",
      "w00.016959267610004495,w10.1137335899140629,w20.12143471138513688,w30.12157385302973397,iteration67,cost0.5661728473968766\n",
      "w00.017180342020604793,w10.11506855784164557,w20.12281670066367599,w30.12298138904812188,iteration68,cost0.5603930046211105\n",
      "w00.017400688439587208,w10.11639520564442142,w20.12418875742727176,w30.1243795616583785,iteration69,cost0.5546900263510819\n",
      "w00.017620310436279672,w10.11771358879993564,w20.12555094878708453,w30.12576843372637558,iteration70,cost0.5490628847822236\n",
      "w00.01783921155856143,w10.1190237624133244,w20.12690334140346965,w30.12714806769561823,iteration71,cost0.5435105658654806\n",
      "w00.018057395333002053,w10.12032578121981599,w20.12824600148900445,w30.12851852559008192,iteration72,cost0.5380320691231812\n",
      "w00.018274865264999524,w10.12161969958721526,w20.1295789948114953,w30.12987986901703055,iteration73,cost0.5326264074673744\n",
      "w00.01849162483891741,w10.1229055715183713,w20.13090238669696405,w30.13123215916981548,iteration74,cost0.5272926070205982\n",
      "w00.018707677518221118,w10.12418345065362853,w20.1322162420326148,w30.1325754568306559,iteration75,cost0.522029706939046\n",
      "w00.018923026745613265,w10.12545339027326144,w20.13352062526978054,w30.13390982237340038,iteration76,cost0.5168367592381036\n",
      "w00.01913767594316812,w10.12671544329989282,w20.13481560042684987,w30.1352353157662699,iteration77,cost0.511712828620217\n",
      "w00.019351628512465177,w10.1279696623008959,w20.13610123109217445,w30.13655199657458258,iteration78,cost0.5066569923050694\n",
      "w00.01956488783472183,w10.12921609949078025,w20.13737758042695658,w30.13785992396345997,iteration79,cost0.5016683398620269\n",
      "w00.019777457270925163,w10.13045480673356172,w20.13864471116811755,w30.13915915670051524,iteration80,cost0.49674597304483037\n",
      "w00.019989340161962882,w10.1316858355451164,w20.13990268563114666,w30.14044975315852323,iteration81,cost0.4918890056284984\n",
      "w00.020200539828753358,w10.13290923709551886,w20.14115156571293117,w30.14173177131807274,iteration82,cost0.48709656324841466\n",
      "w00.020411059572374823,w10.1341250622113646,w20.14239141289456722,w30.14300526877020076,iteration83,cost0.48236778324156865\n",
      "w00.020620902674193694,w10.13533336137807694,w20.14362228824415182,w30.14427030271900923,iteration84,cost0.47770181448992155\n",
      "w00.020830072395992057,w10.13653418474219842,w20.1448442524195562,w30.14552692998426414,iteration85,cost0.4730978172658699\n",
      "w00.021038571980094296,w10.13772758211366676,w20.1460573656711804,w30.14677520700397714,iteration86,cost0.46855496307977557\n",
      "w00.02124640464949289,w10.1389136029680757,w20.14726168784468957,w30.14801518983696982,iteration87,cost0.46407243452954\n",
      "w00.021453573607973363,w10.1400922964489204,w20.14845727838373154,w30.14924693416542084,iteration88,cost0.4596494251521892\n",
      "w00.021660082040238424,w10.14126371136982796,w20.1496441963326366,w30.1504704952973959,iteration89,cost0.45528513927744807\n",
      "w00.02186593311203126,w10.14242789621677288,w20.1508225003390987,w30.15168592816936066,iteration90,cost0.45097879188327106\n",
      "w00.022071129970258025,w10.14358489915027767,w20.15199224865683902,w30.1528932873486769,iteration91,cost0.44672960845331194\n",
      "w00.02227567574310952,w10.14473476800759863,w20.15315349914825144,w30.15409262703608187,iteration92,cost0.4425368248362966\n",
      "w00.02247957354018205,w10.14587755030489702,w20.1543063092870302,w30.15528400106815088,iteration93,cost0.4383996871072815\n",
      "w00.022682826452597497,w10.14701329323939558,w20.15545073616078012,w30.15646746291974356,iteration94,cost0.4343174514307677\n",
      "w00.022885437553122577,w10.14814204369152062,w20.15658683647360913,w30.15764306570643355,iteration95,cost0.4302893839256485\n",
      "w00.023087409896287325,w10.14926384822702973,w20.15771466654870347,w30.15881086218692184,iteration96,cost0.4263147605319639\n",
      "w00.02328874651850278,w10.1503787530991251,w20.1588342823308855,w30.15997090476543396,iteration97,cost0.4223928668794388\n",
      "w00.023489450438177902,w10.15148680425055278,w20.15994573938915446,w30.1611232454941012,iteration98,cost0.4185229981577823\n",
      "w00.023689524655835698,w10.15258804731568776,w20.16104909291921005,w30.16226793607532553,iteration99,cost0.4147044589887214\n",
      "w00.023888972154228593,w10.15368252762260504,w20.16214439774595918,w30.16340502786412892,iteration100,cost0.4109365632997492\n",
      "w00.024087795898453022,w10.15477029019513688,w20.1632317083260058,w30.16453457187048673,iteration101,cost0.4072186341995614\n",
      "w00.024285998836063277,w10.15585137975491614,w20.16431107875012405,w30.1656566187616455,iteration102,cost0.4035500038551628\n",
      "w00.02448358389718458,w10.1569258407234059,w20.16538256274571467,w30.1667712188644251,iteration103,cost0.3999300133706159\n",
      "w00.024680553994625428,w10.15799371722391548,w20.16644621367924523,w30.16787842216750556,iteration104,cost0.39635801266741555\n",
      "w00.02487691202398918,w10.15905505308360293,w20.16750208455867358,w30.1689782783236983,iteration105,cost0.39283336036646244\n",
      "w00.0250726608637849,w10.16010989183546412,w20.16855022803585537,w30.17007083665220235,iteration106,cost0.38935542367161824\n",
      "w00.025267803375537478,w10.16115827672030827,w20.1695906964089352,w30.1711561461408453,iteration107,cost0.3859235782548181\n",
      "w00.025462342403897012,w10.16220025068872046,w20.17062354162472168,w30.17223425544830917,iteration108,cost0.3825372081427228\n",
      "w00.02565628077674747,w10.16323585640301083,w20.17164881528104675,w30.17330521290634146,iteration109,cost0.37919570560488686\n",
      "w00.02584962130531462,w10.16426513623915065,w20.17266656862910898,w30.17436906652195117,iteration110,cost0.3758984710434232\n",
      "w00.02604236678427327,w10.16528813228869552,w20.17367685257580115,w30.1754258639795902,iteration111,cost0.3726449128841472\n",
      "w00.026234519991853764,w10.16630488636069551,w20.17467971768602225,w30.17647565264332013,iteration112,cost0.36943444746917464\n",
      "w00.026426083689947803,w10.16731543998359263,w20.17567521418497403,w30.17751847955896424,iteration113,cost0.3662664989509606\n",
      "w00.026617060624213543,w10.16831983440710535,w20.17666339196044187,w30.17855439145624538,iteration114,cost0.36314049918775415\n",
      "w00.026807453524180003,w10.16931811060410068,w20.17764430056506064,w30.17958343475090918,iteration115,cost0.36005588764045404\n",
      "w00.026997265103350793,w10.1703103092724535,w20.17861798921856514,w30.18060565554683322,iteration116,cost0.3570121112708443\n",
      "w00.02718649805930713,w10.17129647083689356,w20.17958450681002552,w30.1816210996381219,iteration117,cost0.3540086244411936\n",
      "w00.027375155073810192,w10.1722766354508399,w20.18054390190006758,w30.18262981251118737,iteration118,cost0.3510448888151953\n",
      "w00.027563238812902797,w10.17325084299822313,w20.18149622272307833,w30.18363183934681634,iteration119,cost0.3481203732602383\n",
      "w00.02775075192701039,w10.1742191330952953,w20.18244151718939663,w30.1846272250222231,iteration120,cost0.3452345537509812\n",
      "w00.027937697051041363,w10.17518154509242775,w20.18337983288748907,w30.18561601411308865,iteration121,cost0.34238691327422066\n",
      "w00.028124076804486732,w10.17613811807589688,w20.18431121708611142,w30.18659825089558638,iteration122,cost0.33957694173503256\n",
      "w00.028309893791519134,w10.17708889086965776,w20.18523571673645534,w30.18757397934839384,iteration123,cost0.3368041358641675\n",
      "w00.028495150601091174,w10.17803390203710606,w20.18615337847428082,w30.18854324315469115,iteration124,cost0.33406799912668966\n",
      "w00.028679849807033118,w10.17897318988282798,w20.18706424862203427,w30.18950608570414598,iteration125,cost0.3313680416318341\n",
      "w00.028863993968149947,w10.17990679245433852,w20.18796837319095244,w30.19046255009488525,iteration126,cost0.32870378004407536\n",
      "w00.029047585628317753,w10.18083474754380796,w20.188865797883152,w30.1914126791354534,iteration127,cost0.3260747374953829\n",
      "w00.02923062731657952,w10.1817570926897769,w20.1897565680937054,w30.1923565153467578,iteration128,cost0.3234804434986531\n",
      "w00.029413121547240257,w10.18267386517885972,w20.1906407289127025,w30.19329410096400074,iteration129,cost0.3209204338622993\n",
      "w00.029595070819961482,w10.18358510204743647,w20.1915183251272986,w30.19422547793859882,iteration130,cost0.31839425060598525\n",
      "w00.02977647761985512,w10.18449084008333363,w20.1923894012237485,w30.1951506879400891,iteration131,cost0.31590144187748687\n",
      "w00.029957344417576765,w10.18539111582749343,w20.19325400138942705,w30.19606977235802275,iteration132,cost0.31344156187066646\n",
      "w00.030137673669418295,w10.18628596557563193,w20.1941121695148361,w30.19698277230384573,iteration133,cost0.31101417074454557\n",
      "w00.03031746781739992,w10.1871754253798861,w20.1949639491955979,w30.19788972861276694,iteration134,cost0.30861883454346006\n",
      "w00.03049672928936159,w10.18805953105044973,w20.1958093837344352,w30.19879068184561396,iteration135,cost0.3062551251182854\n",
      "w00.03067546049905381,w10.1889383181571984,w20.1966485161431381,w30.19968567229067608,iteration136,cost0.30392262004871545\n",
      "w00.030853663846227855,w10.18981182203130348,w20.19748138914451743,w30.20057473996553507,iteration137,cost0.30162090256658175\n",
      "w00.031031341716725377,w10.19068007776683538,w20.19830804517434536,w30.20145792461888376,iteration138,cost0.2993495614801999\n",
      "w00.031208496482567433,w10.19154312022235598,w20.19912852638328277,w30.20233526573233218,iteration139,cost0.2971081910997275\n",
      "w00.03138513050204291,w10.19240098402250036,w20.19994287463879365,w30.20320680252220172,iteration140,cost0.2948963911635227\n",
      "w00.03156124611979639,w10.19325370355954788,w20.20075113152704685,w30.20407257394130723,iteration141,cost0.29271376676548727\n",
      "w00.03173684566691539,w10.1941013129949828,w20.2015533383548048,w30.20493261868072715,iteration142,cost0.29055992828338323\n",
      "w00.03191193146101709,w10.1949438462610443,w20.20234953615129972,w30.20578697517156164,iteration143,cost0.28843449130810794\n",
      "w00.0320865058063344,w10.19578133706226625,w20.20313976567009723,w30.20663568158667905,iteration144,cost0.28633707657391755\n",
      "w00.03226057099380155,w10.19661381887700646,w20.20392406739094732,w30.20747877584245067,iteration145,cost0.2842673098895825\n",
      "w00.03243412930113904,w10.19744132495896574,w20.204702481521623,w30.20831629560047357,iteration146,cost0.28222482207046595\n",
      "w00.0326071829929381,w10.1982638883386968,w20.20547504799974653,w30.20914827826928228,iteration147,cost0.28020924887151144\n",
      "w00.032779734320744484,w10.1990815418251029,w20.20624180649460355,w30.20997476100604856,iteration148,cost0.27822023092112685\n",
      "w00.03295178552314185,w10.19989431800692667,w20.20700279640894478,w30.21079578071827007,iteration149,cost0.27625741365595397\n",
      "w00.03312333882583446,w10.20070224925422858,w20.20775805688077578,w30.21161137406544753,iteration150,cost0.27432044725651056\n",
      "w00.03329439644172942,w10.20150536771985578,w20.20850762678513468,w30.21242157746075063,iteration151,cost0.2724089865836949\n",
      "w00.03346496057101834,w10.2023037053409009,w20.20925154473585791,w30.21322642707267284,iteration152,cost0.27052269111614\n",
      "w00.03363503340125844,w10.20309729384015118,w20.20998984908733415,w30.214025958826675,iteration153,cost0.26866122488840494\n",
      "w00.033804617107453167,w10.2038861647275278,w20.21072257793624644,w30.21482020840681793,iteration154,cost0.2668242564299966\n",
      "w00.033973713852132235,w10.20467034930151548,w20.21144976912330263,w30.21560921125738403,iteration155,cost0.26501145870520454\n",
      "w00.03414232578543116,w10.20544987865058262,w20.21217146023495417,w30.2163930025844881,iteration156,cost0.26322250905374317\n",
      "w00.03431045504517025,w10.20622478365459176,w20.21288768860510343,w30.21717161735767718,iteration157,cost0.2614570891321876\n",
      "w00.0344781037569331,w10.20699509498620072,w20.21359849131679942,w30.21794509031151973,iteration158,cost0.2597148848561941\n",
      "w00.03464527403414455,w10.20776084311225415,w20.2143039052039223,w30.2187134559471842,iteration159,cost0.2579955863434934\n",
      "w00.034811967978148124,w10.2085220582951659,w20.21500396685285647,w30.21947674853400684,iteration160,cost0.2562988878576473\n",
      "w00.034978187678282965,w10.20927877059429204,w20.21569871260415235,w30.22023500211104913,iteration161,cost0.2546244877525585\n",
      "w00.03514393521196028,w10.21003100986729456,w20.21638817855417722,w30.22098825048864468,iteration162,cost0.2529720884177228\n",
      "w00.035309212644739234,w10.2107788057714961,w20.21707240055675478,w30.2217365272499357,iteration163,cost0.25134139622421386\n",
      "w00.035474022030402404,w10.21152218776522544,w20.21775141422479377,w30.22247986575239928,iteration164,cost0.24973212147139187\n",
      "w00.03563836541103067,w10.212261185109154,w20.21842525493190568,w30.22321829912936325,iteration165,cost0.24814397833432522\n",
      "w00.03580224481707767,w10.21299582686762342,w20.2190939578140115,w30.223951860291512,iteration166,cost0.24657668481191555\n",
      "w00.035965662267443715,w10.21372614190996403,w20.21975755777093786,w30.22468058192838217,iteration167,cost0.2450299626757176\n",
      "w00.03612861976954924,w10.21445215891180477,w20.2204160894680022,w30.22540449650984812,iteration168,cost0.24350353741944436\n",
      "w00.036291119319407775,w10.21517390635637404,w20.22106958733758755,w30.22612363628759768,iteration169,cost0.24199713820914764\n",
      "w00.036453162901698435,w10.2158914125357919,w20.22171808558070658,w30.22683803329659788,iteration170,cost0.240510497834066\n",
      "w00.036614752489837914,w10.21660470555235364,w20.22236161816855513,w30.2275477193565507,iteration171,cost0.2390433526581301\n",
      "w00.036775890046052,w10.2173138133198048,w20.22300021884405546,w30.22825272607333927,iteration172,cost0.23759544257211754\n",
      "w00.036936577521446655,w10.21801876356460728,w20.22363392112338898,w30.22895308484046425,iteration173,cost0.23616651094644892\n",
      "w00.037096816856078595,w10.21871958382719744,w20.22426275829751874,w30.22964882684047055,iteration174,cost0.23475630458461352\n",
      "w00.0372566099790254,w10.21941630146323535,w20.22488676343370176,w30.23033998304636438,iteration175,cost0.23336457367722122\n"
     ]
    },
    {
     "name": "stdout",
     "output_type": "stream",
     "text": [
      "w00.037415958808455184,w10.22010894364484584,w20.2255059693769911,w30.23102658422302105,iteration176,cost0.23199107175666728\n",
      "w00.037574865251695795,w10.22079753736185118,w20.2261204087517279,w30.23170866092858305,iteration177,cost0.23063555565240526\n",
      "w00.037733331205303554,w10.22148210942299548,w20.22673011396302337,w30.23238624351584888,iteration178,cost0.22929778544681803\n",
      "w00.03789135855513154,w10.22216268645716084,w20.2273351171982309,w30.23305936213365244,iteration179,cost0.22797752443167985\n",
      "w00.038048949176397444,w10.22283929491457538,w20.22793545042840824,w30.23372804672823333,iteration180,cost0.22667453906520105\n",
      "w00.03820610493375094,w10.22351196106801313,w20.22853114540976976,w30.23439232704459773,iteration181,cost0.22538859892964722\n",
      "w00.03836282768134066,w10.22418071101398582,w20.22912223368512918,w30.23505223262787037,iteration182,cost0.22411947668952723\n",
      "w00.038519119262880666,w10.22484557067392677,w20.22970874658533239,w30.2357077928246372,iteration183,cost0.22286694805033913\n",
      "w00.03867498151171655,w10.22550656579536668,w20.23029071523068076,w30.23635903678427916,iteration184,cost0.22163079171786937\n",
      "w00.03883041625089104,w10.22616372195310175,w20.23086817053234493,w30.23700599346029708,iteration185,cost0.22041078935803643\n",
      "w00.038985425293209204,w10.22681706455035364,w20.231441143193769,w30.23764869161162738,iteration186,cost0.2192067255572724\n",
      "w00.03914001044130325,w10.22746661881992192,w20.23200966371206533,w30.23828715980394935,iteration187,cost0.21801838778343416\n",
      "w00.039294173487696815,w10.2281124098253287,w20.23257376237940008,w30.23892142641098324,iteration188,cost0.2168455663472386\n",
      "w00.03944791621486893,w10.22875446246195547,w20.23313346928436923,w30.23955151961577995,iteration189,cost0.2156880543642134\n",
      "w00.03960124039531749,w10.22939280145817237,w20.23368881431336552,w30.24017746741200183,iteration190,cost0.2145456477171576\n",
      "w00.03975414779162235,w10.23002745137645997,w20.23423982715193623,w30.24079929760519503,iteration191,cost0.21341814501910467\n",
      "w00.039906640156507966,w10.23065843661452334,w20.23478653728613172,w30.24141703781405327,iteration192,cost0.21230534757678052\n",
      "w00.040058719232905673,w10.23128578140639885,w20.23532897400384503,w30.24203071547167304,iteration193,cost0.21120705935455217\n",
      "w00.04021038675401551,w10.23190950982355327,w20.23586716639614236,w30.2426403578268005,iteration194,cost0.21012308693885728\n",
      "w00.04036164444336765,w10.2325296457759757,w20.23640114335858475,w30.24324599194506982,iteration195,cost0.20905323950311172\n",
      "w00.04051249401488343,w10.23314621301326216,w20.23693093359254083,w30.24384764471023346,iteration196,cost0.20799732877308463\n",
      "w00.04066293717293599,w10.23375923512569272,w20.23745656560649067,w30.24444534282538394,iteration197,cost0.20695516899273908\n",
      "w00.04081297561241047,w10.23436873554530158,w20.23797806771732105,w30.24503911281416757,iteration198,cost0.20592657689052887\n",
      "w00.04096261101876389,w10.23497473754693987,w20.23849546805161187,w30.2456289810219899,iteration199,cost0.2049113716461463\n",
      "w00.04111184506808453,w10.2355772642493314,w20.239008794546914,w30.24621497361721323,iteration200,cost0.20390937485771587\n",
      "w00.041260679427151024,w10.23617633861612114,w20.2395180749530186,w30.2467971165923459,iteration201,cost0.20292041050942655\n",
      "w00.04140911575349098,w10.23677198345691688,w20.24002333683321772,w30.24737543576522372,iteration202,cost0.2019443049395974\n",
      "w00.041557155695439274,w10.23736422142832372,w20.24052460756555666,w30.24794995678018344,iteration203,cost0.20098088680917078\n",
      "w00.04170480089219592,w10.23795307503497168,w20.2410219143440778,w30.24852070510922827,iteration204,cost0.200029987070627\n",
      "w00.04185205297388359,w10.23853856663053646,w20.24151528418005613,w30.2490877060531857,iteration205,cost0.19909143893731576\n",
      "w00.04199891356160474,w10.23912071841875326,w20.24200474390322643,w30.24965098474285735,iteration206,cost0.198165077853197\n",
      "w00.04214538426749835,w10.23969955245442381,w20.24249032016300223,w30.2502105661401613,iteration207,cost0.1972507414629881\n",
      "w00.04229146669479632,w10.24027509064441666,w20.2429720394296866,w30.2507664750392667,iteration208,cost0.19634826958270968\n",
      "w00.042437162437879455,w10.24084735474866073,w20.24344992799567483,w30.2513187360677206,iteration209,cost0.19545750417062602\n",
      "w00.04258247308233313,w10.24141636638113226,w20.24392401197664895,w30.2518673736875674,iteration210,cost0.19457828929857438\n",
      "w00.042727400205002534,w10.24198214701083495,w20.24439431731276434,w30.25241241219646077,iteration211,cost0.19371047112367848\n",
      "w00.042871945374047614,w10.24254471796277377,w20.24486086976982824,w30.25295387572876793,iteration212,cost0.19285389786044008\n",
      "w00.043016110148997595,w10.24310410041892197,w20.2453236949404705,w30.25349178825666663,iteration213,cost0.19200841975320426\n",
      "w00.04315989608080518,w10.24366031541918182,w20.24578281824530634,w30.25402617359123486,iteration214,cost0.19117388904899377\n",
      "w00.04330330471190037,w10.24421338386233873,w20.2462382649340914,w30.2545570553835331,iteration215,cost0.19035015997070606\n",
      "w00.04344633757624399,w10.24476332650700913,w20.2466900600868689,w30.2550844571256794,iteration216,cost0.18953708869067012\n",
      "w00.04358899619938076,w10.2453101639725817,w20.24713822861510926,w30.2556084021519169,iteration217,cost0.1887345333045567\n",
      "w00.04373128209849209,w10.24585391674015267,w20.24758279526284196,w30.25612891363967477,iteration218,cost0.1879423538056376\n",
      "w00.04387319678244855,w10.2463946051534545,w20.24802378460777982,w30.2566460146106217,iteration219,cost0.18716041205939013\n",
      "w00.044014741751861895,w10.24693224941977845,w20.24846122106243573,w30.2571597279317121,iteration220,cost0.18638857177844081\n",
      "w00.044155918499136866,w10.2474668696108911,w20.24889512887523194,w30.25767007631622574,iteration221,cost0.18562669849784516\n",
      "w00.04429672850852256,w10.24799848566394433,w20.2493255321316018,w30.2581770823248,iteration222,cost0.18487465955069768\n",
      "w00.044437173256163504,w10.2485271173823797,w20.24975245475508417,w30.2586807683664555,iteration223,cost0.18413232404406912\n",
      "w00.04457725421015041,w10.24905278443682624,w20.2501759205084104,w30.2591811566996145,iteration224,cost0.18339956283526465\n",
      "w00.04471697283057054,w10.24957550636599263,w20.2505959529945843,w30.25967826943311284,iteration225,cost0.18267624850840145\n",
      "w00.0448563305695578,w10.25009530257755314,w20.2510125756579543,w30.26017212852720484,iteration226,cost0.1819622553512983\n",
      "w00.04499532887134246,w10.25061219234902765,w20.251425811785279,w30.2606627557945615,iteration227,cost0.18125745933267515\n",
      "w00.04513396917230058,w10.25112619482865595,w20.2518356845067852,w30.26115017290126197,iteration228,cost0.1805617380796586\n",
      "w00.0452722529010031,w10.2516373290362658,w20.2522422167972188,w30.26163440136777844,iteration229,cost0.1798749708555867\n",
      "w00.04541018147826458,w10.25214561386413564,w20.2526454314768892,w30.2621154625699543,iteration230,cost0.17919703853811286\n",
      "w00.045547756317191684,w10.252651068077851,w20.2530453512127059,w30.26259337773997604,iteration231,cost0.17852782359760128\n",
      "w00.04568497882323128,w10.25315371031715556,w20.25344199851920834,w30.26306816796733795,iteration232,cost0.17786721007581252\n",
      "w00.045821850394218266,w10.2536535590967963,w20.2538353957595896,w30.26353985419980125,iteration233,cost0.177215083564874\n",
      "w00.04595837242042305,w10.254150632807363,w20.2542255651467119,w30.2640084572443459,iteration234,cost0.1765713311865318\n",
      "w00.046094546284598754,w10.25464494971612206,w20.25461252874411666,w30.2644739977681167,iteration235,cost0.175935841571681\n",
      "w00.0462303733620281,w10.2551365279678449,w20.2549963084670266,w30.26493649629936256,iteration236,cost0.17530850484016866\n",
      "w00.046365855020569946,w10.2556253855856306,w20.2553769260833418,w30.2653959732283697,iteration237,cost0.17468921258086867\n",
      "w00.04650099262070558,w10.256111540471723,w20.25575440321462894,w30.26585244880838876,iteration238,cost0.174077857832022\n",
      "w00.04663578751558466,w10.25659501040832255,w20.2561287613371038,w30.26630594315655504,iteration239,cost0.17347433506184098\n",
      "w00.0467702410510709,w10.25707581305839244,w20.2565000217826073,w30.26675647625480337,iteration240,cost0.17287854014937293\n",
      "w00.04690435456578739,w10.2575539659664595,w20.25686820573957464,w30.2672040679507761,iteration241,cost0.17229037036561953\n",
      "w00.0470381293911617,w10.2580294865594096,w20.2572333342539986,w30.26764873795872574,iteration242,cost0.17170972435490972\n",
      "w00.047171566851470614,w10.25850239214727777,w20.25759542823038545,w30.26809050586041067,iteration243,cost0.17113650211652143\n",
      "w00.047304668263884624,w10.258972699924033,w20.2579545084327055,w30.26852939110598567,iteration244,cost0.17057060498654894\n",
      "w00.0474374349385121,w10.2594404269683578,w20.25831059548533636,w30.26896541301488586,iteration245,cost0.17001193562001402\n",
      "w00.0475698681784432,w10.25990559024442245,w20.2586637098740002,w30.2693985907767051,iteration246,cost0.16946039797321555\n",
      "w00.047701969279793435,w10.26036820660265414,w20.259013871946695,w30.2698289434520681,iteration247,cost0.16891589728631545\n",
      "w00.04783373953174705,w10.2608282927805008,w20.2593611019146191,w30.2702564899734972,iteration248,cost0.16837834006615898\n",
      "w00.0479651802166,w10.26128586540319004,w20.25970541985308976,w30.27068124914627284,iteration249,cost0.16784763406932257\n",
      "w00.048096292609802735,w10.26174094098448275,w20.26004684570245556,w30.2711032396492884,iteration250,cost0.1673236882853913\n",
      "w00.04822707798000267,w10.2621935359274218,w20.2603853992690026,w30.2715224800358994,iteration251,cost0.16680641292045814\n",
      "w00.04835753758908637,w10.26264366652507554,w20.2607211002258547,w30.271938988734767,iteration252,cost0.1662957193808453\n",
      "w00.048487672692221484,w10.2630913489612766,w20.2610539681138674,w30.2723527840506957,iteration253,cost0.16579152025704244\n",
      "w00.048617484537898374,w10.26353659931135537,w20.2613840223425162,w30.2727638841654653,iteration254,cost0.16529372930786104\n",
      "w00.04874697436797149,w10.26397943354286874,w20.2617112821907785,w30.27317230713865787,iteration255,cost0.1648022614447999\n",
      "w00.048876143417700496,w10.2644198675163241,w20.2620357668080101,w30.2735780709084783,iteration256,cost0.16431703271662063\n",
      "w00.04900499291579105,w10.2648579169858982,w20.26235749521481533,w30.2739811932925701,iteration257,cost0.16383796029412853\n",
      "w00.04913352408443543,w10.2652935976001512,w20.26267648630391155,w30.27438169198882517,iteration258,cost0.16336496245515866\n",
      "w00.04926173813935278,w10.26572692490273614,w20.26299275884098783,w30.2747795845761886,iteration259,cost0.16289795856976189\n",
      "w00.04938963628982918,w10.26615791433310354,w20.263306331465558,w30.2751748885154577,iteration260,cost0.16243686908558924\n",
      "w00.04951721973875741,w10.2665865812272012,w20.2636172226918076,w30.27556762115007566,iteration261,cost0.1619816155134723\n",
      "w00.04964448968267645,w10.2670129408181693,w20.2639254509094356,w30.27595779970692036,iteration262,cost0.1615321204131963\n",
      "w00.04977144731181076,w10.2674370082370309,w20.2642310343844901,w30.27634544129708716,iteration263,cost0.16108830737946386\n",
      "w00.04989809381010927,w10.26785879851337796,w20.26453399126019866,w30.27673056291666703,iteration264,cost0.16065010102804658\n",
      "w00.0500244303552841,w10.2682783265760523,w20.264834339557793,w30.27711318144751923,iteration265,cost0.16021742698212152\n",
      "w00.050150458118849085,w10.26869560725382235,w20.26513209717732794,w30.27749331365803864,iteration266,cost0.1597902118587915\n",
      "w00.05027617826615799,w10.2691106552760555,w20.2654272818984952,w30.27787097620391826,iteration267,cost0.15936838325578484\n",
      "w00.05040159195644251,w10.2695234852733853,w20.26571991138143136,w30.2782461856289063,iteration268,cost0.15895186973833378\n",
      "w00.05052670034285001,w10.26993411177837495,w20.26601000316752094,w30.2786189583655584,iteration269,cost0.15854060082622848\n",
      "w00.050651504572481014,w10.2703425492261757,w20.2662975746801934,w30.2789893107359847,iteration270,cost0.1581345069810437\n"
     ]
    },
    {
     "name": "stdout",
     "output_type": "stream",
     "text": [
      "w00.050776005786426444,w10.27074881195518113,w20.2665826432257153,w30.2793572589525919,iteration271,cost0.1577335195935374\n",
      "w00.05090020511980465,w10.27115291420767723,w20.26686522599397683,w30.27972281911882013,iteration272,cost0.15733757097121712\n",
      "w00.051024103701798156,w10.2715548701304876,w20.26714534005927343,w30.2800860072298754,iteration273,cost0.15694659432607355\n",
      "w00.051147702655690186,w10.27195469377561476,w20.26742300238108174,w30.28044683917345664,iteration274,cost0.1565605237624776\n",
      "w00.051271003098900945,w10.27235239910087683,w20.26769822980483055,w30.280805330730478,iteration275,cost0.15617929426523985\n",
      "w00.05139400614302369,w10.2727479999705403,w20.26797103906266667,w30.28116149757578623,iteration276,cost0.15580284168782998\n",
      "w00.051516712893860506,w10.2731415101559482,w20.26824144677421535,w30.28151535527887367,iteration277,cost0.1554311027407532\n",
      "w00.051639124451457914,w10.27353294333614414,w20.26850946944733595,w30.28186691930458574,iteration278,cost0.15506401498008338\n",
      "w00.051761241910142204,w10.2739223130984925,w20.26877512347887234,w30.2822162050138243,iteration279,cost0.1547015167961483\n",
      "w00.05188306635855456,w10.2743096329392939,w20.2690384251553982,w30.28256322766424574,iteration280,cost0.1543435474023675\n",
      "w00.052004598879685934,w10.2746949162643968,w20.2692993906539575,w30.28290800241095504,iteration281,cost0.153990046824239\n",
      "w00.05212584055091171,w10.2750781763898051,w20.26955803604279993,w30.2832505443071946,iteration282,cost0.15364095588847335\n",
      "w00.052246792444026156,w10.27545942654228156,w20.2698143772821112,w30.28359086830502866,iteration283,cost0.15329621621227357\n",
      "w00.0523674556252766,w10.27583867985994714,w20.27006843022473886,w30.2839289892560231,iteration284,cost0.152955770192758\n",
      "w00.05248783115539744,w10.27621594939287625,w20.27032021061691286,w30.28426492191192076,iteration285,cost0.1526195609965253\n",
      "w00.052607920089643885,w10.27659124810368824,w20.27056973409896135,w30.28459868092531204,iteration286,cost0.1522875325493584\n",
      "w00.05272772347782554,w10.2769645888681347,w20.27081701620602183,w30.2849302808503012,iteration287,cost0.1519596295260673\n",
      "w00.05284724236433968,w10.2773359844756828,w20.2710620723687475,w30.28525973614316796,iteration288,cost0.15163579734046653\n",
      "w00.05296647778820439,w10.2777054476300949,w20.2713049179140086,w30.285587061163025,iteration289,cost0.15131598213548822\n",
      "w00.05308543078309144,w10.27807299095000415,w20.27154556806558944,w30.2859122701724707,iteration290,cost0.15100013077342608\n",
      "w00.05320410237735898,w10.2784386269694861,w20.27178403794488026,w30.2862353773382374,iteration291,cost0.15068819082631085\n",
      "w00.053322493594083996,w10.27880236813862685,w20.27202034257156515,w30.286556396731836,iteration292,cost0.1503801105664144\n",
      "w00.05344060545109455,w10.2791642268240869,w20.2722544968643045,w30.2868753423301954,iteration293,cost0.15007583895688062\n",
      "w00.05355843896100185,w10.27952421530966165,w20.2724865156414135,w30.28719222801629807,iteration294,cost0.14977532564248253\n",
      "w00.05367599513123205,w10.27988234579683774,w20.27271641362153604,w30.28750706757981137,iteration295,cost0.14947852094050168\n",
      "w00.053793274964057926,w10.28023863040534597,w20.2729442054243136,w30.28781987471771453,iteration296,cost0.14918537583173133\n",
      "w00.05391027945663024,w10.2805930811737104,w20.27316990557105014,w30.2881306630349213,iteration297,cost0.1488958419515984\n",
      "w00.054027009601008986,w10.28094571005979374,w20.2733935284853724,w30.2884394460448987,iteration298,cost0.1486098715814059\n",
      "w00.05414346638419442,w10.281296528941339,w20.2736150884938857,w30.28874623717028136,iteration299,cost0.1483274176396908\n",
      "w00.05425965078815784,w10.2816455496165077,w20.2738345998268253,w30.289051049743482,iteration300,cost0.1480484336736992\n",
      "w00.0543755637898722,w10.2819927838044142,w20.2740520766187034,w30.28935389700729747,iteration301,cost0.14777287385097465\n",
      "w00.054491206361342547,w10.2823382431456569,w20.27426753290895206,w30.2896547921155109,iteration302,cost0.1475006929510591\n",
      "w00.054606579469636214,w10.2826819392028452,w20.27448098264256143,w30.28995374813348984,iteration303,cost0.1472318463573056\n",
      "w00.05472168407691284,w10.2830238834611234,w20.2746924396707139,w30.2902507780387806,iteration304,cost0.14696629004879955\n",
      "w00.05483652114045418,w10.28336408732869117,w20.27490191775141387,w30.2905458947216978,iteration305,cost0.14670398059238904\n",
      "w00.05495109161269378,w10.2837025621373201,w20.2751094305501135,w30.2908391109859109,iteration306,cost0.1464448751348215\n",
      "w00.05506539644124635,w10.284039319142867,w20.27531499164033396,w30.29113043954902645,iteration307,cost0.14618893139498493\n",
      "w00.05517943656893705,w10.28437436952578393,w20.2755186145042828,w30.291419893043166,iteration308,cost0.1459361076562546\n",
      "w00.055293212933830535,w10.2847077243916245,w20.27572031253346696,w30.2917074840155408,iteration309,cost0.14568636275894023\n",
      "w00.05540672646925981,w10.28503939477154694,w20.27592009902930187,w30.2919932249290223,iteration310,cost0.14543965609283577\n",
      "w00.055519978103854915,w10.28536939162281366,w20.2761179872037162,w30.29227712816270873,iteration311,cost0.1451959475898683\n",
      "w00.05563296876157142,w10.28569772582928765,w20.27631399017975283,w30.2925592060124881,iteration312,cost0.1449551977168451\n",
      "w00.05574569936171873,w10.2860244082019255,w20.27650812099216543,w30.29283947069159727,iteration313,cost0.14471736746829836\n",
      "w00.05585817081898818,w10.2863494494792668,w20.27670039258801155,w30.2931179343311774,iteration314,cost0.1444824183594251\n",
      "w00.05597038404348104,w10.28667286032792083,w20.27689081782724106,w30.2933946089808254,iteration315,cost0.14425031241912206\n",
      "w00.056082339940736206,w10.2869946513430493,w20.2770794094832814,w30.29366950660914215,iteration316,cost0.1440210121831134\n",
      "w00.0561940394117578,w10.28731483304884653,w20.2772661802436182,w30.29394263910427637,iteration317,cost0.14379448068717063\n",
      "w00.0563054833530426,w10.2876334158990159,w20.27745114271037247,w30.2942140182744656,iteration318,cost0.14357068146042332\n",
      "w00.05641667265660721,w10.28795041027724333,w20.27763430940087364,w30.29448365584857283,iteration319,cost0.1433495785187593\n",
      "w00.05652760821001514,w10.28826582649766735,w20.2778156927482289,w30.29475156347662007,iteration320,cost0.14313113635831265\n",
      "w00.05663829089640366,w10.2885796748053465,w20.27799530510188886,w30.29501775273031805,iteration321,cost0.1429153199490401\n",
      "w00.056748721594510505,w10.28889196537672307,w20.2781731587282088,w30.29528223510359236,iteration322,cost0.142702094728382\n",
      "w00.05685890117870039,w10.289202708320084,w20.2783492658110071,w30.29554502201310623,iteration323,cost0.1424914265950092\n",
      "w00.05696883051899136,w10.2895119136760185,w20.278523638452119,w30.29580612479877966,iteration324,cost0.14228328190265283\n",
      "w00.05707851048108097,w10.2898195914178729,w20.2786962886719473,w30.2960655547243051,iteration325,cost0.14207762745401747\n",
      "w00.0571879419263723,w10.2901257514522022,w20.2788672284100089,w30.2963233229776597,iteration326,cost0.14187443049477488\n",
      "w00.05729712571199977,w10.2904304036192186,w20.279036469525478,w30.2965794406716139,iteration327,cost0.1416736587076387\n",
      "w00.05740606269085486,w10.2907335576932371,w20.27920402379772563,w30.2968339188442371,iteration328,cost0.14147528020651873\n",
      "w00.05751475371161157,w10.291035223383118,w20.2793699029268552,w30.29708676845939935,iteration329,cost0.1412792635307525\n",
      "w00.057623199618751786,w10.2913354103327065,w20.27953411853423493,w30.2973380004072701,iteration330,cost0.14108557763941507\n",
      "w00.05773140125259045,w10.29163412812126954,w20.2796966821630264,w30.2975876255048133,iteration331,cost0.14089419190570404\n",
      "w00.057839359449300576,w10.29193138626392934,w20.27985760527870956,w30.2978356544962795,iteration332,cost0.14070507611140065\n",
      "w00.05794707504093811,w10.2922271942120942,w20.2800168992696045,w30.29808209805369434,iteration333,cost0.1405182004414041\n",
      "w00.058054548855466605,w10.29252156135388646,w20.2801745754473893,w30.2983269667773438,iteration334,cost0.14033353547833996\n",
      "w00.05816178171678177,w10.29281449701456747,w20.2803306450476147,w30.29857027119625656,iteration335,cost0.1401510521972398\n",
      "w00.05826877444473582,w10.29310601045695983,w20.28048511923021524,w30.2988120217686824,iteration336,cost0.13997072196029284\n",
      "w00.058375527855161716,w10.2933961108818668,w20.2806380090800169,w30.29905222888256816,iteration337,cost0.13979251651166716\n",
      "w00.05848204275989721,w10.2936848074284886,w20.28078932560724146,w30.29929090285603005,iteration338,cost0.1396164079724006\n",
      "w00.05858831996680875,w10.29397210917483646,w20.2809390797480073,w30.2995280539378229,iteration339,cost0.13944236883536018\n",
      "w00.05869436027981522,w10.29425802513814314,w20.28108728236482705,w30.2997636923078062,iteration340,cost0.13927037196026862\n",
      "w00.05880016449891156,w10.2945425642752716,w20.28123394424710163,w30.29999782807740716,iteration341,cost0.1391003905687976\n",
      "w00.05890573342019217,w10.29482573548312,w20.28137907611161134,w30.3002304712900804,iteration342,cost0.1389323982397267\n",
      "w00.05901106783587423,w10.29510754759902486,w20.28152268860300317,w30.30046163192176495,iteration343,cost0.1387663689041671\n",
      "w00.05911616853432084,w10.2953880094011607,w20.2816647922942754,w30.3006913198813378,iteration344,cost0.1386022768408489\n",
      "w00.059221036300063985,w10.2956671296089376,w20.2818053976872584,w30.30091954501106444,iteration345,cost0.13844009667147253\n",
      "w00.05932567191382739,w10.2959449168833957,w20.28194451521309255,w30.3011463170870467,iteration346,cost0.13827980335612086\n",
      "w00.05943007615254924,w10.2962213798275974,w20.282082155232703,w30.3013716458196673,iteration347,cost0.13812137218873421\n",
      "w00.059534249789404685,w10.2964965269870166,w20.28221832803727087,w30.30159554085403134,iteration348,cost0.1379647787926445\n",
      "w00.059638193593828256,w10.2967703668499256,w20.2823530438487015,w30.3018180117704052,iteration349,cost0.13780999911617034\n",
      "w00.05974190833153614,w10.297042907847779,w20.2824863128200899,w30.3020390680846519,iteration350,cost0.13765700942827094\n",
      "w00.05984539476454829,w10.29731415835559555,w20.2826181450361824,w30.3022587192486644,iteration351,cost0.13750578631425708\n",
      "w00.05994865365121036,w10.29758412669233714,w20.2827485505138356,w30.3024769746507949,iteration352,cost0.13735630667156057\n",
      "w00.06005168574621558,w10.29785282112128514,w20.2828775392024724,w30.3026938436162824,iteration353,cost0.1372085477055606\n",
      "w00.060154491800626424,w10.29812024985041446,w20.28300512098453445,w30.3029093354076762,iteration354,cost0.13706248692546447\n",
      "w00.060257072561896156,w10.29838642103276497,w20.28313130567593214,w30.3031234592252578,iteration355,cost0.13691810214024489\n",
      "w00.06035942877389024,w10.29865134276681043,w20.28325610302649107,w30.303336224207459,iteration356,cost0.13677537145463098\n",
      "w00.060461561176907624,w10.29891502309682494,w20.2833795227203959,w30.30354763943127744,iteration357,cost0.13663427326515304\n",
      "w00.060563470507701854,w10.2991774700132469,w20.283501574376631,w30.3037577139126898,iteration358,cost0.13649478625624042\n",
      "w00.06066515749950209,w10.2994386914530407,w20.2836222675494181,w30.30396645660706156,iteration359,cost0.1363568893963712\n",
      "w00.06076662288203396,w10.2996986953000558,w20.28374161172865137,w30.30417387640955446,iteration360,cost0.13622056193427381\n",
      "w00.06086786738154029,w10.2999574893853833,w20.2838596163403291,w30.30437998215553097,iteration361,cost0.1360857833951793\n",
      "w00.06096889172080169,w10.30021508148771053,w20.2839762907469826,w30.30458478262095623,iteration362,cost0.13595253357712372\n",
      "w00.06106969661915704,w10.3004714793336727,w20.28409164424810274,w30.3047882865227973,iteration363,cost0.13582079254730042\n",
      "w00.06117028279252378,w10.30072669059820273,w20.28420568608056274,w30.30499050251941945,iteration364,cost0.13569054063846017\n",
      "w00.06127065095341816,w10.3009807229048783,w20.28431842541903884,w30.3051914392109801,iteration365,cost0.1355617584453609\n",
      "w00.061370801810975255,w10.30123358382626686,w20.2844298713764278,w30.3053911051398199,iteration366,cost0.13543442682126322\n",
      "w00.06147073607096896,w10.3014852808842682,w20.28454003300426167,w30.3055895087908514,iteration367,cost0.13530852687447453\n",
      "w00.06157045443583175,w10.30173582155045453,w20.28464891929312,w30.30578665859194487,iteration368,cost0.13518403996493836\n",
      "w00.061669957604674405,w10.30198521324640887,w20.28475653917303867,w30.3059825629143117,iteration369,cost0.13506094770086957\n",
      "w00.06176924627330555,w10.30223346334406037,w20.2848629015139168,w30.30617723007288516,iteration370,cost0.1349392319354345\n",
      "w00.06186832113425108,w10.30248057916601806,w20.28496801512592024,w30.30637066832669857,iteration371,cost0.13481887476347598\n",
      "w00.061967182876773476,w10.3027265679859019,w20.2850718887598827,w30.306562885879261,iteration372,cost0.13469985851828148\n",
      "w00.06206583218689099,w10.30297143702867196,w20.2851745311077041,w30.3067538908789304,iteration373,cost0.1345821657683953\n",
      "w00.0621642697473967,w10.303215193470955,w20.2852759508027462,w30.3069436914192843,iteration374,cost0.13446577931447276\n",
      "w00.06226249623787745,w10.3034578444413692,w20.2853761564202258,w30.30713229553948784,iteration375,cost0.13435068218617657\n",
      "w00.06236051233473265,w10.3036993970208466,w20.2854751564776048,w30.3073197112246595,iteration376,cost0.13423685763911525\n",
      "w00.062458318711193006,w10.3039398582429532,w20.28557295943497835,w30.3075059464062344,iteration377,cost0.13412428915182206\n",
      "w00.06255591603733905,w10.3041792350942074,w20.28566957369545964,w30.30769100896232493,iteration378,cost0.13401296042277427\n",
      "w00.06265330498011965,w10.30441753451439557,w20.2857650076055628,w30.30787490671807916,iteration379,cost0.13390285536745286\n",
      "w00.06275048620337026,w10.30465476339688613,w20.2858592694555826,w30.30805764744603686,iteration380,cost0.13379395811544073\n",
      "w00.06284746036783125,w10.3048909285889411,w20.28595236747997216,w30.308239238866483,iteration381,cost0.13368625300756098\n",
      "w00.06294422813116592,w10.30512603689202605,w20.28604430985771767,w30.30841968864779895,iteration382,cost0.13357972459305184\n",
      "w00.0630407901479785,w10.30536009506211736,w20.2861351047127109,w30.30859900440681115,iteration383,cost0.1334743576267811\n",
      "w00.06313714706983209,w10.3055931098100078,w20.2862247601141192,w30.30877719370913786,iteration384,cost0.13337013706649653\n",
      "w00.0632332995452663,w10.30582508780161016,w20.28631328407675255,w30.30895426406953314,iteration385,cost0.13326704807011383\n",
      "w00.063329248219815,w10.3060560356582583,w20.286400684561429,w30.3091302229522287,iteration386,cost0.1331650759930405\n",
      "w00.0634249937360238,w10.3062859599570068,w20.2864869694753367,w30.3093050777712734,iteration387,cost0.13306420638553576\n",
      "w00.06352053673346743,w10.30651486723092836,w20.2865721466723944,w30.3094788358908708,iteration388,cost0.13296442499010558\n",
      "w00.06361587784876713,w10.30674276396940897,w20.2866562239536087,w30.3096515046257136,iteration389,cost0.13286571773893285\n",
      "w00.06371101771560776,w10.30696965661844144,w20.28673920906742956,w30.3098230912413171,iteration390,cost0.13276807075134148\n",
      "w00.06380595696475498,w10.30719555158091677,w20.2868211097101031,w30.3099936029543489,iteration391,cost0.1326714703312952\n"
     ]
    },
    {
     "name": "stdout",
     "output_type": "stream",
     "text": [
      "w00.0639006962240721,w10.30742045521691364,w20.28690193352602206,w30.31016304693295804,iteration392,cost0.13257590296492872\n",
      "w00.06399523611853707,w10.3076443738439859,w20.2869816881080739,w30.31033143029710036,iteration393,cost0.13248135531811325\n",
      "w00.06408957727025913,w10.3078673137374482,w20.28706038099798664,w30.3104987601188629,iteration394,cost0.1323878142340533\n",
      "w00.06418372029849556,w10.3080892811306595,w20.2871380196866724,w30.3106650434227853,iteration395,cost0.13229526673091668\n",
      "w00.06427766581966814,w10.30831028221530504,w20.28721461161456857,w30.31083028718617944,iteration396,cost0.1322036999994955\n",
      "w00.06437141444737964,w10.3085303231416762,w20.2872901641719765,w30.31099449833944703,iteration397,cost0.13211310140089902\n",
      "w00.06446496679243013,w10.30874941001894834,w20.2873646846993984,w30.3111576837663947,iteration398,cost0.13202345846427674\n",
      "w00.06455832346283323,w10.30896754891545697,w20.2874381804878714,w30.31131985030454706,iteration399,cost0.13193475888457282\n",
      "w00.0646514850638322,w10.30918474585897204,w20.2875106587792999,w30.31148100474545815,iteration400,cost0.1318469905203095\n",
      "w00.064744452197916,w10.30940100683697047,w20.28758212676678524,w30.31164115383501995,iteration401,cost0.13176014139140116\n",
      "w00.06483722546483517,w10.3096163377969065,w20.28765259159495354,w30.3118003042737696,iteration402,cost0.131674199676997\n",
      "w00.0649298054616177,w10.30983074464648075,w20.287722060360281,w30.311958462717194,iteration403,cost0.13158915371335292\n",
      "w00.06502219278258467,w10.31004423325390695,w20.2877905401114172,w30.3121156357760329,iteration404,cost0.1315049919917315\n",
      "w00.06511438801936596,w10.31025680944817735,w20.28785803784950637,w30.31227183001657927,iteration405,cost0.1314217031563306\n",
      "w00.06520639176091571,w10.31046847901932584,w20.28792456052850607,w30.3124270519609783,iteration406,cost0.13133927600223913\n",
      "w00.06529820459352773,w10.3106792477186899,w20.28799011505550415,w30.31258130808752405,iteration407,cost0.1312576994734209\n",
      "w00.06538982710085083,w10.3108891212591701,w20.28805470829103347,w30.31273460483095405,iteration408,cost0.1311769626607244\n",
      "w00.06548125986390407,w10.31109810531548865,w20.2881183470493843,w30.31288694858274224,iteration409,cost0.13109705479992034\n",
      "w00.06557250346109186,w10.31130620552444543,w20.28818103809891504,w30.31303834569138966,iteration410,cost0.13101796526976447\n",
      "w00.06566355846821897,w10.31151342748517286,w20.28824278816236026,w30.31318880246271336,iteration411,cost0.13093968359008723\n",
      "w00.0657544254585055,w10.3117197767593888,w20.2883036039171373,w30.31333832516013305,iteration412,cost0.130862199419908\n",
      "w00.06584510500260168,w10.31192525887164774,w20.2883634919956503,w30.31348692000495637,iteration413,cost0.13078550255557547\n",
      "w00.06593559766860266,w10.3121298793095906,w20.28842245898559277,w30.31363459317666176,iteration414,cost0.13070958292893234\n",
      "w00.06602590402206308,w10.3123336435241923,w20.28848051143024733,w30.3137813508131796,iteration415,cost0.13063443060550473\n",
      "w00.06611602462601174,w10.3125365569300083,w20.2885376558287841,w30.3139271990111715,iteration416,cost0.1305600357827158\n",
      "w00.06620596004096595,w10.31273862490541904,w20.28859389863655693,w30.31407214382630777,iteration417,cost0.1304863887881235\n",
      "w00.06629571082494597,w10.3129398527928728,w20.2886492462653974,w30.3142161912735427,iteration418,cost0.13041348007768142\n",
      "w00.06638527753348925,w10.3131402458991271,w20.28870370508390714,w30.31435934732738857,iteration419,cost0.1303413002340233\n",
      "w00.06647466071966464,w10.3133398094954884,w20.28875728141774804,w30.3145016179221871,iteration420,cost0.13026983996477062\n",
      "w00.06656386093408648,w10.31353854881805016,w20.28880998154993054,w30.3146430089523798,iteration421,cost0.13019909010086209\n",
      "w00.06665287872492863,w10.3137364690679292,w20.2888618117211,w30.3147835262727758,iteration422,cost0.13012904159490649\n",
      "w00.06674171463793833,w10.3139335754115007,w20.288912778129821,w30.31492317569881856,iteration423,cost0.13005968551955668\n",
      "w00.06683036921645012,w10.31412987298063155,w20.2889628869328602,w30.3150619630068503,iteration424,cost0.1299910130659061\n",
      "w00.0669188430013995,w10.31432536687291196,w20.28901214424546656,w30.31519989393437486,iteration425,cost0.12992301554190602\n",
      "w00.06700713653133661,w10.31452006215188566,w20.2890605561416503,w30.3153369741803187,iteration426,cost0.12985568437080447\n",
      "w00.06709525034243982,w10.3147139638472787,w20.28910812865445984,w30.3154732094052903,iteration427,cost0.12978901108960614\n",
      "w00.06718318496852921,w10.3149070769552263,w20.2891548677762566,w30.31560860523183765,iteration428,cost0.12972298734755208\n",
      "w00.06727094094107992,w10.3150994064384987,w20.28920077945898826,w30.3157431672447041,iteration429,cost0.12965760490462083\n",
      "w00.06735851878923554,w10.31529095722672495,w20.28924586961446014,w30.31587690099108234,iteration430,cost0.1295928556300488\n",
      "w00.06744591903982128,w10.3154817342166157,w20.2892901441146047,w30.3160098119808671,iteration431,cost0.12952873150087094\n",
      "w00.06753314221735711,w10.31567174227218403,w20.2893336087917492,w30.31614190568690553,iteration432,cost0.1294652246004804\n",
      "w00.06762018884407085,w10.3158609862249653,w20.2893762694388815,w30.3162731875452464,iteration433,cost0.1294023271172081\n",
      "w00.06770705943991115,w10.3160494708742349,w20.2894181318099145,w30.31640366295538747,iteration434,cost0.12934003134292085\n",
      "w00.06779375452256034,w10.31623720098722535,w20.28945920161994804,w30.3165333372805211,iteration435,cost0.12927832967163844\n",
      "w00.06788027460744729,w10.316424181299341,w20.2894994845455299,w30.31666221584777815,iteration436,cost0.1292172145981689\n",
      "w00.06796662020776012,w10.31661041651437216,w20.2895389862249143,w30.3167903039484708,iteration437,cost0.12915667871676265\n",
      "w00.06805279183445886,w10.3167959113047071,w20.28957771225831935,w30.3169176068383328,iteration438,cost0.12909671471978404\n",
      "w00.06813878999628802,w10.31698067031154303,w20.28961566820818196,w30.3170441297377591,iteration439,cost0.12903731539640098\n",
      "w00.06822461519978906,w10.3171646981450957,w20.2896528595994119,w30.3171698778320429,iteration440,cost0.1289784736312918\n",
      "w00.06831026794931284,w10.3173479993848072,w20.28968929191964354,w30.31729485627161214,iteration441,cost0.12892018240337025\n",
      "w00.06839574874703194,w10.3175305785795528,w20.2897249706194862,w30.3174190701722634,iteration442,cost0.12886243478452616\n",
      "w00.06848105809295288,w10.31771244024784623,w20.28975990111277267,w30.3175425246153949,iteration443,cost0.1288052239383842\n",
      "w00.06856619648492836,w10.31789358887804336,w20.2897940887768062,w30.31766522464823777,iteration444,cost0.12874854311907877\n",
      "w00.06865116441866931,w10.31807402892854497,w20.28982753895260555,w30.31778717528408557,iteration445,cost0.12869238567004515\n",
      "w00.06873596238775695,w10.31825376482799766,w20.28986025694514894,w30.31790838150252254,iteration446,cost0.128636745022827\n",
      "w00.06882059088365472,w10.31843280097549387,w20.2898922480236157,w30.31802884824965016,iteration447,cost0.12858161469589963\n",
      "w00.06890505039572016,w10.3186111417407702,w20.2899235174216267,w30.31814858043831223,iteration448,cost0.12852698829350961\n",
      "w00.0689893414112167,w10.31878879146440464,w20.28995407033748327,w30.31826758294831836,iteration449,cost0.12847285950452883\n",
      "w00.06907346441532539,w10.3189657544580123,w20.2899839119344041,w30.31838586062666613,iteration450,cost0.128419222101325\n",
      "w00.06915741989115655,w10.31914203500443994,w20.29001304734076083,w30.31850341828776163,iteration451,cost0.1283660699386466\n",
      "w00.06924120831976134,w10.3193176373579591,w20.2900414816503121,w30.3186202607136385,iteration452,cost0.1283133969525227\n",
      "w00.0693248301801433,w10.3194925657444581,w20.2900692199224359,w30.3187363926541757,iteration453,cost0.12826119715917816\n",
      "w00.06940828594926969,w10.3196668243616326,w20.2900962671823602,w30.3188518188273133,iteration454,cost0.12820946465396252\n",
      "w00.06949157610208298,w10.3198404173791747,w20.2901226284213925,w30.3189665439192676,iteration455,cost0.1281581936102937\n",
      "w00.06957470111151201,w10.32001334893896133,w20.2901483085971476,w30.3190805725847442,iteration456,cost0.12810737827861599\n",
      "w00.06965766144848329,w10.3201856231552409,w20.29017331263377333,w30.3191939094471497,iteration457,cost0.12805701298537112\n",
      "w00.06974045758193209,w10.3203572441148187,w20.2901976454221759,w30.3193065590988024,iteration458,cost0.12800709213198425\n",
      "w00.06982308997881359,w10.3205282158772413,w20.2902213118202426,w30.319418526101141,iteration459,cost0.1279576101938628\n",
      "w00.06990555910411378,w10.3206985424749796,w20.2902443166530636,w30.3195298149849324,iteration460,cost0.12790856171940868\n",
      "w00.06998786542086048,w10.32086822791361064,w20.29026666471315227,w30.3196404302504776,iteration461,cost0.12785994132904419\n",
      "w00.07007000939013419,w10.3210372761719982,w20.2902883607606638,w30.319750376367817,iteration462,cost0.12781174371425014\n",
      "w00.07015199147107887,w10.321205691202472,w20.29030940952361234,w30.31985965777693326,iteration463,cost0.12776396363661802\n",
      "w00.07023381212091266,w10.32137347693100626,w20.290329815698087,w30.31996827888795376,iteration464,cost0.12771659592691367\n",
      "w00.07031547179493859,w10.32154063725739623,w20.29034958394846616,w30.3200762440813511,iteration465,cost0.12766963548415414\n",
      "w00.07039697094655513,w10.32170717605543436,w20.29036871890763005,w30.3201835577081426,iteration466,cost0.12762307727469677\n",
      "w00.07047831002726675,w10.32187309717308465,w20.2903872251771727,w30.3202902240900882,iteration467,cost0.12757691633134038\n",
      "w00.07055948948669437,w10.32203840443265624,w20.29040510732761166,w30.32039624751988727,iteration468,cost0.12753114775243862\n",
      "w00.07064050977258575,w10.3222031016309756,w20.2904223698985967,w30.3205016322613737,iteration469,cost0.12748576670102488\n",
      "w00.07072137133082586,w10.32236719253955765,w20.2904390173991172,w30.3206063825497103,iteration470,cost0.1274407684039493\n",
      "w00.07080207460544709,w10.32253068090477577,w20.29045505430770785,w30.3207105025915814,iteration471,cost0.1273961481510271\n",
      "w00.07088262003863949,w10.32269357044803054,w20.2904704850726531,w30.32081399656538423,iteration472,cost0.12735190129419832\n",
      "w00.07096300807076092,w10.3228558648659176,w20.29048531411219036,w30.3209168686214192,iteration473,cost0.12730802324669874\n",
      "w00.07104323914034709,w10.323017567830394,w20.29049954581471166,w30.32101912288207873,iteration474,cost0.1272645094822421\n",
      "w00.0711233136841216,w10.32317868298894364,w20.290513184538964,w30.32112076344203483,iteration475,cost0.12722135553421318\n",
      "w00.07120323213700588,w10.32333921396474197,w20.2905262346142486,w30.3212217943684256,iteration476,cost0.1271785569948712\n",
      "w00.07128299493212908,w10.3234991643568187,w20.2905387003406182,w30.32132221970104013,iteration477,cost0.12713610951456494\n"
     ]
    },
    {
     "name": "stdout",
     "output_type": "stream",
     "text": [
      "w00.0713626025008379,w10.3236585377402203,w20.29055058598907374,w30.32142204345250264,iteration478,cost0.1270940088009571\n",
      "w00.0714420552727063,w10.3238173376661709,w20.2905618958017594,w30.32152126960845484,iteration479,cost0.12705225061825998\n",
      "w00.07152135367554534,w10.32397556766223223,w20.29057263399215616,w30.3216199021277375,iteration480,cost0.1270108307864811\n",
      "w00.07160049813541264,w10.3241332312324626,w20.29058280474527437,w30.32171794494257056,iteration481,cost0.12696974518067858\n",
      "w00.07167948907662211,w10.3242903318575747,w20.2905924122178448,w30.32181540195873215,iteration482,cost0.12692898973022695\n",
      "w00.07175832692175341,w10.3244468729950923,w20.2906014605385087,w30.3219122770557363,iteration483,cost0.1268885604180926\n",
      "w00.07183701209166139,w10.3246028580795059,w20.2906099538080062,w30.32200857408700945,iteration484,cost0.12684845328011882\n",
      "w00.07191554500548557,w10.32475829052242755,w20.2906178960993636,w30.3221042968800661,iteration485,cost0.12680866440432054\n",
      "w00.07199392608065938,w10.3249131737127444,w20.29062529145807964,w30.32219944923668276,iteration486,cost0.12676918993018838\n",
      "w00.07207215573291954,w10.32506751101677134,w20.2906321439023101,w30.3222940349330712,iteration487,cost0.1267300260480022\n",
      "w00.07215023437631524,w10.32522130577840236,w20.29063845742305167,w30.32238805772005,iteration488,cost0.1266911689981536\n",
      "w00.07222816242321731,w10.32537456131926135,w20.2906442359843238,w30.3224815213232157,iteration489,cost0.12665261507047768\n",
      "w00.07230594028432735,w10.3255272809388515,w20.2906494835233504,w30.3225744294431121,iteration490,cost0.12661436060359355\n",
      "w00.0723835683686868,w10.3256794679147039,w20.2906542039507393,w30.3226667857553987,iteration491,cost0.1265764019842538\n",
      "w00.07246104708368588,w10.325831125502525,w20.2906584011506612,w30.32275859391101813,iteration492,cost0.12653873564670265\n",
      "w00.0725383768350726,w10.3259822569363432,w20.290662078981027,w30.3228498575363622,iteration493,cost0.12650135807204274\n",
      "w00.07261555802696162,w10.32613286542865433,w20.29066524127366417,w30.32294058023343714,iteration494,cost0.12646426578761014\n",
      "w00.07269259106184309,w10.3262829541705664,w20.29066789183449193,w30.3230307655800273,iteration495,cost0.12642745536635794\n",
      "w00.0727694763405914,w10.32643252633194303,w20.2906700344436951,w30.3231204171298583,iteration496,cost0.12639092342624805\n",
      "w00.07284621426247394,w10.32658158506154616,w20.29067167285589696,w30.3232095384127585,iteration497,cost0.12635466662965128\n",
      "w00.07292280522515975,w10.3267301334871778,w20.2906728108003308,w30.32329813293481996,iteration498,cost0.12631868168275476\n",
      "w00.07299924962472815,w10.3268781747158206,w20.2906734519810104,w30.3233862041785578,iteration499,cost0.1262829653349787\n",
      "w00.07307554785567726,w10.3270257118337778,w20.2906736000768994,w30.32347375560306874,iteration500,cost0.12624751437839898\n",
      "w00.07315170031093257,w10.32717274790681217,w20.2906732587420794,w30.3235607906441888,iteration501,cost0.1262123256471794\n",
      "w00.07322770738185534,w10.3273192859802835,w20.29067243160591705,w30.32364731271464936,iteration502,cost0.12617739601701017\n",
      "w00.07330356945825103,w10.32746532907928605,w20.29067112227323005,w30.32373332520423276,iteration503,cost0.12614272240455457\n",
      "w00.07337928692837767,w10.3276108802087844,w20.29066933432445186,w30.3238188314799264,iteration504,cost0.12610830176690288\n",
      "w00.07345486017895408,w10.3277559423537487,w20.29066707131579544,w30.3239038348860763,iteration505,cost0.1260741311010333\n",
      "w00.07353028959516822,w10.32790051847928875,w20.29066433677941594,w30.32398833874453903,iteration506,cost0.1260402074432808\n",
      "w00.07360557556068531,w10.3280446115307875,w20.29066113422357215,w30.32407234635483306,iteration507,cost0.12600652786881208\n",
      "w00.07368071845765602,w10.32818822443403356,w20.29065746713278695,w30.32415586099428895,iteration508,cost0.12597308949110847\n",
      "w00.07375571866672452,w10.3283313600953525,w20.2906533389680067,w30.32423888591819855,iteration509,cost0.1259398894614554\n",
      "w00.07383057656703658,w10.32847402140173787,w20.2906487531667595,w30.3243214243599632,iteration510,cost0.12590692496843822\n",
      "w00.07390529253624752,w10.32861621122098067,w20.29064371314331233,w30.3244034795312409,iteration511,cost0.12587419323744553\n",
      "w00.07397986695053016,w10.32875793240179846,w20.2906382222888275,w30.3244850546220924,iteration512,cost0.1258416915301789\n",
      "w00.07405430018458274,w10.32889918777396343,w20.29063228397151747,w30.3245661528011266,iteration513,cost0.12580941714416902\n",
      "w00.07412859261163675,w10.32903998014842956,w20.290625901536799,w30.3246467772156448,iteration514,cost0.1257773674122978\n",
      "w00.07420274460346471,w10.3291803123174589,w20.29061907830744643,w30.32472693099178374,iteration515,cost0.1257455397023285\n",
      "w00.07427675653038797,w10.32932018705474725,w20.2906118175837433,w30.32480661723465815,iteration516,cost0.12571393141644002\n",
      "w00.07435062876128436,w10.32945960711554856,w20.29060412264363383,w30.32488583902850204,iteration517,cost0.12568253999076914\n",
      "w00.07442436166359588,w10.32959857523679903,w20.2905959967428724,w30.32496459943680905,iteration518,cost0.1256513628949578\n",
      "w00.07449795560333629,w10.32973709413723984,w20.2905874431151729,w30.32504290150247195,iteration519,cost0.12562039763170718\n",
      "w00.07457141094509867,w10.32987516651753945,w20.2905784649723567,w30.3251207482479212,iteration520,cost0.125589641736337\n",
      "w00.07464472805206294,w10.330012795060415,w20.29056906550449924,w30.3251981426752625,iteration521,cost0.12555909277635158\n",
      "w00.07471790728600333,w10.33014998243075255,w20.2905592478800766,w30.3252750877664134,iteration522,cost0.12552874835101083\n",
      "w00.07479094900729578,w10.3302867312757272,w20.29054901524611,w30.32535158648323925,iteration523,cost0.12549860609090754\n",
      "w00.07486385357492535,w10.3304230442249217,w20.29053837072831024,w30.32542764176768785,iteration524,cost0.12546866365755005\n",
      "w00.07493662134649352,w10.3305589238904446,w20.2905273174312206,w30.3255032565419234,iteration525,cost0.12543891874295096\n",
      "w00.07500925267822549,w10.3306943728670478,w20.2905158584383589,w30.32557843370845974,iteration526,cost0.12540936906922043\n",
      "w00.0750817479249774,w10.3308293937322426,w20.29050399681235883,w30.3256531761502921,iteration527,cost0.12538001238816587\n",
      "w00.07515410744024358,w10.3309639890464161,w20.29049173559511,w30.32572748673102875,iteration528,cost0.12535084648089664\n",
      "w00.07522633157616361,w10.33109816135294556,w20.2904790778078973,w30.3258013682950212,iteration529,cost0.12532186915743357\n",
      "w00.07529842068352952,w10.33123191317831296,w20.29046602645153924,w30.32587482366749365,iteration530,cost0.1252930782563244\n",
      "w00.07537037511179279,w10.3313652470322183,w20.2904525845065254,w30.3259478556546716,iteration531,cost0.12526447164426416\n",
      "w00.0754421952090714,w10.33149816540769234,w20.29043875493315285,w30.3260204670439098,iteration532,cost0.1252360472157203\n",
      "w00.07551388132215679,w10.33163067078120834,w20.2904245406716617,w30.326092660603819,iteration533,cost0.125207802892563\n",
      "w00.07558543379652082,w10.3317627656127935,w20.29040994464236985,w30.3261644390843919,iteration534,cost0.12517973662370105\n",
      "w00.0756568529763226,w10.3318944523461391,w20.2903949697458067,w30.3262358052171287,iteration535,cost0.12515184638472113\n",
      "w00.07572813920441544,w10.33202573340871044,w20.290379618862846,w30.32630676171516104,iteration536,cost0.1251241301775336\n",
      "w00.07579929282235355,w10.3321566112118554,w20.2903638948548379,w30.32637731127337577,iteration537,cost0.12509658603002194\n",
      "w00.07587031417039887,w10.33228708815091307,w20.2903478005637398,w30.32644745656853763,iteration538,cost0.1250692119956971\n",
      "w00.07594120358752779,w10.3324171666053209,w20.29033133881224704,w30.32651720025941106,iteration539,cost0.12504200615335662\n",
      "w00.0760119614114378,w10.3325468489387216,w20.29031451240392153,w30.3265865449868813,iteration540,cost0.12501496660674827\n",
      "w00.07608258797855416,w10.3326761374990692,w20.2902973241233209,w30.32665549337407457,iteration541,cost0.12498809148423812\n",
      "w00.0761530836240365,w10.33280503461873434,w20.2902797767361256,w30.3267240480264776,iteration542,cost0.12496137893848304\n",
      "w00.07622344868178534,w10.3329335426146088,w20.2902618729892659,w30.3267922115320561,iteration543,cost0.1249348271461076\n",
      "w00.07629368348444866,w10.3330616637882095,w20.2902436156110478,w30.3268599864613728,iteration544,cost0.12490843430738535\n",
      "w00.07636378836342839,w10.33318940042578177,w20.29022500731127776,w30.3269273753677043,iteration545,cost0.12488219864592437\n",
      "w00.07643376364888677,w10.3333167547984018,w20.29020605078138734,w30.3269943807871573,iteration546,cost0.1248561184083568\n",
      "w00.07650360966975284,w10.3334437291620784,w20.29018674869455635,w30.32706100523878445,iteration547,cost0.12483019186403276\n",
      "w00.07657332675372876,w10.3335703257578542,w20.2901671037058353,w30.3271272512246985,iteration548,cost0.1248044173047182\n",
      "w00.07664291522729612,w10.3336965468119064,w20.29014711845226737,w30.32719312123018657,iteration549,cost0.12477879304429718\n",
      "w00.07671237541572228,w10.3338223945356461,w20.2901267955530091,w30.32725861772382325,iteration550,cost0.12475331741847735\n",
      "w00.07678170764306654,w10.3339478711258177,w20.29010613760945053,w30.32732374315758295,iteration551,cost0.12472798878450021\n",
      "w00.0768509122321864,w10.3340729787645973,w20.2900851472053347,w30.32738849996695163,iteration552,cost0.1247028055208546\n",
      "w00.07691998950474374,w10.33419771961969047,w20.29006382690687565,w30.32745289057103755,iteration553,cost0.12467776602699453\n",
      "w00.0769889397812109,w10.3343220958444295,w20.29004217926287673,w30.3275169173726815,iteration554,cost0.12465286872306032\n",
      "w00.07705776338087682,w10.33444610957786974,w20.290020206804847,w30.32758058275856633,iteration555,cost0.1246281120496038\n",
      "w00.07712646062185309,w10.33456976294488555,w20.28999791204711767,w30.32764388909932535,iteration556,cost0.12460349446731704\n",
      "w00.07719503182107997,w10.3346930580562655,w20.2899752974869571,w30.3277068387496505,iteration557,cost0.12457901445676463\n",
      "w00.07726347729433233,w10.3348159970088067,w20.2899523656046858,w30.32776943404839953,iteration558,cost0.12455467051811993\n",
      "w00.07733179735622571,w10.3349385818854092,w20.28992911886378975,w30.3278316773187024,iteration559,cost0.12453046117090412\n",
      "w00.07739999232022209,w10.3350608147551687,w20.2899055597110339,w30.3278935708680671,iteration560,cost0.12450638495372948\n",
      "w00.07746806249863587,w10.3351826976734697,w20.28988169057657404,w30.3279551169884848,iteration561,cost0.12448244042404562\n",
      "w00.07753600820263969,w10.3353042326820772,w20.28985751387406855,w30.32801631795653413,iteration562,cost0.12445862615788959\n",
      "w00.07760382974227019,w10.3354254218092284,w20.28983303200078914,w30.3280771760334849,iteration563,cost0.12443494074963847\n",
      "w00.07767152742643384,w10.3355462670697233,w20.28980824733773075,w30.32813769346540095,iteration564,cost0.12441138281176602\n",
      "w00.07773910156291262,w10.3356667704650149,w20.28978316224972106,w30.3281978724832426,iteration565,cost0.12438795097460281\n",
      "w00.07780655245836979,w10.33578693398329906,w20.28975777908552874,w30.3282577153029681,iteration566,cost0.12436464388609841\n",
      "w00.07787388041835547,w10.3359067595996031,w20.2897321001779716,w30.3283172241256346,iteration567,cost0.12434146021158782\n",
      "w00.07794108574731232,w10.3360262492758745,w20.28970612784402333,w30.3283764011374983,iteration568,cost0.12431839863356062\n",
      "w00.07800816874858114,w10.3361454049610686,w20.2896798643849203,w30.32843524851011413,iteration569,cost0.12429545785143314\n",
      "w00.07807512972440644,w10.3362642285912358,w20.289653312086267,w30.3284937684004346,iteration570,cost0.12427263658132412\n",
      "w00.07814196897594193,w10.33638272208960807,w20.2896264732181408,w30.3285519629509079,iteration571,cost0.12424993355583239\n",
      "w00.07820868680325603,w10.33650088736668526,w20.2895993500351966,w30.3286098342895755,iteration572,cost0.12422734752381868\n",
      "w00.07827528350533736,w10.3366187263203203,w20.2895719447767702,w30.32866738453016925,iteration573,cost0.1242048772501896\n",
      "w00.07834175938010014,w10.3367362408358043,w20.289544259666981,w30.32872461577220735,iteration574,cost0.12418252151568483\n",
      "w00.07840811472438962,w10.33685343278595065,w20.2895162969148345,w30.3287815301010902,iteration575,cost0.12416027911666684\n",
      "w00.07847434983398739,w10.33697030403117906,w20.28948805871432354,w30.3288381295881951,iteration576,cost0.1241381488649138\n",
      "w00.07854046500361678,w10.3370868564195984,w20.28945954724452916,w30.3288944162909709,iteration577,cost0.12411612958741505\n",
      "w00.0786064605269481,w10.3372030917870897,w20.28943076466972073,w30.32895039225303135,iteration578,cost0.12409422012616918\n",
      "w00.07867233669660392,w10.33731901195738784,w20.28940171313945545,w30.32900605950424844,iteration579,cost0.12407241933798531\n",
      "w00.07873809380416437,w10.33743461874216346,w20.28937239478867705,w30.3290614200608447,iteration580,cost0.12405072609428608\n",
      "w00.07880373214017224,w10.3375499139411037,w20.2893428117378139,w30.32911647592548504,iteration581,cost0.12402913928091451\n",
      "w00.07886925199413822,w10.3376648993419926,w20.28931296609287666,w30.3291712290873679,iteration582,cost0.12400765779794243\n"
     ]
    },
    {
     "name": "stdout",
     "output_type": "stream",
     "text": [
      "w00.07893465365454604,w10.3377795767207913,w20.28928285994555486,w30.32922568152231596,iteration583,cost0.12398628055948177\n",
      "w00.07899993740885755,w10.3378939478417169,w20.28925249537331316,w30.32927983519286597,iteration584,cost0.12396500649349868\n",
      "w00.07906510354351785,w10.33800801445732176,w20.2892218744394868,w30.3293336920483583,iteration585,cost0.12394383454162952\n",
      "w00.0791301523439603,w10.3381217783085715,w20.28919099919337676,w30.3293872540250254,iteration586,cost0.12392276365900022\n",
      "w00.07919508409461153,w10.3382352411249229,w20.28915987167034346,w30.3294405230460804,iteration587,cost0.12390179281404695\n",
      "w00.07925989907889644,w10.3383484046244012,w20.2891284938919009,w30.32949350102180436,iteration588,cost0.12388092098833996\n",
      "w00.07932459757924322,w10.3384612705136766,w20.28909686786580924,w30.3295461898496334,iteration589,cost0.1238601471764097\n",
      "w00.07938917987708817,w10.33857384048814065,w20.2890649955861675,w30.3295985914142451,iteration590,cost0.12383947038557472\n",
      "w00.0794536462528807,w10.3386861162319819,w20.2890328790335049,w30.32965070758764425,iteration591,cost0.12381888963577277\n",
      "w00.07951799698608814,w10.3387980994182612,w20.2890005201748723,w30.3297025402292482,iteration592,cost0.12379840395939315\n",
      "w00.0795822323552006,w10.33890979170898616,w20.28896792096393265,w30.3297540911859716,iteration593,cost0.12377801240111204\n",
      "w00.07964635263773577,w10.3390211947551855,w20.28893508334105067,w30.3298053622923102,iteration594,cost0.12375771401772982\n",
      "w00.07971035811024375,w10.33913231019698264,w20.2889020092333824,w30.32985635537042485,iteration595,cost0.12373750787801037\n",
      "w00.07977424904831175,w10.33924313966366904,w20.28886870055496366,w30.329907072230224,iteration596,cost0.12371739306252273\n",
      "w00.07983802572656883,w10.33935368477377675,w20.2888351592067985,w30.3299575146694465,iteration597,cost0.12369736866348496\n",
      "w00.07990168841869062,w10.3394639471351507,w20.2888013870769462,w30.33000768447374335,iteration598,cost0.12367743378460966\n",
      "w00.079965237397404,w10.33957392834502037,w20.2887673860406087,w30.33005758341675895,iteration599,cost0.12365758754095195\n",
      "w00.08002867293449166,w10.33968362999007107,w20.28873315796021665,w30.330107213260212,iteration600,cost0.12363782905875942\n",
      "w00.08009199530079683,w10.3397930536465147,w20.2886987046855151,w30.33015657575397556,iteration601,cost0.1236181574753241\n",
      "w00.0801552047662278,w10.33990220088016,w20.28866402805364905,w30.33020567263615697,iteration602,cost0.12359857193883601\n",
      "w00.08021830159976247,w10.34001107324648244,w20.28862912988924755,w30.33025450563317676,iteration603,cost0.12357907160823917\n",
      "w00.08028128606945292,w10.34011967229069356,w20.2885940120045081,w30.33030307645984747,iteration604,cost0.12355965565308953\n",
      "w00.08034415844242992,w10.34022799954780975,w20.28855867619928016,w30.33035138681945164,iteration605,cost0.12354032325341414\n",
      "w00.08040691898490736,w10.3403360565427208,w20.2885231242611478,w30.33039943840381947,iteration606,cost0.12352107359957328\n",
      "w00.08046956796218674,w10.3404438447902578,w20.28848735796551217,w30.3304472328934058,iteration607,cost0.12350190589212323\n",
      "w00.08053210563866159,w10.3405513657952606,w20.2884513790756734,w30.3304947719573666,iteration608,cost0.12348281934168176\n",
      "w00.08059453227782187,w10.34065862105264494,w20.2884151893429119,w30.3305420572536351,iteration609,cost0.12346381316879526\n",
      "w00.08065684814225835,w10.340765612047469,w20.2883787905065687,w30.33058909042899726,iteration610,cost0.12344488660380712\n",
      "w00.08071905349366693,w10.34087234025499963,w20.2883421842941262,w30.3306358731191667,iteration611,cost0.12342603888672851\n",
      "w00.08078114859285299,w10.3409788071407779,w20.2883053724212873,w30.33068240694885925,iteration612,cost0.1234072692671105\n",
      "w00.08084313369973567,w10.34108501416068443,w20.28826835659205463,w30.330728693531867,iteration613,cost0.12338857700391814\n",
      "w00.08090500907335216,w10.3411909627610044,w20.2882311384988094,w30.33077473447113176,iteration614,cost0.12336996136540603\n",
      "w00.08096677497186192,w10.3412966543784917,w20.288193719822389,w30.33082053135881795,iteration615,cost0.12335142162899551\n",
      "w00.0810284316525509,w10.341402090440433,w20.2881561022321649,w30.33086608577638527,iteration616,cost0.12333295708115358\n",
      "w00.08108997937183579,w10.3415072723647113,w20.28811828738611944,w30.3309113992946607,iteration617,cost0.12331456701727372\n",
      "w00.08115141838526811,w10.3416122015598688,w20.2880802769309223,w30.3309564734739099,iteration618,cost0.1232962507415577\n",
      "w00.08121274894753841,w10.34171687942517004,w20.28804207250200653,w30.33100130986390847,iteration619,cost0.12327800756689944\n",
      "w00.08127397131248038,w10.34182130735066374,w20.288003675723644,w30.33104591000401246,iteration620,cost0.12325983681477018\n",
      "w00.08133508573307491,w10.34192548671724476,w20.28796508820902034,w30.3310902754232284,iteration621,cost0.12324173781510547\n",
      "w00.08139609246145423,w10.3420294188967157,w20.2879263115603094,w30.33113440764028296,iteration622,cost0.1232237099061932\n",
      "w00.0814569917489059,w10.3421331052518476,w20.2878873473687472,w30.3311783081636923,iteration623,cost0.12320575243456354\n",
      "w00.08151778384587688,w10.3422365471364408,w20.2878481972147054,w30.33122197849183055,iteration624,cost0.12318786475488032\n",
      "w00.08157846900197749,w10.3423397458953851,w20.28780886266776406,w30.3312654201129981,iteration625,cost0.12317004622983332\n",
      "w00.08163904746598541,w10.3424427028647193,w20.2877693452867845,w30.3313086345054895,iteration626,cost0.12315229623003297\n",
      "w00.08169951948584964,w10.342545419371691,w20.28772964661998085,w30.3313516231376606,iteration627,cost0.1231346141339055\n",
      "w00.0817598853086944,w10.3426478967348152,w20.2876897682049919,w30.33139438746799565,iteration628,cost0.12311699932759007\n",
      "w00.08182014518082308,w10.34275013626393325,w20.28764971156895197,w30.3314369289451736,iteration629,cost0.12309945120483688\n",
      "w00.08188029934772209,w10.34285213926027064,w20.2876094782285613,w30.3314792490081341,iteration630,cost0.12308196916690718\n",
      "w00.08194034805406475,w10.3429539070164952,w20.28756906969015644,w30.3315213490861429,iteration631,cost0.12306455262247407\n",
      "w00.08200029154371509,w10.3430554408167743,w20.2875284874497796,w30.33156323059885723,iteration632,cost0.12304720098752478\n",
      "w00.08206013005973173,w10.34315674193683193,w20.2874877329932479,w30.33160489495639023,iteration633,cost0.12302991368526457\n",
      "w00.08211986384437159,w10.3432578116440054,w20.287446807796222,w30.3316463435593753,iteration634,cost0.12301269014602127\n",
      "w00.08217949313909374,w10.3433586511973014,w20.2874057133242742,w30.33168757779902974,iteration635,cost0.12299552980715191\n",
      "w00.08223901818456311,w10.34345926184745235,w20.2873644510329565,w30.33172859905721835,iteration636,cost0.12297843211294975\n",
      "w00.08229843922065423,w10.34355964483697143,w20.28732302236786744,w30.33176940870651617,iteration637,cost0.12296139651455318\n",
      "w00.08235775648645491,w10.343659801400208,w20.2872814287647194,w30.331810008110271,iteration638,cost0.12294442246985565\n",
      "w00.08241697022026997,w10.34375973276340227,w20.2872396716494047,w30.3318503986226657,iteration639,cost0.12292750944341665\n",
      "w00.08247608065962488,w10.34385944014473974,w20.28719775243806167,w30.3318905815887796,iteration640,cost0.1229106569063741\n",
      "w00.08253508804126938,w10.3439589247544052,w20.28715567253714,w30.33193055834464996,iteration641,cost0.12289386433635754\n",
      "w00.08259399260118115,w10.3440581877946365,w20.28711343334346606,w30.3319703302173327,iteration642,cost0.12287713121740315\n",
      "w00.08265279457456935,w10.34415723045977775,w20.2870710362443073,w30.3320098985249629,iteration643,cost0.12286045703986907\n",
      "w00.08271149419587825,w10.3442560539363324,w20.2870284826174366,w30.3320492645768148,iteration644,cost0.12284384130035267\n",
      "w00.08277009169879077,w10.34435465940301574,w20.28698577383119594,w30.3320884296733615,iteration645,cost0.12282728350160807\n",
      "w00.08282858731623198,w10.34445304803080723,w20.2869429112445598,w30.3321273951063341,iteration646,cost0.12281078315246563\n",
      "w00.0828869812803727,w10.3445512209830023,w20.28689989620719797,w30.33216616215878064,iteration647,cost0.12279433976775185\n",
      "w00.0829452738226329,w10.34464917941526396,w20.28685673005953816,w30.33220473210512447,iteration648,cost0.12277795286821055\n",
      "w00.08300346517368526,w10.34474692447567407,w20.286813414132828,w30.3322431062112222,iteration649,cost0.12276162198042548\n",
      "w00.08306155556345854,w10.344844457304784,w20.2867699497491968,w30.33228128573442167,iteration650,cost0.12274534663674316\n",
      "w00.0831195452211411,w10.3449417790356655,w20.28672633822171656,w30.33231927192361876,iteration651,cost0.12272912637519733\n",
      "w00.08317743437518424,w10.3450388907939604,w20.286682580854463,w30.3323570660193147,iteration652,cost0.12271296073943458\n",
      "w00.08323522325330565,w10.34513579369793085,w20.286638678942576,w30.3323946692536723,iteration653,cost0.12269684927864025\n",
      "w00.08329291208249279,w10.34523248885850866,w20.28659463377231936,w30.3324320828505722,iteration654,cost0.12268079154746585\n",
      "w00.08335050108900617,w10.3453289773793445,w20.2865504466211407,w30.33246930802566854,iteration655,cost0.12266478710595767\n",
      "w00.08340799049838278,w10.34542526035685667,w20.2865061187577306,w30.3325063459864444,iteration656,cost0.12264883551948545\n",
      "w00.08346538053543937,w10.34552133888027975,w20.28646165144208124,w30.3325431979322667,iteration657,cost0.12263293635867299\n",
      "w00.08352267142427569,w10.34561721403171275,w20.28641704592554507,w30.332579865054441,iteration658,cost0.12261708919932911\n",
      "w00.08357986338827789,w10.3457128868861669,w20.2863723034508927,w30.3326163485362655,iteration659,cost0.12260129362237958\n",
      "w00.08363695665012168,w10.34580835851161323,w20.2863274252523705,w30.3326526495530851,iteration660,cost0.12258554921380005\n",
      "w00.0836939514317756,w10.34590362996902985,w20.2862824125557579,w30.33268876927234503,iteration661,cost0.12256985556455006\n",
      "w00.08375084795450427,w10.3459987023124488,w20.28623726657842447,w30.3327247088536438,iteration662,cost0.12255421227050757\n",
      "w00.08380764643887155,w10.34609357658900264,w20.2861919885293859,w30.3327604694487861,iteration663,cost0.1225386189324046\n",
      "w00.08386434710474376,w10.3461882538389707,w20.2861465796093606,w30.3327960522018354,iteration664,cost0.12252307515576345\n",
      "w00.08392095017129284,w10.3462827350958253,w20.2861010410108251,w30.33283145824916577,iteration665,cost0.12250758055083442\n",
      "w00.08397745585699946,w10.3463770213862769,w20.2860553739180698,w30.3328666887195139,iteration666,cost0.1224921347325334\n",
      "w00.08403386437965624,w10.34647111373031997,w20.2860095795072534,w30.33290174473403045,iteration667,cost0.12247673732038114\n",
      "w00.08409017595637075,w10.34656501314127774,w20.2859636589464581,w30.33293662740633095,iteration668,cost0.12246138793844291\n",
      "w00.0841463908035687,w10.346658720625847,w20.2859176133957433,w30.33297133784254673,iteration669,cost0.12244608621526909\n",
      "w00.08420250913699696,w10.34675223718414266,w20.2858714440071999,w30.33300587714137525,iteration670,cost0.12243083178383637\n",
      "w00.08425853117172666,w10.34684556380974174,w20.2858251519250036,w30.33304024639413005,iteration671,cost0.12241562428149007\n",
      "w00.08431445712215618,w10.34693870148972733,w20.2857787382854681,w30.33307444668479047,iteration672,cost0.12240046334988663\n",
      "w00.08437028720201424,w10.34703165120473206,w20.2857322042170982,w30.3331084790900512,iteration673,cost0.1223853486349379\n",
      "w00.08442602162436286,w10.34712441392898147,w20.2856855508406417,w30.33314234467937104,iteration674,cost0.12237027978675508\n",
      "w00.08448166060160035,w10.3472169906303368,w20.28563877926914183,w30.33317604451502175,iteration675,cost0.12235525645959376\n",
      "w00.08453720434546431,w10.34730938227033786,w20.2855918906079892,w30.33320957965213654,iteration676,cost0.12234027831180032\n",
      "w00.08459265306703458,w10.3474015898042454,w20.2855448859549727,w30.33324295113875796,iteration677,cost0.12232534500575801\n",
      "w00.08464800697673615,w10.3474936141810831,w20.2854977664003309,w30.33327616001588567,iteration678,cost0.12231045620783448\n",
      "w00.08470326628434212,w10.3475854563436795,w20.2854505330268029,w30.33330920731752384,iteration679,cost0.12229561158832973\n",
      "w00.08475843119897658,w10.3476771172287095,w20.2854031869096782,w30.33334209407072835,iteration680,cost0.12228081082142489\n",
      "w00.08481350192911752,w10.3477685977667356,w20.2853557291168472,w30.33337482129565343,iteration681,cost0.12226605358513147\n",
      "w00.08486847868259968,w10.34785989888224905,w20.2853081607088508,w30.33340739000559827,iteration682,cost0.12225133956124151\n",
      "w00.08492336166661743,w10.34795102149371043,w20.2852604827389295,w30.33343980120705297,iteration683,cost0.12223666843527818\n",
      "w00.08497815108772759,w10.3480419665135901,w20.28521269625307294,w30.33347205589974455,iteration684,cost0.12222203989644731\n",
      "w00.08503284715185226,w10.3481327348484083,w20.285164802290068,w30.33350415507668246,iteration685,cost0.12220745363758925\n",
      "w00.08508745006428163,w10.34822332739877526,w20.2851168018815478,w30.33353609972420367,iteration686,cost0.12219290935513172\n",
      "w00.08514196002967678,w10.34831374505943064,w20.2850686960520392,w30.3335678908220178,iteration687,cost0.12217840674904291\n",
      "w00.08519637725207245,w10.34840398871928296,w20.28502048581901096,w30.3335995293432516,iteration688,cost0.12216394552278534\n",
      "w00.08525070193487978,w10.3484940592614488,w20.28497217219292087,w30.3336310162544932,iteration689,cost0.12214952538327065\n",
      "w00.08530493428088909,w10.34858395756329136,w20.28492375617726307,w30.33366235251583637,iteration690,cost0.12213514604081467\n",
      "w00.08535907449227258,w10.3486736844964594,w20.2848752387686146,w30.3336935390809241,iteration691,cost0.12212080720909269\n",
      "w00.08541312277058706,w10.34876324092692534,w20.28482662095668204,w30.3337245768969919,iteration692,cost0.12210650860509643\n",
      "w00.08546707931677666,w10.3488526277150233,w20.28477790372434764,w30.33375546690491126,iteration693,cost0.12209224994909054\n",
      "w00.08552094433117549,w10.3489418457154869,w20.2847290880477151,w30.33378621003923215,iteration694,cost0.12207803096457011\n",
      "w00.0855747180135103,w10.34903089577748714,w20.28468017489615505,w30.3338168072282259,iteration695,cost0.12206385137821878\n",
      "w00.08562840056290315,w10.34911977874466915,w20.2846311652323505,w30.3338472593939272,iteration696,cost0.12204971091986729\n",
      "w00.08568199217787406,w10.34920849545518967,w20.2845820600123416,w30.3338775674521763,iteration697,cost0.12203560932245255\n",
      "w00.08573549305634363,w10.34929704674175366,w20.2845328601855703,w30.33390773231266063,iteration698,cost0.12202154632197737\n",
      "w00.08578890339563562,w10.34938543343165096,w20.2844835666949246,w30.3339377548789562,iteration699,cost0.1220075216574709\n",
      "w00.08584222339247956,w10.34947365634679245,w20.2844341804767827,w30.33396763604856883,iteration700,cost0.12199353507094896\n",
      "w00.08589545324301333,w10.3495617163037463,w20.2843847024610568,w30.3339973767129749,iteration701,cost0.12197958630737556\n",
      "w00.08594859314278575,w10.3496496141137735,w20.2843351335712363,w30.3340269777576621,iteration702,cost0.12196567511462468\n",
      "w00.08600164328675908,w10.3497373505828638,w20.2842854747244311,w30.33405644006216967,iteration703,cost0.12195180124344247\n",
      "w00.08605460386931159,w10.3498249265117709,w20.2842357268314145,w30.33408576450012845,iteration704,cost0.1219379644474101\n",
      "w00.08610747508424008,w10.3499123426960473,w20.2841858907966657,w30.3341149519393007,iteration705,cost0.121924164482907\n",
      "w00.08616025712476236,w10.3499995999260797,w20.2841359675184119,w30.3341440032416195,iteration706,cost0.12191040110907489\n",
      "w00.0862129501835198,w10.3500866989871231,w20.28408595788867086,w30.3341729192632283,iteration707,cost0.12189667408778146\n",
      "w00.08626555445257973,w10.3501736406593355,w20.28403586279329196,w30.3342017008545195,iteration708,cost0.12188298318358572\n",
      "w00.086318070123438,w10.350260425717812,w20.283985683111998,w30.33423034886017355,iteration709,cost0.12186932816370276\n",
      "w00.08637049738702135,w10.35034705493261886,w20.2839354197184264,w30.3342588641191972,iteration710,cost0.12185570879796963\n",
      "w00.08642283643368988,w10.35043352906882685,w20.2838850734801699,w30.3342872474649617,iteration711,cost0.12184212485881143\n",
      "w00.08647508745323948,w10.3505198488865452,w20.28383464525881724,w30.33431549972524083,iteration712,cost0.12182857612120786\n",
      "w00.08652725063490424,w10.3506060151409545,w20.2837841359099936,w30.33434362172224863,iteration713,cost0.1218150623626601\n",
      "w00.08657932616735885,w10.35069202858233994,w20.2837335462834005,w30.3343716142726767,iteration714,cost0.12180158336315856\n",
      "w00.08663131423872096,w10.350777889956124,w20.28368287722285573,w30.3343994781877316,iteration715,cost0.12178813890515033\n",
      "w00.08668321503655359,w10.35086360000289923,w20.2836321295663329,w30.33442721427317146,iteration716,cost0.1217747287735078\n",
      "w00.08673502874786744,w10.35094915945846034,w20.28358130414600047,w30.3344548233293431,iteration717,cost0.12176135275549753\n",
      "w00.08678675555912328,w10.35103456905383656,w20.28353040178826105,w30.33448230615121816,iteration718,cost0.12174801064074889\n",
      "w00.08683839565623427,w10.3511198295153236,w20.28347942331379006,w30.3345096635284293,iteration719,cost0.12173470222122398\n",
      "w00.08688994922456827,w10.3512049415645153,w20.28342836953757405,w30.33453689624530636,iteration720,cost0.12172142729118758\n",
      "w00.08694141644895013,w10.35128990591833514,w20.28337724126894914,w30.33456400508091194,iteration721,cost0.12170818564717728\n",
      "w00.08699279751366402,w10.3513747232890675,w20.28332603931163886,w30.3345909908090769,iteration722,cost0.12169497708797447\n",
      "w00.08704409260245569,w10.3514593943843889,w20.28327476446379185,w30.3346178541984355,iteration723,cost0.12168180141457531\n",
      "w00.08709530189853472,w10.35154391990739875,w20.28322341751801944,w30.3346445960124606,iteration724,cost0.1216686584301623\n",
      "w00.08714642558457683,w10.3516283005566501,w20.28317199926143277,w30.33467121700949826,iteration725,cost0.12165554794007621\n",
      "w00.08719746384272607,w10.3517125370261801,w20.2831205104756797,w30.33469771794280234,iteration726,cost0.12164246975178829\n",
      "w00.08724841685459708,w10.3517966300055402,w20.28306895193698167,w30.33472409956056876,iteration727,cost0.12162942367487296\n",
      "w00.08729928480127729,w10.35188058017982626,w20.28301732441617,w30.3347503626059696,iteration728,cost0.12161640952098077\n",
      "w00.0873500678633291,w10.35196438822970844,w20.28296562867872227,w30.3347765078171869,iteration729,cost0.12160342710381172\n",
      "w00.0874007662207922,w10.35204805483146073,w20.2829138654847981,w30.33480253592744635,iteration730,cost0.12159047623908911\n",
      "w00.08745138005318555,w10.35213158065699063,w20.2828620355892751,w30.3348284476650506,iteration731,cost0.12157755674453338\n",
      "w00.08750190953950973,w10.35221496637386823,w20.28281013974178415,w30.3348542437534124,iteration732,cost0.12156466843983672\n",
      "w00.08755235485824901,w10.3522982126453553,w20.2827581786867449,w30.3348799249110876,iteration733,cost0.12155181114663777\n",
      "w00.0876027161873735,w10.3523813201304343,w20.28270615316340064,w30.33490549185180785,iteration734,cost0.12153898468849635\n",
      "w00.08765299370434132,w10.35246428948383673,w20.282654063905853,w30.33493094528451306,iteration735,cost0.12152618889086962\n",
      "w00.08770318758610068,w10.3525471213560721,w20.2826019116430967,w30.3349562859133837,iteration736,cost0.121513423581087\n",
      "w00.08775329800909204,w10.3526298163934557,w20.2825496970990538,w30.334981514437873,iteration737,cost0.12150068858832677\n",
      "w00.08780332514925014,w10.35271237523813714,w20.28249742099260766,w30.3350066315527384,iteration738,cost0.12148798374359213\n",
      "w00.08785326918200617,w10.35279479852812795,w20.28244508403763696,w30.33503163794807367,iteration739,cost0.12147530887968798\n",
      "w00.08790313028228978,w10.3528770868973295,w20.28239268694304936,w30.33505653430933996,iteration740,cost0.12146266383119811\n",
      "w00.08795290862453119,w10.3529592409755604,w20.28234023041281475,w30.33508132131739726,iteration741,cost0.12145004843446212\n",
      "w00.08800260438266319,w10.35304126138858405,w20.28228771514599854,w30.33510599964853516,iteration742,cost0.12143746252755339\n",
      "w00.08805221773012326,w10.35312314875813555,w20.2822351418367946,w30.3351305699745038,iteration743,cost0.12142490595025654\n",
      "w00.08810174883985554,w10.35320490370194885,w20.282182511174558,w30.3351550329625444,iteration744,cost0.12141237854404618\n"
     ]
    },
    {
     "name": "stdout",
     "output_type": "stream",
     "text": [
      "w00.08815119788431287,w10.35328652683378353,w20.28212982384383756,w30.3351793892754196,iteration745,cost0.1213998801520649\n",
      "w00.0882005650354588,w10.3533680187634515,w20.28207708052440805,w30.3352036395714439,iteration746,cost0.12138741061910212\n",
      "w00.08824985046476959,w10.3534493800968432,w20.2820242818913024,w30.335227784504513,iteration747,cost0.12137496979157351\n",
      "w00.0882990543432362,w10.3535306114359542,w20.2819714286148436,w30.3352518247241344,iteration748,cost0.12136255751749979\n",
      "w00.08834817684136627,w10.35361171337891106,w20.2819185213606761,w30.3352757608754562,iteration749,cost0.12135017364648652\n",
      "w00.08839721812918605,w10.3536926865199973,w20.2818655607897975,w30.3352995935992969,iteration750,cost0.12133781802970411\n",
      "w00.08844617837624241,w10.3537735314496792,w20.2818125475585898,w30.3353233235321746,iteration751,cost0.12132549051986781\n",
      "w00.08849505775160478,w10.35385424875463134,w20.2817594823188503,w30.3353469513063357,iteration752,cost0.12131319097121804\n",
      "w00.08854385642386703,w10.3539348390177619,w20.28170636571782237,w30.33537047754978383,iteration753,cost0.12130091923950123\n",
      "w00.08859257456114944,w10.3540153028182381,w20.2816531983982263,w30.3353939028863085,iteration754,cost0.12128867518195043\n",
      "w00.0886412123311006,w10.35409564073151106,w20.2815999809982893,w30.3354172279355134,iteration755,cost0.12127645865726688\n",
      "w00.08868976990089934,w10.35417585332934076,w20.2815467141517763,w30.3354404533128446,iteration756,cost0.121264269525601\n",
      "w00.08873824743725658,w10.35425594117982084,w20.28149339848801924,w30.33546357962961865,iteration757,cost0.1212521076485343\n",
      "w00.08878664510641725,w10.354335904847403,w20.28144003463194744,w30.3354866074930502,iteration758,cost0.12123997288906126\n",
      "w00.08883496307416212,w10.35441574489292155,w20.28138662320411695,w30.33550953750627993,iteration759,cost0.12122786511157128\n",
      "w00.08888320150580972,w10.3544954618736175,w20.2813331648207399,w30.3355323702684018,iteration760,cost0.12121578418183127\n",
      "w00.08893136056621814,w10.3545750563431628,w20.28127966009371375,w30.3355551063744904,iteration761,cost0.12120372996696813\n",
      "w00.0889794404197869,w10.3546545288516839,w20.2812261096306505,w30.3355777464156278,iteration762,cost0.12119170233545175\n",
      "w00.0890274412304588,w10.35473387994578603,w20.2811725140349051,w30.335600290978931,iteration763,cost0.12117970115707757\n",
      "w00.0890753631617217,w10.35481311016857625,w20.28111887390560447,w30.335622740647578,iteration764,cost0.12116772630295072\n",
      "w00.08912320637661035,w10.35489222005968724,w20.2810651898376756,w30.33564509600083486,iteration765,cost0.12115577764546859\n",
      "w00.08917097103770821,w10.3549712101553003,w20.28101146242187397,w30.3356673576140816,iteration766,cost0.12114385505830522\n",
      "w00.08921865730714924,w10.3550500809881687,w20.28095769224481154,w30.3356895260588389,iteration767,cost0.1211319584163951\n",
      "w00.08926626534661966,w10.35512883308764054,w20.2809038798889847,w30.3357116019027936,iteration768,cost0.12112008759591705\n",
      "w00.08931379531735976,w10.3552074669796814,w20.2808500259328017,w30.3357335857098249,iteration769,cost0.12110824247427866\n",
      "w00.08936124738016565,w10.3552859831868973,w20.28079613095061035,w30.3357554780400299,iteration770,cost0.1210964229301014\n",
      "w00.08940862169539099,w10.35536438222855693,w20.2807421955127253,w30.33577727944974906,iteration771,cost0.12108462884320437\n",
      "w00.08945591842294878,w10.3554426646206141,w20.2806882201854551,w30.3357989904915914,iteration772,cost0.12107286009459017\n",
      "w00.0895031377223131,w10.3555208308757299,w20.28063420553112906,w30.33582061171446,iteration773,cost0.1210611165664298\n",
      "w00.08955027975252076,w10.3555988815032948,w20.2805801521081242,w30.3358421436635766,iteration774,cost0.12104939814204767\n",
      "w00.08959734467217315,w10.3556768170094505,w20.2805260604708917,w30.33586358688050666,iteration775,cost0.12103770470590776\n",
      "w00.08964433263943782,w10.3557546378971117,w20.28047193116998315,w30.33588494190318385,iteration776,cost0.12102603614359878\n",
      "w00.08969124381205025,w10.3558323446659878,w20.28041776475207714,w30.33590620926593456,iteration777,cost0.12101439234182053\n",
      "w00.08973807834731555,w10.35590993781260405,w20.280363561760005,w30.3359273894995023,iteration778,cost0.12100277318836979\n",
      "w00.0897848364021101,w10.3559874178303232,w20.2803093227327767,w30.3359484831310717,iteration779,cost0.12099117857212675\n",
      "w00.08983151813288327,w10.35606478520936663,w20.2802550482056067,w30.3359694906842926,iteration780,cost0.12097960838304135\n",
      "w00.08987812369565905,w10.3561420404368351,w20.28020073870993933,w30.33599041267930396,iteration781,cost0.12096806251212015\n",
      "w00.08992465324603773,w10.35621918399672997,w20.2801463947734742,w30.33601124963275725,iteration782,cost0.12095654085141293\n",
      "w00.0899711069391975,w10.3562962163699737,w20.2800920169201913,w30.33603200205784023,iteration783,cost0.12094504329399983\n",
      "w00.09001748492989618,w10.35637313803443077,w20.28003760567037617,w30.33605267046430015,iteration784,cost0.12093356973397855\n",
      "w00.09006378737247275,w10.3564499494649277,w20.2799831615406446,w30.33607325535846694,iteration785,cost0.12092212006645167\n",
      "w00.09011001442084907,w10.3565266511332738,w20.27992868504396745,w30.3360937572432763,iteration786,cost0.12091069418751409\n",
      "w00.09015616622853138,w10.35660324350828115,w20.2798741766896949,w30.33611417661829257,iteration787,cost0.12089929199424079\n",
      "w00.09020224294861202,w10.3566797270557847,w20.2798196369835811,w30.33613451397973143,iteration788,cost0.12088791338467478\n",
      "w00.09024824473377095,w10.35675610223866216,w20.2797650664278082,w30.33615476982048254,iteration789,cost0.12087655825781478\n",
      "w00.09029417173627736,w10.35683236951685393,w20.27971046552101037,w30.33617494463013176,iteration790,cost0.12086522651360371\n",
      "w00.09034002410799127,w10.35690852934738254,w20.2796558347582977,w30.3361950388949837,iteration791,cost0.12085391805291688\n",
      "w00.09038580200036507,w10.3569845821843724,w20.27960117463127987,w30.33621505309808364,iteration792,cost0.12084263277755034\n",
      "w00.0904315055644451,w10.35706052847906905,w20.27954648562808976,w30.33623498771923954,iteration793,cost0.12083137059020974\n",
      "w00.0904771349508732,w10.3571363686798585,w20.27949176823340677,w30.33625484323504395,iteration794,cost0.12082013139449888\n",
      "w00.09052269030988827,w10.35721210323228625,w20.27943702292848,w30.33627462011889553,iteration795,cost0.12080891509490886\n",
      "w00.0905681717913278,w10.3572877325790764,w20.2793822501911514,w30.3362943188410208,iteration796,cost0.12079772159680677\n",
      "w00.09061357954462938,w10.3573632571601506,w20.27932745049587876,w30.3363139398684952,iteration797,cost0.12078655080642535\n",
      "w00.09065891371883228,w10.3574386774126466,w20.2792726243137582,w30.3363334836652648,iteration798,cost0.12077540263085206\n",
      "w00.09070417446257888,w10.35751399377093707,w20.27921777211254717,w30.3363529506921668,iteration799,cost0.12076427697801853\n",
      "w00.09074936192411627,w10.3575892066666479,w20.2791628943566865,w30.33637234140695105,iteration800,cost0.12075317375669047\n",
      "w00.09079447625129769,w10.3576643165286768,w20.27910799150732307,w30.33639165626430056,iteration801,cost0.12074209287645708\n",
      "w00.09083951759158404,w10.3577393237832114,w20.2790530640223317,w30.33641089571585225,iteration802,cost0.12073103424772107\n",
      "w00.09088448609204536,w10.3578142288537474,w20.2789981123563373,w30.33643006021021743,iteration803,cost0.120719997781689\n",
      "w00.0909293818993623,w10.3578890321611067,w20.27894313696073675,w30.33644915019300226,iteration804,cost0.1207089833903609\n",
      "w00.09097420515982761,w10.35796373412345506,w20.2788881382837204,w30.33646816610682806,iteration805,cost0.12069799098652102\n",
      "w00.0910189560193476,w10.3580383351563201,w20.27883311677029393,w30.3364871083913513,iteration806,cost0.12068702048372791\n",
      "w00.09106363462344357,w10.3581128356726088,w20.27877807286229966,w30.33650597748328376,iteration807,cost0.12067607179630521\n",
      "w00.09110824111725324,w10.3581872360826251,w20.2787230069984377,w30.33652477381641216,iteration808,cost0.12066514483933219\n",
      "w00.09115277564553227,w10.35826153679408723,w20.27866791961428733,w30.3365434978216181,iteration809,cost0.12065423952863452\n",
      "w00.09119723835265563,w10.35833573821214515,w20.2786128111423278,w30.3365621499268975,iteration810,cost0.12064335578077535\n",
      "w00.09124162938261898,w10.3584098407393975,w20.2785576820119592,w30.33658073055738014,iteration811,cost0.12063249351304606\n",
      "w00.09128594887904022,w10.35848384477590906,w20.27850253264952335,w30.33659924013534903,iteration812,cost0.12062165264345769\n",
      "w00.09133019698516076,w10.35855775071922713,w20.2784473634783242,w30.3366176790802594,iteration813,cost0.12061083309073192\n",
      "w00.091374373843847,w10.35863155896439886,w20.27839217491864837,w30.336636047808758,iteration814,cost0.12060003477429272\n",
      "w00.09141847959759172,w10.35870526990398777,w20.27833696738778535,w30.3366543467347019,iteration815,cost0.12058925761425779\n",
      "w00.09146251438851545,w10.3587788839280903,w20.27828174130004774,w30.33667257626917735,iteration816,cost0.1205785015314298\n",
      "w00.09150647835836784,w10.3588524014243525,w20.2782264970667912,w30.3366907368205185,iteration817,cost0.12056776644728863\n",
      "w00.09155037164852907,w10.3589258227779862,w20.27817123509643454,w30.3367088287943258,iteration818,cost0.12055705228398292\n",
      "w00.09159419440001118,w10.35899914837178537,w20.27811595579447934,w30.33672685259348467,iteration819,cost0.1205463589643219\n",
      "w00.09163794675345947,w10.35907237858614244,w20.2780606595635295,w30.3367448086181836,iteration820,cost0.1205356864117677\n",
      "w00.09168162884915382,w10.35914551379906406,w20.27800534680331085,w30.3367626972659326,iteration821,cost0.12052503455042718\n",
      "w00.09172524082701003,w10.3592185543861873,w20.27795001791069057,w30.33678051893158084,iteration822,cost0.12051440330504429\n",
      "w00.0917687828265812,w10.35929150072079546,w20.27789467327969625,w30.33679827400733503,iteration823,cost0.12050379260099262\n",
      "w00.09181225498705903,w10.3593643531738336,w20.2778393133015352,w30.33681596288277693,iteration824,cost0.12049320236426753\n",
      "w00.09185565744727515,w10.3594371121139244,w20.27778393836461335,w30.3368335859448813,iteration825,cost0.12048263252147874\n",
      "w00.09189899034570245,w10.35950977790738353,w20.27772854885455395,w30.33685114357803325,iteration826,cost0.12047208299984317\n",
      "w00.09194225382045638,w10.3595823509182353,w20.27767314515421654,w30.33686863616404594,iteration827,cost0.12046155372717754\n",
      "w00.09198544800929628,w10.3596548315082278,w20.27761772764371545,w30.3368860640821777,iteration828,cost0.12045104463189103\n",
      "w00.09202857304962664,w10.359727220036848,w20.27756229670043825,w30.33690342770914933,iteration829,cost0.12044055564297845\n",
      "w00.0920716290784984,w10.3597995168613371,w20.2775068526990641,w30.33692072741916135,iteration830,cost0.12043008669001334\n",
      "w00.0921146162326103,w10.3598717223367055,w20.2774513960115821,w30.33693796358391087,iteration831,cost0.12041963770314054\n"
     ]
    },
    {
     "name": "stdout",
     "output_type": "stream",
     "text": [
      "w00.09215753464831007,w10.35994383681574754,w20.2773959270073091,w30.3369551365726085,iteration832,cost0.12040920861307007\n",
      "w00.09220038446159576,w10.3600158606490565,w20.2773404460529081,w30.3369722467519951,iteration833,cost0.12039879935106985\n",
      "w00.09224316580811696,w10.3600877941850392,w20.2772849535124058,w30.3369892944863585,iteration834,cost0.12038840984895943\n",
      "w00.09228587882317614,w10.3601596377699307,w20.2772294497472104,w30.33700628013754996,iteration835,cost0.12037804003910334\n",
      "w00.09232852364172982,w10.3602313917478087,w20.2771739351161294,w30.3370232040650007,iteration836,cost0.12036768985440445\n",
      "w00.09237110039838986,w10.36030305646060806,w20.2771184099753869,w30.3370400666257381,iteration837,cost0.12035735922829795\n",
      "w00.0924136092274247,w10.3603746322481351,w20.27706287467864105,w30.3370568681744021,iteration838,cost0.12034704809474474\n",
      "w00.09245605026276058,w10.3604461194480817,w20.27700732957700136,w30.33707360906326117,iteration839,cost0.12033675638822526\n",
      "w00.09249842363798279,w10.3605175183960396,w20.2769517750190459,w30.33709028964222826,iteration840,cost0.12032648404373378\n",
      "w00.09254072948633688,w10.3605888294255144,w20.2768962113508382,w30.33710691025887685,iteration841,cost0.1203162309967716\n",
      "w00.09258296794072987,w10.36066005286793934,w20.27684063891594435,w30.3371234712584566,iteration842,cost0.12030599718334173\n",
      "w00.09262513913373151,w10.36073118905268936,w20.2767850580554496,w30.3371399729839091,iteration843,cost0.12029578253994265\n",
      "w00.09266724319757538,w10.36080223830709474,w20.27672946910797536,w30.3371564157758834,iteration844,cost0.12028558700356275\n",
      "w00.09270928026416023,w10.36087320095645475,w20.2766738724096955,w30.3371727999727515,iteration845,cost0.12027541051167417\n",
      "w00.09275125046505103,w10.36094407732405126,w20.27661826829435293,w30.3371891259106238,iteration846,cost0.12026525300222772\n",
      "w00.09279315393148027,w10.36101486773116215,w20.2765626570932761,w30.337205393923364,iteration847,cost0.1202551144136467\n",
      "w00.09283499079434908,w10.3610855724970748,w20.27650703913539504,w30.3372216043426048,iteration848,cost0.1202449946848218\n",
      "w00.09287676118422843,w10.36115619193909926,w20.27645141474725765,w30.33723775749776247,iteration849,cost0.12023489375510556\n",
      "w00.09291846523136028,w10.36122672637258163,w20.2763957842530458,w30.33725385371605215,iteration850,cost0.12022481156430662\n",
      "w00.09296010306565879,w10.36129717611091694,w20.276340147974591,w30.3372698933225025,iteration851,cost0.12021474805268505\n",
      "w00.09300167481671139,w10.36136754146556244,w20.27628450623139056,w30.3372858766399705,iteration852,cost0.12020470316094664\n",
      "w00.09304318061378003,w10.3614378227460503,w20.276228859340623,w30.3373018039891561,iteration853,cost0.12019467683023788\n",
      "w00.09308462058580229,w10.3615080202600007,w20.27617320761716396,w30.33731767568861676,iteration854,cost0.12018466900214082\n",
      "w00.09312599486139249,w10.3615781343131343,w20.27611755137360144,w30.337333492054782,iteration855,cost0.12017467961866808\n",
      "w00.09316730356884285,w10.3616481652092852,w20.27606189092025146,w30.33734925340196775,iteration856,cost0.1201647086222579\n",
      "w00.09320854683612464,w10.36171811325041353,w20.2760062265651731,w30.33736496004239036,iteration857,cost0.12015475595576902\n",
      "w00.09324972479088929,w10.3617879787366177,w20.27595055861418394,w30.3373806122861811,iteration858,cost0.12014482156247613\n",
      "w00.09329083756046948,w10.3618577619661471,w20.275894887370875,w30.33739621044140006,iteration859,cost0.12013490538606494\n",
      "w00.0933318852718803,w10.3619274632354143,w20.27583921313662574,w30.3374117548140501,iteration860,cost0.12012500737062747\n",
      "w00.09337286805182032,w10.36199708283900733,w20.27578353621061913,w30.3374272457080909,iteration861,cost0.12011512746065728\n",
      "w00.09341378602667273,w10.36206662106970194,w20.2757278568898563,w30.3374426834254525,iteration862,cost0.12010526560104509\n",
      "w00.0934546393225064,w10.3621360782184736,w20.27567217546917117,w30.33745806826604935,iteration863,cost0.12009542173707406\n",
      "w00.093495428065077,w10.3622054545745096,w20.27561649224124524,w30.33747340052779345,iteration864,cost0.12008559581441548\n",
      "w00.09353615237982808,w10.3622747504252209,w20.27556080749662193,w30.33748868050660824,iteration865,cost0.12007578777912414\n",
      "w00.09357681239189214,w10.362343966056254,w20.2755051215237211,w30.33750390849644185,iteration866,cost0.12006599757763402\n",
      "w00.09361740822609171,w10.3624131017515029,w20.27544943460885324,w30.3375190847892805,iteration867,cost0.12005622515675407\n",
      "w00.09365794000694044,w10.3624821577931204,w20.2753937470362338,w30.3375342096751617,iteration868,cost0.120046470463664\n",
      "w00.09369840785864414,w10.3625511344615301,w20.27533805908799724,w30.3375492834421874,iteration869,cost0.12003673344590982\n",
      "w00.09373881190510185,w10.36262003203543786,w20.27528237104421105,w30.33756430637653706,iteration870,cost0.12002701405139997\n",
      "w00.09377915226990689,w10.3626888507918431,w20.27522668318288973,w30.3375792787624807,iteration871,cost0.12001731222840102\n",
      "w00.09381942907634795,w10.3627575910060504,w20.27517099578000853,w30.33759420088239156,iteration872,cost0.12000762792553386\n",
      "w00.09385964244741007,w10.3628262529516805,w20.2751153091095173,w30.3376090730167593,iteration873,cost0.11999796109176943\n",
      "w00.09389979250577574,w10.36289483690068186,w20.27505962344335405,w30.33762389544420235,iteration874,cost0.11998831167642501\n",
      "w00.09393987937382588,w10.3629633431233417,w20.27500393905145853,w30.3376386684414806,iteration875,cost0.11997867962916016\n",
      "w00.09397990317364092,w10.3630317718882971,w20.2749482562017858,w30.33765339228350816,iteration876,cost0.11996906489997303\n",
      "w00.09401986402700183,w10.3631001234625459,w20.2748925751603194,w30.3376680672433655,iteration877,cost0.11995946743919655\n",
      "w00.09405976205539106,w10.3631683981114577,w20.2748368961910848,w30.3376826935923122,iteration878,cost0.11994988719749468\n",
      "w00.09409959737999364,w10.3632365960987847,w20.27478121955616264,w30.3376972715997988,iteration879,cost0.11994032412585841\n",
      "w00.09413937012169818,w10.3633047176866728,w20.2747255455157016,w30.33771180153347946,iteration880,cost0.11993077817560281\n",
      "w00.09417908040109785,w10.3633727631356716,w20.27466987432793166,w30.33772628365922386,iteration881,cost0.11992124929836277\n",
      "w00.09421872833849136,w10.36344073270474575,w20.27461420624917693,w30.33774071824112917,iteration882,cost0.11991173744608977\n",
      "w00.09425831405388403,w10.3635086266512853,w20.2745585415338685,w30.3377551055415321,iteration883,cost0.11990224257104826\n",
      "w00.09429783766698871,w10.363576445231116,w20.27450288043455723,w30.3377694458210209,iteration884,cost0.11989276462581226\n",
      "w00.09433729929722681,w10.3636441886985099,w20.2744472232019264,w30.337783739338447,iteration885,cost0.11988330356326199\n",
      "w00.09437669906372927,w10.36371185730619576,w20.2743915700848043,w30.3377979863509369,iteration886,cost0.11987385933658037\n",
      "w00.09441603708533751,w10.36377945130536926,w20.2743359213301768,w30.3378121871139035,iteration887,cost0.11986443189924978\n",
      "w00.09445531348060446,w10.3638469709457032,w20.2742802771831997,w30.337826341881058,iteration888,cost0.11985502120504865\n",
      "w00.09449452836779548,w10.3639144164753576,w20.274224637887211,w30.3378404509044213,iteration889,cost0.11984562720804856\n",
      "w00.09453368186488936,w10.3639817881409901,w20.27416900368374336,w30.33785451443433534,iteration890,cost0.11983624986261053\n",
      "w00.09457277408957925,w10.3640490861877655,w20.27411337481253606,w30.33786853271947453,iteration891,cost0.1198268891233822\n",
      "w00.09461180515927362,w10.3641163108593661,w20.2740577515115473,w30.33788250600685693,iteration892,cost0.11981754494529477\n",
      "w00.09465077519109721,w10.36418346239800137,w20.27400213401696605,w30.3378964345418554,iteration893,cost0.11980821728355952\n",
      "w00.09468968430189201,w10.3642505410444179,w20.27394652256322394,w30.33791031856820886,iteration894,cost0.11979890609366518\n",
      "w00.09472853260821815,w10.36431754703790903,w20.27389091738300736,w30.3379241583280332,iteration895,cost0.11978961133137482\n",
      "w00.09476732022635487,w10.3643844806163246,w20.27383531870726896,w30.33793795406183225,iteration896,cost0.1197803329527227\n",
      "w00.09480604727230144,w10.36445134201608054,w20.27377972676523954,w30.3379517060085087,iteration897,cost0.11977107091401136\n",
      "w00.09484471386177808,w10.36451813147216844,w20.2737241417844395,w30.3379654144053749,iteration898,cost0.11976182517180915\n",
      "w00.09488332011022692,w10.3645848492181651,w20.2736685639906905,w30.3379790794881637,iteration899,cost0.11975259568294691\n",
      "w00.09492186613281288,w10.36465149548624176,w20.2736129936081269,w30.3379927014910388,iteration900,cost0.11974338240451522\n",
      "w00.09496035204442461,w10.36471807050717375,w20.2735574308592071,w30.3380062806466058,iteration901,cost0.11973418529386187\n",
      "w00.09499877795967539,w10.36478457451034957,w20.2735018759647248,w30.33801981718592233,iteration902,cost0.11972500430858878\n",
      "w00.09503714399290401,w10.36485100772378026,w20.2734463291438204,w30.3380333113385087,iteration903,cost0.11971583940654963\n",
      "w00.09507545025817576,w10.36491737037410843,w20.2733907906139919,w30.33804676333235834,iteration904,cost0.11970669054584676\n",
      "w00.09511369686928321,w10.36498366268661747,w20.27333526059110635,w30.3380601733939478,iteration905,cost0.11969755768482905\n",
      "w00.0951518839397472,w10.3650498848852406,w20.27327973928941046,w30.3380735417482474,iteration906,cost0.11968844078208893\n",
      "w00.09519001158281769,w10.3651160371925699,w20.2732242269215417,w30.3380868686187311,iteration907,cost0.11967933979645974\n",
      "w00.09522807991147463,w10.3651821198298652,w20.2731687236985393,w30.3381001542273868,iteration908,cost0.11967025468701357\n",
      "w00.09526608903842888,w10.3652481330170629,w20.2731132298298547,w30.3381133987947263,iteration909,cost0.1196611854130585\n",
      "w00.09530403907612307,w10.36531407697278473,w20.27305774552336265,w30.3381266025397952,iteration910,cost0.11965213193413607\n",
      "w00.09534193013673248,w10.3653799519143468,w20.2730022709853716,w30.3381397656801829,iteration911,cost0.11964309421001892\n",
      "w00.09537976233216587,w10.365445758057768,w20.2729468064206343,w30.3381528884320324,iteration912,cost0.11963407220070837\n",
      "w00.09541753577406642,w10.3655114956177788,w20.27289135203235837,w30.3381659710100501,iteration913,cost0.11962506586643201\n",
      "w00.09545525057381253,w10.3655771648078296,w20.2728359080222167,w30.3381790136275154,iteration914,cost0.11961607516764146\n",
      "w00.09549290684251871,w10.36564276584009947,w20.2727804745903577,w30.33819201649629055,iteration915,cost0.11960710006500974\n",
      "w00.09553050469103641,w10.36570829892550466,w20.27272505193541585,w30.33820497982683,iteration916,cost0.11959814051942932\n",
      "w00.09556804422995488,w10.3657737642737068,w20.2726696402545216,w30.33821790382819,iteration917,cost0.11958919649200968\n",
      "w00.09560552556960204,w10.36583916209312134,w20.27261423974331184,w30.33823078870803813,iteration918,cost0.119580267944075\n",
      "w00.0956429488200453,w10.3659044925909259,w20.2725588505959397,w30.3382436346726625,iteration919,cost0.11957135483716211\n",
      "w00.09568031409109239,w10.3659697559730684,w20.27250347300508476,w30.33825644192698123,iteration920,cost0.11956245713301818\n",
      "w00.09571762149229218,w10.36603495244427536,w20.27244810716196294,w30.3382692106745516,iteration921,cost0.11955357479359865\n",
      "w00.09575487113293558,w10.3661000822080599,w20.27239275325633633,w30.3382819411175794,iteration922,cost0.11954470778106513\n",
      "w00.09579206312205632,w10.3661651454667299,w20.2723374114765231,w30.3382946334569278,iteration923,cost0.119535856057783\n",
      "w00.09582919756843174,w10.366230142421396,w20.2722820820094071,w30.3383072878921266,iteration924,cost0.11952701958631978\n",
      "w00.09586627458058365,w10.3662950732719796,w20.27222676504044785,w30.33831990462138134,iteration925,cost0.1195181983294427\n",
      "w00.09590329426677918,w10.36635993821722057,w20.2721714607536897,w30.338332483841582,iteration926,cost0.11950939225011699\n",
      "w00.09594025673503154,w10.3664247374546855,w20.27211616933177185,w30.338345025748312,iteration927,cost0.11950060131150354\n",
      "w00.0959771620931008,w10.36648947118077513,w20.2720608909559375,w30.33835753053585704,iteration928,cost0.11949182547695726\n",
      "w00.09601401044849478,w10.36655413959073224,w20.2720056258060435,w30.338369998397214,iteration929,cost0.11948306471002487\n",
      "w00.09605080190846982,w10.36661874287864943,w20.2719503740605696,w30.33838242952409925,iteration930,cost0.1194743189744431\n",
      "w00.09608753658003151,w10.3666832812374766,w20.2718951358966278,w30.3383948241069578,iteration931,cost0.1194655882341368\n",
      "w00.0961242145699356,w10.3667477548590288,w20.27183991148997144,w30.3384071823349716,iteration932,cost0.119456872453217\n",
      "w00.09616083598468868,w10.36681216393399335,w20.27178470101500474,w30.338419504396068,iteration933,cost0.11944817159597908\n",
      "w00.09619740093054906,w10.3668765086519378,w20.27172950464479145,w30.33843179047692856,iteration934,cost0.11943948562690086\n",
      "w00.09623390951352748,w10.36694078920131723,w20.2716743225510643,w30.3384440407629971,iteration935,cost0.11943081451064107\n",
      "w00.09627036183938793,w10.36700500576948136,w20.2716191549042337,w30.33845625543848834,iteration936,cost0.11942215821203711\n",
      "w00.09630675801364842,w10.36706915854268235,w20.271564001873397,w30.33846843468639604,iteration937,cost0.11941351669610377\n",
      "w00.09634309814158175,w10.36713324770608174,w20.27150886362634696,w30.33848057868850134,iteration938,cost0.11940488992803101\n",
      "w00.09637938232821627,w10.36719727344375785,w20.27145374032958086,w30.3384926876253809,iteration939,cost0.11939627787318276\n",
      "w00.09641561067833668,w10.367261235938713,w20.2713986321483092,w30.3385047616764151,iteration940,cost0.11938768049709467\n",
      "w00.09645178329648474,w10.36732513537288064,w20.27134353924646437,w30.33851680101979603,iteration941,cost0.11937909776547297\n",
      "w00.09648790028696007,w10.36738897192713227,w20.2712884617867092,w30.3385288058325357,iteration942,cost0.11937052964419237\n",
      "w00.0965239617538209,w10.36745274578128484,w20.2712333999304457,w30.3385407762904738,iteration943,cost0.11936197609929453\n",
      "w00.09655996780088481,w10.36751645711410746,w20.2711783538378235,w30.33855271256828573,iteration944,cost0.1193534370969867\n",
      "w00.09659591853172948,w10.3675801061033285,w20.27112332366774833,w30.3385646148394905,iteration945,cost0.11934491260363983\n",
      "w00.09663181404969344,w10.3676436929256424,w20.2710683095778904,w30.3385764832764585,iteration946,cost0.11933640258578716\n",
      "w00.09666765445787683,w10.3677072177567168,w20.27101331172469284,w30.3385883180504193,iteration947,cost0.11932790701012251\n",
      "w00.0967034398591421,w10.36777068077119895,w20.27095833026337984,w30.3386001193314693,iteration948,cost0.11931942584349892\n",
      "w00.0967391703561148,w10.36783408214272284,w20.27090336534796505,w30.3386118872885794,iteration949,cost0.11931095905292696\n",
      "w00.09677484605118426,w10.3678974220439157,w20.2708484171312597,w30.33862362208960267,iteration950,cost0.1193025066055734\n",
      "w00.09681046704650435,w10.3679607006464048,w20.27079348576488066,w30.3386353239012819,iteration951,cost0.1192940684687595\n",
      "w00.09684603344399419,w10.3680239181208241,w20.2707385713992587,w30.3386469928892571,iteration952,cost0.11928564460995988\n",
      "w00.0968815453453389,w10.3680870746368207,w20.2706836741836464,w30.3386586292180728,iteration953,cost0.11927723499680067\n",
      "w00.09691700285199027,w10.3681501703630617,w20.27062879426612607,w30.33867023305118577,iteration954,cost0.11926883959705838\n",
      "w00.09695240606516756,w10.3682132054672403,w20.2705739317936177,w30.338681804550972,iteration955,cost0.11926045837865842\n",
      "w00.09698775508585811,w10.36827618011608254,w20.2705190869118869,w30.33869334387873434,iteration956,cost0.11925209130967368\n",
      "w00.09702305001481813,w10.3683390944753537,w20.2704642597655526,w30.33870485119470956,iteration957,cost0.11924373835832308\n",
      "w00.09705829095257339,w10.3684019487098644,w20.27040945049809484,w30.33871632665807566,iteration958,cost0.1192353994929703\n",
      "w00.09709347799941989,w10.3684647429834775,w20.2703546592518626,w30.33872777042695895,iteration959,cost0.11922707468212258\n",
      "w00.09712861125542462,w10.36852747745911363,w20.2702998861680812,w30.3387391826584412,iteration960,cost0.11921876389442895\n",
      "w00.0971636908204262,w10.3685901522987582,w20.2702451313868602,w30.3387505635085667,iteration961,cost0.11921046709867952\n",
      "w00.0971987167940356,w10.368652767663467,w20.2701903950472006,w30.3387619131323492,iteration962,cost0.11920218426380354\n",
      "w00.09723368927563687,w10.3687153237133728,w20.2701356772870028,w30.33877323168377915,iteration963,cost0.1191939153588688\n",
      "w00.09726860836438775,w10.36877782060769115,w20.27008097824307353,w30.3387845193158302,iteration964,cost0.11918566035307973\n",
      "w00.09730347415922042,w10.3688402585047267,w20.27002629805113376,w30.3387957761804664,iteration965,cost0.11917741921577651\n",
      "w00.09733828675884217,w10.3689026375618791,w20.26997163684582565,w30.338807002428649,iteration966,cost0.11916919191643391\n",
      "w00.09737304626173605,w10.368964957935649,w20.26991699476072,w30.3388181982103429,iteration967,cost0.11916097842465972\n",
      "w00.09740775276616162,w10.3690272197816441,w20.2698623719283236,w30.33882936367452404,iteration968,cost0.11915277871019385\n",
      "w00.09744240637015553,w10.369089423254585,w20.2698077684800862,w30.33884049896918533,iteration969,cost0.11914459274290706\n",
      "w00.09747700717153224,w10.3691515685083111,w20.26975318454640795,w30.3388516042413438,iteration970,cost0.11913642049279978\n",
      "w00.09751155526788471,w10.36921365569578646,w20.26969862025664626,w30.33886267963704714,iteration971,cost0.11912826193000087\n",
      "w00.09754605075658505,w10.36927568496910557,w20.2696440757391231,w30.33887372530138005,iteration972,cost0.11912011702476658\n",
      "w00.09758049373478515,w10.36933765647949907,w20.2695895511211317,w30.33888474137847097,iteration973,cost0.11911198574747936\n",
      "w00.09761488429941739,w10.36939957037733956,w20.26953504652894383,w30.33889572801149837,iteration974,cost0.11910386806864691\n",
      "w00.09764922254719527,w10.36946142681214733,w20.26948056208781657,w30.33890668534269736,iteration975,cost0.11909576395890065\n",
      "w00.09768350857461405,w10.3695232259325958,w20.2694260979219991,w30.3389176135133659,iteration976,cost0.11908767338899512\n",
      "w00.09771774247795147,w10.3695849678865173,w20.2693716541547398,w30.3389285126638713,iteration977,cost0.11907959632980668\n",
      "w00.0977519243532683,w10.3696466528209086,w20.2693172309082926,w30.3389393829336564,iteration978,cost0.11907153275233234\n",
      "w00.09778605429640905,w10.36970828088193647,w20.2692628283039243,w30.3389502244612458,iteration979,cost0.11906348262768886\n",
      "w00.09782013240300264,w10.36976985221494313,w20.2692084464619206,w30.3389610373842521,iteration980,cost0.1190554459271117\n",
      "w00.09785415876846294,w10.3698313669644517,w20.2691540855015933,w30.33897182183938224,iteration981,cost0.11904742262195397\n",
      "w00.09788813348798954,w10.3698928252741716,w20.26909974554128663,w30.33898257796244335,iteration982,cost0.11903941268368533\n",
      "w00.09792205665656828,w10.3699542272870041,w20.26904542669838377,w30.3389933058883491,iteration983,cost0.11903141608389108\n",
      "w00.09795592836897192,w10.3700155731450475,w20.26899112908931355,w30.33900400575112544,iteration984,cost0.1190234327942712\n",
      "w00.09798974871976078,w10.3700768629896025,w20.26893685282955676,w30.3390146776839169,iteration985,cost0.11901546278663933\n",
      "w00.09802351780328335,w10.3701380969611775,w20.26888259803365266,w30.3390253218189925,iteration986,cost0.11900750603292164\n",
      "w00.09805723571367693,w10.37019927519949375,w20.2688283648152054,w30.33903593828775136,iteration987,cost0.11899956250515624\n",
      "w00.09809090254486826,w10.37026039784349063,w20.26877415328689014,w30.3390465272207291,iteration988,cost0.11899163217549186\n",
      "w00.0981245183905741,w10.3703214650313309,w20.26871996356045963,w30.33905708874760326,iteration989,cost0.11898371501618707\n",
      "w00.09815808334430187,w10.37038247690040577,w20.26866579574675026,w30.33906762299719934,iteration990,cost0.11897581099960955\n",
      "w00.09819159749935032,w10.3704434335873399,w20.2686116499556884,w30.33907813009749643,iteration991,cost0.11896792009823469\n",
      "w00.09822506094881003,w10.37050433522799653,w20.26855752629629664,w30.339088610175633,iteration992,cost0.11896004228464524\n",
      "w00.09825847378556413,w10.3705651819574827,w20.26850342487669954,w30.3390990633579127,iteration993,cost0.11895217753153005\n",
      "w00.09829183610228881,w10.370625973910154,w20.2684493458041302,w30.3391094897698097,iteration994,cost0.11894432581168332\n",
      "w00.09832514799145402,w10.3706867112196196,w20.26839528918493605,w30.3391198895359746,iteration995,cost0.1189364870980037\n",
      "w00.09835840954532399,w10.3707473940187473,w20.2683412551245848,w30.33913026278023994,iteration996,cost0.1189286613634935\n",
      "w00.09839162085595786,w10.37080802243966826,w20.26828724372767065,w30.33914060962562564,iteration997,cost0.11892084858125779\n",
      "w00.09842478201521031,w10.3708685966137821,w20.26823325509792,w30.33915093019434456,iteration998,cost0.11891304872450348\n",
      "w00.0984578931147321,w10.37092911667176137,w20.26817928933819746,w30.33916122460780795,iteration999,cost0.11890526176653862\n"
     ]
    }
   ],
   "source": [
    "#Performing Gradient Descent with Test Data\n",
    "gradient_descent(x1_wgtT,x2_hgtT,x3_wdtT,y_testS)"
   ]
  },
  {
   "cell_type": "code",
   "execution_count": 103,
   "id": "b84a80b2",
   "metadata": {},
   "outputs": [],
   "source": [
    "#Calculating Predicted values of Test Data\n",
    "y_pred_gd_T = 0.0984578931147321 + 0.37092911667176137*x1_wgtT + 0.26817928933819746*x2_hgtT + 0.33916122460780795*x3_wdtT"
   ]
  },
  {
   "cell_type": "code",
   "execution_count": 104,
   "id": "e4c0049a",
   "metadata": {},
   "outputs": [
    {
     "data": {
      "text/plain": [
       "(32, 32)"
      ]
     },
     "execution_count": 104,
     "metadata": {},
     "output_type": "execute_result"
    }
   ],
   "source": [
    "y_pred_gd_T.count(),y_testS.count()"
   ]
  },
  {
   "cell_type": "code",
   "execution_count": 105,
   "id": "777fc95c",
   "metadata": {},
   "outputs": [
    {
     "data": {
      "image/png": "[encoded data removed]",
      "text/plain": [
       "<Figure size 1008x576 with 1 Axes>"
      ]
     },
     "metadata": {},
     "output_type": "display_data"
    }
   ],
   "source": [
    "#Scatter Plot describing the Relation of Features and Cost with the Predicted Cost\n",
    "plt.figure(figsize=(14, 8))\n",
    "plt_wgt = plt.scatter(x_testS['Weight'], y_testS)\n",
    "plt_wgt = plt.plot([min(x_testS['Weight']),max(x_testS['Weight'])],[min(y_pred_gd_T),max(y_pred_gd_T)],color = 'red')\n",
    "plt_hgt = plt.scatter(x_testS['Height'], y_testS)\n",
    "plt_hgt = plt.plot([min(x_testS['Height']),max(x_testS['Height'])],[min(y_pred_gd_T),max(y_pred_gd_T)],color = 'blue')\n",
    "plt_wdt = plt.scatter(x_testS['Width'], y_testS)\n",
    "plt_wdt = plt.plot([min(x_testS['Width']),max(x_testS['Width'])],[min(y_pred_gd_T),max(y_pred_gd_T)],color = 'green')\n",
    "plt.show(plt_wgt)\n",
    "plt.show(plt_hgt)\n",
    "plt.show(plt_wdt)"
   ]
  },
  {
   "cell_type": "code",
   "execution_count": 106,
   "id": "49a22257",
   "metadata": {},
   "outputs": [
    {
     "name": "stdout",
     "output_type": "stream",
     "text": [
      "0.8990844526376047\n"
     ]
    }
   ],
   "source": [
    "#Calculating R2 for Test Data\n",
    "r2_gdT = r2_score(y_testS,y_pred_gd_T)\n",
    "print(r2_gdT)"
   ]
  },
  {
   "cell_type": "code",
   "execution_count": 107,
   "id": "9fdcc4c4",
   "metadata": {},
   "outputs": [],
   "source": [
    "#Calculating MSE, RSE, RMSE for Test Data\n",
    "num_data = x_train.shape[0]\n",
    "mse = mean_squared_error(y_train,y_pred_gd)\n",
    "rmse_gdT = math.sqrt(mse)\n",
    "rse_gd = mse*num_data\n",
    "rse_gd /= num_data-2\n",
    "rse_gdT = math.sqrt(rse_gd)"
   ]
  },
  {
   "cell_type": "code",
   "execution_count": 108,
   "id": "aeb0bb28",
   "metadata": {},
   "outputs": [
    {
     "name": "stdout",
     "output_type": "stream",
     "text": [
      "RMSE= 510.6835110559897\n",
      "RSE= 514.7527667141816\n"
     ]
    }
   ],
   "source": [
    "print('RMSE=',rmse_gdT)\n",
    "print('RSE=',rse_gdT)"
   ]
  },
  {
   "cell_type": "code",
   "execution_count": 109,
   "id": "71645ce2",
   "metadata": {},
   "outputs": [
    {
     "name": "stdout",
     "output_type": "stream",
     "text": [
      "R2 Score of OLS : 0.8739712540387259\n",
      "R2 Score of SGD : -1.3813819607385218\n",
      "R2 Score of GD Training : 0.8881373585052885\n",
      "R2 Score of GD Test: 0.8990844526376047\n"
     ]
    }
   ],
   "source": [
    "print('R2 Score of OLS :',r2_OLS)\n",
    "print('R2 Score of SGD :',r2_sgd)\n",
    "print('R2 Score of GD Training :',r2_gd)\n",
    "print('R2 Score of GD Test:',r2_gdT)\n"
   ]
  },
  {
   "cell_type": "markdown",
   "id": "4dde0389",
   "metadata": {},
   "source": [
    "# Mini Batch Gradient Descent"
   ]
  },
  {
   "cell_type": "code",
   "execution_count": 110,
   "id": "5a391c0d",
   "metadata": {},
   "outputs": [],
   "source": [
    "#Defining the function to split the data into batches\n",
    "def split_dataframe(df, size = 16): \n",
    "    chunks = list()\n",
    "    num_chunks = len(df) // size + 1\n",
    "    for i in range(num_chunks):\n",
    "        chunks.append(df[i*size:(i+1)*size])\n",
    "    return chunks"
   ]
  },
  {
   "cell_type": "code",
   "execution_count": 111,
   "id": "8fda5a4f",
   "metadata": {},
   "outputs": [],
   "source": [
    "#Defining the Mini Batch Gradient Descent function \n",
    "def minibatch_gradient_descent(x1,x2,x3,y):\n",
    "    w0 = 0\n",
    "    w1 = 0\n",
    "    w2 = 0\n",
    "    w3 = 0\n",
    " \n",
    "    iterations = 20 # epochs\n",
    "    n = len(x1)\n",
    "    n1 = n-1\n",
    "    eta = 0.035\n",
    "    for i in range(iterations):\n",
    "        y_pred = w0 + w1*x1 + w2*x2 + w3*x3\n",
    "        cost = (1/n)*sum(val**2 for val in (y-y_pred))\n",
    "        w0_D = -(2/n)*sum((y-y_pred))\n",
    "        w1_D = -(2/n)*sum(x1*(y-y_pred))\n",
    "        w2_D = -(2/n)*sum(x2*(y-y_pred))\n",
    "        w3_D = -(2/n)*sum(x3*(y-y_pred))\n",
    "        \n",
    "        w0 = w0 - eta * w0_D\n",
    "        w1 = w1 - eta * w1_D\n",
    "        w2 = w2 - eta * w2_D\n",
    "        w3 = w3 - eta * w3_D\n",
    "        \n",
    "        if i == n1:\n",
    "            print(\"w0:{},w1:{},w2:{},w3:{},iteration:{},cost:{}\".format(w0,w1,w2,w3,i,cost)) \n",
    "            "
   ]
  },
  {
   "cell_type": "code",
   "execution_count": 112,
   "id": "fe36065e",
   "metadata": {},
   "outputs": [],
   "source": [
    "#Parametrizing the Batches into variable dataframes\n",
    "x1_wgt_batches = split_dataframe(x1_wgt)\n",
    "x2_hgt_batches = split_dataframe(x2_hgt)\n",
    "x3_wdt_batches = split_dataframe(x3_wdt)\n",
    "y_trainS_batches = split_dataframe(y_trainS)\n"
   ]
  },
  {
   "cell_type": "code",
   "execution_count": 113,
   "id": "a88da94f",
   "metadata": {
    "scrolled": false
   },
   "outputs": [
    {
     "name": "stdout",
     "output_type": "stream",
     "text": [
      "w0:-0.12698700566813947,w1:0.29751681337580665,w2:0.23826018633848206,w3:0.27725443367307606,iteration:15,cost:0.041462454778084586\n",
      "w0:0.03665497700941941,w1:0.3723371179011453,w2:0.22379930501087086,w3:0.3580028328379504,iteration:15,cost:0.07767658741913619\n",
      "w0:-0.07982352054688113,w1:0.27557774086899933,w2:0.285617589682034,w3:0.36634772315999375,iteration:15,cost:0.04852891699652831\n",
      "w0:0.06866664702902198,w1:0.4251121421724799,w2:0.23037637443947373,w3:0.41547262738333063,iteration:15,cost:0.12408247622466265\n",
      "w0:-0.047031358723947994,w1:0.3162510996651569,w2:0.2807152144496698,w3:0.34340464112210856,iteration:15,cost:0.0601082472017299\n",
      "w0:0.08297696934877336,w1:0.6025032445815746,w2:0.09543564188474742,w3:0.3431880788312423,iteration:15,cost:0.19562227111219246\n",
      "w0:-0.16972687550568766,w1:0.20300626648523512,w2:0.21055548468413554,w3:0.2248577492184141,iteration:15,cost:0.03604736486307632\n",
      "w0:-0.05680451430273765,w1:0.2678033045042656,w2:0.22443215322224705,w3:0.36782387238230485,iteration:14,cost:0.09941620970168333\n"
     ]
    }
   ],
   "source": [
    "#Performing Mini Batch Gradient Descent for each batch\n",
    "count = len(x1_wgt_batches)\n",
    "for i in range(count):\n",
    "    minibatch_gradient_descent(x1_wgt_batches[i],x2_hgt_batches[i],x3_wdt_batches[i],y_trainS_batches[i])"
   ]
  },
  {
   "cell_type": "code",
   "execution_count": 114,
   "id": "a71d4c75",
   "metadata": {},
   "outputs": [],
   "source": [
    "#Putting the values of the Co-efficients and Intercept into individual dataframes\n",
    "df_mini_w0 = pd.DataFrame(data = (-0.12698700566813947,0.03665497700941941,-0.07982352054688113,0.06866664702902198,\n",
    "                                  -0.047031358723947994,0.08297696934877336,-0.16972687550568766,-0.05680451430273765))\n",
    "df_mini_w1 = pd.DataFrame(data = (0.29751681337580665,0.3723371179011453,0.27557774086899933,0.4251121421724799,\n",
    "                                  0.3162510996651569,0.6025032445815746,0.20300626648523512,0.2678033045042656))\n",
    "df_mini_w2 = pd.DataFrame(data = (0.23826018633848206,0.22379930501087086,0.285617589682034,0.23037637443947373,\n",
    "                                  0.2807152144496698,0.09543564188474742,0.21055548468413554,0.22443215322224705))\n",
    "df_mini_w3 = pd.DataFrame(data = (0.27725443367307606,0.3580028328379504,0.36634772315999375,0.41547262738333063,\n",
    "                                  0.34340464112210856,0.3431880788312423,0.2248577492184141,0.36782387238230485))"
   ]
  },
  {
   "cell_type": "code",
   "execution_count": 115,
   "id": "7f2f31e0",
   "metadata": {},
   "outputs": [
    {
     "data": {
      "text/plain": [
       "(0   -0.036509\n",
       " dtype: float64,\n",
       " 0    0.345013\n",
       " dtype: float64,\n",
       " 0    0.223649\n",
       " dtype: float64,\n",
       " 0    0.337044\n",
       " dtype: float64)"
      ]
     },
     "execution_count": 115,
     "metadata": {},
     "output_type": "execute_result"
    }
   ],
   "source": [
    "#Calculating the mean value for each of the Co-efficients and Intercept\n",
    "w0m = df_mini_w0.mean()\n",
    "w1m = df_mini_w1.mean()\n",
    "w2m = df_mini_w2.mean()\n",
    "w3m = df_mini_w3.mean()\n",
    "w0m, w1m, w2m, w3m"
   ]
  },
  {
   "cell_type": "code",
   "execution_count": 116,
   "id": "0439930a",
   "metadata": {},
   "outputs": [],
   "source": [
    "#Calculating the Predicted values for Mini-Batch Gradient Descent\n",
    "y_pred_mbgd = -0.001127 + 0.02691*x1_wgt + 0.019615*x2_hgt + 0.026272*x3_wdt"
   ]
  },
  {
   "cell_type": "code",
   "execution_count": 117,
   "id": "6a2d8022",
   "metadata": {},
   "outputs": [
    {
     "data": {
      "text/plain": [
       "127"
      ]
     },
     "execution_count": 117,
     "metadata": {},
     "output_type": "execute_result"
    }
   ],
   "source": [
    "y_pred_mbgd.count()"
   ]
  },
  {
   "cell_type": "code",
   "execution_count": 118,
   "id": "59a0afef",
   "metadata": {},
   "outputs": [
    {
     "data": {
      "image/png": "[encoded data removed]",
      "text/plain": [
       "<Figure size 1008x576 with 1 Axes>"
      ]
     },
     "metadata": {},
     "output_type": "display_data"
    }
   ],
   "source": [
    "# plt_wgt_mb = plt.scatter(x_trainS['Weight'], y_trainS)\n",
    "# plt_wgt_mb = plt.plot([min(x_trainS['Weight']),max(x_trainS['Weight'])],[min(y_pred_mbgd),max(y_pred_mbgd)],color = 'red')\n",
    "\n",
    "#Scatter Plot describing the Relation of Features and Cost with the Predicted Cost\n",
    "plt.figure(figsize=(14, 8))\n",
    "plt_wgt = plt.scatter(x_trainS['Weight'], y_trainS)\n",
    "plt_wgt = plt.plot([min(x_trainS['Weight']),max(x_trainS['Weight'])],[min(y_pred_mbgd),max(y_pred_mbgd)],color = 'red')\n",
    "plt_hgt = plt.scatter(x_trainS['Height'], y_trainS)\n",
    "plt_hgt = plt.plot([min(x_trainS['Height']),max(x_trainS['Height'])],[min(y_pred_mbgd),max(y_pred_mbgd)],color = 'blue')\n",
    "plt_wdt = plt.scatter(x_trainS['Width'], y_trainS)\n",
    "plt_wdt = plt.plot([min(x_trainS['Width']),max(x_trainS['Width'])],[min(y_pred_mbgd),max(y_pred_mbgd)],color = 'green')\n",
    "plt.show(plt_wgt)\n",
    "plt.show(plt_hgt)\n",
    "plt.show(plt_wdt)"
   ]
  },
  {
   "cell_type": "code",
   "execution_count": 119,
   "id": "a7298fd2",
   "metadata": {},
   "outputs": [
    {
     "name": "stdout",
     "output_type": "stream",
     "text": [
      "0.11857272058833856\n"
     ]
    }
   ],
   "source": [
    "#Calculating the R2 value for Mini Batch Gradient Descent\n",
    "r2_mbgd = r2_score(y_trainS,y_pred_mbgd)\n",
    "print(r2_mbgd)"
   ]
  },
  {
   "cell_type": "code",
   "execution_count": 120,
   "id": "4a8f808e",
   "metadata": {},
   "outputs": [],
   "source": [
    "num_data = x_train.shape[0]\n",
    "mse_mgd = mean_squared_error(y_train,y_pred_gd)\n",
    "rmse_mgd = math.sqrt(mse_mgd)\n",
    "rse_mgd = mse*num_data\n",
    "rse_mgd /= num_data-2\n",
    "rse_mgd = math.sqrt(rse_mgd)"
   ]
  },
  {
   "cell_type": "code",
   "execution_count": 121,
   "id": "d51a2e2e",
   "metadata": {},
   "outputs": [
    {
     "name": "stdout",
     "output_type": "stream",
     "text": [
      "RMSE= 510.6835110559897\n",
      "RSE= 514.7527667141816\n"
     ]
    }
   ],
   "source": [
    "print('RMSE=',rmse_mgd)\n",
    "print('RSE=',rse_mgd)"
   ]
  },
  {
   "cell_type": "markdown",
   "id": "56923224",
   "metadata": {},
   "source": [
    "<h1><b>Conclusions and Evaluations</b></h1>"
   ]
  },
  {
   "cell_type": "code",
   "execution_count": 122,
   "id": "3e4ae444",
   "metadata": {},
   "outputs": [
    {
     "data": {
      "text/html": [
       "<div>\n",
       "<style scoped>\n",
       "    .dataframe tbody tr th:only-of-type {\n",
       "        vertical-align: middle;\n",
       "    }\n",
       "\n",
       "    .dataframe tbody tr th {\n",
       "        vertical-align: top;\n",
       "    }\n",
       "\n",
       "    .dataframe thead th {\n",
       "        text-align: right;\n",
       "    }\n",
       "</style>\n",
       "<table border=\"1\" class=\"dataframe\">\n",
       "  <thead>\n",
       "    <tr style=\"text-align: right;\">\n",
       "      <th></th>\n",
       "      <th>R2 Score</th>\n",
       "      <th>MSE</th>\n",
       "      <th>RSE</th>\n",
       "      <th>RMSE</th>\n",
       "    </tr>\n",
       "  </thead>\n",
       "  <tbody>\n",
       "    <tr>\n",
       "      <th>OLS</th>\n",
       "      <td>0.873971</td>\n",
       "      <td>17926.238946</td>\n",
       "      <td>134.955766</td>\n",
       "      <td>133.888905</td>\n",
       "    </tr>\n",
       "    <tr>\n",
       "      <th>Stochastic Gradient Descent</th>\n",
       "      <td>-1.381382</td>\n",
       "      <td>0.139877</td>\n",
       "      <td>0.376982</td>\n",
       "      <td>0.374001</td>\n",
       "    </tr>\n",
       "    <tr>\n",
       "      <th>Gradient Descent</th>\n",
       "      <td>0.888137</td>\n",
       "      <td>338726.071779</td>\n",
       "      <td>264970.410840</td>\n",
       "      <td>582.001780</td>\n",
       "    </tr>\n",
       "    <tr>\n",
       "      <th>Mini Batch Gradient Descent</th>\n",
       "      <td>0.118573</td>\n",
       "      <td>260797.648464</td>\n",
       "      <td>514.752767</td>\n",
       "      <td>510.683511</td>\n",
       "    </tr>\n",
       "  </tbody>\n",
       "</table>\n",
       "</div>"
      ],
      "text/plain": [
       "                             R2 Score           MSE           RSE       RMSE\n",
       "OLS                          0.873971  17926.238946    134.955766 133.888905\n",
       "Stochastic Gradient Descent -1.381382      0.139877      0.376982   0.374001\n",
       "Gradient Descent             0.888137 338726.071779 264970.410840 582.001780\n",
       "Mini Batch Gradient Descent  0.118573 260797.648464    514.752767 510.683511"
      ]
     },
     "execution_count": 122,
     "metadata": {},
     "output_type": "execute_result"
    }
   ],
   "source": [
    "#Consolidating all the evaluation parameters in a dataframe\n",
    "d = {'R2 Score': [r2_OLS,r2_sgd,r2_gd,r2_mbgd], 'MSE': [mse_ols, mse_sgd, mse_gd, mse_mgd], \n",
    "     'RSE': [rse_ols,rse_sgd,rse_gd,rse_mgd], 'RMSE':[rmse_ols,rmse_sgd,rmse_gd,rmse_mgd]}\n",
    "df_result = pd.DataFrame(data=d)\n",
    "df_result.index = ['OLS', 'Stochastic Gradient Descent', 'Gradient Descent', 'Mini Batch Gradient Descent']\n",
    "pd.set_option('float_format', '{:f}'.format)\n",
    "df_result"
   ]
  },
  {
   "cell_type": "markdown",
   "id": "0ff6455b",
   "metadata": {},
   "source": [
    "<blockquote> The above table collates all the Evaluation parameters of all the models used for prediction\n",
    "\n",
    "    From the above table we can see that the Mini Batch Gradient and Stochastic Gradient Descent have given the least performance\n",
    "    Similarly, we can see that OLS and Gradient Descent Models have better performance\n",
    "</blockquote>"
   ]
  },
  {
   "cell_type": "markdown",
   "id": "04b40e70",
   "metadata": {},
   "source": [
    "<blockquote><h4>Hence, we can conclude that OLS and Gradient Descent are the best fit for this data</h4></blockquote>"
   ]
  }
 ],
 "metadata": {
  "kernelspec": {
   "display_name": "Python 3",
   "language": "python",
   "name": "python3"
  },
  "language_info": {
   "codemirror_mode": {
    "name": "ipython",
    "version": 3
   },
   "file_extension": ".py",
   "mimetype": "text/x-python",
   "name": "python",
   "nbconvert_exporter": "python",
   "pygments_lexer": "ipython3",
   "version": "3.9.5"
  }
 },
 "nbformat": 4,
 "nbformat_minor": 5
}
