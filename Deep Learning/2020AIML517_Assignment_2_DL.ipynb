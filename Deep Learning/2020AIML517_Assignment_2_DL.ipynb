{
 "cells": [
  {
   "cell_type": "markdown",
   "id": "c29bea02",
   "metadata": {},
   "source": [
    "<h1>Assignment - 2 - Deep Learning</h1>\n",
    "<br>\n",
    "<h4>K Navneeth<br>\n",
    "2020AIML517</h4>\n"
   ]
  },
  {
   "cell_type": "markdown",
   "id": "df17abc8",
   "metadata": {},
   "source": [
    "<h5>1) Load the data</h5>"
   ]
  },
  {
   "cell_type": "markdown",
   "id": "0c0eabff",
   "metadata": {},
   "source": [
    "<h5>Importing Libraries</h5>"
   ]
  },
  {
   "cell_type": "code",
   "execution_count": 105,
   "id": "8afbadb6",
   "metadata": {},
   "outputs": [],
   "source": [
    "import pandas as pd\n",
    "import numpy as np\n",
    "import os\n",
    "import tensorflow as tf\n",
    "import PIL\n",
    "from tensorflow.keras.preprocessing.image import ImageDataGenerator, img_to_array, load_img, array_to_img\n",
    "import tensorflow as tf\n",
    "import matplotlib.image as mpimg\n",
    "from keras.callbacks import EarlyStopping\n",
    "from  matplotlib import pyplot as plt\n",
    "%matplotlib inline"
   ]
  },
  {
   "cell_type": "code",
   "execution_count": 106,
   "id": "26d0f88d",
   "metadata": {},
   "outputs": [],
   "source": [
    "path = os.getcwd()"
   ]
  },
  {
   "cell_type": "code",
   "execution_count": 107,
   "id": "8dd547cb",
   "metadata": {},
   "outputs": [],
   "source": [
    "IMG_WIDTH=224\n",
    "IMG_HEIGHT=224\n",
    "batch_size=3\n",
    "\n",
    "train_dir = r''+path+'\\\\Sports_Dataset\\\\archive\\\\train'\n",
    "test_dir =  r''+path+'\\\\Sports_Dataset\\\\archive\\\\test'\n",
    "val_dir =  r''+path+'\\\\Sports_Dataset\\\\archive\\\\valid'"
   ]
  },
  {
   "cell_type": "markdown",
   "id": "bbfe8143",
   "metadata": {},
   "source": [
    "<h5>Generating Data from the Images</h5>"
   ]
  },
  {
   "cell_type": "code",
   "execution_count": 108,
   "id": "02561f58",
   "metadata": {},
   "outputs": [
    {
     "name": "stdout",
     "output_type": "stream",
     "text": [
      "Found 8361 images belonging to 73 classes.\n",
      "Found 365 images belonging to 73 classes.\n",
      "Found 365 images belonging to 73 classes.\n"
     ]
    }
   ],
   "source": [
    "train_generator=ImageDataGenerator(preprocessing_function=tf.keras.applications.mobilenet_v2.preprocess_input,validation_split=0.2)\n",
    "test_generator=tf.keras.preprocessing.image.ImageDataGenerator(preprocessing_function=tf.keras.applications.mobilenet_v2.preprocess_input)\n",
    "val_generator=tf.keras.preprocessing.image.ImageDataGenerator(preprocessing_function=tf.keras.applications.mobilenet_v2.preprocess_input)\n",
    "\n",
    "train_images = train_generator.flow_from_directory(\n",
    "    directory=train_dir,\n",
    "    target_size=(224, 224),\n",
    "    color_mode='rgb',\n",
    "    class_mode='categorical',\n",
    "    batch_size=3,\n",
    "    shuffle=False,\n",
    "    seed=0,\n",
    "    subset='training'\n",
    ")\n",
    "\n",
    "test_images = test_generator.flow_from_directory(\n",
    "    directory=test_dir,\n",
    "    target_size=(224, 224),\n",
    "    color_mode='rgb',\n",
    "    class_mode='categorical',\n",
    "    batch_size=3,\n",
    "    shuffle=False\n",
    ")\n",
    "\n",
    "val_images = val_generator.flow_from_directory(\n",
    "    directory=val_dir,\n",
    "    target_size=(224, 224),\n",
    "    color_mode='rgb',\n",
    "    class_mode='categorical',\n",
    "    batch_size=3,\n",
    "    shuffle=False    \n",
    ")"
   ]
  },
  {
   "cell_type": "markdown",
   "id": "690e17b9",
   "metadata": {},
   "source": [
    "<h5>Model Creation</h5>"
   ]
  },
  {
   "cell_type": "code",
   "execution_count": 109,
   "id": "1f7dd558",
   "metadata": {},
   "outputs": [
    {
     "name": "stdout",
     "output_type": "stream",
     "text": [
      "Model: \"sequential_7\"\n",
      "_________________________________________________________________\n",
      " Layer (type)                Output Shape              Param #   \n",
      "=================================================================\n",
      " conv2d_15 (Conv2D)          (None, 224, 224, 4)       112       \n",
      "                                                                 \n",
      " conv2d_16 (Conv2D)          (None, 224, 224, 4)       148       \n",
      "                                                                 \n",
      " max_pooling2d_13 (MaxPoolin  (None, 112, 112, 4)      0         \n",
      " g2D)                                                            \n",
      "                                                                 \n",
      " flatten_7 (Flatten)         (None, 50176)             0         \n",
      "                                                                 \n",
      " dense_7 (Dense)             (None, 73)                3662921   \n",
      "                                                                 \n",
      "=================================================================\n",
      "Total params: 3,663,181\n",
      "Trainable params: 3,663,181\n",
      "Non-trainable params: 0\n",
      "_________________________________________________________________\n"
     ]
    }
   ],
   "source": [
    "def cnn(image_size, num_classes):\n",
    "    clf = Sequential()\n",
    "    clf.add(Conv2D(4, (3, 3), input_shape=image_size, activation='relu', padding='same'))\n",
    "    clf.add(Conv2D(4, (3, 3), activation='relu', padding='same'))\n",
    "    clf.add(MaxPooling2D(pool_size = (2, 2)))\n",
    "    clf.add(Flatten())\n",
    "    clf.add(Dense(num_classes, activation = 'softmax'))\n",
    "    clf.compile(optimizer='adam', loss='categorical_crossentropy', metrics=['acc'])\n",
    "    return clf\n",
    "    \n",
    "model1 = cnn((224,224,3), 73)\n",
    "model1.summary()"
   ]
  },
  {
   "cell_type": "markdown",
   "id": "fbb88c8a",
   "metadata": {},
   "source": [
    "<h5>Model Training</h5>"
   ]
  },
  {
   "cell_type": "code",
   "execution_count": 110,
   "id": "c2363832",
   "metadata": {},
   "outputs": [
    {
     "name": "stdout",
     "output_type": "stream",
     "text": [
      "Epoch 1/25\n",
      "2787/2787 [==============================] - 204s 73ms/step - loss: 4.2869 - acc: 0.0636 - val_loss: 3.8251 - val_acc: 0.0904\n",
      "Epoch 2/25\n",
      "2787/2787 [==============================] - 202s 73ms/step - loss: 1.9671 - acc: 0.5430 - val_loss: 4.1136 - val_acc: 0.1616\n",
      "Epoch 3/25\n",
      "2787/2787 [==============================] - 203s 73ms/step - loss: 0.1846 - acc: 0.9651 - val_loss: 7.0314 - val_acc: 0.1370\n",
      "Epoch 4/25\n",
      "2787/2787 [==============================] - 203s 73ms/step - loss: 0.0398 - acc: 0.9961 - val_loss: 7.0039 - val_acc: 0.1425\n",
      "Epoch 5/25\n",
      "2787/2787 [==============================] - 202s 72ms/step - loss: 0.0147 - acc: 0.9989 - val_loss: 9.7073 - val_acc: 0.1233\n",
      "Epoch 6/25\n",
      "2787/2787 [==============================] - 203s 73ms/step - loss: 0.0213 - acc: 0.9982 - val_loss: 7.5219 - val_acc: 0.1507\n",
      "Epoch 7/25\n",
      "2787/2787 [==============================] - 202s 72ms/step - loss: 0.0145 - acc: 0.9992 - val_loss: 6.8248 - val_acc: 0.1425\n",
      "Epoch 8/25\n",
      "2787/2787 [==============================] - 202s 73ms/step - loss: 0.0094 - acc: 0.9989 - val_loss: 7.3996 - val_acc: 0.1671\n",
      "Epoch 9/25\n",
      "2787/2787 [==============================] - 207s 74ms/step - loss: 0.0145 - acc: 0.9987 - val_loss: 8.0264 - val_acc: 0.1288\n",
      "Epoch 10/25\n",
      "2787/2787 [==============================] - 203s 73ms/step - loss: 0.0102 - acc: 0.9989 - val_loss: 7.2088 - val_acc: 0.1589\n",
      "Epoch 11/25\n",
      "2787/2787 [==============================] - 202s 73ms/step - loss: 0.0098 - acc: 0.9984 - val_loss: 7.5778 - val_acc: 0.1315\n",
      "Epoch 12/25\n",
      "2787/2787 [==============================] - 204s 73ms/step - loss: 0.0082 - acc: 0.9993 - val_loss: 6.2078 - val_acc: 0.1151\n",
      "Epoch 13/25\n",
      "2787/2787 [==============================] - 204s 73ms/step - loss: 0.0083 - acc: 0.9988 - val_loss: 7.7343 - val_acc: 0.1425\n",
      "Epoch 14/25\n",
      "2787/2787 [==============================] - 204s 73ms/step - loss: 0.0099 - acc: 0.9989 - val_loss: 6.1176 - val_acc: 0.1178\n",
      "Epoch 15/25\n",
      "2787/2787 [==============================] - 205s 73ms/step - loss: 0.0052 - acc: 0.9989 - val_loss: 7.1663 - val_acc: 0.1288\n",
      "Epoch 16/25\n",
      "2787/2787 [==============================] - 204s 73ms/step - loss: 0.0070 - acc: 0.9990 - val_loss: 6.9779 - val_acc: 0.1370\n",
      "Epoch 17/25\n",
      "2787/2787 [==============================] - 204s 73ms/step - loss: 0.0042 - acc: 0.9992 - val_loss: 6.4878 - val_acc: 0.0932\n",
      "Epoch 18/25\n",
      "2787/2787 [==============================] - 204s 73ms/step - loss: 0.0064 - acc: 0.9990 - val_loss: 6.6327 - val_acc: 0.0932\n",
      "Epoch 19/25\n",
      "2787/2787 [==============================] - 205s 74ms/step - loss: 0.0027 - acc: 0.9993 - val_loss: 7.4711 - val_acc: 0.0959\n",
      "Epoch 20/25\n",
      "2787/2787 [==============================] - 204s 73ms/step - loss: 0.0076 - acc: 0.9990 - val_loss: 7.0394 - val_acc: 0.0986\n",
      "Epoch 21/25\n",
      "2787/2787 [==============================] - 205s 73ms/step - loss: 0.0036 - acc: 0.9990 - val_loss: 7.7375 - val_acc: 0.0959\n",
      "Epoch 22/25\n",
      "2787/2787 [==============================] - 211s 76ms/step - loss: 0.0047 - acc: 0.9993 - val_loss: 8.0098 - val_acc: 0.0877\n",
      "Epoch 23/25\n",
      "2787/2787 [==============================] - 204s 73ms/step - loss: 0.0053 - acc: 0.9990 - val_loss: 7.8379 - val_acc: 0.1041\n",
      "Epoch 24/25\n",
      "2787/2787 [==============================] - 204s 73ms/step - loss: 0.0042 - acc: 0.9992 - val_loss: 8.0548 - val_acc: 0.0986\n",
      "Epoch 25/25\n",
      "2787/2787 [==============================] - 204s 73ms/step - loss: 0.0043 - acc: 0.9992 - val_loss: 7.2111 - val_acc: 0.0877\n"
     ]
    }
   ],
   "source": [
    "history1 = model1.fit(train_images, validation_data=val_images,epochs = 25)"
   ]
  },
  {
   "cell_type": "markdown",
   "id": "b998d35e",
   "metadata": {},
   "source": [
    "<h5>Accuracy and Loss of Training</h5>"
   ]
  },
  {
   "cell_type": "code",
   "execution_count": 111,
   "id": "770f7f9e",
   "metadata": {},
   "outputs": [
    {
     "name": "stdout",
     "output_type": "stream",
     "text": [
      "Training Loss: 0.006219192408025265\n",
      "Training Accuracy: 0.9991627931594849\n",
      "Validation Loss 6.653650283813477\n",
      "Validation Accuracy 0.18904109299182892\n"
     ]
    }
   ],
   "source": [
    "print('Training Loss:',history.history['loss'][-1])\n",
    "print('Training Accuracy:',history.history['acc'][-1])\n",
    "print('Validation Loss',history.history['val_loss'][-1])\n",
    "print('Validation Accuracy',history.history['val_acc'][-1])"
   ]
  },
  {
   "cell_type": "markdown",
   "id": "7aad74b2",
   "metadata": {},
   "source": [
    "<h5>Plotting Training and Validation Loss</h5>"
   ]
  },
  {
   "cell_type": "code",
   "execution_count": 135,
   "id": "452e507a",
   "metadata": {},
   "outputs": [
    {
     "data": {
      "image/png": "[encoded data removed]",
      "text/plain": [
       "<Figure size 432x288 with 1 Axes>"
      ]
     },
     "metadata": {
      "needs_background": "light"
     },
     "output_type": "display_data"
    }
   ],
   "source": [
    "loss_train = history.history['loss']\n",
    "loss_val = history.history['val_loss']\n",
    "epochs = range(1,26)\n",
    "plt.plot(epochs, loss_train, 'g', label='Training loss')\n",
    "plt.plot(epochs, loss_val, 'b', label='Validation loss')\n",
    "plt.title('Training and Validation loss for Model 1')\n",
    "plt.xlabel('Epochs')\n",
    "plt.ylabel('Loss')\n",
    "plt.legend()\n",
    "plt.show()"
   ]
  },
  {
   "cell_type": "markdown",
   "id": "9bd94723",
   "metadata": {},
   "source": [
    "<h5>Plotting Training and Validation Accuracy</h5>"
   ]
  },
  {
   "cell_type": "code",
   "execution_count": 134,
   "id": "7e556f35",
   "metadata": {},
   "outputs": [
    {
     "data": {
      "image/png": "[encoded data removed]",
      "text/plain": [
       "<Figure size 432x288 with 1 Axes>"
      ]
     },
     "metadata": {
      "needs_background": "light"
     },
     "output_type": "display_data"
    }
   ],
   "source": [
    "loss_train = history.history['acc']\n",
    "loss_val = history.history['val_acc']\n",
    "epochs = range(1,26)\n",
    "plt.plot(epochs, loss_train, 'g', label='Training accuracy')\n",
    "plt.plot(epochs, loss_val, 'b', label='validation accuracy')\n",
    "plt.title('Training and Validation accuracy for Model 1')\n",
    "plt.xlabel('Epochs')\n",
    "plt.ylabel('Accuracy')\n",
    "plt.legend()\n",
    "plt.show()"
   ]
  },
  {
   "cell_type": "markdown",
   "id": "9a6867bc",
   "metadata": {},
   "source": [
    "<h5>Running the model on Test Data</h5>"
   ]
  },
  {
   "cell_type": "code",
   "execution_count": 114,
   "id": "35bd8003",
   "metadata": {},
   "outputs": [
    {
     "name": "stdout",
     "output_type": "stream",
     "text": [
      "122/122 [==============================] - 3s 24ms/step - loss: 6.6783 - acc: 0.1096\n"
     ]
    }
   ],
   "source": [
    "testLoss,testAcc = model1.evaluate(test_images)"
   ]
  },
  {
   "cell_type": "code",
   "execution_count": 115,
   "id": "e8fc241a",
   "metadata": {},
   "outputs": [
    {
     "name": "stdout",
     "output_type": "stream",
     "text": [
      "Testing Loss: 6.678264141082764\n",
      "Testing Accuracy: 0.10958904027938843\n"
     ]
    }
   ],
   "source": [
    "print('Testing Loss:',testLoss)\n",
    "print('Testing Accuracy:',testAcc)"
   ]
  },
  {
   "cell_type": "markdown",
   "id": "9df6771d",
   "metadata": {},
   "source": [
    "<h5>Improvised Model</h5>"
   ]
  },
  {
   "cell_type": "code",
   "execution_count": 116,
   "id": "38ee0780",
   "metadata": {},
   "outputs": [
    {
     "name": "stdout",
     "output_type": "stream",
     "text": [
      "Model: \"sequential_8\"\n",
      "_________________________________________________________________\n",
      " Layer (type)                Output Shape              Param #   \n",
      "=================================================================\n",
      " conv2d_17 (Conv2D)          (None, 224, 224, 4)       112       \n",
      "                                                                 \n",
      " max_pooling2d_14 (MaxPoolin  (None, 112, 112, 4)      0         \n",
      " g2D)                                                            \n",
      "                                                                 \n",
      " conv2d_18 (Conv2D)          (None, 112, 112, 8)       296       \n",
      "                                                                 \n",
      " max_pooling2d_15 (MaxPoolin  (None, 37, 37, 8)        0         \n",
      " g2D)                                                            \n",
      "                                                                 \n",
      " conv2d_19 (Conv2D)          (None, 37, 37, 12)        876       \n",
      "                                                                 \n",
      " max_pooling2d_16 (MaxPoolin  (None, 9, 9, 12)         0         \n",
      " g2D)                                                            \n",
      "                                                                 \n",
      " flatten_8 (Flatten)         (None, 972)               0         \n",
      "                                                                 \n",
      " dense_8 (Dense)             (None, 73)                71029     \n",
      "                                                                 \n",
      "=================================================================\n",
      "Total params: 72,313\n",
      "Trainable params: 72,313\n",
      "Non-trainable params: 0\n",
      "_________________________________________________________________\n"
     ]
    }
   ],
   "source": [
    "def cnn2(image_size, num_classes):\n",
    "    clf = Sequential()\n",
    "    clf.add(Conv2D(4, (3, 3), input_shape=image_size, activation='relu', padding='same'))\n",
    "    clf.add(MaxPooling2D(pool_size = (2, 2)))\n",
    "    clf.add(Conv2D(8, (3, 3), activation='relu', padding='same'))\n",
    "    clf.add(MaxPooling2D(pool_size = (3, 3)))\n",
    "    clf.add(Conv2D(12, (3, 3), activation='relu', padding='same'))\n",
    "    clf.add(MaxPooling2D(pool_size = (4, 4)))\n",
    "    clf.add(Flatten())\n",
    "    clf.add(Dense(num_classes, activation = 'softmax'))\n",
    "    clf.compile(optimizer='adam', loss='categorical_crossentropy', metrics=['acc'])\n",
    "    return clf\n",
    "    \n",
    "model2 = cnn2((224,224,3), 73)\n",
    "model2.summary()"
   ]
  },
  {
   "cell_type": "code",
   "execution_count": 125,
   "id": "3c96706a",
   "metadata": {},
   "outputs": [
    {
     "name": "stdout",
     "output_type": "stream",
     "text": [
      "Epoch 1/25\n",
      "2787/2787 [==============================] - 101s 36ms/step - loss: 1.3798 - acc: 0.6234 - val_loss: 3.2906 - val_acc: 0.3178\n",
      "Epoch 2/25\n",
      "2787/2787 [==============================] - 102s 37ms/step - loss: 1.0646 - acc: 0.7101 - val_loss: 3.5120 - val_acc: 0.2849\n",
      "Epoch 3/25\n",
      "2787/2787 [==============================] - 102s 36ms/step - loss: 0.8234 - acc: 0.7705 - val_loss: 4.0088 - val_acc: 0.3041\n",
      "Epoch 4/25\n",
      "2787/2787 [==============================] - 102s 37ms/step - loss: 0.6338 - acc: 0.8239 - val_loss: 4.6030 - val_acc: 0.2822\n",
      "Epoch 5/25\n",
      "2787/2787 [==============================] - 102s 36ms/step - loss: 0.4800 - acc: 0.8656 - val_loss: 5.6011 - val_acc: 0.2740\n",
      "Epoch 6/25\n",
      "2787/2787 [==============================] - 102s 36ms/step - loss: 0.3638 - acc: 0.8964 - val_loss: 6.2432 - val_acc: 0.2767\n",
      "Epoch 7/25\n",
      "2787/2787 [==============================] - 102s 37ms/step - loss: 0.2809 - acc: 0.9189 - val_loss: 7.1834 - val_acc: 0.2877\n",
      "Epoch 8/25\n",
      "2787/2787 [==============================] - 103s 37ms/step - loss: 0.2289 - acc: 0.9343 - val_loss: 8.3771 - val_acc: 0.2575\n",
      "Epoch 9/25\n",
      "2787/2787 [==============================] - 108s 39ms/step - loss: 0.1998 - acc: 0.9402 - val_loss: 8.4243 - val_acc: 0.2685\n",
      "Epoch 10/25\n",
      "2787/2787 [==============================] - 102s 37ms/step - loss: 0.1682 - acc: 0.9507 - val_loss: 8.7977 - val_acc: 0.2548\n",
      "Epoch 11/25\n",
      "2787/2787 [==============================] - 103s 37ms/step - loss: 0.1525 - acc: 0.9546 - val_loss: 9.5665 - val_acc: 0.2767\n",
      "Epoch 12/25\n",
      "2787/2787 [==============================] - 102s 37ms/step - loss: 0.1307 - acc: 0.9623 - val_loss: 10.6867 - val_acc: 0.2630\n",
      "Epoch 13/25\n",
      "2787/2787 [==============================] - 103s 37ms/step - loss: 0.1424 - acc: 0.9591 - val_loss: 10.6667 - val_acc: 0.2301\n",
      "Epoch 14/25\n",
      "2787/2787 [==============================] - 102s 37ms/step - loss: 0.1118 - acc: 0.9664 - val_loss: 12.0053 - val_acc: 0.2274\n",
      "Epoch 15/25\n",
      "2787/2787 [==============================] - 102s 37ms/step - loss: 0.1137 - acc: 0.9658 - val_loss: 12.5383 - val_acc: 0.2329\n",
      "Epoch 16/25\n",
      "2787/2787 [==============================] - 103s 37ms/step - loss: 0.1110 - acc: 0.9666 - val_loss: 11.8551 - val_acc: 0.2548\n",
      "Epoch 17/25\n",
      "2787/2787 [==============================] - 103s 37ms/step - loss: 0.1141 - acc: 0.9683 - val_loss: 12.1761 - val_acc: 0.2384\n",
      "Epoch 18/25\n",
      "2787/2787 [==============================] - 102s 37ms/step - loss: 0.0994 - acc: 0.9726 - val_loss: 12.3520 - val_acc: 0.2493\n",
      "Epoch 19/25\n",
      "2787/2787 [==============================] - 102s 37ms/step - loss: 0.1114 - acc: 0.9677 - val_loss: 13.5894 - val_acc: 0.2575\n",
      "Epoch 20/25\n",
      "2787/2787 [==============================] - 102s 37ms/step - loss: 0.0830 - acc: 0.9746 - val_loss: 13.5587 - val_acc: 0.2712\n",
      "Epoch 21/25\n",
      "2787/2787 [==============================] - 103s 37ms/step - loss: 0.0879 - acc: 0.9745 - val_loss: 13.8943 - val_acc: 0.2521\n",
      "Epoch 22/25\n",
      "2787/2787 [==============================] - 103s 37ms/step - loss: 0.0842 - acc: 0.9767 - val_loss: 14.6600 - val_acc: 0.2438\n",
      "Epoch 23/25\n",
      "2787/2787 [==============================] - 103s 37ms/step - loss: 0.0982 - acc: 0.9717 - val_loss: 14.7749 - val_acc: 0.2658\n",
      "Epoch 24/25\n",
      "2787/2787 [==============================] - 104s 37ms/step - loss: 0.0666 - acc: 0.9798 - val_loss: 14.4762 - val_acc: 0.2603\n",
      "Epoch 25/25\n",
      "2787/2787 [==============================] - 104s 37ms/step - loss: 0.0759 - acc: 0.9768 - val_loss: 14.8148 - val_acc: 0.2658\n"
     ]
    }
   ],
   "source": [
    "#es = EarlyStopping(monitor='val_loss', verbose=1)\n",
    "#callbacks=[es]\n",
    "history2 = model2.fit(train_images, validation_data=val_images,epochs = 25)"
   ]
  },
  {
   "cell_type": "markdown",
   "id": "b39c8d49",
   "metadata": {},
   "source": [
    "<h5> Metrics of Model 2 </h5>"
   ]
  },
  {
   "cell_type": "code",
   "execution_count": 126,
   "id": "19546646",
   "metadata": {},
   "outputs": [
    {
     "name": "stdout",
     "output_type": "stream",
     "text": [
      "Training Loss: 0.07592085748910904\n",
      "Training Accuracy: 0.9767970442771912\n",
      "Validation Loss 14.814818382263184\n",
      "Validation Accuracy 0.2657534182071686\n"
     ]
    }
   ],
   "source": [
    "print('Training Loss:',history2.history['loss'][-1])\n",
    "print('Training Accuracy:',history2.history['acc'][-1])\n",
    "print('Validation Loss',history2.history['val_loss'][-1])\n",
    "print('Validation Accuracy',history2.history['val_acc'][-1])"
   ]
  },
  {
   "cell_type": "code",
   "execution_count": 127,
   "id": "57fb38f5",
   "metadata": {},
   "outputs": [
    {
     "name": "stdout",
     "output_type": "stream",
     "text": [
      "122/122 [==============================] - 2s 14ms/step - loss: 14.3058 - acc: 0.2849\n"
     ]
    }
   ],
   "source": [
    "testLoss,testAcc = model2.evaluate(test_images)"
   ]
  },
  {
   "cell_type": "code",
   "execution_count": 128,
   "id": "6e0cf2cb",
   "metadata": {},
   "outputs": [
    {
     "name": "stdout",
     "output_type": "stream",
     "text": [
      "Testing Loss: 14.30584716796875\n",
      "Testing Accuracy: 0.2849315106868744\n"
     ]
    }
   ],
   "source": [
    "print('Testing Loss:',testLoss)\n",
    "print('Testing Accuracy:',testAcc)"
   ]
  },
  {
   "cell_type": "code",
   "execution_count": 129,
   "id": "2fa01d32",
   "metadata": {},
   "outputs": [
    {
     "data": {
      "image/png": "[encoded data removed]",
      "text/plain": [
       "<Figure size 432x288 with 1 Axes>"
      ]
     },
     "metadata": {
      "needs_background": "light"
     },
     "output_type": "display_data"
    }
   ],
   "source": [
    "loss_train = history2.history['loss']\n",
    "loss_val = history2.history['val_loss']\n",
    "epochs = range(1,26)\n",
    "plt.plot(epochs, loss_train, 'g', label='Training loss')\n",
    "plt.plot(epochs, loss_val, 'b', label='Validation loss')\n",
    "plt.title('Training and Validation loss for Model 2')\n",
    "plt.xlabel('Epochs')\n",
    "plt.ylabel('Loss')\n",
    "plt.legend()\n",
    "plt.show()"
   ]
  },
  {
   "cell_type": "code",
   "execution_count": 130,
   "id": "bda22e47",
   "metadata": {},
   "outputs": [
    {
     "data": {
      "image/png": "[encoded data removed]",
      "text/plain": [
       "<Figure size 432x288 with 1 Axes>"
      ]
     },
     "metadata": {
      "needs_background": "light"
     },
     "output_type": "display_data"
    }
   ],
   "source": [
    "loss_train = history2.history['acc']\n",
    "loss_val = history2.history['val_acc']\n",
    "epochs = range(1,26)\n",
    "plt.plot(epochs, loss_train, 'g', label='Training accuracy')\n",
    "plt.plot(epochs, loss_val, 'b', label='validation accuracy')\n",
    "plt.title('Training and Validation accuracy for Model 2')\n",
    "plt.xlabel('Epochs')\n",
    "plt.ylabel('Accuracy')\n",
    "plt.legend()\n",
    "plt.show()"
   ]
  },
  {
   "cell_type": "code",
   "execution_count": null,
   "id": "159b8db8",
   "metadata": {},
   "outputs": [],
   "source": []
  }
 ],
 "metadata": {
  "kernelspec": {
   "display_name": "Python 3 (ipykernel)",
   "language": "python",
   "name": "python3"
  },
  "language_info": {
   "codemirror_mode": {
    "name": "ipython",
    "version": 3
   },
   "file_extension": ".py",
   "mimetype": "text/x-python",
   "name": "python",
   "nbconvert_exporter": "python",
   "pygments_lexer": "ipython3",
   "version": "3.9.7"
  }
 },
 "nbformat": 4,
 "nbformat_minor": 5
}
